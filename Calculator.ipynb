{
 "cells": [
  {
   "cell_type": "code",
   "execution_count": 1,
   "id": "9e25362e",
   "metadata": {},
   "outputs": [],
   "source": [
    "from linares_plot import *"
   ]
  },
  {
   "cell_type": "code",
   "execution_count": null,
   "id": "61397b2e",
   "metadata": {},
   "outputs": [],
   "source": [
    "Anm a calcular la info que esteu rebent en aquesta xerrada"
   ]
  },
  {
   "cell_type": "code",
   "execution_count": 175,
   "id": "0df25024",
   "metadata": {},
   "outputs": [],
   "source": [
    "final = 3112992359\n",
    "#final = 2003241135"
   ]
  },
  {
   "cell_type": "code",
   "execution_count": 176,
   "id": "377e384e",
   "metadata": {},
   "outputs": [
    {
     "name": "stdout",
     "output_type": "stream",
     "text": [
      "True\n",
      "1034207641\n"
     ]
    }
   ],
   "source": [
    "## CAS MÍNIM\n",
    "\n",
    "#180-220 ... què vols que posi?\n",
    "#8 - 24 pixels / s\n",
    "#60 segons\n",
    "#2 ulls\n",
    "visual_toda = 180*8*60*2\n",
    "# x 60\n",
    "#aquest espectacle què dura.? 20-30 min\n",
    "product1 = visual_toda*60*20\n",
    "##cuantes persones sou?? ##20-100 cuantes persones cabem??\n",
    "product2 = product1*20\n",
    "\n",
    "\n",
    "print(product2>final)\n",
    "print(product2-final)"
   ]
  },
  {
   "cell_type": "code",
   "execution_count": 177,
   "id": "16aeb956",
   "metadata": {},
   "outputs": [
    {
     "name": "stdout",
     "output_type": "stream",
     "text": [
      "True\n",
      "110935007641\n"
     ]
    }
   ],
   "source": [
    "## CAS MÀXIM\n",
    "\n",
    "#180-220 ... què vols que posi?\n",
    "#8 - 24 pixels / s\n",
    "#60 segons\n",
    "#2 ulls\n",
    "visual_toda = 220*24*60*2\n",
    "# x 60\n",
    "#aquest espectacle què dura.? 20-30 min\n",
    "product1 = visual_toda*60*30\n",
    "##cuantes persones sou?? ##20-100 cuantes persones cabem??\n",
    "product2 = product1*100\n",
    "\n",
    "\n",
    "print(product2>final)\n",
    "print(product2-final)"
   ]
  },
  {
   "cell_type": "code",
   "execution_count": null,
   "id": "d22aeb47",
   "metadata": {},
   "outputs": [],
   "source": []
  },
  {
   "cell_type": "code",
   "execution_count": 195,
   "id": "ec45c0dd",
   "metadata": {},
   "outputs": [],
   "source": [
    "#Cas concret amb mes de una xifra\n",
    "\n",
    "#final = 319992359\n",
    "final = 203241135"
   ]
  },
  {
   "cell_type": "code",
   "execution_count": 197,
   "id": "5402f675",
   "metadata": {},
   "outputs": [
    {
     "name": "stdout",
     "output_type": "stream",
     "text": [
      "True\n",
      "4118865\n"
     ]
    }
   ],
   "source": [
    "## CAS MÍNIM\n",
    "\n",
    "#180-220 ... què vols que posi? (300-350)\n",
    "#8 - 24 pixels / s\n",
    "#60 segons\n",
    "#2 ulls\n",
    "# x 60\n",
    "visual_toda = 180*8*60*2\n",
    "#aquest espectacle què dura.? 20-30 min\n",
    "product1 = visual_toda*60*20\n",
    "\n",
    "\n",
    "print(product1>final)\n",
    "print(product1-final)"
   ]
  },
  {
   "cell_type": "code",
   "execution_count": 198,
   "id": "a35c18ce",
   "metadata": {},
   "outputs": [
    {
     "name": "stdout",
     "output_type": "stream",
     "text": [
      "True\n",
      "937238865\n"
     ]
    }
   ],
   "source": [
    "## CAS MÀXIM\n",
    "\n",
    "#180-220 ... què vols que posi? (300-350)\n",
    "#8 - 24 pixels / s\n",
    "#60 segons\n",
    "#2 ulls\n",
    "# x 60\n",
    "visual_toda = 220*24*60*2\n",
    "#aquest espectacle què dura.? 20-30 min\n",
    "product1 = visual_toda*60*30\n",
    "\n",
    "print(product1>final)\n",
    "print(product1-final)"
   ]
  },
  {
   "cell_type": "code",
   "execution_count": null,
   "id": "43f16934",
   "metadata": {},
   "outputs": [],
   "source": [
    "\"a mi no m'heu tingut en compte, vull que sumeu 1\""
   ]
  }
 ],
 "metadata": {
  "kernelspec": {
   "display_name": "Python 3 (ipykernel)",
   "language": "python",
   "name": "python3"
  },
  "language_info": {
   "codemirror_mode": {
    "name": "ipython",
    "version": 3
   },
   "file_extension": ".py",
   "mimetype": "text/x-python",
   "name": "python",
   "nbconvert_exporter": "python",
   "pygments_lexer": "ipython3",
   "version": "3.9.16"
  }
 },
 "nbformat": 4,
 "nbformat_minor": 5
}
