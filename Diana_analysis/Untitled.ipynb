{
 "cells": [
  {
   "cell_type": "code",
   "execution_count": 1,
   "id": "1382a688",
   "metadata": {},
   "outputs": [],
   "source": [
    "import pandas as pd #for dealing with csv import\n",
    "import os # for joining paths and filenames sensibly\n",
    "import numpy as np #for the population std\n",
    "import glob # for finding csv data Çfiles"
   ]
  },
  {
   "cell_type": "code",
   "execution_count": 2,
   "id": "94cd6e1d",
   "metadata": {},
   "outputs": [
    {
     "data": {
      "text/plain": [
       "'C:\\\\Users\\\\david\\\\Documents\\\\GitHub\\\\OpenBrains\\\\Diana_analysis'"
      ]
     },
     "execution_count": 2,
     "metadata": {},
     "output_type": "execute_result"
    }
   ],
   "source": [
    "os.getcwd()"
   ]
  },
  {
   "cell_type": "code",
   "execution_count": 5,
   "id": "6d3eeaf9",
   "metadata": {},
   "outputs": [],
   "source": [
    "filepath = 'C:\\\\Users\\\\david\\\\Documents\\\\Open Brains\\\\Balanced Brains\\\\diana_results\\\\test_feedback_fake.xlsx'"
   ]
  },
  {
   "cell_type": "code",
   "execution_count": 6,
   "id": "2e022a52",
   "metadata": {},
   "outputs": [],
   "source": [
    "xl = pd.ExcelFile(filepath)"
   ]
  },
  {
   "cell_type": "code",
   "execution_count": 9,
   "id": "85ef5f63",
   "metadata": {},
   "outputs": [],
   "source": [
    "sheet_names = xl.sheet_names"
   ]
  },
  {
   "cell_type": "code",
   "execution_count": 10,
   "id": "4ce1d532",
   "metadata": {},
   "outputs": [],
   "source": [
    "df_gx = pd.read_excel(filepath, sheet_name=sheet_names[0])"
   ]
  },
  {
   "cell_type": "code",
   "execution_count": 11,
   "id": "6138480a",
   "metadata": {},
   "outputs": [
    {
     "data": {
      "text/html": [
       "<div>\n",
       "<style scoped>\n",
       "    .dataframe tbody tr th:only-of-type {\n",
       "        vertical-align: middle;\n",
       "    }\n",
       "\n",
       "    .dataframe tbody tr th {\n",
       "        vertical-align: top;\n",
       "    }\n",
       "\n",
       "    .dataframe thead th {\n",
       "        text-align: right;\n",
       "    }\n",
       "</style>\n",
       "<table border=\"1\" class=\"dataframe\">\n",
       "  <thead>\n",
       "    <tr style=\"text-align: right;\">\n",
       "      <th></th>\n",
       "      <th>Grupo 1</th>\n",
       "      <th>Unnamed: 1</th>\n",
       "      <th>Unnamed: 2</th>\n",
       "    </tr>\n",
       "  </thead>\n",
       "  <tbody>\n",
       "    <tr>\n",
       "      <th>0</th>\n",
       "      <td>Ronda 1</td>\n",
       "      <td>Ronda 2</td>\n",
       "      <td>Ronda 3</td>\n",
       "    </tr>\n",
       "    <tr>\n",
       "      <th>1</th>\n",
       "      <td>0.0</td>\n",
       "      <td>80.0</td>\n",
       "      <td>80.0</td>\n",
       "    </tr>\n",
       "    <tr>\n",
       "      <th>2</th>\n",
       "      <td>60.0</td>\n",
       "      <td>60.0</td>\n",
       "      <td>100.0</td>\n",
       "    </tr>\n",
       "    <tr>\n",
       "      <th>3</th>\n",
       "      <td>10.0</td>\n",
       "      <td>80.0</td>\n",
       "      <td>60.0</td>\n",
       "    </tr>\n",
       "    <tr>\n",
       "      <th>4</th>\n",
       "      <td>0.0</td>\n",
       "      <td>60.0</td>\n",
       "      <td>80.0</td>\n",
       "    </tr>\n",
       "    <tr>\n",
       "      <th>5</th>\n",
       "      <td>80.0</td>\n",
       "      <td>0.0</td>\n",
       "      <td>80.0</td>\n",
       "    </tr>\n",
       "    <tr>\n",
       "      <th>6</th>\n",
       "      <td>80.0</td>\n",
       "      <td>10.0</td>\n",
       "      <td>80.0</td>\n",
       "    </tr>\n",
       "    <tr>\n",
       "      <th>7</th>\n",
       "      <td>0.0</td>\n",
       "      <td>80.0</td>\n",
       "      <td>80.0</td>\n",
       "    </tr>\n",
       "    <tr>\n",
       "      <th>8</th>\n",
       "      <td>10.0</td>\n",
       "      <td>0.0</td>\n",
       "      <td>80.0</td>\n",
       "    </tr>\n",
       "    <tr>\n",
       "      <th>9</th>\n",
       "      <td>60.0</td>\n",
       "      <td>0.0</td>\n",
       "      <td>80.0</td>\n",
       "    </tr>\n",
       "    <tr>\n",
       "      <th>10</th>\n",
       "      <td>0.0</td>\n",
       "      <td>0.0</td>\n",
       "      <td>60.0</td>\n",
       "    </tr>\n",
       "    <tr>\n",
       "      <th>11</th>\n",
       "      <td>NaN</td>\n",
       "      <td>60.0</td>\n",
       "      <td>NaN</td>\n",
       "    </tr>\n",
       "    <tr>\n",
       "      <th>12</th>\n",
       "      <td>NaN</td>\n",
       "      <td>80.0</td>\n",
       "      <td>NaN</td>\n",
       "    </tr>\n",
       "  </tbody>\n",
       "</table>\n",
       "</div>"
      ],
      "text/plain": [
       "    Grupo 1 Unnamed: 1 Unnamed: 2\n",
       "0   Ronda 1    Ronda 2    Ronda 3\n",
       "1       0.0       80.0       80.0\n",
       "2      60.0       60.0      100.0\n",
       "3      10.0       80.0       60.0\n",
       "4       0.0       60.0       80.0\n",
       "5      80.0        0.0       80.0\n",
       "6      80.0       10.0       80.0\n",
       "7       0.0       80.0       80.0\n",
       "8      10.0        0.0       80.0\n",
       "9      60.0        0.0       80.0\n",
       "10      0.0        0.0       60.0\n",
       "11      NaN       60.0        NaN\n",
       "12      NaN       80.0        NaN"
      ]
     },
     "execution_count": 11,
     "metadata": {},
     "output_type": "execute_result"
    }
   ],
   "source": [
    "df_gx"
   ]
  },
  {
   "cell_type": "code",
   "execution_count": null,
   "id": "91f68340",
   "metadata": {},
   "outputs": [],
   "source": []
  },
  {
   "cell_type": "code",
   "execution_count": null,
   "id": "d935c877",
   "metadata": {},
   "outputs": [],
   "source": []
  },
  {
   "cell_type": "code",
   "execution_count": null,
   "id": "459b7296",
   "metadata": {},
   "outputs": [],
   "source": [
    "beh_path =  'C:\\\\Users\\\\David\\\\Desktop\\\\KI_Desktop\\\\data_reconstructions\\\\IEM\\\\trainT_testT_behaviour_permissive.xlsx' \n",
    "xl = pd.ExcelFile(beh_path)\n",
    "sheet_names = xl.sheet_names\n",
    "print('Behavior')\n",
    "print(len(sheet_names))\n",
    "beh_x = pd.read_excel(beh_path, sheet_name=sheet_names[10])\n",
    "print(np.shape(beh_x))"
   ]
  },
  {
   "cell_type": "code",
   "execution_count": 2,
   "id": "70111d4c",
   "metadata": {},
   "outputs": [],
   "source": [
    "import pandas as pd #for dealing with csv import\n",
    "import matplotlib.pyplot as plt  # Matplotlib's pyplot: MATLAB-like syntax\n",
    "import scipy\n",
    "from scipy import stats\n",
    "import seaborn as sns"
   ]
  },
  {
   "cell_type": "code",
   "execution_count": null,
   "id": "6b7dba15",
   "metadata": {},
   "outputs": [],
   "source": []
  }
 ],
 "metadata": {
  "kernelspec": {
   "display_name": "Python 3 (ipykernel)",
   "language": "python",
   "name": "python3"
  },
  "language_info": {
   "codemirror_mode": {
    "name": "ipython",
    "version": 3
   },
   "file_extension": ".py",
   "mimetype": "text/x-python",
   "name": "python",
   "nbconvert_exporter": "python",
   "pygments_lexer": "ipython3",
   "version": "3.9.15"
  }
 },
 "nbformat": 4,
 "nbformat_minor": 5
}
