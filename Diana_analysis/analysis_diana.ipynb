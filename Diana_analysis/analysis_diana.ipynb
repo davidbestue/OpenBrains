{
 "cells": [
  {
   "cell_type": "code",
   "execution_count": 6,
   "metadata": {},
   "outputs": [],
   "source": [
    "import pandas as pd #for dealing with csv import\n",
    "import os # for joining paths and filenames sensibly\n",
    "import numpy as np #for the population std\n",
    "import glob # for finding csv data Çfiles"
   ]
  },
  {
   "cell_type": "code",
   "execution_count": null,
   "metadata": {},
   "outputs": [],
   "source": []
  },
  {
   "cell_type": "markdown",
   "metadata": {},
   "source": [
    "## Data processing"
   ]
  },
  {
   "cell_type": "code",
   "execution_count": 7,
   "metadata": {},
   "outputs": [
    {
     "data": {
      "text/plain": [
       "'C:\\\\Users\\\\David\\\\Documents\\\\GitHub\\\\OpenBrains\\\\Diana_analysis'"
      ]
     },
     "execution_count": 7,
     "metadata": {},
     "output_type": "execute_result"
    }
   ],
   "source": [
    "os.getcwd()"
   ]
  },
  {
   "cell_type": "code",
   "execution_count": 31,
   "metadata": {},
   "outputs": [
    {
     "name": "stdout",
     "output_type": "stream",
     "text": [
      "['G01', 'G02', 'G03', 'G04', 'G05', 'G06', 'G07', 'G08', 'G09', 'G10']\n"
     ]
    }
   ],
   "source": [
    "#Load data and get sheet names\n",
    "#filepath = 'C:\\\\Users\\\\david\\\\Documents\\\\Open Brains\\\\Balanced Brains\\\\diana_results\\\\test_feedback_f2.xlsx'\n",
    "filepath = 'C:\\\\Users\\\\David\\\\Desktop\\\\OpenBrains\\\\balanced_brains\\\\Feedback experiment5.xlsx'\n",
    "xl = pd.ExcelFile(filepath)\n",
    "sheet_names = xl.sheet_names\n",
    "print(sheet_names)"
   ]
  },
  {
   "cell_type": "code",
   "execution_count": 32,
   "metadata": {},
   "outputs": [
    {
     "name": "stdout",
     "output_type": "stream",
     "text": [
      "[90, 8.18, 11, 'càstig', 'G01']\n",
      "[270, 15.0, 18, 'recompensa', 'G01']\n",
      "[600, 31.58, 19, 'guiatge', 'G01']\n",
      "[130, 43.33, 3, 'càstig', 'G02']\n",
      "[220, 44.0, 5, 'recompensa', 'G02']\n",
      "[770, 48.12, 16, 'guiatge', 'G02']\n",
      "[540, 11.25, 48, 'càstig', 'G03']\n",
      "[0, 0.0, 24, 'recompensa', 'G03']\n",
      "[1720, 53.75, 32, 'guiatge', 'G03']\n",
      "[670, 29.13, 23, 'càstig', 'G04']\n",
      "[640, 30.48, 21, 'recompensa', 'G04']\n",
      "[730, 24.33, 30, 'guiatge', 'G04']\n"
     ]
    }
   ],
   "source": [
    "#Get summary dataframe\n",
    "\n",
    "summary=[]\n",
    "\n",
    "for idx, group in enumerate(sheet_names):\n",
    "    \n",
    "    df_gx = pd.read_excel(filepath, sheet_name=sheet_names[idx])\n",
    "    \n",
    "    if not df_gx.iloc[:,1].isnull().iloc[1]:\n",
    "        \n",
    "        for idx1, label in enumerate(['càstig', 'recompensa', 'guiatge']): ##each feedback type\n",
    "            \n",
    "            points = df_gx.iloc[1:, 1+idx1][~df_gx.iloc[1:, 1+idx1].isnull()].values ## remove the nan and convert to array\n",
    "            \n",
    "            print([points.sum(), np.round(points.mean(),2), points.shape[0], label, group ]) ##control mechanism\n",
    "            \n",
    "            summary.append([points.sum(), np.round(points.mean(),2), points.shape[0], label, group ])\n",
    "            #\n",
    "            \n",
    "#\n",
    "df = pd.DataFrame(summary)\n",
    "df.columns=['sum', 'mean_points', '#thorws', 'feedback_type', 'group' ]    \n",
    "            "
   ]
  },
  {
   "cell_type": "code",
   "execution_count": 33,
   "metadata": {
    "scrolled": false
   },
   "outputs": [
    {
     "data": {
      "text/html": [
       "<div>\n",
       "<style scoped>\n",
       "    .dataframe tbody tr th:only-of-type {\n",
       "        vertical-align: middle;\n",
       "    }\n",
       "\n",
       "    .dataframe tbody tr th {\n",
       "        vertical-align: top;\n",
       "    }\n",
       "\n",
       "    .dataframe thead th {\n",
       "        text-align: right;\n",
       "    }\n",
       "</style>\n",
       "<table border=\"1\" class=\"dataframe\">\n",
       "  <thead>\n",
       "    <tr style=\"text-align: right;\">\n",
       "      <th></th>\n",
       "      <th>sum</th>\n",
       "      <th>mean_points</th>\n",
       "      <th>#thorws</th>\n",
       "      <th>feedback_type</th>\n",
       "      <th>group</th>\n",
       "    </tr>\n",
       "  </thead>\n",
       "  <tbody>\n",
       "    <tr>\n",
       "      <th>0</th>\n",
       "      <td>90</td>\n",
       "      <td>8.18</td>\n",
       "      <td>11</td>\n",
       "      <td>càstig</td>\n",
       "      <td>G01</td>\n",
       "    </tr>\n",
       "    <tr>\n",
       "      <th>1</th>\n",
       "      <td>270</td>\n",
       "      <td>15.00</td>\n",
       "      <td>18</td>\n",
       "      <td>recompensa</td>\n",
       "      <td>G01</td>\n",
       "    </tr>\n",
       "    <tr>\n",
       "      <th>2</th>\n",
       "      <td>600</td>\n",
       "      <td>31.58</td>\n",
       "      <td>19</td>\n",
       "      <td>guiatge</td>\n",
       "      <td>G01</td>\n",
       "    </tr>\n",
       "    <tr>\n",
       "      <th>3</th>\n",
       "      <td>130</td>\n",
       "      <td>43.33</td>\n",
       "      <td>3</td>\n",
       "      <td>càstig</td>\n",
       "      <td>G02</td>\n",
       "    </tr>\n",
       "    <tr>\n",
       "      <th>4</th>\n",
       "      <td>220</td>\n",
       "      <td>44.00</td>\n",
       "      <td>5</td>\n",
       "      <td>recompensa</td>\n",
       "      <td>G02</td>\n",
       "    </tr>\n",
       "    <tr>\n",
       "      <th>5</th>\n",
       "      <td>770</td>\n",
       "      <td>48.12</td>\n",
       "      <td>16</td>\n",
       "      <td>guiatge</td>\n",
       "      <td>G02</td>\n",
       "    </tr>\n",
       "    <tr>\n",
       "      <th>6</th>\n",
       "      <td>540</td>\n",
       "      <td>11.25</td>\n",
       "      <td>48</td>\n",
       "      <td>càstig</td>\n",
       "      <td>G03</td>\n",
       "    </tr>\n",
       "    <tr>\n",
       "      <th>7</th>\n",
       "      <td>0</td>\n",
       "      <td>0.00</td>\n",
       "      <td>24</td>\n",
       "      <td>recompensa</td>\n",
       "      <td>G03</td>\n",
       "    </tr>\n",
       "    <tr>\n",
       "      <th>8</th>\n",
       "      <td>1720</td>\n",
       "      <td>53.75</td>\n",
       "      <td>32</td>\n",
       "      <td>guiatge</td>\n",
       "      <td>G03</td>\n",
       "    </tr>\n",
       "    <tr>\n",
       "      <th>9</th>\n",
       "      <td>670</td>\n",
       "      <td>29.13</td>\n",
       "      <td>23</td>\n",
       "      <td>càstig</td>\n",
       "      <td>G04</td>\n",
       "    </tr>\n",
       "    <tr>\n",
       "      <th>10</th>\n",
       "      <td>640</td>\n",
       "      <td>30.48</td>\n",
       "      <td>21</td>\n",
       "      <td>recompensa</td>\n",
       "      <td>G04</td>\n",
       "    </tr>\n",
       "    <tr>\n",
       "      <th>11</th>\n",
       "      <td>730</td>\n",
       "      <td>24.33</td>\n",
       "      <td>30</td>\n",
       "      <td>guiatge</td>\n",
       "      <td>G04</td>\n",
       "    </tr>\n",
       "  </tbody>\n",
       "</table>\n",
       "</div>"
      ],
      "text/plain": [
       "     sum  mean_points  #thorws feedback_type group\n",
       "0     90         8.18       11        càstig   G01\n",
       "1    270        15.00       18    recompensa   G01\n",
       "2    600        31.58       19       guiatge   G01\n",
       "3    130        43.33        3        càstig   G02\n",
       "4    220        44.00        5    recompensa   G02\n",
       "5    770        48.12       16       guiatge   G02\n",
       "6    540        11.25       48        càstig   G03\n",
       "7      0         0.00       24    recompensa   G03\n",
       "8   1720        53.75       32       guiatge   G03\n",
       "9    670        29.13       23        càstig   G04\n",
       "10   640        30.48       21    recompensa   G04\n",
       "11   730        24.33       30       guiatge   G04"
      ]
     },
     "execution_count": 33,
     "metadata": {},
     "output_type": "execute_result"
    }
   ],
   "source": [
    "df"
   ]
  },
  {
   "cell_type": "code",
   "execution_count": null,
   "metadata": {},
   "outputs": [],
   "source": []
  },
  {
   "cell_type": "markdown",
   "metadata": {},
   "source": [
    "## Plots"
   ]
  },
  {
   "cell_type": "code",
   "execution_count": 34,
   "metadata": {},
   "outputs": [],
   "source": [
    "import matplotlib.pyplot as plt  # Matplotlib's pyplot: MATLAB-like syntax\n",
    "import seaborn as sns\n",
    "sns.set_context(\"talk\")"
   ]
  },
  {
   "cell_type": "code",
   "execution_count": 35,
   "metadata": {},
   "outputs": [],
   "source": [
    "c_guiatge =  '#e59500'\n",
    "c_recompensa= 'aquamarine' # '#002642'\n",
    "c_castig= 'indianred'  # '#840032'"
   ]
  },
  {
   "cell_type": "code",
   "execution_count": 36,
   "metadata": {},
   "outputs": [
    {
     "name": "stderr",
     "output_type": "stream",
     "text": [
      "C:\\Users\\David\\Anaconda3\\envs\\python3\\lib\\site-packages\\scipy\\stats\\stats.py:1713: FutureWarning: Using a non-tuple sequence for multidimensional indexing is deprecated; use `arr[tuple(seq)]` instead of `arr[seq]`. In the future this will be interpreted as an array index, `arr[np.array(seq)]`, which will result either in an error or a different result.\n",
      "  return np.add.reduce(sorted[indexer] * weights, axis=axis) / sumval\n"
     ]
    },
    {
     "data": {
      "text/plain": [
       "Text(0.5,1,'Eficiència')"
      ]
     },
     "execution_count": 36,
     "metadata": {},
     "output_type": "execute_result"
    },
    {
     "data": {
      "image/png": "[encoded data removed]",
      "text/plain": [
       "<Figure size 432x288 with 1 Axes>"
      ]
     },
     "metadata": {},
     "output_type": "display_data"
    }
   ],
   "source": [
    "sns.barplot(data=df, x=\"feedback_type\", y=\"mean_points\", \n",
    "            order=['càstig', 'recompensa', 'guiatge'],\n",
    "            ci=68,  palette=[c_castig, c_recompensa, c_guiatge])\n",
    "\n",
    "plt.gca().spines['right'].set_visible(False)  # aesthetics                                                                              # remove right spines\n",
    "plt.gca().spines['top'].set_visible(False)                                                                                  # remove top spines\n",
    "plt.gca().get_xaxis().tick_bottom()                                                                                         \n",
    "plt.gca().get_yaxis().tick_left()\n",
    "plt.gca().tick_params(direction='in') #direction\n",
    "plt.gca().set_ylim(0,60)\n",
    "plt.xlabel('')\n",
    "plt.ylabel('punts / tirada');\n",
    "plt.title('Eficiència', fontsize=22)"
   ]
  },
  {
   "cell_type": "code",
   "execution_count": 37,
   "metadata": {},
   "outputs": [
    {
     "name": "stderr",
     "output_type": "stream",
     "text": [
      "C:\\Users\\David\\Anaconda3\\envs\\python3\\lib\\site-packages\\scipy\\stats\\stats.py:1713: FutureWarning: Using a non-tuple sequence for multidimensional indexing is deprecated; use `arr[tuple(seq)]` instead of `arr[seq]`. In the future this will be interpreted as an array index, `arr[np.array(seq)]`, which will result either in an error or a different result.\n",
      "  return np.add.reduce(sorted[indexer] * weights, axis=axis) / sumval\n"
     ]
    },
    {
     "data": {
      "image/png": "[encoded data removed]",
      "text/plain": [
       "<Figure size 1440x432 with 3 Axes>"
      ]
     },
     "metadata": {},
     "output_type": "display_data"
    }
   ],
   "source": [
    "plt.figure(figsize=(20,6))\n",
    "\n",
    "plt.subplot(131)\n",
    "sns.barplot(data=df, x=\"feedback_type\", y=\"sum\", \n",
    "            order=['càstig', 'recompensa', 'guiatge'],\n",
    "            ci=68,  palette=[c_castig, c_recompensa, c_guiatge])\n",
    "\n",
    "plt.gca().spines['right'].set_visible(False)  # aesthetics                                                                              # remove right spines\n",
    "plt.gca().spines['top'].set_visible(False)                                                                                  # remove top spines\n",
    "plt.gca().get_xaxis().tick_bottom()                                                                                         \n",
    "plt.gca().get_yaxis().tick_left()\n",
    "plt.gca().tick_params(direction='in') #direction\n",
    "#plt.gca().set_ylim(0,80)\n",
    "plt.xlabel('')\n",
    "plt.ylabel('punts');\n",
    "plt.title('Punts totals', fontsize=22)\n",
    "\n",
    "\n",
    "plt.subplot(132)\n",
    "sns.barplot(data=df, x=\"feedback_type\", y=\"#thorws\", \n",
    "            order=['càstig', 'recompensa', 'guiatge'],\n",
    "            ci=68,  palette=[c_castig, c_recompensa, c_guiatge])\n",
    "\n",
    "plt.gca().spines['right'].set_visible(False)  # aesthetics                                                                              # remove right spines\n",
    "plt.gca().spines['top'].set_visible(False)                                                                                  # remove top spines\n",
    "plt.gca().get_xaxis().tick_bottom()                                                                                         \n",
    "plt.gca().get_yaxis().tick_left()\n",
    "plt.gca().tick_params(direction='in') #direction\n",
    "#plt.gca().set_ylim(0,80)\n",
    "plt.xlabel('')\n",
    "plt.ylabel('tirades');\n",
    "plt.title('Tirades', fontsize=22)\n",
    "\n",
    "\n",
    "plt.subplot(133)\n",
    "sns.barplot(data=df, x=\"feedback_type\", y=\"mean_points\", \n",
    "            order=['càstig', 'recompensa', 'guiatge'],\n",
    "            ci=68,  palette=[c_castig, c_recompensa, c_guiatge])\n",
    "\n",
    "plt.gca().spines['right'].set_visible(False)  # aesthetics                                                                              # remove right spines\n",
    "plt.gca().spines['top'].set_visible(False)                                                                                  # remove top spines\n",
    "plt.gca().get_xaxis().tick_bottom()                                                                                         \n",
    "plt.gca().get_yaxis().tick_left()\n",
    "plt.gca().tick_params(direction='in') #direction\n",
    "#plt.gca().set_ylim(0,80)\n",
    "plt.xlabel('')\n",
    "plt.ylabel('punts / tirada');\n",
    "plt.title('Eficiència', fontsize=22);\n"
   ]
  },
  {
   "cell_type": "code",
   "execution_count": 38,
   "metadata": {},
   "outputs": [],
   "source": [
    "from linares_plot import *"
   ]
  },
  {
   "cell_type": "code",
   "execution_count": 39,
   "metadata": {},
   "outputs": [
    {
     "name": "stderr",
     "output_type": "stream",
     "text": [
      "No handles with labels found to put in legend.\n"
     ]
    },
    {
     "data": {
      "image/png": "[encoded data removed]",
      "text/plain": [
       "<Figure size 432x288 with 1 Axes>"
      ]
     },
     "metadata": {},
     "output_type": "display_data"
    }
   ],
   "source": [
    "sns.set_context(\"talk\")\n",
    "\n",
    "linares_plot(x='feedback_type', y='mean_points', order=['càstig', 'recompensa', 'guiatge'], \n",
    "             df=df, palette=[c_castig, c_recompensa, c_guiatge], CI=0.68,  fill_box=True, by_subj=True, subj_col='group', \n",
    "             reps=500, alpha_box=0.7, alpha=0.9,  point_size=10, leg=False, sep_axis=False)\n",
    "\n",
    "plt.gca().spines['right'].set_visible(False)  # aesthetics                                                                              # remove right spines\n",
    "plt.gca().spines['top'].set_visible(False)                                                                                  # remove top spines\n",
    "plt.gca().get_xaxis().tick_bottom()                                                                                         \n",
    "plt.gca().get_yaxis().tick_left()\n",
    "plt.gca().tick_params(direction='in') #direction\n",
    "#plt.gca().set_ylim(0,80)\n",
    "plt.xlabel('')\n",
    "plt.ylabel('punts / tirada');\n",
    "plt.title('Eficiència', fontsize=22);\n"
   ]
  },
  {
   "cell_type": "code",
   "execution_count": null,
   "metadata": {},
   "outputs": [],
   "source": []
  },
  {
   "cell_type": "markdown",
   "metadata": {},
   "source": [
    "## Stats"
   ]
  },
  {
   "cell_type": "code",
   "execution_count": 40,
   "metadata": {},
   "outputs": [],
   "source": [
    "from statsmodels.formula.api import ols\n",
    "import statsmodels.api as sm\n",
    "from statsmodels.stats.multicomp import pairwise_tukeyhsd"
   ]
  },
  {
   "cell_type": "code",
   "execution_count": 41,
   "metadata": {},
   "outputs": [
    {
     "name": "stdout",
     "output_type": "stream",
     "text": [
      "                                 \n",
      "                                 Anova Table\n",
      "==============================================================================\n",
      "                    sum_sq   df         F    PR(>F)\n",
      "feedback_type   751.015850  2.0  1.369828  0.302442\n",
      "Residual       2467.150575  9.0       NaN       NaN\n",
      "==============================================================================\n",
      "                                 \n",
      "                                 \n",
      "                                 \n",
      " Multiple Comparison of Means - Tukey HSD,FWER=0.05\n",
      "===================================================\n",
      " group1   group2   meandiff  lower    upper  reject\n",
      "---------------------------------------------------\n",
      " càstig  guiatge   16.4725  -16.1874 49.1324 False \n",
      " càstig recompensa -0.6025  -33.2624 32.0574 False \n",
      "guiatge recompensa -17.075  -49.7349 15.5849 False \n",
      "---------------------------------------------------\n"
     ]
    }
   ],
   "source": [
    "###### Anova model\n",
    "mod = ols(formula='mean_points ~ feedback_type', data=df).fit()\n",
    "aov_table = sm.stats.anova_lm(mod, typ=2)\n",
    "print( '                                 ')\n",
    "print( '                                 Anova Table')\n",
    "print( '==============================================================================')\n",
    "print( aov_table)\n",
    "print( '==============================================================================')\n",
    "print( '                                 ')\n",
    "print( '                                 ')\n",
    "print( '                                 ')\n",
    "\n",
    "####### Multiple comparisons\n",
    "tukey = pairwise_tukeyhsd(endog=df['mean_points'].values, groups=df['feedback_type'].values,  alpha=0.05)\n",
    "print( tukey.summary()    )\n",
    "\n"
   ]
  },
  {
   "cell_type": "code",
   "execution_count": null,
   "metadata": {},
   "outputs": [],
   "source": []
  },
  {
   "cell_type": "code",
   "execution_count": null,
   "metadata": {},
   "outputs": [],
   "source": []
  }
 ],
 "metadata": {
  "kernelspec": {
   "display_name": "Python 3",
   "language": "python",
   "name": "python3"
  },
  "language_info": {
   "codemirror_mode": {
    "name": "ipython",
    "version": 3
   },
   "file_extension": ".py",
   "mimetype": "text/x-python",
   "name": "python",
   "nbconvert_exporter": "python",
   "pygments_lexer": "ipython3",
   "version": "3.5.6"
  }
 },
 "nbformat": 4,
 "nbformat_minor": 5
}
