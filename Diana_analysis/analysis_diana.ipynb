{
 "cells": [
  {
   "cell_type": "code",
   "execution_count": 1,
   "id": "1382a688",
   "metadata": {},
   "outputs": [],
   "source": [
    "import pandas as pd #for dealing with csv import\n",
    "import os # for joining paths and filenames sensibly\n",
    "import numpy as np #for the population std\n",
    "import glob # for finding csv data Çfiles"
   ]
  },
  {
   "cell_type": "code",
   "execution_count": 2,
   "id": "94cd6e1d",
   "metadata": {},
   "outputs": [
    {
     "data": {
      "text/plain": [
       "'C:\\\\Users\\\\david\\\\Documents\\\\GitHub\\\\OpenBrains\\\\Diana_analysis'"
      ]
     },
     "execution_count": 2,
     "metadata": {},
     "output_type": "execute_result"
    }
   ],
   "source": [
    "os.getcwd()"
   ]
  },
  {
   "cell_type": "code",
   "execution_count": 3,
   "id": "6d3eeaf9",
   "metadata": {},
   "outputs": [
    {
     "name": "stdout",
     "output_type": "stream",
     "text": [
      "['G01', 'G02', 'G03', 'G04', 'G05', 'G06', 'G07', 'G08', 'G09', 'G10']\n"
     ]
    }
   ],
   "source": [
    "#Load data and get sheet names\n",
    "filepath = 'C:\\\\Users\\\\david\\\\Documents\\\\Open Brains\\\\Balanced Brains\\\\diana_results\\\\test_feedback_fake.xlsx'\n",
    "xl = pd.ExcelFile(filepath)\n",
    "sheet_names = xl.sheet_names\n",
    "print(sheet_names)"
   ]
  },
  {
   "cell_type": "code",
   "execution_count": 37,
   "id": "6138480a",
   "metadata": {},
   "outputs": [
    {
     "name": "stdout",
     "output_type": "stream",
     "text": [
      "[300.0, 30.0, 10, 'càstig', 'G01']\n",
      "[510.0, 42.5, 12, 'recompensa', 'G01']\n",
      "[780.0, 78.0, 10, 'guiatge', 'G01']\n",
      "[140.0, 14.0, 10, 'càstig', 'G02']\n",
      "[300.0, 12.0, 25, 'recompensa', 'G02']\n",
      "[780.0, 39.0, 20, 'guiatge', 'G02']\n",
      "[220.0, 14.67, 15, 'càstig', 'G03']\n",
      "[440.0, 14.67, 30, 'recompensa', 'G03']\n",
      "[930.0, 29.06, 32, 'guiatge', 'G03']\n"
     ]
    }
   ],
   "source": [
    "#Get summary dataframe\n",
    "\n",
    "summary=[]\n",
    "\n",
    "for idx, group in enumerate(sheet_names):\n",
    "    \n",
    "    df_gx = pd.read_excel(filepath, sheet_name=sheet_names[idx])\n",
    "    \n",
    "    if len(df_gx)>1: ## condition to have values in the group\n",
    "        \n",
    "        for idx1, label in enumerate(['càstig', 'recompensa', 'guiatge']): ##each feedback type\n",
    "            \n",
    "            points = df_gx.iloc[1:, idx1][~df_gx.iloc[1:, idx1].isnull()].values ## remove the nan and convert to array\n",
    "            \n",
    "            print([points.sum(), np.round(points.mean(),2), points.shape[0], label, group ]) ##control mechanism\n",
    "            \n",
    "            summary.append([points.sum(), np.round(points.mean(),2), points.shape[0], label, group ])\n",
    "            #\n",
    "            \n",
    "#\n",
    "df = pd.DataFrame(summary)\n",
    "df.columns=['sum', 'mean_points', '#thorws', 'feedback_type', 'group' ]    \n",
    "            "
   ]
  },
  {
   "cell_type": "code",
   "execution_count": 38,
   "id": "b593a084",
   "metadata": {},
   "outputs": [
    {
     "data": {
      "text/html": [
       "<div>\n",
       "<style scoped>\n",
       "    .dataframe tbody tr th:only-of-type {\n",
       "        vertical-align: middle;\n",
       "    }\n",
       "\n",
       "    .dataframe tbody tr th {\n",
       "        vertical-align: top;\n",
       "    }\n",
       "\n",
       "    .dataframe thead th {\n",
       "        text-align: right;\n",
       "    }\n",
       "</style>\n",
       "<table border=\"1\" class=\"dataframe\">\n",
       "  <thead>\n",
       "    <tr style=\"text-align: right;\">\n",
       "      <th></th>\n",
       "      <th>sum</th>\n",
       "      <th>mean_points</th>\n",
       "      <th>#thorws</th>\n",
       "      <th>feedback_type</th>\n",
       "      <th>group</th>\n",
       "    </tr>\n",
       "  </thead>\n",
       "  <tbody>\n",
       "    <tr>\n",
       "      <th>0</th>\n",
       "      <td>300.0</td>\n",
       "      <td>30.00</td>\n",
       "      <td>10</td>\n",
       "      <td>càstig</td>\n",
       "      <td>G01</td>\n",
       "    </tr>\n",
       "    <tr>\n",
       "      <th>1</th>\n",
       "      <td>510.0</td>\n",
       "      <td>42.50</td>\n",
       "      <td>12</td>\n",
       "      <td>recompensa</td>\n",
       "      <td>G01</td>\n",
       "    </tr>\n",
       "    <tr>\n",
       "      <th>2</th>\n",
       "      <td>780.0</td>\n",
       "      <td>78.00</td>\n",
       "      <td>10</td>\n",
       "      <td>guiatge</td>\n",
       "      <td>G01</td>\n",
       "    </tr>\n",
       "    <tr>\n",
       "      <th>3</th>\n",
       "      <td>140.0</td>\n",
       "      <td>14.00</td>\n",
       "      <td>10</td>\n",
       "      <td>càstig</td>\n",
       "      <td>G02</td>\n",
       "    </tr>\n",
       "    <tr>\n",
       "      <th>4</th>\n",
       "      <td>300.0</td>\n",
       "      <td>12.00</td>\n",
       "      <td>25</td>\n",
       "      <td>recompensa</td>\n",
       "      <td>G02</td>\n",
       "    </tr>\n",
       "    <tr>\n",
       "      <th>5</th>\n",
       "      <td>780.0</td>\n",
       "      <td>39.00</td>\n",
       "      <td>20</td>\n",
       "      <td>guiatge</td>\n",
       "      <td>G02</td>\n",
       "    </tr>\n",
       "    <tr>\n",
       "      <th>6</th>\n",
       "      <td>220.0</td>\n",
       "      <td>14.67</td>\n",
       "      <td>15</td>\n",
       "      <td>càstig</td>\n",
       "      <td>G03</td>\n",
       "    </tr>\n",
       "    <tr>\n",
       "      <th>7</th>\n",
       "      <td>440.0</td>\n",
       "      <td>14.67</td>\n",
       "      <td>30</td>\n",
       "      <td>recompensa</td>\n",
       "      <td>G03</td>\n",
       "    </tr>\n",
       "    <tr>\n",
       "      <th>8</th>\n",
       "      <td>930.0</td>\n",
       "      <td>29.06</td>\n",
       "      <td>32</td>\n",
       "      <td>guiatge</td>\n",
       "      <td>G03</td>\n",
       "    </tr>\n",
       "  </tbody>\n",
       "</table>\n",
       "</div>"
      ],
      "text/plain": [
       "     sum  mean_points  #thorws feedback_type group\n",
       "0  300.0        30.00       10        càstig   G01\n",
       "1  510.0        42.50       12    recompensa   G01\n",
       "2  780.0        78.00       10       guiatge   G01\n",
       "3  140.0        14.00       10        càstig   G02\n",
       "4  300.0        12.00       25    recompensa   G02\n",
       "5  780.0        39.00       20       guiatge   G02\n",
       "6  220.0        14.67       15        càstig   G03\n",
       "7  440.0        14.67       30    recompensa   G03\n",
       "8  930.0        29.06       32       guiatge   G03"
      ]
     },
     "execution_count": 38,
     "metadata": {},
     "output_type": "execute_result"
    }
   ],
   "source": [
    "df"
   ]
  },
  {
   "cell_type": "code",
   "execution_count": null,
   "id": "efab4561",
   "metadata": {},
   "outputs": [],
   "source": []
  },
  {
   "cell_type": "code",
   "execution_count": 39,
   "id": "5513d903",
   "metadata": {},
   "outputs": [],
   "source": [
    "## Plots\n",
    "import matplotlib.pyplot as plt  # Matplotlib's pyplot: MATLAB-like syntax\n",
    "import seaborn as sns\n",
    "sns.set_context(\"talk\")"
   ]
  },
  {
   "cell_type": "code",
   "execution_count": 44,
   "id": "f2a97dc1",
   "metadata": {},
   "outputs": [
    {
     "data": {
      "text/plain": [
       "Text(0.5, 1.0, 'Eficiència')"
      ]
     },
     "execution_count": 44,
     "metadata": {},
     "output_type": "execute_result"
    },
    {
     "data": {
      "image/png": "[encoded data removed]",
      "text/plain": [
       "<Figure size 432x288 with 1 Axes>"
      ]
     },
     "metadata": {},
     "output_type": "display_data"
    }
   ],
   "source": [
    "sns.barplot(data=df, x=\"feedback_type\", y=\"mean_points\", \n",
    "            order=['càstig', 'recompensa', 'guiatge'],\n",
    "            ci=68,  palette=['lightcoral', 'lightgreen', 'lightblue'])\n",
    "\n",
    "plt.gca().spines['right'].set_visible(False)  # aesthetics                                                                              # remove right spines\n",
    "plt.gca().spines['top'].set_visible(False)                                                                                  # remove top spines\n",
    "plt.gca().get_xaxis().tick_bottom()                                                                                         \n",
    "plt.gca().get_yaxis().tick_left()\n",
    "plt.gca().tick_params(direction='in') #direction\n",
    "plt.gca().set_ylim(0,80)\n",
    "plt.xlabel('')\n",
    "plt.ylabel('punts / tirada');\n",
    "plt.title('Eficiència', fontsize=22)"
   ]
  },
  {
   "cell_type": "code",
   "execution_count": null,
   "id": "ecbf7bf0",
   "metadata": {},
   "outputs": [],
   "source": []
  },
  {
   "cell_type": "code",
   "execution_count": 49,
   "id": "eb3e5913",
   "metadata": {},
   "outputs": [
    {
     "data": {
      "image/png": "[encoded data removed]",
      "text/plain": [
       "<Figure size 1440x432 with 3 Axes>"
      ]
     },
     "metadata": {},
     "output_type": "display_data"
    }
   ],
   "source": [
    "plt.figure(figsize=(20,6))\n",
    "\n",
    "plt.subplot(131)\n",
    "sns.barplot(data=df, x=\"feedback_type\", y=\"sum\", \n",
    "            order=['càstig', 'recompensa', 'guiatge'],\n",
    "            ci=68,  palette=['lightcoral', 'lightgreen', 'lightblue'])\n",
    "\n",
    "plt.gca().spines['right'].set_visible(False)  # aesthetics                                                                              # remove right spines\n",
    "plt.gca().spines['top'].set_visible(False)                                                                                  # remove top spines\n",
    "plt.gca().get_xaxis().tick_bottom()                                                                                         \n",
    "plt.gca().get_yaxis().tick_left()\n",
    "plt.gca().tick_params(direction='in') #direction\n",
    "#plt.gca().set_ylim(0,80)\n",
    "plt.xlabel('')\n",
    "plt.ylabel('punts');\n",
    "plt.title('Punts totals', fontsize=22)\n",
    "\n",
    "\n",
    "plt.subplot(132)\n",
    "sns.barplot(data=df, x=\"feedback_type\", y=\"#thorws\", \n",
    "            order=['càstig', 'recompensa', 'guiatge'],\n",
    "            ci=68,  palette=['lightcoral', 'lightgreen', 'lightblue'])\n",
    "\n",
    "plt.gca().spines['right'].set_visible(False)  # aesthetics                                                                              # remove right spines\n",
    "plt.gca().spines['top'].set_visible(False)                                                                                  # remove top spines\n",
    "plt.gca().get_xaxis().tick_bottom()                                                                                         \n",
    "plt.gca().get_yaxis().tick_left()\n",
    "plt.gca().tick_params(direction='in') #direction\n",
    "#plt.gca().set_ylim(0,80)\n",
    "plt.xlabel('')\n",
    "plt.ylabel('tirades');\n",
    "plt.title('Tirades', fontsize=22)\n",
    "\n",
    "\n",
    "plt.subplot(133)\n",
    "sns.barplot(data=df, x=\"feedback_type\", y=\"mean_points\", \n",
    "            order=['càstig', 'recompensa', 'guiatge'],\n",
    "            ci=68,  palette=['lightcoral', 'lightgreen', 'lightblue'])\n",
    "\n",
    "plt.gca().spines['right'].set_visible(False)  # aesthetics                                                                              # remove right spines\n",
    "plt.gca().spines['top'].set_visible(False)                                                                                  # remove top spines\n",
    "plt.gca().get_xaxis().tick_bottom()                                                                                         \n",
    "plt.gca().get_yaxis().tick_left()\n",
    "plt.gca().tick_params(direction='in') #direction\n",
    "#plt.gca().set_ylim(0,80)\n",
    "plt.xlabel('')\n",
    "plt.ylabel('punts / tirada');\n",
    "plt.title('Eficiència', fontsize=22);\n"
   ]
  },
  {
   "cell_type": "code",
   "execution_count": null,
   "id": "047fe456",
   "metadata": {},
   "outputs": [],
   "source": []
  },
  {
   "cell_type": "code",
   "execution_count": null,
   "id": "0fb20edf",
   "metadata": {},
   "outputs": [],
   "source": [
    "from linares_plot import *"
   ]
  },
  {
   "cell_type": "code",
   "execution_count": 72,
   "id": "2b63b5b0",
   "metadata": {},
   "outputs": [
    {
     "name": "stderr",
     "output_type": "stream",
     "text": [
      "No artists with labels found to put in legend.  Note that artists whose label start with an underscore are ignored when legend() is called with no argument.\n"
     ]
    },
    {
     "data": {
      "image/png": "[encoded data removed]",
      "text/plain": [
       "<Figure size 432x288 with 1 Axes>"
      ]
     },
     "metadata": {},
     "output_type": "display_data"
    }
   ],
   "source": [
    "sns.set_context(\"talk\")\n",
    "\n",
    "linares_plot(x='feedback_type', y='mean_points', order=['càstig', 'recompensa', 'guiatge'], \n",
    "             df=df, palette=['lightcoral', 'lightgreen', 'lightblue'], CI=0.68,  fill_box=True, by_subj=True, subj_col='group', \n",
    "             reps=500, alpha_box=0.7, alpha=0.9,  point_size=10, leg=False, sep_axis=False)\n",
    "\n",
    "plt.gca().spines['right'].set_visible(False)  # aesthetics                                                                              # remove right spines\n",
    "plt.gca().spines['top'].set_visible(False)                                                                                  # remove top spines\n",
    "plt.gca().get_xaxis().tick_bottom()                                                                                         \n",
    "plt.gca().get_yaxis().tick_left()\n",
    "plt.gca().tick_params(direction='in') #direction\n",
    "#plt.gca().set_ylim(0,80)\n",
    "plt.xlabel('')\n",
    "plt.ylabel('punts / tirada');\n",
    "plt.title('Eficiència', fontsize=22);\n"
   ]
  },
  {
   "cell_type": "code",
   "execution_count": null,
   "id": "781f2e3c",
   "metadata": {},
   "outputs": [],
   "source": []
  },
  {
   "cell_type": "code",
   "execution_count": null,
   "id": "1eec9d9f",
   "metadata": {},
   "outputs": [],
   "source": []
  },
  {
   "cell_type": "code",
   "execution_count": null,
   "id": "6b7dba15",
   "metadata": {},
   "outputs": [],
   "source": []
  }
 ],
 "metadata": {
  "kernelspec": {
   "display_name": "Python 3 (ipykernel)",
   "language": "python",
   "name": "python3"
  },
  "language_info": {
   "codemirror_mode": {
    "name": "ipython",
    "version": 3
   },
   "file_extension": ".py",
   "mimetype": "text/x-python",
   "name": "python",
   "nbconvert_exporter": "python",
   "pygments_lexer": "ipython3",
   "version": "3.9.15"
  }
 },
 "nbformat": 4,
 "nbformat_minor": 5
}
