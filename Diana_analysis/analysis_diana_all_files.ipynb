{
 "cells": [
  {
   "cell_type": "code",
   "execution_count": 1,
   "metadata": {},
   "outputs": [],
   "source": [
    "import pandas as pd #for dealing with csv import\n",
    "import os # for joining paths and filenames sensibly\n",
    "import numpy as np #for the population std\n",
    "import glob # for finding csv data Çfiles\n",
    "import scipy.stats"
   ]
  },
  {
   "cell_type": "code",
   "execution_count": null,
   "metadata": {},
   "outputs": [],
   "source": []
  },
  {
   "cell_type": "markdown",
   "metadata": {},
   "source": [
    "## Data processing"
   ]
  },
  {
   "cell_type": "code",
   "execution_count": 2,
   "metadata": {},
   "outputs": [
    {
     "data": {
      "text/plain": [
       "'C:\\\\Users\\\\David\\\\Documents\\\\GitHub\\\\OpenBrains\\\\Diana_analysis'"
      ]
     },
     "execution_count": 2,
     "metadata": {},
     "output_type": "execute_result"
    }
   ],
   "source": [
    "os.getcwd()"
   ]
  },
  {
   "cell_type": "code",
   "execution_count": 92,
   "metadata": {},
   "outputs": [],
   "source": [
    "#path_folder_all = 'C:\\\\Users\\\\David\\\\Desktop\\\\OpenBrains\\\\balanced_brains\\\\diana_sopeña'\n",
    "#path_folder_all = 'C:\\\\Users\\\\David\\\\Desktop\\\\OpenBrains\\\\balanced_brains\\\\diana_adella'\n",
    "#path_folder_all = 'C:\\\\Users\\\\David\\\\Desktop\\\\OpenBrains\\\\balanced_brains\\\\diana_Moli'\n",
    "path_folder_all = 'C:\\\\Users\\\\David\\\\Desktop\\\\OpenBrains\\\\balanced_brains\\\\diana_all'"
   ]
  },
  {
   "cell_type": "code",
   "execution_count": 93,
   "metadata": {},
   "outputs": [
    {
     "data": {
      "text/plain": [
       "['C:\\\\Users\\\\David\\\\Desktop\\\\OpenBrains\\\\balanced_brains\\\\diana_all\\\\Feedback experiment (1).xlsx',\n",
       " 'C:\\\\Users\\\\David\\\\Desktop\\\\OpenBrains\\\\balanced_brains\\\\diana_all\\\\Feedback experiment 6.xlsx',\n",
       " 'C:\\\\Users\\\\David\\\\Desktop\\\\OpenBrains\\\\balanced_brains\\\\diana_all\\\\Feedback experiment 9.xlsx',\n",
       " 'C:\\\\Users\\\\David\\\\Desktop\\\\OpenBrains\\\\balanced_brains\\\\diana_all\\\\Feedback experiment.xlsx',\n",
       " 'C:\\\\Users\\\\David\\\\Desktop\\\\OpenBrains\\\\balanced_brains\\\\diana_all\\\\Feedback experiment5.xlsx',\n",
       " 'C:\\\\Users\\\\David\\\\Desktop\\\\OpenBrains\\\\balanced_brains\\\\diana_all\\\\Feedback experiment8.xlsx',\n",
       " 'C:\\\\Users\\\\David\\\\Desktop\\\\OpenBrains\\\\balanced_brains\\\\diana_all\\\\Feedback experiment_1.xlsx',\n",
       " 'C:\\\\Users\\\\David\\\\Desktop\\\\OpenBrains\\\\balanced_brains\\\\diana_all\\\\Feedback experiment_2.xlsx',\n",
       " 'C:\\\\Users\\\\David\\\\Desktop\\\\OpenBrains\\\\balanced_brains\\\\diana_all\\\\Feedback experiment_a.xlsx',\n",
       " 'C:\\\\Users\\\\David\\\\Desktop\\\\OpenBrains\\\\balanced_brains\\\\diana_all\\\\Feedback experiment_abc.xlsx']"
      ]
     },
     "execution_count": 93,
     "metadata": {},
     "output_type": "execute_result"
    }
   ],
   "source": [
    "search_string=os.path.join(path_folder_all,'*.xlsx') \n",
    "files = glob.glob(search_string) #list of data files in the named location\n",
    "files"
   ]
  },
  {
   "cell_type": "code",
   "execution_count": 94,
   "metadata": {},
   "outputs": [
    {
     "name": "stdout",
     "output_type": "stream",
     "text": [
      "C:\\Users\\David\\Desktop\\OpenBrains\\balanced_brains\\diana_all\\Feedback experiment (1).xlsx\n",
      "[300, 33.33, 9, 'càstig', 'G01']\n",
      "[780, 48.75, 16, 'recompensa', 'G01']\n",
      "[1080, 67.5, 16, 'guiatge', 'G01']\n",
      "[610, 30.5, 20, 'càstig', 'G02']\n",
      "[250, 20.83, 12, 'recompensa', 'G02']\n",
      "[970, 42.17, 23, 'guiatge', 'G02']\n",
      "[90, 11.25, 8, 'càstig', 'G03']\n",
      "[190, 11.18, 17, 'recompensa', 'G03']\n",
      "[330, 18.33, 18, 'guiatge', 'G03']\n",
      "[310, 25.83, 12, 'càstig', 'G04']\n",
      "[450, 28.12, 16, 'recompensa', 'G04']\n",
      "[730, 38.42, 19, 'guiatge', 'G04']\n",
      "[340, 20.0, 17, 'càstig', 'G05']\n",
      "[470, 29.38, 16, 'recompensa', 'G05']\n",
      "[170, 12.14, 14, 'guiatge', 'G05']\n",
      "[170, 56.67, 3, 'càstig', 'G06']\n",
      "[0, 0.0, 3, 'recompensa', 'G06']\n",
      "[10, 10.0, 1, 'guiatge', 'G06']\n",
      "C:\\Users\\David\\Desktop\\OpenBrains\\balanced_brains\\diana_all\\Feedback experiment 6.xlsx\n",
      "[60, 3.33, 18, 'càstig', 'G01']\n",
      "[1370, 62.27, 22, 'recompensa', 'G01']\n",
      "[170, 6.8, 25, 'guiatge', 'G01']\n",
      "[1050, 50.0, 21, 'càstig', 'G02']\n",
      "[1580, 41.58, 38, 'recompensa', 'G02']\n",
      "[2460, 55.91, 44, 'guiatge', 'G02']\n",
      "[0, 0.0, 13, 'càstig', 'G03']\n",
      "[340, 26.15, 13, 'recompensa', 'G03']\n",
      "[480, 30.0, 16, 'guiatge', 'G03']\n",
      "[500, 25.0, 20, 'càstig', 'G04']\n",
      "[1710, 37.17, 46, 'recompensa', 'G04']\n",
      "[1700, 58.62, 29, 'guiatge', 'G04']\n",
      "[520, 20.0, 26, 'càstig', 'G05']\n",
      "[10, 0.56, 18, 'recompensa', 'G05']\n",
      "[460, 12.11, 38, 'guiatge', 'G05']\n",
      "[190, 14.62, 13, 'càstig', 'G06']\n",
      "[140, 15.56, 9, 'recompensa', 'G06']\n",
      "[430, 26.88, 16, 'guiatge', 'G06']\n",
      "[80, 4.21, 19, 'càstig', 'G07']\n",
      "[460, 17.69, 26, 'recompensa', 'G07']\n",
      "[150, 6.25, 24, 'guiatge', 'G07']\n",
      "C:\\Users\\David\\Desktop\\OpenBrains\\balanced_brains\\diana_all\\Feedback experiment 9.xlsx\n",
      "[0, 0.0, 11, 'càstig', 'G01']\n",
      "[220, 18.33, 12, 'recompensa', 'G01']\n",
      "[610, 25.42, 24, 'guiatge', 'G01']\n",
      "[20, 1.82, 11, 'càstig', 'G02']\n",
      "[300, 25.0, 12, 'recompensa', 'G02']\n",
      "[460, 30.67, 15, 'guiatge', 'G02']\n",
      "[450, 22.5, 20, 'càstig', 'G03']\n",
      "[30, 2.31, 13, 'recompensa', 'G03']\n",
      "[260, 11.82, 22, 'guiatge', 'G03']\n",
      "[240, 24.0, 10, 'càstig', 'G04']\n",
      "[10, 1.25, 8, 'recompensa', 'G04']\n",
      "[300, 27.27, 11, 'guiatge', 'G04']\n",
      "[470, 47.0, 10, 'càstig', 'G05']\n",
      "[550, 28.95, 19, 'recompensa', 'G05']\n",
      "[680, 42.5, 16, 'guiatge', 'G05']\n",
      "[20, 2.22, 9, 'càstig', 'G06']\n",
      "[220, 55.0, 4, 'recompensa', 'G06']\n",
      "[220, 20.0, 11, 'guiatge', 'G06']\n",
      "[20, 1.18, 17, 'càstig', 'G07']\n",
      "[490, 21.3, 23, 'recompensa', 'G07']\n",
      "[1320, 47.14, 28, 'guiatge', 'G07']\n",
      "C:\\Users\\David\\Desktop\\OpenBrains\\balanced_brains\\diana_all\\Feedback experiment.xlsx\n",
      "[500, 55.56, 9, 'càstig', 'G01']\n",
      "[0, 0.0, 11, 'recompensa', 'G01']\n",
      "[480, 43.64, 11, 'guiatge', 'G01']\n",
      "[0, 0.0, 18, 'càstig', 'G02']\n",
      "[410, 22.78, 18, 'recompensa', 'G02']\n",
      "[500, 35.71, 14, 'guiatge', 'G02']\n",
      "[280, 23.33, 12, 'càstig', 'G04']\n",
      "[830, 27.67, 30, 'recompensa', 'G04']\n",
      "[750, 34.09, 22, 'guiatge', 'G04']\n",
      "[450, 32.14, 14, 'càstig', 'G06']\n",
      "[350, 21.88, 16, 'recompensa', 'G06']\n",
      "[390, 20.53, 19, 'guiatge', 'G06']\n",
      "C:\\Users\\David\\Desktop\\OpenBrains\\balanced_brains\\diana_all\\Feedback experiment5.xlsx\n",
      "[270, 15.0, 18, 'càstig', 'G01']\n",
      "[90, 8.18, 11, 'recompensa', 'G01']\n",
      "[600, 31.58, 19, 'guiatge', 'G01']\n",
      "[220, 12.94, 17, 'càstig', 'G02']\n",
      "[130, 8.12, 16, 'recompensa', 'G02']\n",
      "[770, 36.67, 21, 'guiatge', 'G02']\n",
      "[0, 0.0, 21, 'càstig', 'G03']\n",
      "[540, 11.25, 48, 'recompensa', 'G03']\n",
      "[1720, 53.75, 32, 'guiatge', 'G03']\n",
      "[640, 30.48, 21, 'càstig', 'G04']\n",
      "[670, 29.13, 23, 'recompensa', 'G04']\n",
      "[730, 24.33, 30, 'guiatge', 'G04']\n",
      "C:\\Users\\David\\Desktop\\OpenBrains\\balanced_brains\\diana_all\\Feedback experiment8.xlsx\n",
      "[300, 50.0, 6, 'càstig', 'G01']\n",
      "[390, 30.0, 13, 'recompensa', 'G01']\n",
      "[540, 30.0, 18, 'guiatge', 'G01']\n",
      "[390, 17.73, 22, 'càstig', 'G02']\n",
      "[230, 13.53, 17, 'recompensa', 'G02']\n",
      "[380, 42.22, 9, 'guiatge', 'G02']\n",
      "[190, 47.5, 4, 'càstig', 'G03']\n",
      "[920, 41.82, 22, 'recompensa', 'G03']\n",
      "[160, 14.55, 11, 'guiatge', 'G03']\n",
      "[90, 5.29, 17, 'càstig', 'G04']\n",
      "[490, 44.55, 11, 'recompensa', 'G04']\n",
      "[450, 50.0, 9, 'guiatge', 'G04']\n",
      "[840, 52.5, 16, 'càstig', 'G05']\n",
      "[970, 35.93, 27, 'recompensa', 'G05']\n",
      "[1770, 55.31, 32, 'guiatge', 'G05']\n",
      "[70, 5.83, 12, 'càstig', 'G06']\n",
      "[230, 23.0, 10, 'recompensa', 'G06']\n",
      "[720, 45.0, 16, 'guiatge', 'G06']\n",
      "[180, 9.0, 20, 'càstig', 'G07']\n",
      "[780, 30.0, 26, 'recompensa', 'G07']\n",
      "[520, 24.76, 21, 'guiatge', 'G07']\n",
      "C:\\Users\\David\\Desktop\\OpenBrains\\balanced_brains\\diana_all\\Feedback experiment_1.xlsx\n",
      "[150, 9.38, 16, 'càstig', 'G01']\n",
      "[1290, 56.09, 23, 'recompensa', 'G01']\n",
      "[60, 5.0, 12, 'guiatge', 'G01']\n",
      "[70, 5.0, 14, 'càstig', 'G02']\n",
      "[180, 15.0, 12, 'recompensa', 'G02']\n",
      "[230, 15.33, 15, 'guiatge', 'G02']\n",
      "[450, 50.0, 9, 'càstig', 'G03']\n",
      "[460, 35.38, 13, 'recompensa', 'G03']\n",
      "[410, 25.62, 16, 'guiatge', 'G03']\n",
      "[240, 15.0, 16, 'càstig', 'G05']\n",
      "[490, 23.33, 21, 'recompensa', 'G05']\n",
      "[870, 36.25, 24, 'guiatge', 'G05']\n",
      "[510, 31.88, 16, 'càstig', 'G06']\n",
      "[900, 34.62, 26, 'recompensa', 'G06']\n",
      "[1830, 55.45, 33, 'guiatge', 'G06']\n",
      "[220, 20.0, 11, 'càstig', 'G07']\n",
      "[170, 21.25, 8, 'recompensa', 'G07']\n",
      "[550, 36.67, 15, 'guiatge', 'G07']\n",
      "[460, 28.75, 16, 'càstig', 'G08']\n",
      "[350, 23.33, 15, 'recompensa', 'G08']\n",
      "[320, 12.8, 25, 'guiatge', 'G08']\n",
      "[80, 13.33, 6, 'càstig', 'G10']\n",
      "[10, 1.43, 7, 'recompensa', 'G10']\n",
      "[0, 0.0, 9, 'guiatge', 'G10']\n",
      "C:\\Users\\David\\Desktop\\OpenBrains\\balanced_brains\\diana_all\\Feedback experiment_2.xlsx\n",
      "[200, 20.0, 10, 'càstig', 'G01']\n",
      "[640, 37.65, 17, 'recompensa', 'G01']\n",
      "[700, 35.0, 20, 'guiatge', 'G01']\n",
      "[350, 20.59, 17, 'càstig', 'G03']\n",
      "[580, 25.22, 23, 'recompensa', 'G03']\n",
      "[170, 10.0, 17, 'guiatge', 'G03']\n",
      "[60, 60.0, 1, 'càstig', 'G05']\n",
      "[370, 61.67, 6, 'recompensa', 'G05']\n",
      "[760, 69.09, 11, 'guiatge', 'G05']\n",
      "[170, 10.62, 16, 'càstig', 'G06']\n",
      "[0, 0.0, 12, 'recompensa', 'G06']\n",
      "[440, 31.43, 14, 'guiatge', 'G06']\n",
      "[250, 35.71, 7, 'càstig', 'G07']\n",
      "[250, 12.5, 20, 'recompensa', 'G07']\n",
      "[680, 34.0, 20, 'guiatge', 'G07']\n",
      "C:\\Users\\David\\Desktop\\OpenBrains\\balanced_brains\\diana_all\\Feedback experiment_a.xlsx\n",
      "[170, 15.45, 11, 'càstig', 'G01']\n",
      "[290, 24.17, 12, 'recompensa', 'G01']\n",
      "[480, 30.0, 16, 'guiatge', 'G01']\n",
      "[510, 31.88, 16, 'càstig', 'G06']\n",
      "[900, 34.62, 26, 'recompensa', 'G06']\n",
      "[1830, 55.45, 33, 'guiatge', 'G06']\n",
      "[220, 20.0, 11, 'càstig', 'G07']\n",
      "[170, 21.25, 8, 'recompensa', 'G07']\n",
      "[550, 36.67, 15, 'guiatge', 'G07']\n",
      "[460, 28.75, 16, 'càstig', 'G04']\n",
      "[350, 23.33, 15, 'recompensa', 'G04']\n",
      "[320, 12.8, 25, 'guiatge', 'G04']\n",
      "[80, 13.33, 6, 'càstig', 'G10']\n",
      "[10, 1.43, 7, 'recompensa', 'G10']\n",
      "[0, 0.0, 9, 'guiatge', 'G10']\n",
      "C:\\Users\\David\\Desktop\\OpenBrains\\balanced_brains\\diana_all\\Feedback experiment_abc.xlsx\n",
      "[260, 18.57, 14, 'càstig', 'G01']\n",
      "[0, 0.0, 14, 'recompensa', 'G01']\n",
      "[240, 12.63, 19, 'guiatge', 'G01']\n",
      "[150, 18.75, 8, 'càstig', 'G02']\n",
      "[740, 46.25, 16, 'recompensa', 'G02']\n",
      "[830, 43.68, 19, 'guiatge', 'G02']\n",
      "[70, 35.0, 2, 'càstig', 'G05']\n",
      "[300, 25.0, 12, 'recompensa', 'G05']\n",
      "[280, 21.54, 13, 'guiatge', 'G05']\n",
      "[250, 19.23, 13, 'càstig', 'G06']\n",
      "[240, 14.12, 17, 'recompensa', 'G06']\n",
      "[650, 29.55, 22, 'guiatge', 'G06']\n"
     ]
    }
   ],
   "source": [
    "#Get summary dataframe\n",
    "\n",
    "summary=[]\n",
    "\n",
    "for filenum, filename in enumerate(files):\n",
    "    print(filename)\n",
    "    ##\n",
    "    filepath =os.path.join(path_folder_all,filename) \n",
    "    xl = pd.ExcelFile(filepath)\n",
    "    sheet_names = xl.sheet_names\n",
    "    ##\n",
    "    for idx, group in enumerate(sheet_names):\n",
    "\n",
    "        df_gx = pd.read_excel(filepath, sheet_name=sheet_names[idx])\n",
    "\n",
    "        if not df_gx.iloc[:,1].isnull().iloc[1]:\n",
    "\n",
    "            for idx1, label in enumerate(['càstig', 'recompensa', 'guiatge']): ##each feedback type\n",
    "\n",
    "                points = df_gx.iloc[1:, 1+idx1][~df_gx.iloc[1:, 1+idx1].isnull()].values ## remove the nan and convert to array\n",
    "\n",
    "                print([points.sum(), np.round(points.mean(),2), points.shape[0], label, group ]) ##control mechanism\n",
    "\n",
    "                summary.append([points.sum(), np.round(points.mean(),2), points.shape[0], label, group, filenum ])\n",
    "            #\n",
    "            \n",
    "#\n",
    "df = pd.DataFrame(summary)\n",
    "df.columns=['sum', 'mean_points', '#thorws', 'feedback_type', 'group', 'filenum' ]    \n",
    "            "
   ]
  },
  {
   "cell_type": "code",
   "execution_count": null,
   "metadata": {},
   "outputs": [],
   "source": []
  },
  {
   "cell_type": "code",
   "execution_count": 95,
   "metadata": {},
   "outputs": [
    {
     "data": {
      "text/html": [
       "<div>\n",
       "<style scoped>\n",
       "    .dataframe tbody tr th:only-of-type {\n",
       "        vertical-align: middle;\n",
       "    }\n",
       "\n",
       "    .dataframe tbody tr th {\n",
       "        vertical-align: top;\n",
       "    }\n",
       "\n",
       "    .dataframe thead th {\n",
       "        text-align: right;\n",
       "    }\n",
       "</style>\n",
       "<table border=\"1\" class=\"dataframe\">\n",
       "  <thead>\n",
       "    <tr style=\"text-align: right;\">\n",
       "      <th></th>\n",
       "      <th>sum</th>\n",
       "      <th>mean_points</th>\n",
       "      <th>#thorws</th>\n",
       "      <th>feedback_type</th>\n",
       "      <th>group</th>\n",
       "      <th>filenum</th>\n",
       "    </tr>\n",
       "  </thead>\n",
       "  <tbody>\n",
       "    <tr>\n",
       "      <th>0</th>\n",
       "      <td>300</td>\n",
       "      <td>33.33</td>\n",
       "      <td>9</td>\n",
       "      <td>càstig</td>\n",
       "      <td>G01</td>\n",
       "      <td>0</td>\n",
       "    </tr>\n",
       "    <tr>\n",
       "      <th>1</th>\n",
       "      <td>780</td>\n",
       "      <td>48.75</td>\n",
       "      <td>16</td>\n",
       "      <td>recompensa</td>\n",
       "      <td>G01</td>\n",
       "      <td>0</td>\n",
       "    </tr>\n",
       "    <tr>\n",
       "      <th>2</th>\n",
       "      <td>1080</td>\n",
       "      <td>67.50</td>\n",
       "      <td>16</td>\n",
       "      <td>guiatge</td>\n",
       "      <td>G01</td>\n",
       "      <td>0</td>\n",
       "    </tr>\n",
       "    <tr>\n",
       "      <th>3</th>\n",
       "      <td>610</td>\n",
       "      <td>30.50</td>\n",
       "      <td>20</td>\n",
       "      <td>càstig</td>\n",
       "      <td>G02</td>\n",
       "      <td>0</td>\n",
       "    </tr>\n",
       "    <tr>\n",
       "      <th>4</th>\n",
       "      <td>250</td>\n",
       "      <td>20.83</td>\n",
       "      <td>12</td>\n",
       "      <td>recompensa</td>\n",
       "      <td>G02</td>\n",
       "      <td>0</td>\n",
       "    </tr>\n",
       "    <tr>\n",
       "      <th>...</th>\n",
       "      <td>...</td>\n",
       "      <td>...</td>\n",
       "      <td>...</td>\n",
       "      <td>...</td>\n",
       "      <td>...</td>\n",
       "      <td>...</td>\n",
       "    </tr>\n",
       "    <tr>\n",
       "      <th>166</th>\n",
       "      <td>300</td>\n",
       "      <td>25.00</td>\n",
       "      <td>12</td>\n",
       "      <td>recompensa</td>\n",
       "      <td>G05</td>\n",
       "      <td>9</td>\n",
       "    </tr>\n",
       "    <tr>\n",
       "      <th>167</th>\n",
       "      <td>280</td>\n",
       "      <td>21.54</td>\n",
       "      <td>13</td>\n",
       "      <td>guiatge</td>\n",
       "      <td>G05</td>\n",
       "      <td>9</td>\n",
       "    </tr>\n",
       "    <tr>\n",
       "      <th>168</th>\n",
       "      <td>250</td>\n",
       "      <td>19.23</td>\n",
       "      <td>13</td>\n",
       "      <td>càstig</td>\n",
       "      <td>G06</td>\n",
       "      <td>9</td>\n",
       "    </tr>\n",
       "    <tr>\n",
       "      <th>169</th>\n",
       "      <td>240</td>\n",
       "      <td>14.12</td>\n",
       "      <td>17</td>\n",
       "      <td>recompensa</td>\n",
       "      <td>G06</td>\n",
       "      <td>9</td>\n",
       "    </tr>\n",
       "    <tr>\n",
       "      <th>170</th>\n",
       "      <td>650</td>\n",
       "      <td>29.55</td>\n",
       "      <td>22</td>\n",
       "      <td>guiatge</td>\n",
       "      <td>G06</td>\n",
       "      <td>9</td>\n",
       "    </tr>\n",
       "  </tbody>\n",
       "</table>\n",
       "<p>171 rows × 6 columns</p>\n",
       "</div>"
      ],
      "text/plain": [
       "      sum  mean_points  #thorws feedback_type group  filenum\n",
       "0     300        33.33        9        càstig   G01        0\n",
       "1     780        48.75       16    recompensa   G01        0\n",
       "2    1080        67.50       16       guiatge   G01        0\n",
       "3     610        30.50       20        càstig   G02        0\n",
       "4     250        20.83       12    recompensa   G02        0\n",
       "..    ...          ...      ...           ...   ...      ...\n",
       "166   300        25.00       12    recompensa   G05        9\n",
       "167   280        21.54       13       guiatge   G05        9\n",
       "168   250        19.23       13        càstig   G06        9\n",
       "169   240        14.12       17    recompensa   G06        9\n",
       "170   650        29.55       22       guiatge   G06        9\n",
       "\n",
       "[171 rows x 6 columns]"
      ]
     },
     "execution_count": 95,
     "metadata": {},
     "output_type": "execute_result"
    }
   ],
   "source": [
    "df"
   ]
  },
  {
   "cell_type": "markdown",
   "metadata": {},
   "source": [
    "## Plots"
   ]
  },
  {
   "cell_type": "code",
   "execution_count": 96,
   "metadata": {},
   "outputs": [],
   "source": [
    "import matplotlib.pyplot as plt  # Matplotlib's pyplot: MATLAB-like syntax\n",
    "import seaborn as sns\n",
    "sns.set_context(\"talk\")"
   ]
  },
  {
   "cell_type": "code",
   "execution_count": 97,
   "metadata": {},
   "outputs": [],
   "source": [
    "c_guiatge =  '#e59500'\n",
    "c_recompensa= 'aquamarine' # '#002642'\n",
    "c_castig= 'indianred'  # '#840032'"
   ]
  },
  {
   "cell_type": "code",
   "execution_count": 98,
   "metadata": {},
   "outputs": [
    {
     "name": "stderr",
     "output_type": "stream",
     "text": [
      "C:\\Users\\David\\Anaconda3\\envs\\python3\\lib\\site-packages\\scipy\\stats\\stats.py:1713: FutureWarning: Using a non-tuple sequence for multidimensional indexing is deprecated; use `arr[tuple(seq)]` instead of `arr[seq]`. In the future this will be interpreted as an array index, `arr[np.array(seq)]`, which will result either in an error or a different result.\n",
      "  return np.add.reduce(sorted[indexer] * weights, axis=axis) / sumval\n"
     ]
    },
    {
     "data": {
      "text/plain": [
       "Text(0.5,1,'Eficiència')"
      ]
     },
     "execution_count": 98,
     "metadata": {},
     "output_type": "execute_result"
    },
    {
     "data": {
      "image/png": "[encoded data removed]",
      "text/plain": [
       "<Figure size 432x288 with 1 Axes>"
      ]
     },
     "metadata": {},
     "output_type": "display_data"
    }
   ],
   "source": [
    "sns.barplot(data=df, x=\"feedback_type\", y=\"mean_points\", \n",
    "            order=['càstig', 'recompensa', 'guiatge'],\n",
    "            ci=68,  palette=[c_castig, c_recompensa, c_guiatge])\n",
    "\n",
    "plt.gca().spines['right'].set_visible(False)  # aesthetics                                                                              # remove right spines\n",
    "plt.gca().spines['top'].set_visible(False)                                                                                  # remove top spines\n",
    "plt.gca().get_xaxis().tick_bottom()                                                                                         \n",
    "plt.gca().get_yaxis().tick_left()\n",
    "plt.gca().tick_params(direction='in') #direction\n",
    "plt.gca().set_ylim(0,40)\n",
    "plt.xlabel('')\n",
    "plt.ylabel('punts / tirada');\n",
    "plt.title('Eficiència', fontsize=22)"
   ]
  },
  {
   "cell_type": "code",
   "execution_count": 99,
   "metadata": {},
   "outputs": [
    {
     "name": "stderr",
     "output_type": "stream",
     "text": [
      "C:\\Users\\David\\Anaconda3\\envs\\python3\\lib\\site-packages\\scipy\\stats\\stats.py:1713: FutureWarning: Using a non-tuple sequence for multidimensional indexing is deprecated; use `arr[tuple(seq)]` instead of `arr[seq]`. In the future this will be interpreted as an array index, `arr[np.array(seq)]`, which will result either in an error or a different result.\n",
      "  return np.add.reduce(sorted[indexer] * weights, axis=axis) / sumval\n"
     ]
    },
    {
     "data": {
      "image/png": "[encoded data removed]",
      "text/plain": [
       "<Figure size 1440x432 with 3 Axes>"
      ]
     },
     "metadata": {},
     "output_type": "display_data"
    }
   ],
   "source": [
    "plt.figure(figsize=(20,6))\n",
    "\n",
    "plt.subplot(131)\n",
    "sns.barplot(data=df, x=\"feedback_type\", y=\"sum\", \n",
    "            order=['càstig', 'recompensa', 'guiatge'],\n",
    "            ci=68,  palette=[c_castig, c_recompensa, c_guiatge])\n",
    "\n",
    "plt.gca().spines['right'].set_visible(False)  # aesthetics                                                                              # remove right spines\n",
    "plt.gca().spines['top'].set_visible(False)                                                                                  # remove top spines\n",
    "plt.gca().get_xaxis().tick_bottom()                                                                                         \n",
    "plt.gca().get_yaxis().tick_left()\n",
    "plt.gca().tick_params(direction='in') #direction\n",
    "#plt.gca().set_ylim(0,80)\n",
    "plt.xlabel('')\n",
    "plt.ylabel('punts');\n",
    "plt.title('Punts totals', fontsize=22)\n",
    "\n",
    "\n",
    "plt.subplot(132)\n",
    "sns.barplot(data=df, x=\"feedback_type\", y=\"#thorws\", \n",
    "            order=['càstig', 'recompensa', 'guiatge'],\n",
    "            ci=68,  palette=[c_castig, c_recompensa, c_guiatge])\n",
    "\n",
    "plt.gca().spines['right'].set_visible(False)  # aesthetics                                                                              # remove right spines\n",
    "plt.gca().spines['top'].set_visible(False)                                                                                  # remove top spines\n",
    "plt.gca().get_xaxis().tick_bottom()                                                                                         \n",
    "plt.gca().get_yaxis().tick_left()\n",
    "plt.gca().tick_params(direction='in') #direction\n",
    "#plt.gca().set_ylim(0,80)\n",
    "plt.xlabel('')\n",
    "plt.ylabel('tirades');\n",
    "plt.title('Tirades', fontsize=22)\n",
    "\n",
    "\n",
    "plt.subplot(133)\n",
    "sns.barplot(data=df, x=\"feedback_type\", y=\"mean_points\", \n",
    "            order=['càstig', 'recompensa', 'guiatge'],\n",
    "            ci=68,  palette=[c_castig, c_recompensa, c_guiatge])\n",
    "\n",
    "plt.gca().spines['right'].set_visible(False)  # aesthetics                                                                              # remove right spines\n",
    "plt.gca().spines['top'].set_visible(False)                                                                                  # remove top spines\n",
    "plt.gca().get_xaxis().tick_bottom()                                                                                         \n",
    "plt.gca().get_yaxis().tick_left()\n",
    "plt.gca().tick_params(direction='in') #direction\n",
    "#plt.gca().set_ylim(0,80)\n",
    "plt.xlabel('')\n",
    "plt.ylabel('punts / tirada');\n",
    "plt.title('Eficiència', fontsize=22);\n"
   ]
  },
  {
   "cell_type": "code",
   "execution_count": 100,
   "metadata": {},
   "outputs": [],
   "source": [
    "from linares_plot import *"
   ]
  },
  {
   "cell_type": "code",
   "execution_count": 101,
   "metadata": {},
   "outputs": [
    {
     "name": "stderr",
     "output_type": "stream",
     "text": [
      "C:\\Users\\David\\Anaconda3\\envs\\python3\\lib\\site-packages\\linares_plot.py:120: InstabilityWarning: Some values used top 10 low/high samples; results may be unstable.\n",
      "  ci= bootstraps.ci(df.groupby(x).get_group(x_idx)[y], statfunction=statistic, n_samples=reps,  alpha=1-CI)    # calculate the bootstrap (data no subject base)\n",
      "No handles with labels found to put in legend.\n"
     ]
    },
    {
     "data": {
      "image/png": "[encoded data removed]",
      "text/plain": [
       "<Figure size 432x288 with 1 Axes>"
      ]
     },
     "metadata": {},
     "output_type": "display_data"
    }
   ],
   "source": [
    "sns.set_context(\"talk\")\n",
    "\n",
    "linares_plot(x='feedback_type', y='mean_points', order=['càstig', 'recompensa', 'guiatge'], \n",
    "             df=df, palette=[c_castig, c_recompensa, c_guiatge], CI=0.68,  fill_box=True,  \n",
    "             reps=100, alpha_box=0.7, alpha=0.9,  point_size=8, leg=False, sep_axis=False)\n",
    "\n",
    "plt.gca().spines['right'].set_visible(False)  # aesthetics                                                                              # remove right spines\n",
    "plt.gca().spines['top'].set_visible(False)                                                                                  # remove top spines\n",
    "plt.gca().get_xaxis().tick_bottom()                                                                                         \n",
    "plt.gca().get_yaxis().tick_left()\n",
    "plt.gca().tick_params(direction='in') #direction\n",
    "#plt.gca().set_ylim(0,80)\n",
    "plt.xlabel('')\n",
    "plt.ylabel('punts / tirada');\n",
    "plt.title('Eficiència', fontsize=22);\n"
   ]
  },
  {
   "cell_type": "code",
   "execution_count": null,
   "metadata": {},
   "outputs": [],
   "source": []
  },
  {
   "cell_type": "markdown",
   "metadata": {},
   "source": [
    "## Stats"
   ]
  },
  {
   "cell_type": "code",
   "execution_count": 102,
   "metadata": {},
   "outputs": [],
   "source": [
    "from statsmodels.formula.api import ols\n",
    "import statsmodels.api as sm\n",
    "from statsmodels.stats.multicomp import pairwise_tukeyhsd"
   ]
  },
  {
   "cell_type": "code",
   "execution_count": 103,
   "metadata": {},
   "outputs": [
    {
     "name": "stdout",
     "output_type": "stream",
     "text": [
      "                                 \n",
      "                                 Anova Table\n",
      "==============================================================================\n",
      "                     sum_sq     df         F    PR(>F)\n",
      "feedback_type   2126.671552    2.0  3.915089  0.021784\n",
      "Residual       45628.692449  168.0       NaN       NaN\n",
      "==============================================================================\n",
      "                                 \n",
      "                                 \n",
      "                                 \n",
      " Multiple Comparison of Means - Tukey HSD,FWER=0.05\n",
      "===================================================\n",
      " group1   group2   meandiff  lower    upper  reject\n",
      "---------------------------------------------------\n",
      " càstig  guiatge    8.2293   0.9289  15.5297  True \n",
      " càstig recompensa   1.84   -5.4604   9.1404 False \n",
      "guiatge recompensa -6.3893  -13.6897  0.9111 False \n",
      "---------------------------------------------------\n"
     ]
    }
   ],
   "source": [
    "###### Anova model\n",
    "mod = ols(formula='mean_points ~ feedback_type', data=df).fit()\n",
    "aov_table = sm.stats.anova_lm(mod, typ=2)\n",
    "print( '                                 ')\n",
    "print( '                                 Anova Table')\n",
    "print( '==============================================================================')\n",
    "print( aov_table)\n",
    "print( '==============================================================================')\n",
    "print( '                                 ')\n",
    "print( '                                 ')\n",
    "print( '                                 ')\n",
    "\n",
    "####### Multiple comparisons\n",
    "tukey = pairwise_tukeyhsd(endog=df['mean_points'].values, groups=df['feedback_type'].values,  alpha=0.05)\n",
    "print( tukey.summary()    )\n",
    "\n"
   ]
  },
  {
   "cell_type": "code",
   "execution_count": 104,
   "metadata": {},
   "outputs": [
    {
     "name": "stdout",
     "output_type": "stream",
     "text": [
      "Ttest_indResult(statistic=-0.6054840024304208, pvalue=0.5460824380797911)\n",
      "Ttest_indResult(statistic=-2.6297650112017505, pvalue=0.009745614528806597)\n",
      "Ttest_indResult(statistic=-2.0662210377712458, pvalue=0.041114095084174726)\n"
     ]
    }
   ],
   "source": [
    "C = df.loc[df['feedback_type']=='càstig', 'mean_points'].values\n",
    "R = df.loc[df['feedback_type']=='recompensa', 'mean_points'].values\n",
    "G = df.loc[df['feedback_type']=='guiatge', 'mean_points'].values\n",
    "\n",
    "print(scipy.stats.ttest_ind(C, R))\n",
    "print(scipy.stats.ttest_ind(C, G))\n",
    "print(scipy.stats.ttest_ind(R, G))\n",
    "\n"
   ]
  },
  {
   "cell_type": "code",
   "execution_count": 105,
   "metadata": {},
   "outputs": [],
   "source": []
  },
  {
   "cell_type": "code",
   "execution_count": null,
   "metadata": {},
   "outputs": [],
   "source": []
  }
 ],
 "metadata": {
  "kernelspec": {
   "display_name": "Python 3",
   "language": "python",
   "name": "python3"
  },
  "language_info": {
   "codemirror_mode": {
    "name": "ipython",
    "version": 3
   },
   "file_extension": ".py",
   "mimetype": "text/x-python",
   "name": "python",
   "nbconvert_exporter": "python",
   "pygments_lexer": "ipython3",
   "version": "3.5.6"
  }
 },
 "nbformat": 4,
 "nbformat_minor": 5
}
