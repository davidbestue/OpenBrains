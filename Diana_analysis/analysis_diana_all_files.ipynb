{
 "cells": [
  {
   "cell_type": "code",
   "execution_count": 1,
   "metadata": {},
   "outputs": [],
   "source": [
    "import pandas as pd #for dealing with csv import\n",
    "import os # for joining paths and filenames sensibly\n",
    "import numpy as np #for the population std\n",
    "import glob # for finding csv data Çfiles"
   ]
  },
  {
   "cell_type": "code",
   "execution_count": null,
   "metadata": {},
   "outputs": [],
   "source": []
  },
  {
   "cell_type": "markdown",
   "metadata": {},
   "source": [
    "## Data processing"
   ]
  },
  {
   "cell_type": "code",
   "execution_count": 17,
   "metadata": {},
   "outputs": [
    {
     "data": {
      "text/plain": [
       "'C:\\\\Users\\\\David\\\\Documents\\\\GitHub\\\\OpenBrains\\\\Diana_analysis'"
      ]
     },
     "execution_count": 17,
     "metadata": {},
     "output_type": "execute_result"
    }
   ],
   "source": [
    "os.getcwd()"
   ]
  },
  {
   "cell_type": "code",
   "execution_count": 18,
   "metadata": {},
   "outputs": [],
   "source": [
    "#path_folder_all = 'C:\\\\Users\\\\David\\\\Desktop\\\\OpenBrains\\\\balanced_brains\\\\diana_sopeña'\n",
    "path_folder_all = 'C:\\\\Users\\\\David\\\\Desktop\\\\OpenBrains\\\\balanced_brains\\\\diana_balaguer'"
   ]
  },
  {
   "cell_type": "code",
   "execution_count": 19,
   "metadata": {},
   "outputs": [
    {
     "data": {
      "text/plain": [
       "['C:\\\\Users\\\\David\\\\Desktop\\\\OpenBrains\\\\balanced_brains\\\\diana_balaguer\\\\Feedback experiment (1).xlsx',\n",
       " 'C:\\\\Users\\\\David\\\\Desktop\\\\OpenBrains\\\\balanced_brains\\\\diana_balaguer\\\\Feedback experiment.xlsx']"
      ]
     },
     "execution_count": 19,
     "metadata": {},
     "output_type": "execute_result"
    }
   ],
   "source": [
    "search_string=os.path.join(path_folder_all,'*.xlsx') \n",
    "files = glob.glob(search_string) #list of data files in the named location\n",
    "files"
   ]
  },
  {
   "cell_type": "code",
   "execution_count": 20,
   "metadata": {},
   "outputs": [
    {
     "name": "stdout",
     "output_type": "stream",
     "text": [
      "C:\\Users\\David\\Desktop\\OpenBrains\\balanced_brains\\diana_balaguer\\Feedback experiment (1).xlsx\n",
      "[300, 33.33, 9, 'càstig', 'G01']\n",
      "[780, 48.75, 16, 'recompensa', 'G01']\n",
      "[1080, 67.5, 16, 'guiatge', 'G01']\n",
      "[610, 30.5, 20, 'càstig', 'G02']\n",
      "[250, 20.83, 12, 'recompensa', 'G02']\n",
      "[970, 42.17, 23, 'guiatge', 'G02']\n",
      "[90, 11.25, 8, 'càstig', 'G03']\n",
      "[190, 11.18, 17, 'recompensa', 'G03']\n",
      "[330, 18.33, 18, 'guiatge', 'G03']\n",
      "[310, 25.83, 12, 'càstig', 'G04']\n",
      "[450, 28.12, 16, 'recompensa', 'G04']\n",
      "[730, 38.42, 19, 'guiatge', 'G04']\n",
      "[340, 20.0, 17, 'càstig', 'G05']\n",
      "[470, 29.38, 16, 'recompensa', 'G05']\n",
      "[170, 12.14, 14, 'guiatge', 'G05']\n",
      "[170, 56.67, 3, 'càstig', 'G06']\n",
      "[0, 0.0, 3, 'recompensa', 'G06']\n",
      "[10, 10.0, 1, 'guiatge', 'G06']\n",
      "C:\\Users\\David\\Desktop\\OpenBrains\\balanced_brains\\diana_balaguer\\Feedback experiment.xlsx\n",
      "[500, 55.56, 9, 'càstig', 'G01']\n",
      "[0, 0.0, 11, 'recompensa', 'G01']\n",
      "[480, 43.64, 11, 'guiatge', 'G01']\n",
      "[0, 0.0, 18, 'càstig', 'G02']\n",
      "[410, 22.78, 18, 'recompensa', 'G02']\n",
      "[500, 35.71, 14, 'guiatge', 'G02']\n",
      "[280, 23.33, 12, 'càstig', 'G04']\n",
      "[830, 27.67, 30, 'recompensa', 'G04']\n",
      "[750, 34.09, 22, 'guiatge', 'G04']\n",
      "[450, 32.14, 14, 'càstig', 'G06']\n",
      "[350, 21.88, 16, 'recompensa', 'G06']\n",
      "[390, 20.53, 19, 'guiatge', 'G06']\n"
     ]
    }
   ],
   "source": [
    "#Get summary dataframe\n",
    "\n",
    "summary=[]\n",
    "\n",
    "for filenum, filename in enumerate(files):\n",
    "    print(filename)\n",
    "    ##\n",
    "    filepath =os.path.join(path_folder_all,filename) \n",
    "    xl = pd.ExcelFile(filepath)\n",
    "    sheet_names = xl.sheet_names\n",
    "    ##\n",
    "    for idx, group in enumerate(sheet_names):\n",
    "\n",
    "        df_gx = pd.read_excel(filepath, sheet_name=sheet_names[idx])\n",
    "\n",
    "        if not df_gx.iloc[:,1].isnull().iloc[1]:\n",
    "\n",
    "            for idx1, label in enumerate(['càstig', 'recompensa', 'guiatge']): ##each feedback type\n",
    "\n",
    "                points = df_gx.iloc[1:, 1+idx1][~df_gx.iloc[1:, 1+idx1].isnull()].values ## remove the nan and convert to array\n",
    "\n",
    "                print([points.sum(), np.round(points.mean(),2), points.shape[0], label, group ]) ##control mechanism\n",
    "\n",
    "                summary.append([points.sum(), np.round(points.mean(),2), points.shape[0], label, group, filenum ])\n",
    "            #\n",
    "            \n",
    "#\n",
    "df = pd.DataFrame(summary)\n",
    "df.columns=['sum', 'mean_points', '#thorws', 'feedback_type', 'group', 'filenum' ]    \n",
    "            "
   ]
  },
  {
   "cell_type": "code",
   "execution_count": null,
   "metadata": {},
   "outputs": [],
   "source": []
  },
  {
   "cell_type": "code",
   "execution_count": 21,
   "metadata": {},
   "outputs": [
    {
     "data": {
      "text/html": [
       "<div>\n",
       "<style scoped>\n",
       "    .dataframe tbody tr th:only-of-type {\n",
       "        vertical-align: middle;\n",
       "    }\n",
       "\n",
       "    .dataframe tbody tr th {\n",
       "        vertical-align: top;\n",
       "    }\n",
       "\n",
       "    .dataframe thead th {\n",
       "        text-align: right;\n",
       "    }\n",
       "</style>\n",
       "<table border=\"1\" class=\"dataframe\">\n",
       "  <thead>\n",
       "    <tr style=\"text-align: right;\">\n",
       "      <th></th>\n",
       "      <th>sum</th>\n",
       "      <th>mean_points</th>\n",
       "      <th>#thorws</th>\n",
       "      <th>feedback_type</th>\n",
       "      <th>group</th>\n",
       "      <th>filenum</th>\n",
       "    </tr>\n",
       "  </thead>\n",
       "  <tbody>\n",
       "    <tr>\n",
       "      <th>0</th>\n",
       "      <td>300</td>\n",
       "      <td>33.33</td>\n",
       "      <td>9</td>\n",
       "      <td>càstig</td>\n",
       "      <td>G01</td>\n",
       "      <td>0</td>\n",
       "    </tr>\n",
       "    <tr>\n",
       "      <th>1</th>\n",
       "      <td>780</td>\n",
       "      <td>48.75</td>\n",
       "      <td>16</td>\n",
       "      <td>recompensa</td>\n",
       "      <td>G01</td>\n",
       "      <td>0</td>\n",
       "    </tr>\n",
       "    <tr>\n",
       "      <th>2</th>\n",
       "      <td>1080</td>\n",
       "      <td>67.50</td>\n",
       "      <td>16</td>\n",
       "      <td>guiatge</td>\n",
       "      <td>G01</td>\n",
       "      <td>0</td>\n",
       "    </tr>\n",
       "    <tr>\n",
       "      <th>3</th>\n",
       "      <td>610</td>\n",
       "      <td>30.50</td>\n",
       "      <td>20</td>\n",
       "      <td>càstig</td>\n",
       "      <td>G02</td>\n",
       "      <td>0</td>\n",
       "    </tr>\n",
       "    <tr>\n",
       "      <th>4</th>\n",
       "      <td>250</td>\n",
       "      <td>20.83</td>\n",
       "      <td>12</td>\n",
       "      <td>recompensa</td>\n",
       "      <td>G02</td>\n",
       "      <td>0</td>\n",
       "    </tr>\n",
       "    <tr>\n",
       "      <th>5</th>\n",
       "      <td>970</td>\n",
       "      <td>42.17</td>\n",
       "      <td>23</td>\n",
       "      <td>guiatge</td>\n",
       "      <td>G02</td>\n",
       "      <td>0</td>\n",
       "    </tr>\n",
       "    <tr>\n",
       "      <th>6</th>\n",
       "      <td>90</td>\n",
       "      <td>11.25</td>\n",
       "      <td>8</td>\n",
       "      <td>càstig</td>\n",
       "      <td>G03</td>\n",
       "      <td>0</td>\n",
       "    </tr>\n",
       "    <tr>\n",
       "      <th>7</th>\n",
       "      <td>190</td>\n",
       "      <td>11.18</td>\n",
       "      <td>17</td>\n",
       "      <td>recompensa</td>\n",
       "      <td>G03</td>\n",
       "      <td>0</td>\n",
       "    </tr>\n",
       "    <tr>\n",
       "      <th>8</th>\n",
       "      <td>330</td>\n",
       "      <td>18.33</td>\n",
       "      <td>18</td>\n",
       "      <td>guiatge</td>\n",
       "      <td>G03</td>\n",
       "      <td>0</td>\n",
       "    </tr>\n",
       "    <tr>\n",
       "      <th>9</th>\n",
       "      <td>310</td>\n",
       "      <td>25.83</td>\n",
       "      <td>12</td>\n",
       "      <td>càstig</td>\n",
       "      <td>G04</td>\n",
       "      <td>0</td>\n",
       "    </tr>\n",
       "    <tr>\n",
       "      <th>10</th>\n",
       "      <td>450</td>\n",
       "      <td>28.12</td>\n",
       "      <td>16</td>\n",
       "      <td>recompensa</td>\n",
       "      <td>G04</td>\n",
       "      <td>0</td>\n",
       "    </tr>\n",
       "    <tr>\n",
       "      <th>11</th>\n",
       "      <td>730</td>\n",
       "      <td>38.42</td>\n",
       "      <td>19</td>\n",
       "      <td>guiatge</td>\n",
       "      <td>G04</td>\n",
       "      <td>0</td>\n",
       "    </tr>\n",
       "    <tr>\n",
       "      <th>12</th>\n",
       "      <td>340</td>\n",
       "      <td>20.00</td>\n",
       "      <td>17</td>\n",
       "      <td>càstig</td>\n",
       "      <td>G05</td>\n",
       "      <td>0</td>\n",
       "    </tr>\n",
       "    <tr>\n",
       "      <th>13</th>\n",
       "      <td>470</td>\n",
       "      <td>29.38</td>\n",
       "      <td>16</td>\n",
       "      <td>recompensa</td>\n",
       "      <td>G05</td>\n",
       "      <td>0</td>\n",
       "    </tr>\n",
       "    <tr>\n",
       "      <th>14</th>\n",
       "      <td>170</td>\n",
       "      <td>12.14</td>\n",
       "      <td>14</td>\n",
       "      <td>guiatge</td>\n",
       "      <td>G05</td>\n",
       "      <td>0</td>\n",
       "    </tr>\n",
       "    <tr>\n",
       "      <th>15</th>\n",
       "      <td>170</td>\n",
       "      <td>56.67</td>\n",
       "      <td>3</td>\n",
       "      <td>càstig</td>\n",
       "      <td>G06</td>\n",
       "      <td>0</td>\n",
       "    </tr>\n",
       "    <tr>\n",
       "      <th>16</th>\n",
       "      <td>0</td>\n",
       "      <td>0.00</td>\n",
       "      <td>3</td>\n",
       "      <td>recompensa</td>\n",
       "      <td>G06</td>\n",
       "      <td>0</td>\n",
       "    </tr>\n",
       "    <tr>\n",
       "      <th>17</th>\n",
       "      <td>10</td>\n",
       "      <td>10.00</td>\n",
       "      <td>1</td>\n",
       "      <td>guiatge</td>\n",
       "      <td>G06</td>\n",
       "      <td>0</td>\n",
       "    </tr>\n",
       "    <tr>\n",
       "      <th>18</th>\n",
       "      <td>500</td>\n",
       "      <td>55.56</td>\n",
       "      <td>9</td>\n",
       "      <td>càstig</td>\n",
       "      <td>G01</td>\n",
       "      <td>1</td>\n",
       "    </tr>\n",
       "    <tr>\n",
       "      <th>19</th>\n",
       "      <td>0</td>\n",
       "      <td>0.00</td>\n",
       "      <td>11</td>\n",
       "      <td>recompensa</td>\n",
       "      <td>G01</td>\n",
       "      <td>1</td>\n",
       "    </tr>\n",
       "    <tr>\n",
       "      <th>20</th>\n",
       "      <td>480</td>\n",
       "      <td>43.64</td>\n",
       "      <td>11</td>\n",
       "      <td>guiatge</td>\n",
       "      <td>G01</td>\n",
       "      <td>1</td>\n",
       "    </tr>\n",
       "    <tr>\n",
       "      <th>21</th>\n",
       "      <td>0</td>\n",
       "      <td>0.00</td>\n",
       "      <td>18</td>\n",
       "      <td>càstig</td>\n",
       "      <td>G02</td>\n",
       "      <td>1</td>\n",
       "    </tr>\n",
       "    <tr>\n",
       "      <th>22</th>\n",
       "      <td>410</td>\n",
       "      <td>22.78</td>\n",
       "      <td>18</td>\n",
       "      <td>recompensa</td>\n",
       "      <td>G02</td>\n",
       "      <td>1</td>\n",
       "    </tr>\n",
       "    <tr>\n",
       "      <th>23</th>\n",
       "      <td>500</td>\n",
       "      <td>35.71</td>\n",
       "      <td>14</td>\n",
       "      <td>guiatge</td>\n",
       "      <td>G02</td>\n",
       "      <td>1</td>\n",
       "    </tr>\n",
       "    <tr>\n",
       "      <th>24</th>\n",
       "      <td>280</td>\n",
       "      <td>23.33</td>\n",
       "      <td>12</td>\n",
       "      <td>càstig</td>\n",
       "      <td>G04</td>\n",
       "      <td>1</td>\n",
       "    </tr>\n",
       "    <tr>\n",
       "      <th>25</th>\n",
       "      <td>830</td>\n",
       "      <td>27.67</td>\n",
       "      <td>30</td>\n",
       "      <td>recompensa</td>\n",
       "      <td>G04</td>\n",
       "      <td>1</td>\n",
       "    </tr>\n",
       "    <tr>\n",
       "      <th>26</th>\n",
       "      <td>750</td>\n",
       "      <td>34.09</td>\n",
       "      <td>22</td>\n",
       "      <td>guiatge</td>\n",
       "      <td>G04</td>\n",
       "      <td>1</td>\n",
       "    </tr>\n",
       "    <tr>\n",
       "      <th>27</th>\n",
       "      <td>450</td>\n",
       "      <td>32.14</td>\n",
       "      <td>14</td>\n",
       "      <td>càstig</td>\n",
       "      <td>G06</td>\n",
       "      <td>1</td>\n",
       "    </tr>\n",
       "    <tr>\n",
       "      <th>28</th>\n",
       "      <td>350</td>\n",
       "      <td>21.88</td>\n",
       "      <td>16</td>\n",
       "      <td>recompensa</td>\n",
       "      <td>G06</td>\n",
       "      <td>1</td>\n",
       "    </tr>\n",
       "    <tr>\n",
       "      <th>29</th>\n",
       "      <td>390</td>\n",
       "      <td>20.53</td>\n",
       "      <td>19</td>\n",
       "      <td>guiatge</td>\n",
       "      <td>G06</td>\n",
       "      <td>1</td>\n",
       "    </tr>\n",
       "  </tbody>\n",
       "</table>\n",
       "</div>"
      ],
      "text/plain": [
       "     sum  mean_points  #thorws feedback_type group  filenum\n",
       "0    300        33.33        9        càstig   G01        0\n",
       "1    780        48.75       16    recompensa   G01        0\n",
       "2   1080        67.50       16       guiatge   G01        0\n",
       "3    610        30.50       20        càstig   G02        0\n",
       "4    250        20.83       12    recompensa   G02        0\n",
       "5    970        42.17       23       guiatge   G02        0\n",
       "6     90        11.25        8        càstig   G03        0\n",
       "7    190        11.18       17    recompensa   G03        0\n",
       "8    330        18.33       18       guiatge   G03        0\n",
       "9    310        25.83       12        càstig   G04        0\n",
       "10   450        28.12       16    recompensa   G04        0\n",
       "11   730        38.42       19       guiatge   G04        0\n",
       "12   340        20.00       17        càstig   G05        0\n",
       "13   470        29.38       16    recompensa   G05        0\n",
       "14   170        12.14       14       guiatge   G05        0\n",
       "15   170        56.67        3        càstig   G06        0\n",
       "16     0         0.00        3    recompensa   G06        0\n",
       "17    10        10.00        1       guiatge   G06        0\n",
       "18   500        55.56        9        càstig   G01        1\n",
       "19     0         0.00       11    recompensa   G01        1\n",
       "20   480        43.64       11       guiatge   G01        1\n",
       "21     0         0.00       18        càstig   G02        1\n",
       "22   410        22.78       18    recompensa   G02        1\n",
       "23   500        35.71       14       guiatge   G02        1\n",
       "24   280        23.33       12        càstig   G04        1\n",
       "25   830        27.67       30    recompensa   G04        1\n",
       "26   750        34.09       22       guiatge   G04        1\n",
       "27   450        32.14       14        càstig   G06        1\n",
       "28   350        21.88       16    recompensa   G06        1\n",
       "29   390        20.53       19       guiatge   G06        1"
      ]
     },
     "execution_count": 21,
     "metadata": {},
     "output_type": "execute_result"
    }
   ],
   "source": [
    "df"
   ]
  },
  {
   "cell_type": "markdown",
   "metadata": {},
   "source": [
    "## Plots"
   ]
  },
  {
   "cell_type": "code",
   "execution_count": 22,
   "metadata": {},
   "outputs": [],
   "source": [
    "import matplotlib.pyplot as plt  # Matplotlib's pyplot: MATLAB-like syntax\n",
    "import seaborn as sns\n",
    "sns.set_context(\"talk\")"
   ]
  },
  {
   "cell_type": "code",
   "execution_count": 23,
   "metadata": {},
   "outputs": [],
   "source": [
    "c_guiatge =  '#e59500'\n",
    "c_recompensa= 'aquamarine' # '#002642'\n",
    "c_castig= 'indianred'  # '#840032'"
   ]
  },
  {
   "cell_type": "code",
   "execution_count": 24,
   "metadata": {},
   "outputs": [
    {
     "name": "stderr",
     "output_type": "stream",
     "text": [
      "C:\\Users\\David\\Anaconda3\\envs\\python3\\lib\\site-packages\\scipy\\stats\\stats.py:1713: FutureWarning: Using a non-tuple sequence for multidimensional indexing is deprecated; use `arr[tuple(seq)]` instead of `arr[seq]`. In the future this will be interpreted as an array index, `arr[np.array(seq)]`, which will result either in an error or a different result.\n",
      "  return np.add.reduce(sorted[indexer] * weights, axis=axis) / sumval\n"
     ]
    },
    {
     "data": {
      "text/plain": [
       "Text(0.5,1,'Eficiència')"
      ]
     },
     "execution_count": 24,
     "metadata": {},
     "output_type": "execute_result"
    },
    {
     "data": {
      "image/png": "[encoded data removed]",
      "text/plain": [
       "<Figure size 432x288 with 1 Axes>"
      ]
     },
     "metadata": {},
     "output_type": "display_data"
    }
   ],
   "source": [
    "sns.barplot(data=df, x=\"feedback_type\", y=\"mean_points\", \n",
    "            order=['càstig', 'recompensa', 'guiatge'],\n",
    "            ci=68,  palette=[c_castig, c_recompensa, c_guiatge])\n",
    "\n",
    "plt.gca().spines['right'].set_visible(False)  # aesthetics                                                                              # remove right spines\n",
    "plt.gca().spines['top'].set_visible(False)                                                                                  # remove top spines\n",
    "plt.gca().get_xaxis().tick_bottom()                                                                                         \n",
    "plt.gca().get_yaxis().tick_left()\n",
    "plt.gca().tick_params(direction='in') #direction\n",
    "plt.gca().set_ylim(0,50)\n",
    "plt.xlabel('')\n",
    "plt.ylabel('punts / tirada');\n",
    "plt.title('Eficiència', fontsize=22)"
   ]
  },
  {
   "cell_type": "code",
   "execution_count": 25,
   "metadata": {},
   "outputs": [
    {
     "name": "stderr",
     "output_type": "stream",
     "text": [
      "C:\\Users\\David\\Anaconda3\\envs\\python3\\lib\\site-packages\\scipy\\stats\\stats.py:1713: FutureWarning: Using a non-tuple sequence for multidimensional indexing is deprecated; use `arr[tuple(seq)]` instead of `arr[seq]`. In the future this will be interpreted as an array index, `arr[np.array(seq)]`, which will result either in an error or a different result.\n",
      "  return np.add.reduce(sorted[indexer] * weights, axis=axis) / sumval\n"
     ]
    },
    {
     "data": {
      "image/png": "[encoded data removed]",
      "text/plain": [
       "<Figure size 1440x432 with 3 Axes>"
      ]
     },
     "metadata": {},
     "output_type": "display_data"
    }
   ],
   "source": [
    "plt.figure(figsize=(20,6))\n",
    "\n",
    "plt.subplot(131)\n",
    "sns.barplot(data=df, x=\"feedback_type\", y=\"sum\", \n",
    "            order=['càstig', 'recompensa', 'guiatge'],\n",
    "            ci=68,  palette=[c_castig, c_recompensa, c_guiatge])\n",
    "\n",
    "plt.gca().spines['right'].set_visible(False)  # aesthetics                                                                              # remove right spines\n",
    "plt.gca().spines['top'].set_visible(False)                                                                                  # remove top spines\n",
    "plt.gca().get_xaxis().tick_bottom()                                                                                         \n",
    "plt.gca().get_yaxis().tick_left()\n",
    "plt.gca().tick_params(direction='in') #direction\n",
    "#plt.gca().set_ylim(0,80)\n",
    "plt.xlabel('')\n",
    "plt.ylabel('punts');\n",
    "plt.title('Punts totals', fontsize=22)\n",
    "\n",
    "\n",
    "plt.subplot(132)\n",
    "sns.barplot(data=df, x=\"feedback_type\", y=\"#thorws\", \n",
    "            order=['càstig', 'recompensa', 'guiatge'],\n",
    "            ci=68,  palette=[c_castig, c_recompensa, c_guiatge])\n",
    "\n",
    "plt.gca().spines['right'].set_visible(False)  # aesthetics                                                                              # remove right spines\n",
    "plt.gca().spines['top'].set_visible(False)                                                                                  # remove top spines\n",
    "plt.gca().get_xaxis().tick_bottom()                                                                                         \n",
    "plt.gca().get_yaxis().tick_left()\n",
    "plt.gca().tick_params(direction='in') #direction\n",
    "#plt.gca().set_ylim(0,80)\n",
    "plt.xlabel('')\n",
    "plt.ylabel('tirades');\n",
    "plt.title('Tirades', fontsize=22)\n",
    "\n",
    "\n",
    "plt.subplot(133)\n",
    "sns.barplot(data=df, x=\"feedback_type\", y=\"mean_points\", \n",
    "            order=['càstig', 'recompensa', 'guiatge'],\n",
    "            ci=68,  palette=[c_castig, c_recompensa, c_guiatge])\n",
    "\n",
    "plt.gca().spines['right'].set_visible(False)  # aesthetics                                                                              # remove right spines\n",
    "plt.gca().spines['top'].set_visible(False)                                                                                  # remove top spines\n",
    "plt.gca().get_xaxis().tick_bottom()                                                                                         \n",
    "plt.gca().get_yaxis().tick_left()\n",
    "plt.gca().tick_params(direction='in') #direction\n",
    "#plt.gca().set_ylim(0,80)\n",
    "plt.xlabel('')\n",
    "plt.ylabel('punts / tirada');\n",
    "plt.title('Eficiència', fontsize=22);\n"
   ]
  },
  {
   "cell_type": "code",
   "execution_count": 26,
   "metadata": {},
   "outputs": [],
   "source": [
    "from linares_plot import *"
   ]
  },
  {
   "cell_type": "code",
   "execution_count": 27,
   "metadata": {},
   "outputs": [
    {
     "name": "stderr",
     "output_type": "stream",
     "text": [
      "C:\\Users\\David\\Anaconda3\\envs\\python3\\lib\\site-packages\\linares_plot.py:120: InstabilityWarning: Some values used top 10 low/high samples; results may be unstable.\n",
      "  ci= bootstraps.ci(df.groupby(x).get_group(x_idx)[y], statfunction=statistic, n_samples=reps,  alpha=1-CI)    # calculate the bootstrap (data no subject base)\n",
      "No handles with labels found to put in legend.\n"
     ]
    },
    {
     "data": {
      "image/png": "[encoded data removed]",
      "text/plain": [
       "<Figure size 432x288 with 1 Axes>"
      ]
     },
     "metadata": {},
     "output_type": "display_data"
    }
   ],
   "source": [
    "sns.set_context(\"talk\")\n",
    "\n",
    "linares_plot(x='feedback_type', y='mean_points', order=['càstig', 'recompensa', 'guiatge'], \n",
    "             df=df, palette=[c_castig, c_recompensa, c_guiatge], CI=0.68,  fill_box=True,  \n",
    "             reps=100, alpha_box=0.7, alpha=0.9,  point_size=8, leg=False, sep_axis=False)\n",
    "\n",
    "plt.gca().spines['right'].set_visible(False)  # aesthetics                                                                              # remove right spines\n",
    "plt.gca().spines['top'].set_visible(False)                                                                                  # remove top spines\n",
    "plt.gca().get_xaxis().tick_bottom()                                                                                         \n",
    "plt.gca().get_yaxis().tick_left()\n",
    "plt.gca().tick_params(direction='in') #direction\n",
    "#plt.gca().set_ylim(0,80)\n",
    "plt.xlabel('')\n",
    "plt.ylabel('punts / tirada');\n",
    "plt.title('Eficiència', fontsize=22);\n"
   ]
  },
  {
   "cell_type": "code",
   "execution_count": null,
   "metadata": {},
   "outputs": [],
   "source": []
  },
  {
   "cell_type": "markdown",
   "metadata": {},
   "source": [
    "## Stats"
   ]
  },
  {
   "cell_type": "code",
   "execution_count": 28,
   "metadata": {},
   "outputs": [],
   "source": [
    "from statsmodels.formula.api import ols\n",
    "import statsmodels.api as sm\n",
    "from statsmodels.stats.multicomp import pairwise_tukeyhsd"
   ]
  },
  {
   "cell_type": "code",
   "execution_count": 29,
   "metadata": {},
   "outputs": [
    {
     "name": "stdout",
     "output_type": "stream",
     "text": [
      "                                 \n",
      "                                 Anova Table\n",
      "==============================================================================\n",
      "                   sum_sq    df         F    PR(>F)\n",
      "feedback_type   658.94168   2.0  1.193486  0.318655\n",
      "Residual       7453.55399  27.0       NaN       NaN\n",
      "==============================================================================\n",
      "                                 \n",
      "                                 \n",
      "                                 \n",
      " Multiple Comparison of Means - Tukey HSD,FWER=0.05\n",
      "===================================================\n",
      " group1   group2   meandiff  lower    upper  reject\n",
      "---------------------------------------------------\n",
      " càstig  guiatge    3.392   -15.0277 21.8117 False \n",
      " càstig recompensa  -7.802  -26.2217 10.6177 False \n",
      "guiatge recompensa -11.194  -29.6137  7.2257 False \n",
      "---------------------------------------------------\n"
     ]
    }
   ],
   "source": [
    "###### Anova model\n",
    "mod = ols(formula='mean_points ~ feedback_type', data=df).fit()\n",
    "aov_table = sm.stats.anova_lm(mod, typ=2)\n",
    "print( '                                 ')\n",
    "print( '                                 Anova Table')\n",
    "print( '==============================================================================')\n",
    "print( aov_table)\n",
    "print( '==============================================================================')\n",
    "print( '                                 ')\n",
    "print( '                                 ')\n",
    "print( '                                 ')\n",
    "\n",
    "####### Multiple comparisons\n",
    "tukey = pairwise_tukeyhsd(endog=df['mean_points'].values, groups=df['feedback_type'].values,  alpha=0.05)\n",
    "print( tukey.summary()    )\n",
    "\n"
   ]
  },
  {
   "cell_type": "code",
   "execution_count": null,
   "metadata": {},
   "outputs": [],
   "source": []
  },
  {
   "cell_type": "code",
   "execution_count": null,
   "metadata": {},
   "outputs": [],
   "source": []
  }
 ],
 "metadata": {
  "kernelspec": {
   "display_name": "Python 3",
   "language": "python",
   "name": "python3"
  },
  "language_info": {
   "codemirror_mode": {
    "name": "ipython",
    "version": 3
   },
   "file_extension": ".py",
   "mimetype": "text/x-python",
   "name": "python",
   "nbconvert_exporter": "python",
   "pygments_lexer": "ipython3",
   "version": "3.5.6"
  }
 },
 "nbformat": 4,
 "nbformat_minor": 5
}
