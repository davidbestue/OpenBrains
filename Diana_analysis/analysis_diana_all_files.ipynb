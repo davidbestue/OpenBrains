{
 "cells": [
  {
   "cell_type": "code",
   "execution_count": 1,
   "metadata": {},
   "outputs": [],
   "source": [
    "import pandas as pd #for dealing with csv import\n",
    "import os # for joining paths and filenames sensibly\n",
    "import numpy as np #for the population std\n",
    "import glob # for finding csv data Çfiles"
   ]
  },
  {
   "cell_type": "code",
   "execution_count": null,
   "metadata": {},
   "outputs": [],
   "source": []
  },
  {
   "cell_type": "markdown",
   "metadata": {},
   "source": [
    "## Data processing"
   ]
  },
  {
   "cell_type": "code",
   "execution_count": 2,
   "metadata": {},
   "outputs": [
    {
     "data": {
      "text/plain": [
       "'C:\\\\Users\\\\David\\\\Documents\\\\GitHub\\\\OpenBrains\\\\Diana_analysis'"
      ]
     },
     "execution_count": 2,
     "metadata": {},
     "output_type": "execute_result"
    }
   ],
   "source": [
    "os.getcwd()"
   ]
  },
  {
   "cell_type": "code",
   "execution_count": 3,
   "metadata": {},
   "outputs": [],
   "source": [
    "#path_folder_all = 'C:\\\\Users\\\\David\\\\Desktop\\\\OpenBrains\\\\balanced_brains\\\\diana_sopeña'\n",
    "path_folder_all = 'C:\\\\Users\\\\David\\\\Desktop\\\\OpenBrains\\\\balanced_brains\\\\diana_adella'"
   ]
  },
  {
   "cell_type": "code",
   "execution_count": 4,
   "metadata": {},
   "outputs": [
    {
     "data": {
      "text/plain": [
       "['C:\\\\Users\\\\David\\\\Desktop\\\\OpenBrains\\\\balanced_brains\\\\diana_adella\\\\Feedback experiment (1).xlsx']"
      ]
     },
     "execution_count": 4,
     "metadata": {},
     "output_type": "execute_result"
    }
   ],
   "source": [
    "search_string=os.path.join(path_folder_all,'*.xlsx') \n",
    "files = glob.glob(search_string) #list of data files in the named location\n",
    "files"
   ]
  },
  {
   "cell_type": "code",
   "execution_count": 5,
   "metadata": {},
   "outputs": [
    {
     "name": "stdout",
     "output_type": "stream",
     "text": [
      "C:\\Users\\David\\Desktop\\OpenBrains\\balanced_brains\\diana_adella\\Feedback experiment (1).xlsx\n",
      "[170, 15.45, 11, 'càstig', 'G01']\n",
      "[290, 24.17, 12, 'recompensa', 'G01']\n",
      "[480, 30.0, 16, 'guiatge', 'G01']\n",
      "[510, 31.88, 16, 'càstig', 'G06']\n",
      "[900, 34.62, 26, 'recompensa', 'G06']\n",
      "[1830, 55.45, 33, 'guiatge', 'G06']\n",
      "[220, 20.0, 11, 'càstig', 'G07']\n",
      "[170, 21.25, 8, 'recompensa', 'G07']\n",
      "[550, 36.67, 15, 'guiatge', 'G07']\n",
      "[460, 28.75, 16, 'càstig', 'G04']\n",
      "[350, 23.33, 15, 'recompensa', 'G04']\n",
      "[320, 12.8, 25, 'guiatge', 'G04']\n",
      "[80, 13.33, 6, 'càstig', 'G10']\n",
      "[10, 1.43, 7, 'recompensa', 'G10']\n",
      "[0, 0.0, 9, 'guiatge', 'G10']\n"
     ]
    }
   ],
   "source": [
    "#Get summary dataframe\n",
    "\n",
    "summary=[]\n",
    "\n",
    "for filenum, filename in enumerate(files):\n",
    "    print(filename)\n",
    "    ##\n",
    "    filepath =os.path.join(path_folder_all,filename) \n",
    "    xl = pd.ExcelFile(filepath)\n",
    "    sheet_names = xl.sheet_names\n",
    "    ##\n",
    "    for idx, group in enumerate(sheet_names):\n",
    "\n",
    "        df_gx = pd.read_excel(filepath, sheet_name=sheet_names[idx])\n",
    "\n",
    "        if not df_gx.iloc[:,1].isnull().iloc[1]:\n",
    "\n",
    "            for idx1, label in enumerate(['càstig', 'recompensa', 'guiatge']): ##each feedback type\n",
    "\n",
    "                points = df_gx.iloc[1:, 1+idx1][~df_gx.iloc[1:, 1+idx1].isnull()].values ## remove the nan and convert to array\n",
    "\n",
    "                print([points.sum(), np.round(points.mean(),2), points.shape[0], label, group ]) ##control mechanism\n",
    "\n",
    "                summary.append([points.sum(), np.round(points.mean(),2), points.shape[0], label, group, filenum ])\n",
    "            #\n",
    "            \n",
    "#\n",
    "df = pd.DataFrame(summary)\n",
    "df.columns=['sum', 'mean_points', '#thorws', 'feedback_type', 'group', 'filenum' ]    \n",
    "            "
   ]
  },
  {
   "cell_type": "code",
   "execution_count": null,
   "metadata": {},
   "outputs": [],
   "source": []
  },
  {
   "cell_type": "code",
   "execution_count": 6,
   "metadata": {},
   "outputs": [
    {
     "data": {
      "text/html": [
       "<div>\n",
       "<style scoped>\n",
       "    .dataframe tbody tr th:only-of-type {\n",
       "        vertical-align: middle;\n",
       "    }\n",
       "\n",
       "    .dataframe tbody tr th {\n",
       "        vertical-align: top;\n",
       "    }\n",
       "\n",
       "    .dataframe thead th {\n",
       "        text-align: right;\n",
       "    }\n",
       "</style>\n",
       "<table border=\"1\" class=\"dataframe\">\n",
       "  <thead>\n",
       "    <tr style=\"text-align: right;\">\n",
       "      <th></th>\n",
       "      <th>sum</th>\n",
       "      <th>mean_points</th>\n",
       "      <th>#thorws</th>\n",
       "      <th>feedback_type</th>\n",
       "      <th>group</th>\n",
       "      <th>filenum</th>\n",
       "    </tr>\n",
       "  </thead>\n",
       "  <tbody>\n",
       "    <tr>\n",
       "      <th>0</th>\n",
       "      <td>170</td>\n",
       "      <td>15.45</td>\n",
       "      <td>11</td>\n",
       "      <td>càstig</td>\n",
       "      <td>G01</td>\n",
       "      <td>0</td>\n",
       "    </tr>\n",
       "    <tr>\n",
       "      <th>1</th>\n",
       "      <td>290</td>\n",
       "      <td>24.17</td>\n",
       "      <td>12</td>\n",
       "      <td>recompensa</td>\n",
       "      <td>G01</td>\n",
       "      <td>0</td>\n",
       "    </tr>\n",
       "    <tr>\n",
       "      <th>2</th>\n",
       "      <td>480</td>\n",
       "      <td>30.00</td>\n",
       "      <td>16</td>\n",
       "      <td>guiatge</td>\n",
       "      <td>G01</td>\n",
       "      <td>0</td>\n",
       "    </tr>\n",
       "    <tr>\n",
       "      <th>3</th>\n",
       "      <td>510</td>\n",
       "      <td>31.88</td>\n",
       "      <td>16</td>\n",
       "      <td>càstig</td>\n",
       "      <td>G06</td>\n",
       "      <td>0</td>\n",
       "    </tr>\n",
       "    <tr>\n",
       "      <th>4</th>\n",
       "      <td>900</td>\n",
       "      <td>34.62</td>\n",
       "      <td>26</td>\n",
       "      <td>recompensa</td>\n",
       "      <td>G06</td>\n",
       "      <td>0</td>\n",
       "    </tr>\n",
       "    <tr>\n",
       "      <th>5</th>\n",
       "      <td>1830</td>\n",
       "      <td>55.45</td>\n",
       "      <td>33</td>\n",
       "      <td>guiatge</td>\n",
       "      <td>G06</td>\n",
       "      <td>0</td>\n",
       "    </tr>\n",
       "    <tr>\n",
       "      <th>6</th>\n",
       "      <td>220</td>\n",
       "      <td>20.00</td>\n",
       "      <td>11</td>\n",
       "      <td>càstig</td>\n",
       "      <td>G07</td>\n",
       "      <td>0</td>\n",
       "    </tr>\n",
       "    <tr>\n",
       "      <th>7</th>\n",
       "      <td>170</td>\n",
       "      <td>21.25</td>\n",
       "      <td>8</td>\n",
       "      <td>recompensa</td>\n",
       "      <td>G07</td>\n",
       "      <td>0</td>\n",
       "    </tr>\n",
       "    <tr>\n",
       "      <th>8</th>\n",
       "      <td>550</td>\n",
       "      <td>36.67</td>\n",
       "      <td>15</td>\n",
       "      <td>guiatge</td>\n",
       "      <td>G07</td>\n",
       "      <td>0</td>\n",
       "    </tr>\n",
       "    <tr>\n",
       "      <th>9</th>\n",
       "      <td>460</td>\n",
       "      <td>28.75</td>\n",
       "      <td>16</td>\n",
       "      <td>càstig</td>\n",
       "      <td>G04</td>\n",
       "      <td>0</td>\n",
       "    </tr>\n",
       "    <tr>\n",
       "      <th>10</th>\n",
       "      <td>350</td>\n",
       "      <td>23.33</td>\n",
       "      <td>15</td>\n",
       "      <td>recompensa</td>\n",
       "      <td>G04</td>\n",
       "      <td>0</td>\n",
       "    </tr>\n",
       "    <tr>\n",
       "      <th>11</th>\n",
       "      <td>320</td>\n",
       "      <td>12.80</td>\n",
       "      <td>25</td>\n",
       "      <td>guiatge</td>\n",
       "      <td>G04</td>\n",
       "      <td>0</td>\n",
       "    </tr>\n",
       "    <tr>\n",
       "      <th>12</th>\n",
       "      <td>80</td>\n",
       "      <td>13.33</td>\n",
       "      <td>6</td>\n",
       "      <td>càstig</td>\n",
       "      <td>G10</td>\n",
       "      <td>0</td>\n",
       "    </tr>\n",
       "    <tr>\n",
       "      <th>13</th>\n",
       "      <td>10</td>\n",
       "      <td>1.43</td>\n",
       "      <td>7</td>\n",
       "      <td>recompensa</td>\n",
       "      <td>G10</td>\n",
       "      <td>0</td>\n",
       "    </tr>\n",
       "    <tr>\n",
       "      <th>14</th>\n",
       "      <td>0</td>\n",
       "      <td>0.00</td>\n",
       "      <td>9</td>\n",
       "      <td>guiatge</td>\n",
       "      <td>G10</td>\n",
       "      <td>0</td>\n",
       "    </tr>\n",
       "  </tbody>\n",
       "</table>\n",
       "</div>"
      ],
      "text/plain": [
       "     sum  mean_points  #thorws feedback_type group  filenum\n",
       "0    170        15.45       11        càstig   G01        0\n",
       "1    290        24.17       12    recompensa   G01        0\n",
       "2    480        30.00       16       guiatge   G01        0\n",
       "3    510        31.88       16        càstig   G06        0\n",
       "4    900        34.62       26    recompensa   G06        0\n",
       "5   1830        55.45       33       guiatge   G06        0\n",
       "6    220        20.00       11        càstig   G07        0\n",
       "7    170        21.25        8    recompensa   G07        0\n",
       "8    550        36.67       15       guiatge   G07        0\n",
       "9    460        28.75       16        càstig   G04        0\n",
       "10   350        23.33       15    recompensa   G04        0\n",
       "11   320        12.80       25       guiatge   G04        0\n",
       "12    80        13.33        6        càstig   G10        0\n",
       "13    10         1.43        7    recompensa   G10        0\n",
       "14     0         0.00        9       guiatge   G10        0"
      ]
     },
     "execution_count": 6,
     "metadata": {},
     "output_type": "execute_result"
    }
   ],
   "source": [
    "df"
   ]
  },
  {
   "cell_type": "markdown",
   "metadata": {},
   "source": [
    "## Plots"
   ]
  },
  {
   "cell_type": "code",
   "execution_count": 7,
   "metadata": {},
   "outputs": [],
   "source": [
    "import matplotlib.pyplot as plt  # Matplotlib's pyplot: MATLAB-like syntax\n",
    "import seaborn as sns\n",
    "sns.set_context(\"talk\")"
   ]
  },
  {
   "cell_type": "code",
   "execution_count": 8,
   "metadata": {},
   "outputs": [],
   "source": [
    "c_guiatge =  '#e59500'\n",
    "c_recompensa= 'aquamarine' # '#002642'\n",
    "c_castig= 'indianred'  # '#840032'"
   ]
  },
  {
   "cell_type": "code",
   "execution_count": 15,
   "metadata": {},
   "outputs": [
    {
     "name": "stderr",
     "output_type": "stream",
     "text": [
      "C:\\Users\\David\\Anaconda3\\envs\\python3\\lib\\site-packages\\scipy\\stats\\stats.py:1713: FutureWarning: Using a non-tuple sequence for multidimensional indexing is deprecated; use `arr[tuple(seq)]` instead of `arr[seq]`. In the future this will be interpreted as an array index, `arr[np.array(seq)]`, which will result either in an error or a different result.\n",
      "  return np.add.reduce(sorted[indexer] * weights, axis=axis) / sumval\n"
     ]
    },
    {
     "data": {
      "text/plain": [
       "Text(0.5,1,'Eficiència')"
      ]
     },
     "execution_count": 15,
     "metadata": {},
     "output_type": "execute_result"
    },
    {
     "data": {
      "image/png": "[encoded data removed]",
      "text/plain": [
       "<Figure size 432x288 with 1 Axes>"
      ]
     },
     "metadata": {},
     "output_type": "display_data"
    }
   ],
   "source": [
    "sns.barplot(data=df, x=\"feedback_type\", y=\"mean_points\", \n",
    "            order=['càstig', 'recompensa', 'guiatge'],\n",
    "            ci=68,  palette=[c_castig, c_recompensa, c_guiatge])\n",
    "\n",
    "plt.gca().spines['right'].set_visible(False)  # aesthetics                                                                              # remove right spines\n",
    "plt.gca().spines['top'].set_visible(False)                                                                                  # remove top spines\n",
    "plt.gca().get_xaxis().tick_bottom()                                                                                         \n",
    "plt.gca().get_yaxis().tick_left()\n",
    "plt.gca().tick_params(direction='in') #direction\n",
    "plt.gca().set_ylim(0,40)\n",
    "plt.xlabel('')\n",
    "plt.ylabel('punts / tirada');\n",
    "plt.title('Eficiència', fontsize=22)"
   ]
  },
  {
   "cell_type": "code",
   "execution_count": 10,
   "metadata": {},
   "outputs": [
    {
     "name": "stderr",
     "output_type": "stream",
     "text": [
      "C:\\Users\\David\\Anaconda3\\envs\\python3\\lib\\site-packages\\scipy\\stats\\stats.py:1713: FutureWarning: Using a non-tuple sequence for multidimensional indexing is deprecated; use `arr[tuple(seq)]` instead of `arr[seq]`. In the future this will be interpreted as an array index, `arr[np.array(seq)]`, which will result either in an error or a different result.\n",
      "  return np.add.reduce(sorted[indexer] * weights, axis=axis) / sumval\n"
     ]
    },
    {
     "data": {
      "image/png": "[encoded data removed]",
      "text/plain": [
       "<Figure size 1440x432 with 3 Axes>"
      ]
     },
     "metadata": {
      "needs_background": "light"
     },
     "output_type": "display_data"
    }
   ],
   "source": [
    "plt.figure(figsize=(20,6))\n",
    "\n",
    "plt.subplot(131)\n",
    "sns.barplot(data=df, x=\"feedback_type\", y=\"sum\", \n",
    "            order=['càstig', 'recompensa', 'guiatge'],\n",
    "            ci=68,  palette=[c_castig, c_recompensa, c_guiatge])\n",
    "\n",
    "plt.gca().spines['right'].set_visible(False)  # aesthetics                                                                              # remove right spines\n",
    "plt.gca().spines['top'].set_visible(False)                                                                                  # remove top spines\n",
    "plt.gca().get_xaxis().tick_bottom()                                                                                         \n",
    "plt.gca().get_yaxis().tick_left()\n",
    "plt.gca().tick_params(direction='in') #direction\n",
    "#plt.gca().set_ylim(0,80)\n",
    "plt.xlabel('')\n",
    "plt.ylabel('punts');\n",
    "plt.title('Punts totals', fontsize=22)\n",
    "\n",
    "\n",
    "plt.subplot(132)\n",
    "sns.barplot(data=df, x=\"feedback_type\", y=\"#thorws\", \n",
    "            order=['càstig', 'recompensa', 'guiatge'],\n",
    "            ci=68,  palette=[c_castig, c_recompensa, c_guiatge])\n",
    "\n",
    "plt.gca().spines['right'].set_visible(False)  # aesthetics                                                                              # remove right spines\n",
    "plt.gca().spines['top'].set_visible(False)                                                                                  # remove top spines\n",
    "plt.gca().get_xaxis().tick_bottom()                                                                                         \n",
    "plt.gca().get_yaxis().tick_left()\n",
    "plt.gca().tick_params(direction='in') #direction\n",
    "#plt.gca().set_ylim(0,80)\n",
    "plt.xlabel('')\n",
    "plt.ylabel('tirades');\n",
    "plt.title('Tirades', fontsize=22)\n",
    "\n",
    "\n",
    "plt.subplot(133)\n",
    "sns.barplot(data=df, x=\"feedback_type\", y=\"mean_points\", \n",
    "            order=['càstig', 'recompensa', 'guiatge'],\n",
    "            ci=68,  palette=[c_castig, c_recompensa, c_guiatge])\n",
    "\n",
    "plt.gca().spines['right'].set_visible(False)  # aesthetics                                                                              # remove right spines\n",
    "plt.gca().spines['top'].set_visible(False)                                                                                  # remove top spines\n",
    "plt.gca().get_xaxis().tick_bottom()                                                                                         \n",
    "plt.gca().get_yaxis().tick_left()\n",
    "plt.gca().tick_params(direction='in') #direction\n",
    "#plt.gca().set_ylim(0,80)\n",
    "plt.xlabel('')\n",
    "plt.ylabel('punts / tirada');\n",
    "plt.title('Eficiència', fontsize=22);\n"
   ]
  },
  {
   "cell_type": "code",
   "execution_count": 11,
   "metadata": {},
   "outputs": [],
   "source": [
    "from linares_plot import *"
   ]
  },
  {
   "cell_type": "code",
   "execution_count": 12,
   "metadata": {},
   "outputs": [
    {
     "name": "stderr",
     "output_type": "stream",
     "text": [
      "C:\\Users\\David\\Anaconda3\\envs\\python3\\lib\\site-packages\\linares_plot.py:120: InstabilityWarning: Some values used top 10 low/high samples; results may be unstable.\n",
      "  ci= bootstraps.ci(df.groupby(x).get_group(x_idx)[y], statfunction=statistic, n_samples=reps,  alpha=1-CI)    # calculate the bootstrap (data no subject base)\n",
      "C:\\Users\\David\\Anaconda3\\envs\\python3\\lib\\site-packages\\linares_plot.py:120: InstabilityWarning: Some values used top 10 low/high samples; results may be unstable.\n",
      "  ci= bootstraps.ci(df.groupby(x).get_group(x_idx)[y], statfunction=statistic, n_samples=reps,  alpha=1-CI)    # calculate the bootstrap (data no subject base)\n",
      "C:\\Users\\David\\Anaconda3\\envs\\python3\\lib\\site-packages\\linares_plot.py:120: InstabilityWarning: Some values used top 10 low/high samples; results may be unstable.\n",
      "  ci= bootstraps.ci(df.groupby(x).get_group(x_idx)[y], statfunction=statistic, n_samples=reps,  alpha=1-CI)    # calculate the bootstrap (data no subject base)\n",
      "No handles with labels found to put in legend.\n"
     ]
    },
    {
     "data": {
      "image/png": "[encoded data removed]",
      "text/plain": [
       "<Figure size 432x288 with 1 Axes>"
      ]
     },
     "metadata": {},
     "output_type": "display_data"
    }
   ],
   "source": [
    "sns.set_context(\"talk\")\n",
    "\n",
    "linares_plot(x='feedback_type', y='mean_points', order=['càstig', 'recompensa', 'guiatge'], \n",
    "             df=df, palette=[c_castig, c_recompensa, c_guiatge], CI=0.68,  fill_box=True,  \n",
    "             reps=100, alpha_box=0.7, alpha=0.9,  point_size=8, leg=False, sep_axis=False)\n",
    "\n",
    "plt.gca().spines['right'].set_visible(False)  # aesthetics                                                                              # remove right spines\n",
    "plt.gca().spines['top'].set_visible(False)                                                                                  # remove top spines\n",
    "plt.gca().get_xaxis().tick_bottom()                                                                                         \n",
    "plt.gca().get_yaxis().tick_left()\n",
    "plt.gca().tick_params(direction='in') #direction\n",
    "#plt.gca().set_ylim(0,80)\n",
    "plt.xlabel('')\n",
    "plt.ylabel('punts / tirada');\n",
    "plt.title('Eficiència', fontsize=22);\n"
   ]
  },
  {
   "cell_type": "code",
   "execution_count": null,
   "metadata": {},
   "outputs": [],
   "source": []
  },
  {
   "cell_type": "markdown",
   "metadata": {},
   "source": [
    "## Stats"
   ]
  },
  {
   "cell_type": "code",
   "execution_count": 13,
   "metadata": {},
   "outputs": [],
   "source": [
    "from statsmodels.formula.api import ols\n",
    "import statsmodels.api as sm\n",
    "from statsmodels.stats.multicomp import pairwise_tukeyhsd"
   ]
  },
  {
   "cell_type": "code",
   "execution_count": 14,
   "metadata": {},
   "outputs": [
    {
     "name": "stdout",
     "output_type": "stream",
     "text": [
      "                                 \n",
      "                                 Anova Table\n",
      "==============================================================================\n",
      "                    sum_sq    df         F    PR(>F)\n",
      "feedback_type   105.281773   2.0  0.234677  0.794372\n",
      "Residual       2691.750400  12.0       NaN       NaN\n",
      "==============================================================================\n",
      "                                 \n",
      "                                 \n",
      "                                 \n",
      " Multiple Comparison of Means - Tukey HSD,FWER=0.05\n",
      "===================================================\n",
      " group1   group2   meandiff  lower    upper  reject\n",
      "---------------------------------------------------\n",
      " càstig  guiatge    5.102   -20.1564 30.3604 False \n",
      " càstig recompensa  -0.922  -26.1804 24.3364 False \n",
      "guiatge recompensa  -6.024  -31.2824 19.2344 False \n",
      "---------------------------------------------------\n"
     ]
    }
   ],
   "source": [
    "###### Anova model\n",
    "mod = ols(formula='mean_points ~ feedback_type', data=df).fit()\n",
    "aov_table = sm.stats.anova_lm(mod, typ=2)\n",
    "print( '                                 ')\n",
    "print( '                                 Anova Table')\n",
    "print( '==============================================================================')\n",
    "print( aov_table)\n",
    "print( '==============================================================================')\n",
    "print( '                                 ')\n",
    "print( '                                 ')\n",
    "print( '                                 ')\n",
    "\n",
    "####### Multiple comparisons\n",
    "tukey = pairwise_tukeyhsd(endog=df['mean_points'].values, groups=df['feedback_type'].values,  alpha=0.05)\n",
    "print( tukey.summary()    )\n",
    "\n"
   ]
  },
  {
   "cell_type": "code",
   "execution_count": null,
   "metadata": {},
   "outputs": [],
   "source": []
  },
  {
   "cell_type": "code",
   "execution_count": null,
   "metadata": {},
   "outputs": [],
   "source": []
  }
 ],
 "metadata": {
  "kernelspec": {
   "display_name": "Python 3",
   "language": "python",
   "name": "python3"
  },
  "language_info": {
   "codemirror_mode": {
    "name": "ipython",
    "version": 3
   },
   "file_extension": ".py",
   "mimetype": "text/x-python",
   "name": "python",
   "nbconvert_exporter": "python",
   "pygments_lexer": "ipython3",
   "version": "3.5.6"
  }
 },
 "nbformat": 4,
 "nbformat_minor": 5
}
