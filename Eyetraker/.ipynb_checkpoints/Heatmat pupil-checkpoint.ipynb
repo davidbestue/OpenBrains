{
 "cells": [
  {
   "cell_type": "code",
   "execution_count": 1,
   "metadata": {},
   "outputs": [],
   "source": [
    "from linares_plot import *"
   ]
  },
  {
   "cell_type": "code",
   "execution_count": null,
   "metadata": {},
   "outputs": [],
   "source": [
    "### Recording, se genera txt"
   ]
  },
  {
   "cell_type": "code",
   "execution_count": 329,
   "metadata": {},
   "outputs": [],
   "source": [
    "file ='recording3.txt'"
   ]
  },
  {
   "cell_type": "code",
   "execution_count": 330,
   "metadata": {},
   "outputs": [],
   "source": [
    "data = pd.read_csv(file, delimiter=',', header=None)"
   ]
  },
  {
   "cell_type": "code",
   "execution_count": 331,
   "metadata": {},
   "outputs": [],
   "source": [
    "### 0,0 es arriba a la izquierda!!"
   ]
  },
  {
   "cell_type": "code",
   "execution_count": 332,
   "metadata": {},
   "outputs": [],
   "source": [
    "### Remove NANs"
   ]
  },
  {
   "cell_type": "code",
   "execution_count": 333,
   "metadata": {},
   "outputs": [
    {
     "name": "stdout",
     "output_type": "stream",
     "text": [
      "1236\n"
     ]
    },
    {
     "data": {
      "text/plain": [
       "array(['statuscode:200', nan], dtype=object)"
      ]
     },
     "execution_count": 333,
     "metadata": {},
     "output_type": "execute_result"
    }
   ],
   "source": [
    "print(len(data))\n",
    "data.iloc[:,2].unique()"
   ]
  },
  {
   "cell_type": "code",
   "execution_count": 334,
   "metadata": {},
   "outputs": [],
   "source": [
    "df_ = data[data.iloc[:,2]=='statuscode:200']\n",
    "df_ = df_.reset_index()"
   ]
  },
  {
   "cell_type": "code",
   "execution_count": 335,
   "metadata": {},
   "outputs": [
    {
     "data": {
      "text/html": [
       "<div>\n",
       "<style scoped>\n",
       "    .dataframe tbody tr th:only-of-type {\n",
       "        vertical-align: middle;\n",
       "    }\n",
       "\n",
       "    .dataframe tbody tr th {\n",
       "        vertical-align: top;\n",
       "    }\n",
       "\n",
       "    .dataframe thead th {\n",
       "        text-align: right;\n",
       "    }\n",
       "</style>\n",
       "<table border=\"1\" class=\"dataframe\">\n",
       "  <thead>\n",
       "    <tr style=\"text-align: right;\">\n",
       "      <th></th>\n",
       "      <th>index</th>\n",
       "      <th>0</th>\n",
       "      <th>1</th>\n",
       "      <th>2</th>\n",
       "      <th>3</th>\n",
       "      <th>4</th>\n",
       "      <th>5</th>\n",
       "      <th>6</th>\n",
       "      <th>7</th>\n",
       "      <th>8</th>\n",
       "      <th>...</th>\n",
       "      <th>15</th>\n",
       "      <th>16</th>\n",
       "      <th>17</th>\n",
       "      <th>18</th>\n",
       "      <th>19</th>\n",
       "      <th>20</th>\n",
       "      <th>21</th>\n",
       "      <th>22</th>\n",
       "      <th>23</th>\n",
       "      <th>24</th>\n",
       "    </tr>\n",
       "  </thead>\n",
       "  <tbody>\n",
       "    <tr>\n",
       "      <th>0</th>\n",
       "      <td>0</td>\n",
       "      <td>{\"category\":\"tracker\"</td>\n",
       "      <td>request:\"get\"</td>\n",
       "      <td>statuscode:200</td>\n",
       "      <td>values:{\"frame\":{\"avg\":{\"x\":655.9731</td>\n",
       "      <td>y:451.5861}</td>\n",
       "      <td>fix:false</td>\n",
       "      <td>lefteye:{\"avg\":{\"x\":664.8629</td>\n",
       "      <td>y:441.1044}</td>\n",
       "      <td>pcenter:{\"x\":0.3993</td>\n",
       "      <td>...</td>\n",
       "      <td>righteye:{\"avg\":{\"x\":660.9711</td>\n",
       "      <td>y:470.4860}</td>\n",
       "      <td>pcenter:{\"x\":0.5434</td>\n",
       "      <td>y:0.6641}</td>\n",
       "      <td>psize:18.0673</td>\n",
       "      <td>raw:{\"x\":667.6056</td>\n",
       "      <td>y:458.9635}}</td>\n",
       "      <td>state:7</td>\n",
       "      <td>time:751020629</td>\n",
       "      <td>timestamp:\"2022-02-24 18:24:54.997\"}}}</td>\n",
       "    </tr>\n",
       "    <tr>\n",
       "      <th>1</th>\n",
       "      <td>1</td>\n",
       "      <td>{\"category\":\"tracker\"</td>\n",
       "      <td>request:\"get\"</td>\n",
       "      <td>statuscode:200</td>\n",
       "      <td>values:{\"frame\":{\"avg\":{\"x\":657.7184</td>\n",
       "      <td>y:451.4369}</td>\n",
       "      <td>fix:false</td>\n",
       "      <td>lefteye:{\"avg\":{\"x\":660.4061</td>\n",
       "      <td>y:428.9064}</td>\n",
       "      <td>pcenter:{\"x\":0.3988</td>\n",
       "      <td>...</td>\n",
       "      <td>righteye:{\"avg\":{\"x\":663.9616</td>\n",
       "      <td>y:461.5357}</td>\n",
       "      <td>pcenter:{\"x\":0.5428</td>\n",
       "      <td>y:0.6641}</td>\n",
       "      <td>psize:17.8047</td>\n",
       "      <td>raw:{\"x\":669.8707</td>\n",
       "      <td>y:443.8071}}</td>\n",
       "      <td>state:7</td>\n",
       "      <td>time:751020662</td>\n",
       "      <td>timestamp:\"2022-02-24 18:24:55.030\"}}}</td>\n",
       "    </tr>\n",
       "    <tr>\n",
       "      <th>2</th>\n",
       "      <td>2</td>\n",
       "      <td>{\"category\":\"tracker\"</td>\n",
       "      <td>request:\"get\"</td>\n",
       "      <td>statuscode:200</td>\n",
       "      <td>values:{\"frame\":{\"avg\":{\"x\":657.3298</td>\n",
       "      <td>y:449.4602}</td>\n",
       "      <td>fix:false</td>\n",
       "      <td>lefteye:{\"avg\":{\"x\":654.8278</td>\n",
       "      <td>y:428.9721}</td>\n",
       "      <td>pcenter:{\"x\":0.3983</td>\n",
       "      <td>...</td>\n",
       "      <td>righteye:{\"avg\":{\"x\":657.1179</td>\n",
       "      <td>y:463.5595}</td>\n",
       "      <td>pcenter:{\"x\":0.5422</td>\n",
       "      <td>y:0.6643}</td>\n",
       "      <td>psize:18.1689</td>\n",
       "      <td>raw:{\"x\":636.7507</td>\n",
       "      <td>y:469.7520}}</td>\n",
       "      <td>state:7</td>\n",
       "      <td>time:751020695</td>\n",
       "      <td>timestamp:\"2022-02-24 18:24:55.063\"}}}</td>\n",
       "    </tr>\n",
       "    <tr>\n",
       "      <th>3</th>\n",
       "      <td>3</td>\n",
       "      <td>{\"category\":\"tracker\"</td>\n",
       "      <td>request:\"get\"</td>\n",
       "      <td>statuscode:200</td>\n",
       "      <td>values:{\"frame\":{\"avg\":{\"x\":658.2037</td>\n",
       "      <td>y:448.1640}</td>\n",
       "      <td>fix:true</td>\n",
       "      <td>lefteye:{\"avg\":{\"x\":657.8845</td>\n",
       "      <td>y:428.1697}</td>\n",
       "      <td>pcenter:{\"x\":0.3983</td>\n",
       "      <td>...</td>\n",
       "      <td>righteye:{\"avg\":{\"x\":668.8896</td>\n",
       "      <td>y:462.0522}</td>\n",
       "      <td>pcenter:{\"x\":0.5426</td>\n",
       "      <td>y:0.6641}</td>\n",
       "      <td>psize:18.1033</td>\n",
       "      <td>raw:{\"x\":715.2173</td>\n",
       "      <td>y:456.2643}}</td>\n",
       "      <td>state:7</td>\n",
       "      <td>time:751020728</td>\n",
       "      <td>timestamp:\"2022-02-24 18:24:55.096\"}}}</td>\n",
       "    </tr>\n",
       "    <tr>\n",
       "      <th>4</th>\n",
       "      <td>4</td>\n",
       "      <td>{\"category\":\"tracker\"</td>\n",
       "      <td>request:\"get\"</td>\n",
       "      <td>statuscode:200</td>\n",
       "      <td>values:{\"frame\":{\"avg\":{\"x\":659.2536</td>\n",
       "      <td>y:447.0040}</td>\n",
       "      <td>fix:true</td>\n",
       "      <td>lefteye:{\"avg\":{\"x\":1156.0648</td>\n",
       "      <td>y:361.130}</td>\n",
       "      <td>pcenter:{\"x\":0.4025</td>\n",
       "      <td>...</td>\n",
       "      <td>righteye:{\"avg\":{\"x\":1220.7751</td>\n",
       "      <td>y:345.2703}</td>\n",
       "      <td>pcenter:{\"x\":0.5463</td>\n",
       "      <td>y:0.6631}</td>\n",
       "      <td>psize:18.6019</td>\n",
       "      <td>raw:{\"x\":1220.7751</td>\n",
       "      <td>y:345.2703}}</td>\n",
       "      <td>state:7</td>\n",
       "      <td>time:751020762</td>\n",
       "      <td>timestamp:\"2022-02-24 18:24:55.130\"}}}</td>\n",
       "    </tr>\n",
       "  </tbody>\n",
       "</table>\n",
       "<p>5 rows × 26 columns</p>\n",
       "</div>"
      ],
      "text/plain": [
       "   index                      0              1               2  \\\n",
       "0      0  {\"category\":\"tracker\"  request:\"get\"  statuscode:200   \n",
       "1      1  {\"category\":\"tracker\"  request:\"get\"  statuscode:200   \n",
       "2      2  {\"category\":\"tracker\"  request:\"get\"  statuscode:200   \n",
       "3      3  {\"category\":\"tracker\"  request:\"get\"  statuscode:200   \n",
       "4      4  {\"category\":\"tracker\"  request:\"get\"  statuscode:200   \n",
       "\n",
       "                                      3            4          5  \\\n",
       "0  values:{\"frame\":{\"avg\":{\"x\":655.9731  y:451.5861}  fix:false   \n",
       "1  values:{\"frame\":{\"avg\":{\"x\":657.7184  y:451.4369}  fix:false   \n",
       "2  values:{\"frame\":{\"avg\":{\"x\":657.3298  y:449.4602}  fix:false   \n",
       "3  values:{\"frame\":{\"avg\":{\"x\":658.2037  y:448.1640}   fix:true   \n",
       "4  values:{\"frame\":{\"avg\":{\"x\":659.2536  y:447.0040}   fix:true   \n",
       "\n",
       "                               6            7                    8  ...  \\\n",
       "0   lefteye:{\"avg\":{\"x\":664.8629  y:441.1044}  pcenter:{\"x\":0.3993  ...   \n",
       "1   lefteye:{\"avg\":{\"x\":660.4061  y:428.9064}  pcenter:{\"x\":0.3988  ...   \n",
       "2   lefteye:{\"avg\":{\"x\":654.8278  y:428.9721}  pcenter:{\"x\":0.3983  ...   \n",
       "3   lefteye:{\"avg\":{\"x\":657.8845  y:428.1697}  pcenter:{\"x\":0.3983  ...   \n",
       "4  lefteye:{\"avg\":{\"x\":1156.0648   y:361.130}  pcenter:{\"x\":0.4025  ...   \n",
       "\n",
       "                               15           16                   17  \\\n",
       "0   righteye:{\"avg\":{\"x\":660.9711  y:470.4860}  pcenter:{\"x\":0.5434   \n",
       "1   righteye:{\"avg\":{\"x\":663.9616  y:461.5357}  pcenter:{\"x\":0.5428   \n",
       "2   righteye:{\"avg\":{\"x\":657.1179  y:463.5595}  pcenter:{\"x\":0.5422   \n",
       "3   righteye:{\"avg\":{\"x\":668.8896  y:462.0522}  pcenter:{\"x\":0.5426   \n",
       "4  righteye:{\"avg\":{\"x\":1220.7751  y:345.2703}  pcenter:{\"x\":0.5463   \n",
       "\n",
       "          18             19                  20            21       22  \\\n",
       "0  y:0.6641}  psize:18.0673   raw:{\"x\":667.6056  y:458.9635}}  state:7   \n",
       "1  y:0.6641}  psize:17.8047   raw:{\"x\":669.8707  y:443.8071}}  state:7   \n",
       "2  y:0.6643}  psize:18.1689   raw:{\"x\":636.7507  y:469.7520}}  state:7   \n",
       "3  y:0.6641}  psize:18.1033   raw:{\"x\":715.2173  y:456.2643}}  state:7   \n",
       "4  y:0.6631}  psize:18.6019  raw:{\"x\":1220.7751  y:345.2703}}  state:7   \n",
       "\n",
       "               23                                      24  \n",
       "0  time:751020629  timestamp:\"2022-02-24 18:24:54.997\"}}}  \n",
       "1  time:751020662  timestamp:\"2022-02-24 18:24:55.030\"}}}  \n",
       "2  time:751020695  timestamp:\"2022-02-24 18:24:55.063\"}}}  \n",
       "3  time:751020728  timestamp:\"2022-02-24 18:24:55.096\"}}}  \n",
       "4  time:751020762  timestamp:\"2022-02-24 18:24:55.130\"}}}  \n",
       "\n",
       "[5 rows x 26 columns]"
      ]
     },
     "execution_count": 335,
     "metadata": {},
     "output_type": "execute_result"
    }
   ],
   "source": [
    "df_.head(5)"
   ]
  },
  {
   "cell_type": "code",
   "execution_count": null,
   "metadata": {},
   "outputs": [],
   "source": []
  },
  {
   "cell_type": "markdown",
   "metadata": {},
   "source": [
    "4,5 --> xy average  \n",
    "7,8 --> xy left eye  \n",
    "9,10 --> pcenter left eye  \n",
    "11 --> psize left  \n",
    "16,17 --> xy right eye  \n",
    "18,19 --> pcenter right eye  \n",
    "20 --> psize left  \n"
   ]
  },
  {
   "cell_type": "code",
   "execution_count": 336,
   "metadata": {},
   "outputs": [],
   "source": [
    "pos_x = []\n",
    "pos_y = []\n",
    "time_ = []\n",
    "for i in range(len(df_)):\n",
    "    x = float(df_.iloc[:,4][i].split(':')[-1])\n",
    "    pos_x.append(x)\n",
    "    y = float(df_.iloc[:,5][i].split(':')[1].split('}')[0])\n",
    "    pos_y.append(y)\n",
    "    time = df_.iloc[:,-1][i].split(' ')[-1].split('}')[0].split('\"')[0]\n",
    "    time_.append(time)"
   ]
  },
  {
   "cell_type": "code",
   "execution_count": 337,
   "metadata": {},
   "outputs": [
    {
     "data": {
      "text/html": [
       "<div>\n",
       "<style scoped>\n",
       "    .dataframe tbody tr th:only-of-type {\n",
       "        vertical-align: middle;\n",
       "    }\n",
       "\n",
       "    .dataframe tbody tr th {\n",
       "        vertical-align: top;\n",
       "    }\n",
       "\n",
       "    .dataframe thead th {\n",
       "        text-align: right;\n",
       "    }\n",
       "</style>\n",
       "<table border=\"1\" class=\"dataframe\">\n",
       "  <thead>\n",
       "    <tr style=\"text-align: right;\">\n",
       "      <th></th>\n",
       "      <th>time</th>\n",
       "      <th>x</th>\n",
       "      <th>y</th>\n",
       "    </tr>\n",
       "  </thead>\n",
       "  <tbody>\n",
       "    <tr>\n",
       "      <th>0</th>\n",
       "      <td>18:24:54.997</td>\n",
       "      <td>655.9731</td>\n",
       "      <td>451.5861</td>\n",
       "    </tr>\n",
       "    <tr>\n",
       "      <th>1</th>\n",
       "      <td>18:24:55.030</td>\n",
       "      <td>657.7184</td>\n",
       "      <td>451.4369</td>\n",
       "    </tr>\n",
       "    <tr>\n",
       "      <th>2</th>\n",
       "      <td>18:24:55.063</td>\n",
       "      <td>657.3298</td>\n",
       "      <td>449.4602</td>\n",
       "    </tr>\n",
       "    <tr>\n",
       "      <th>3</th>\n",
       "      <td>18:24:55.096</td>\n",
       "      <td>658.2037</td>\n",
       "      <td>448.1640</td>\n",
       "    </tr>\n",
       "    <tr>\n",
       "      <th>4</th>\n",
       "      <td>18:24:55.130</td>\n",
       "      <td>659.2536</td>\n",
       "      <td>447.0040</td>\n",
       "    </tr>\n",
       "  </tbody>\n",
       "</table>\n",
       "</div>"
      ],
      "text/plain": [
       "           time         x         y\n",
       "0  18:24:54.997  655.9731  451.5861\n",
       "1  18:24:55.030  657.7184  451.4369\n",
       "2  18:24:55.063  657.3298  449.4602\n",
       "3  18:24:55.096  658.2037  448.1640\n",
       "4  18:24:55.130  659.2536  447.0040"
      ]
     },
     "execution_count": 337,
     "metadata": {},
     "output_type": "execute_result"
    }
   ],
   "source": [
    "df = pd.DataFrame({'x':pos_x, 'y':pos_y, 'time': time_})\n",
    "df.head()"
   ]
  },
  {
   "cell_type": "code",
   "execution_count": 338,
   "metadata": {},
   "outputs": [],
   "source": [
    "df = df.loc[df['x']!=0]\n",
    "df = df.loc[df['y']!=0]"
   ]
  },
  {
   "cell_type": "code",
   "execution_count": 339,
   "metadata": {},
   "outputs": [
    {
     "data": {
      "text/plain": [
       "1104"
      ]
     },
     "execution_count": 339,
     "metadata": {},
     "output_type": "execute_result"
    }
   ],
   "source": [
    "len(df)"
   ]
  },
  {
   "cell_type": "code",
   "execution_count": 340,
   "metadata": {},
   "outputs": [
    {
     "data": {
      "text/plain": [
       "[<matplotlib.lines.Line2D at 0x2c68e17a2b0>]"
      ]
     },
     "execution_count": 340,
     "metadata": {},
     "output_type": "execute_result"
    },
    {
     "data": {
      "image/png": "[encoded data removed]",
      "text/plain": [
       "<Figure size 432x288 with 1 Axes>"
      ]
     },
     "metadata": {
      "needs_background": "light"
     },
     "output_type": "display_data"
    }
   ],
   "source": [
    "plt.title('xy avg')\n",
    "plt.plot(df.x, 1-df.y)"
   ]
  },
  {
   "cell_type": "code",
   "execution_count": null,
   "metadata": {},
   "outputs": [],
   "source": []
  },
  {
   "cell_type": "code",
   "execution_count": 341,
   "metadata": {},
   "outputs": [
    {
     "data": {
      "text/plain": [
       "[<matplotlib.lines.Line2D at 0x2c68e0cff60>]"
      ]
     },
     "execution_count": 341,
     "metadata": {},
     "output_type": "execute_result"
    },
    {
     "data": {
      "image/png": "[encoded data removed]",
      "text/plain": [
       "<Figure size 432x288 with 1 Axes>"
      ]
     },
     "metadata": {
      "needs_background": "light"
     },
     "output_type": "display_data"
    }
   ],
   "source": [
    "import matplotlib.image as mpimg\n",
    "img = mpimg.imread('seen.png')\n",
    "imgplot = plt.imshow(img)\n",
    "plt.plot(df.x, df.y)"
   ]
  },
  {
   "cell_type": "code",
   "execution_count": 342,
   "metadata": {},
   "outputs": [],
   "source": [
    "D = np.shape(img)[1]/100, np.shape(img)[0]/100"
   ]
  },
  {
   "cell_type": "code",
   "execution_count": 343,
   "metadata": {},
   "outputs": [],
   "source": [
    "df['x_int'] = df['x'].astype(int)\n",
    "df['y_int'] = df['y'].astype(int)"
   ]
  },
  {
   "cell_type": "code",
   "execution_count": 344,
   "metadata": {},
   "outputs": [
    {
     "data": {
      "image/png": "[encoded data removed]",
      "text/plain": [
       "<Figure size 432x288 with 1 Axes>"
      ]
     },
     "metadata": {
      "needs_background": "light"
     },
     "output_type": "display_data"
    }
   ],
   "source": [
    "heatmap, xedges, yedges = np.histogram2d(df.x_int, df.y_int, bins=D)\n",
    "extent = [xedges[0], xedges[-1], yedges[0], yedges[-1]]\n",
    "\n",
    "plt.clf()\n",
    "plt.imshow(heatmap.T) #, extent=extent, origin='lower')\n",
    "plt.show()"
   ]
  },
  {
   "cell_type": "code",
   "execution_count": 345,
   "metadata": {},
   "outputs": [
    {
     "data": {
      "text/plain": [
       "(19, 10)"
      ]
     },
     "execution_count": 345,
     "metadata": {},
     "output_type": "execute_result"
    }
   ],
   "source": [
    "np.shape(heatmap)"
   ]
  },
  {
   "cell_type": "code",
   "execution_count": null,
   "metadata": {},
   "outputs": [],
   "source": []
  },
  {
   "cell_type": "code",
   "execution_count": null,
   "metadata": {},
   "outputs": [],
   "source": []
  },
  {
   "cell_type": "code",
   "execution_count": null,
   "metadata": {},
   "outputs": [],
   "source": []
  },
  {
   "cell_type": "code",
   "execution_count": null,
   "metadata": {},
   "outputs": [],
   "source": []
  },
  {
   "cell_type": "code",
   "execution_count": null,
   "metadata": {},
   "outputs": [],
   "source": []
  },
  {
   "cell_type": "code",
   "execution_count": null,
   "metadata": {},
   "outputs": [],
   "source": []
  },
  {
   "cell_type": "code",
   "execution_count": null,
   "metadata": {},
   "outputs": [],
   "source": []
  },
  {
   "cell_type": "code",
   "execution_count": 262,
   "metadata": {},
   "outputs": [
    {
     "data": {
      "text/plain": [
       "[<matplotlib.lines.Line2D at 0x2c68bbe4f60>]"
      ]
     },
     "execution_count": 262,
     "metadata": {},
     "output_type": "execute_result"
    },
    {
     "data": {
      "image/png": "[encoded data removed]",
      "text/plain": [
       "<Figure size 432x288 with 1 Axes>"
      ]
     },
     "metadata": {
      "needs_background": "light"
     },
     "output_type": "display_data"
    }
   ],
   "source": [
    "plt.title('xy right eye')\n",
    "plt.plot(df.x, df.y)"
   ]
  },
  {
   "cell_type": "code",
   "execution_count": 258,
   "metadata": {},
   "outputs": [
    {
     "data": {
      "text/plain": [
       "[<matplotlib.lines.Line2D at 0x2c68bba8b70>]"
      ]
     },
     "execution_count": 258,
     "metadata": {},
     "output_type": "execute_result"
    },
    {
     "data": {
      "image/png": "[encoded data removed]",
      "text/plain": [
       "<Figure size 432x288 with 1 Axes>"
      ]
     },
     "metadata": {
      "needs_background": "light"
     },
     "output_type": "display_data"
    }
   ],
   "source": [
    "plt.title('pcenter left eye')\n",
    "plt.plot(df.x, df.y)"
   ]
  },
  {
   "cell_type": "code",
   "execution_count": 253,
   "metadata": {},
   "outputs": [
    {
     "data": {
      "text/plain": [
       "[<matplotlib.lines.Line2D at 0x2c68bb71ef0>]"
      ]
     },
     "execution_count": 253,
     "metadata": {},
     "output_type": "execute_result"
    },
    {
     "data": {
      "image/png": "[encoded data removed]",
      "text/plain": [
       "<Figure size 432x288 with 1 Axes>"
      ]
     },
     "metadata": {
      "needs_background": "light"
     },
     "output_type": "display_data"
    }
   ],
   "source": [
    "plt.title('xy left eye')\n",
    "plt.plot(df.x, df.y)"
   ]
  },
  {
   "cell_type": "code",
   "execution_count": 219,
   "metadata": {},
   "outputs": [
    {
     "data": {
      "text/plain": [
       "[<matplotlib.lines.Line2D at 0x2c68bb29d30>]"
      ]
     },
     "execution_count": 219,
     "metadata": {},
     "output_type": "execute_result"
    },
    {
     "data": {
      "image/png": "[encoded data removed]",
      "text/plain": [
       "<Figure size 432x288 with 1 Axes>"
      ]
     },
     "metadata": {
      "needs_background": "light"
     },
     "output_type": "display_data"
    }
   ],
   "source": [
    "plt.title('xy avg')\n",
    "plt.plot(df.x, df.y)"
   ]
  },
  {
   "cell_type": "code",
   "execution_count": null,
   "metadata": {},
   "outputs": [],
   "source": []
  },
  {
   "cell_type": "code",
   "execution_count": null,
   "metadata": {},
   "outputs": [],
   "source": []
  },
  {
   "cell_type": "code",
   "execution_count": null,
   "metadata": {},
   "outputs": [],
   "source": []
  },
  {
   "cell_type": "code",
   "execution_count": 158,
   "metadata": {},
   "outputs": [
    {
     "data": {
      "text/plain": [
       "[<matplotlib.lines.Line2D at 0x2c68a92db70>]"
      ]
     },
     "execution_count": 158,
     "metadata": {},
     "output_type": "execute_result"
    },
    {
     "data": {
      "image/png": "[encoded data removed]",
      "text/plain": [
       "<Figure size 432x288 with 1 Axes>"
      ]
     },
     "metadata": {
      "needs_background": "light"
     },
     "output_type": "display_data"
    }
   ],
   "source": [
    "plt.plot(df.x, df.y, 'bo')"
   ]
  },
  {
   "cell_type": "code",
   "execution_count": null,
   "metadata": {},
   "outputs": [],
   "source": []
  },
  {
   "cell_type": "code",
   "execution_count": null,
   "metadata": {},
   "outputs": [],
   "source": []
  },
  {
   "cell_type": "code",
   "execution_count": null,
   "metadata": {},
   "outputs": [],
   "source": []
  },
  {
   "cell_type": "code",
   "execution_count": null,
   "metadata": {},
   "outputs": [],
   "source": []
  },
  {
   "cell_type": "code",
   "execution_count": null,
   "metadata": {},
   "outputs": [],
   "source": []
  },
  {
   "cell_type": "code",
   "execution_count": 119,
   "metadata": {},
   "outputs": [],
   "source": [
    "dims = (int(1920/100),int(1080/100))"
   ]
  },
  {
   "cell_type": "code",
   "execution_count": 120,
   "metadata": {},
   "outputs": [
    {
     "data": {
      "image/png": "[encoded data removed]",
      "text/plain": [
       "<Figure size 432x288 with 1 Axes>"
      ]
     },
     "metadata": {
      "needs_background": "light"
     },
     "output_type": "display_data"
    }
   ],
   "source": [
    "heatmap, xedges, yedges = np.histogram2d(df_.x, df_.y, bins=dims)\n",
    "extent = [xedges[0], xedges[-1], yedges[0], yedges[-1]]\n",
    "\n",
    "plt.clf()\n",
    "plt.imshow(heatmap.T) #, extent=extent, origin='lower')\n",
    "plt.show()"
   ]
  },
  {
   "cell_type": "code",
   "execution_count": null,
   "metadata": {},
   "outputs": [],
   "source": []
  },
  {
   "cell_type": "code",
   "execution_count": 108,
   "metadata": {},
   "outputs": [],
   "source": [
    "dims = (df_.x.max(), df_.y.max())"
   ]
  },
  {
   "cell_type": "code",
   "execution_count": 109,
   "metadata": {},
   "outputs": [
    {
     "data": {
      "image/png": "[encoded data removed]",
      "text/plain": [
       "<Figure size 432x288 with 1 Axes>"
      ]
     },
     "metadata": {
      "needs_background": "light"
     },
     "output_type": "display_data"
    }
   ],
   "source": [
    "heatmap, xedges, yedges = np.histogram2d(df_.x, df_.y, bins=dims)\n",
    "extent = [xedges[0], xedges[-1], yedges[0], yedges[-1]]\n",
    "\n",
    "plt.clf()\n",
    "plt.imshow(heatmap.T) #, extent=extent, origin='lower')\n",
    "plt.show()"
   ]
  },
  {
   "cell_type": "code",
   "execution_count": 112,
   "metadata": {},
   "outputs": [
    {
     "data": {
      "text/plain": [
       "array([0., 0., 0., ..., 0., 0., 1.])"
      ]
     },
     "execution_count": 112,
     "metadata": {},
     "output_type": "execute_result"
    }
   ],
   "source": [
    "sum(heatmap[3186:])"
   ]
  },
  {
   "cell_type": "code",
   "execution_count": null,
   "metadata": {},
   "outputs": [],
   "source": []
  },
  {
   "cell_type": "code",
   "execution_count": null,
   "metadata": {},
   "outputs": [],
   "source": []
  },
  {
   "cell_type": "code",
   "execution_count": 88,
   "metadata": {},
   "outputs": [
    {
     "data": {
      "text/plain": [
       "<matplotlib.axes._subplots.AxesSubplot at 0x2c68a2cc208>"
      ]
     },
     "execution_count": 88,
     "metadata": {},
     "output_type": "execute_result"
    },
    {
     "data": {
      "image/png": "[encoded data removed]",
      "text/plain": [
       "<Figure size 432x288 with 1 Axes>"
      ]
     },
     "metadata": {
      "needs_background": "light"
     },
     "output_type": "display_data"
    }
   ],
   "source": [
    "sns.scatterplot(x='x', y='y', data=df_)"
   ]
  },
  {
   "cell_type": "code",
   "execution_count": 104,
   "metadata": {},
   "outputs": [
    {
     "ename": "NameError",
     "evalue": "name 'df_x' is not defined",
     "output_type": "error",
     "traceback": [
      "\u001b[1;31m---------------------------------------------------------------------------\u001b[0m",
      "\u001b[1;31mNameError\u001b[0m                                 Traceback (most recent call last)",
      "\u001b[1;32m<ipython-input-104-4776212d275f>\u001b[0m in \u001b[0;36m<module>\u001b[1;34m()\u001b[0m\n\u001b[1;32m----> 1\u001b[1;33m \u001b[0mdf_x\u001b[0m\u001b[1;33m\u001b[0m\u001b[0m\n\u001b[0m",
      "\u001b[1;31mNameError\u001b[0m: name 'df_x' is not defined"
     ]
    }
   ],
   "source": [
    "df_x"
   ]
  },
  {
   "cell_type": "code",
   "execution_count": 98,
   "metadata": {},
   "outputs": [
    {
     "data": {
      "image/png": "[encoded data removed]",
      "text/plain": [
       "<Figure size 432x288 with 1 Axes>"
      ]
     },
     "metadata": {
      "needs_background": "light"
     },
     "output_type": "display_data"
    }
   ],
   "source": [
    "\n",
    "heatmap, xedges, yedges = np.histogram2d(df_.x, df_.y, bins=(3344, 1818))\n",
    "extent = [xedges[0], xedges[-1], yedges[0], yedges[-1]]\n",
    "\n",
    "plt.clf()\n",
    "plt.imshow(heatmap.T) #, extent=extent, origin='lower')\n",
    "plt.show()"
   ]
  },
  {
   "cell_type": "code",
   "execution_count": 102,
   "metadata": {},
   "outputs": [
    {
     "data": {
      "text/plain": [
       "(3344, 1818)"
      ]
     },
     "execution_count": 102,
     "metadata": {},
     "output_type": "execute_result"
    }
   ],
   "source": [
    "np.shape(heatmap)"
   ]
  },
  {
   "cell_type": "code",
   "execution_count": 94,
   "metadata": {},
   "outputs": [
    {
     "name": "stdout",
     "output_type": "stream",
     "text": [
      "3344.304\n",
      "1818.7042\n"
     ]
    }
   ],
   "source": [
    "print(df_.x.max())\n",
    "print(df_.y.max())"
   ]
  },
  {
   "cell_type": "code",
   "execution_count": 81,
   "metadata": {},
   "outputs": [
    {
     "data": {
      "text/plain": [
       "'16:58:40.802'"
      ]
     },
     "execution_count": 81,
     "metadata": {},
     "output_type": "execute_result"
    }
   ],
   "source": [
    "df.iloc[:,-1][0].split(' ')[-1].split('}')[0].split('\"')[0]"
   ]
  },
  {
   "cell_type": "code",
   "execution_count": null,
   "metadata": {},
   "outputs": [],
   "source": []
  },
  {
   "cell_type": "code",
   "execution_count": 73,
   "metadata": {},
   "outputs": [
    {
     "data": {
      "text/plain": [
       "1360.438"
      ]
     },
     "execution_count": 73,
     "metadata": {},
     "output_type": "execute_result"
    }
   ],
   "source": [
    "float(df.iloc[:,5][0].split(':')[1].split('}')[0])"
   ]
  },
  {
   "cell_type": "code",
   "execution_count": 53,
   "metadata": {},
   "outputs": [
    {
     "data": {
      "text/html": [
       "<div>\n",
       "<style scoped>\n",
       "    .dataframe tbody tr th:only-of-type {\n",
       "        vertical-align: middle;\n",
       "    }\n",
       "\n",
       "    .dataframe tbody tr th {\n",
       "        vertical-align: top;\n",
       "    }\n",
       "\n",
       "    .dataframe thead th {\n",
       "        text-align: right;\n",
       "    }\n",
       "</style>\n",
       "<table border=\"1\" class=\"dataframe\">\n",
       "  <thead>\n",
       "    <tr style=\"text-align: right;\">\n",
       "      <th></th>\n",
       "      <th>0</th>\n",
       "      <th>1</th>\n",
       "      <th>2</th>\n",
       "      <th>3</th>\n",
       "      <th>4</th>\n",
       "      <th>5</th>\n",
       "      <th>6</th>\n",
       "      <th>7</th>\n",
       "      <th>8</th>\n",
       "      <th>9</th>\n",
       "      <th>...</th>\n",
       "      <th>15</th>\n",
       "      <th>16</th>\n",
       "      <th>17</th>\n",
       "      <th>18</th>\n",
       "      <th>19</th>\n",
       "      <th>20</th>\n",
       "      <th>21</th>\n",
       "      <th>22</th>\n",
       "      <th>23</th>\n",
       "      <th>24</th>\n",
       "    </tr>\n",
       "  </thead>\n",
       "  <tbody>\n",
       "    <tr>\n",
       "      <th>0</th>\n",
       "      <td>{\"category\":\"tracker\"</td>\n",
       "      <td>request:\"get\"</td>\n",
       "      <td>statuscode:200</td>\n",
       "      <td>values:{\"frame\":{\"avg\":{\"x\":3192.5493</td>\n",
       "      <td>y:1360.4380}</td>\n",
       "      <td>fix:false</td>\n",
       "      <td>lefteye:{\"avg\":{\"x\":3208.2761</td>\n",
       "      <td>y:1475.5612}</td>\n",
       "      <td>pcenter:{\"x\":0.4889</td>\n",
       "      <td>y:0.5135}</td>\n",
       "      <td>...</td>\n",
       "      <td>righteye:{\"avg\":{\"x\":3162.4949</td>\n",
       "      <td>y:1158.6604}</td>\n",
       "      <td>pcenter:{\"x\":0.6350</td>\n",
       "      <td>y:0.5604}</td>\n",
       "      <td>psize:18.7045</td>\n",
       "      <td>raw:{\"x\":3162.4949</td>\n",
       "      <td>y:1158.6604}}</td>\n",
       "      <td>state:7</td>\n",
       "      <td>time:745846434</td>\n",
       "      <td>timestamp:\"2022-02-24 16:58:40.802\"}}}</td>\n",
       "    </tr>\n",
       "    <tr>\n",
       "      <th>1</th>\n",
       "      <td>{\"category\":\"tracker\"</td>\n",
       "      <td>request:\"get\"</td>\n",
       "      <td>statuscode:200</td>\n",
       "      <td>values:{\"frame\":{\"avg\":{\"x\":3188.0786</td>\n",
       "      <td>y:1318.4167}</td>\n",
       "      <td>fix:false</td>\n",
       "      <td>lefteye:{\"avg\":{\"x\":3206.9280</td>\n",
       "      <td>y:1471.0730}</td>\n",
       "      <td>pcenter:{\"x\":0.4887</td>\n",
       "      <td>y:0.5137}</td>\n",
       "      <td>...</td>\n",
       "      <td>righteye:{\"avg\":{\"x\":3170.5042</td>\n",
       "      <td>y:1153.1619}</td>\n",
       "      <td>pcenter:{\"x\":0.6348</td>\n",
       "      <td>y:0.5605}</td>\n",
       "      <td>psize:18.7830</td>\n",
       "      <td>raw:{\"x\":3178.4932</td>\n",
       "      <td>y:1147.6772}}</td>\n",
       "      <td>state:7</td>\n",
       "      <td>time:745846468</td>\n",
       "      <td>timestamp:\"2022-02-24 16:58:40.836\"}}}</td>\n",
       "    </tr>\n",
       "    <tr>\n",
       "      <th>2</th>\n",
       "      <td>{\"category\":\"tracker\"</td>\n",
       "      <td>request:\"get\"</td>\n",
       "      <td>statuscode:200</td>\n",
       "      <td>values:{\"frame\":{\"avg\":{\"x\":3186.3933</td>\n",
       "      <td>y:1321.2983}</td>\n",
       "      <td>fix:false</td>\n",
       "      <td>lefteye:{\"avg\":{\"x\":3205.0676</td>\n",
       "      <td>y:1470.4415}</td>\n",
       "      <td>pcenter:{\"x\":0.4885</td>\n",
       "      <td>y:0.5138}</td>\n",
       "      <td>...</td>\n",
       "      <td>righteye:{\"avg\":{\"x\":3164.4788</td>\n",
       "      <td>y:1146.2719}</td>\n",
       "      <td>pcenter:{\"x\":0.6345</td>\n",
       "      <td>y:0.5606}</td>\n",
       "      <td>psize:18.8117</td>\n",
       "      <td>raw:{\"x\":3152.4631</td>\n",
       "      <td>y:1132.6069}}</td>\n",
       "      <td>state:7</td>\n",
       "      <td>time:745846501</td>\n",
       "      <td>timestamp:\"2022-02-24 16:58:40.869\"}}}</td>\n",
       "    </tr>\n",
       "    <tr>\n",
       "      <th>3</th>\n",
       "      <td>{\"category\":\"tracker\"</td>\n",
       "      <td>request:\"get\"</td>\n",
       "      <td>statuscode:200</td>\n",
       "      <td>values:{\"frame\":{\"avg\":{\"x\":3130.3647</td>\n",
       "      <td>y:1138.7164}</td>\n",
       "      <td>fix:false</td>\n",
       "      <td>lefteye:{\"avg\":{\"x\":3048.8669</td>\n",
       "      <td>y:1377.8784}</td>\n",
       "      <td>pcenter:{\"x\":0.4876</td>\n",
       "      <td>y:0.5131}</td>\n",
       "      <td>...</td>\n",
       "      <td>righteye:{\"avg\":{\"x\":3130.3647</td>\n",
       "      <td>y:1138.7164}</td>\n",
       "      <td>pcenter:{\"x\":0.6337</td>\n",
       "      <td>y:0.560}</td>\n",
       "      <td>psize:19.0406</td>\n",
       "      <td>raw:{\"x\":3029.2817</td>\n",
       "      <td>y:1116.4486}}</td>\n",
       "      <td>state:7</td>\n",
       "      <td>time:745846534</td>\n",
       "      <td>timestamp:\"2022-02-24 16:58:40.902\"}}}</td>\n",
       "    </tr>\n",
       "    <tr>\n",
       "      <th>4</th>\n",
       "      <td>{\"category\":\"tracker\"</td>\n",
       "      <td>request:\"get\"</td>\n",
       "      <td>statuscode:200</td>\n",
       "      <td>values:{\"frame\":{\"avg\":{\"x\":3107.0664</td>\n",
       "      <td>y:1236.030}</td>\n",
       "      <td>fix:false</td>\n",
       "      <td>lefteye:{\"avg\":{\"x\":3071.9919</td>\n",
       "      <td>y:1410.3341}</td>\n",
       "      <td>pcenter:{\"x\":0.4881</td>\n",
       "      <td>y:0.5132}</td>\n",
       "      <td>...</td>\n",
       "      <td>righteye:{\"avg\":{\"x\":3114.5413</td>\n",
       "      <td>y:1132.6543}</td>\n",
       "      <td>pcenter:{\"x\":0.6339</td>\n",
       "      <td>y:0.5601}</td>\n",
       "      <td>psize:19.2129</td>\n",
       "      <td>raw:{\"x\":3053.510</td>\n",
       "      <td>y:1109.2177}}</td>\n",
       "      <td>state:7</td>\n",
       "      <td>time:745846567</td>\n",
       "      <td>timestamp:\"2022-02-24 16:58:40.935\"}}}</td>\n",
       "    </tr>\n",
       "    <tr>\n",
       "      <th>5</th>\n",
       "      <td>{\"category\":\"tracker\"</td>\n",
       "      <td>request:\"get\"</td>\n",
       "      <td>statuscode:200</td>\n",
       "      <td>values:{\"frame\":{\"avg\":{\"x\":3097.9880</td>\n",
       "      <td>y:1246.9502}</td>\n",
       "      <td>fix:false</td>\n",
       "      <td>lefteye:{\"avg\":{\"x\":3058.8796</td>\n",
       "      <td>y:1412.2914}</td>\n",
       "      <td>pcenter:{\"x\":0.4886</td>\n",
       "      <td>y:0.5131}</td>\n",
       "      <td>...</td>\n",
       "      <td>righteye:{\"avg\":{\"x\":3100.5928</td>\n",
       "      <td>y:1128.4816}</td>\n",
       "      <td>pcenter:{\"x\":0.6342</td>\n",
       "      <td>y:0.5603}</td>\n",
       "      <td>psize:19.2484</td>\n",
       "      <td>raw:{\"x\":3034.5881</td>\n",
       "      <td>y:1108.8330}}</td>\n",
       "      <td>state:7</td>\n",
       "      <td>time:745846601</td>\n",
       "      <td>timestamp:\"2022-02-24 16:58:40.969\"}}}</td>\n",
       "    </tr>\n",
       "    <tr>\n",
       "      <th>6</th>\n",
       "      <td>{\"category\":\"tracker\"</td>\n",
       "      <td>request:\"get\"</td>\n",
       "      <td>statuscode:200</td>\n",
       "      <td>values:{\"frame\":{\"avg\":{\"x\":3093.5693</td>\n",
       "      <td>y:1238.3721}</td>\n",
       "      <td>fix:false</td>\n",
       "      <td>lefteye:{\"avg\":{\"x\":3058.6675</td>\n",
       "      <td>y:1401.1631}</td>\n",
       "      <td>pcenter:{\"x\":0.4894</td>\n",
       "      <td>y:0.5127}</td>\n",
       "      <td>...</td>\n",
       "      <td>righteye:{\"avg\":{\"x\":3090.4946</td>\n",
       "      <td>y:1128.6182}</td>\n",
       "      <td>pcenter:{\"x\":0.6347</td>\n",
       "      <td>y:0.5605}</td>\n",
       "      <td>psize:19.4785</td>\n",
       "      <td>raw:{\"x\":3034.960</td>\n",
       "      <td>y:1130.3337}}</td>\n",
       "      <td>state:7</td>\n",
       "      <td>time:745846634</td>\n",
       "      <td>timestamp:\"2022-02-24 16:58:41.002\"}}}</td>\n",
       "    </tr>\n",
       "    <tr>\n",
       "      <th>7</th>\n",
       "      <td>{\"category\":\"tracker\"</td>\n",
       "      <td>request:\"get\"</td>\n",
       "      <td>statuscode:200</td>\n",
       "      <td>values:{\"frame\":{\"avg\":{\"x\":3088.6548</td>\n",
       "      <td>y:1245.3273}</td>\n",
       "      <td>fix:false</td>\n",
       "      <td>lefteye:{\"avg\":{\"x\":3058.5828</td>\n",
       "      <td>y:1402.4757}</td>\n",
       "      <td>pcenter:{\"x\":0.4901</td>\n",
       "      <td>y:0.5128}</td>\n",
       "      <td>...</td>\n",
       "      <td>righteye:{\"avg\":{\"x\":3081.9736</td>\n",
       "      <td>y:1129.6149}</td>\n",
       "      <td>pcenter:{\"x\":0.6353</td>\n",
       "      <td>y:0.5608}</td>\n",
       "      <td>psize:19.7932</td>\n",
       "      <td>raw:{\"x\":3028.9302</td>\n",
       "      <td>y:1137.1251}}</td>\n",
       "      <td>state:7</td>\n",
       "      <td>time:745846667</td>\n",
       "      <td>timestamp:\"2022-02-24 16:58:41.035\"}}}</td>\n",
       "    </tr>\n",
       "    <tr>\n",
       "      <th>8</th>\n",
       "      <td>{\"category\":\"tracker\"</td>\n",
       "      <td>request:\"get\"</td>\n",
       "      <td>statuscode:200</td>\n",
       "      <td>values:{\"frame\":{\"avg\":{\"x\":3084.9636</td>\n",
       "      <td>y:1245.3341}</td>\n",
       "      <td>fix:true</td>\n",
       "      <td>lefteye:{\"avg\":{\"x\":3059.1174</td>\n",
       "      <td>y:1398.2651}</td>\n",
       "      <td>pcenter:{\"x\":0.4909</td>\n",
       "      <td>y:0.5126}</td>\n",
       "      <td>...</td>\n",
       "      <td>righteye:{\"avg\":{\"x\":3074.1208</td>\n",
       "      <td>y:1127.2998}</td>\n",
       "      <td>pcenter:{\"x\":0.6358</td>\n",
       "      <td>y:0.5610}</td>\n",
       "      <td>psize:19.6888</td>\n",
       "      <td>raw:{\"x\":3019.8137</td>\n",
       "      <td>y:1110.6233}}</td>\n",
       "      <td>state:7</td>\n",
       "      <td>time:745846701</td>\n",
       "      <td>timestamp:\"2022-02-24 16:58:41.069\"}}}</td>\n",
       "    </tr>\n",
       "    <tr>\n",
       "      <th>10</th>\n",
       "      <td>{\"category\":\"tracker\"</td>\n",
       "      <td>request:\"get\"</td>\n",
       "      <td>statuscode:200</td>\n",
       "      <td>values:{\"frame\":{\"avg\":{\"x\":3081.8843</td>\n",
       "      <td>y:1246.8584}</td>\n",
       "      <td>fix:true</td>\n",
       "      <td>lefteye:{\"avg\":{\"x\":3058.6782</td>\n",
       "      <td>y:1397.1122}</td>\n",
       "      <td>pcenter:{\"x\":0.4913</td>\n",
       "      <td>y:0.5124}</td>\n",
       "      <td>...</td>\n",
       "      <td>righteye:{\"avg\":{\"x\":3070.6343</td>\n",
       "      <td>y:1126.5854}</td>\n",
       "      <td>pcenter:{\"x\":0.6363</td>\n",
       "      <td>y:0.5612}</td>\n",
       "      <td>psize:19.8574</td>\n",
       "      <td>raw:{\"x\":3047.3286</td>\n",
       "      <td>y:1121.6810}}</td>\n",
       "      <td>state:7</td>\n",
       "      <td>time:745846734</td>\n",
       "      <td>timestamp:\"2022-02-24 16:58:41.102\"}}}</td>\n",
       "    </tr>\n",
       "  </tbody>\n",
       "</table>\n",
       "<p>10 rows × 25 columns</p>\n",
       "</div>"
      ],
      "text/plain": [
       "                       0              1               2   \\\n",
       "0   {\"category\":\"tracker\"  request:\"get\"  statuscode:200   \n",
       "1   {\"category\":\"tracker\"  request:\"get\"  statuscode:200   \n",
       "2   {\"category\":\"tracker\"  request:\"get\"  statuscode:200   \n",
       "3   {\"category\":\"tracker\"  request:\"get\"  statuscode:200   \n",
       "4   {\"category\":\"tracker\"  request:\"get\"  statuscode:200   \n",
       "5   {\"category\":\"tracker\"  request:\"get\"  statuscode:200   \n",
       "6   {\"category\":\"tracker\"  request:\"get\"  statuscode:200   \n",
       "7   {\"category\":\"tracker\"  request:\"get\"  statuscode:200   \n",
       "8   {\"category\":\"tracker\"  request:\"get\"  statuscode:200   \n",
       "10  {\"category\":\"tracker\"  request:\"get\"  statuscode:200   \n",
       "\n",
       "                                       3             4          5   \\\n",
       "0   values:{\"frame\":{\"avg\":{\"x\":3192.5493  y:1360.4380}  fix:false   \n",
       "1   values:{\"frame\":{\"avg\":{\"x\":3188.0786  y:1318.4167}  fix:false   \n",
       "2   values:{\"frame\":{\"avg\":{\"x\":3186.3933  y:1321.2983}  fix:false   \n",
       "3   values:{\"frame\":{\"avg\":{\"x\":3130.3647  y:1138.7164}  fix:false   \n",
       "4   values:{\"frame\":{\"avg\":{\"x\":3107.0664   y:1236.030}  fix:false   \n",
       "5   values:{\"frame\":{\"avg\":{\"x\":3097.9880  y:1246.9502}  fix:false   \n",
       "6   values:{\"frame\":{\"avg\":{\"x\":3093.5693  y:1238.3721}  fix:false   \n",
       "7   values:{\"frame\":{\"avg\":{\"x\":3088.6548  y:1245.3273}  fix:false   \n",
       "8   values:{\"frame\":{\"avg\":{\"x\":3084.9636  y:1245.3341}   fix:true   \n",
       "10  values:{\"frame\":{\"avg\":{\"x\":3081.8843  y:1246.8584}   fix:true   \n",
       "\n",
       "                               6             7                    8   \\\n",
       "0   lefteye:{\"avg\":{\"x\":3208.2761  y:1475.5612}  pcenter:{\"x\":0.4889   \n",
       "1   lefteye:{\"avg\":{\"x\":3206.9280  y:1471.0730}  pcenter:{\"x\":0.4887   \n",
       "2   lefteye:{\"avg\":{\"x\":3205.0676  y:1470.4415}  pcenter:{\"x\":0.4885   \n",
       "3   lefteye:{\"avg\":{\"x\":3048.8669  y:1377.8784}  pcenter:{\"x\":0.4876   \n",
       "4   lefteye:{\"avg\":{\"x\":3071.9919  y:1410.3341}  pcenter:{\"x\":0.4881   \n",
       "5   lefteye:{\"avg\":{\"x\":3058.8796  y:1412.2914}  pcenter:{\"x\":0.4886   \n",
       "6   lefteye:{\"avg\":{\"x\":3058.6675  y:1401.1631}  pcenter:{\"x\":0.4894   \n",
       "7   lefteye:{\"avg\":{\"x\":3058.5828  y:1402.4757}  pcenter:{\"x\":0.4901   \n",
       "8   lefteye:{\"avg\":{\"x\":3059.1174  y:1398.2651}  pcenter:{\"x\":0.4909   \n",
       "10  lefteye:{\"avg\":{\"x\":3058.6782  y:1397.1122}  pcenter:{\"x\":0.4913   \n",
       "\n",
       "           9   ...                              15            16  \\\n",
       "0   y:0.5135}  ...  righteye:{\"avg\":{\"x\":3162.4949  y:1158.6604}   \n",
       "1   y:0.5137}  ...  righteye:{\"avg\":{\"x\":3170.5042  y:1153.1619}   \n",
       "2   y:0.5138}  ...  righteye:{\"avg\":{\"x\":3164.4788  y:1146.2719}   \n",
       "3   y:0.5131}  ...  righteye:{\"avg\":{\"x\":3130.3647  y:1138.7164}   \n",
       "4   y:0.5132}  ...  righteye:{\"avg\":{\"x\":3114.5413  y:1132.6543}   \n",
       "5   y:0.5131}  ...  righteye:{\"avg\":{\"x\":3100.5928  y:1128.4816}   \n",
       "6   y:0.5127}  ...  righteye:{\"avg\":{\"x\":3090.4946  y:1128.6182}   \n",
       "7   y:0.5128}  ...  righteye:{\"avg\":{\"x\":3081.9736  y:1129.6149}   \n",
       "8   y:0.5126}  ...  righteye:{\"avg\":{\"x\":3074.1208  y:1127.2998}   \n",
       "10  y:0.5124}  ...  righteye:{\"avg\":{\"x\":3070.6343  y:1126.5854}   \n",
       "\n",
       "                     17         18             19                  20  \\\n",
       "0   pcenter:{\"x\":0.6350  y:0.5604}  psize:18.7045  raw:{\"x\":3162.4949   \n",
       "1   pcenter:{\"x\":0.6348  y:0.5605}  psize:18.7830  raw:{\"x\":3178.4932   \n",
       "2   pcenter:{\"x\":0.6345  y:0.5606}  psize:18.8117  raw:{\"x\":3152.4631   \n",
       "3   pcenter:{\"x\":0.6337   y:0.560}  psize:19.0406  raw:{\"x\":3029.2817   \n",
       "4   pcenter:{\"x\":0.6339  y:0.5601}  psize:19.2129   raw:{\"x\":3053.510   \n",
       "5   pcenter:{\"x\":0.6342  y:0.5603}  psize:19.2484  raw:{\"x\":3034.5881   \n",
       "6   pcenter:{\"x\":0.6347  y:0.5605}  psize:19.4785   raw:{\"x\":3034.960   \n",
       "7   pcenter:{\"x\":0.6353  y:0.5608}  psize:19.7932  raw:{\"x\":3028.9302   \n",
       "8   pcenter:{\"x\":0.6358  y:0.5610}  psize:19.6888  raw:{\"x\":3019.8137   \n",
       "10  pcenter:{\"x\":0.6363  y:0.5612}  psize:19.8574  raw:{\"x\":3047.3286   \n",
       "\n",
       "               21       22              23  \\\n",
       "0   y:1158.6604}}  state:7  time:745846434   \n",
       "1   y:1147.6772}}  state:7  time:745846468   \n",
       "2   y:1132.6069}}  state:7  time:745846501   \n",
       "3   y:1116.4486}}  state:7  time:745846534   \n",
       "4   y:1109.2177}}  state:7  time:745846567   \n",
       "5   y:1108.8330}}  state:7  time:745846601   \n",
       "6   y:1130.3337}}  state:7  time:745846634   \n",
       "7   y:1137.1251}}  state:7  time:745846667   \n",
       "8   y:1110.6233}}  state:7  time:745846701   \n",
       "10  y:1121.6810}}  state:7  time:745846734   \n",
       "\n",
       "                                        24  \n",
       "0   timestamp:\"2022-02-24 16:58:40.802\"}}}  \n",
       "1   timestamp:\"2022-02-24 16:58:40.836\"}}}  \n",
       "2   timestamp:\"2022-02-24 16:58:40.869\"}}}  \n",
       "3   timestamp:\"2022-02-24 16:58:40.902\"}}}  \n",
       "4   timestamp:\"2022-02-24 16:58:40.935\"}}}  \n",
       "5   timestamp:\"2022-02-24 16:58:40.969\"}}}  \n",
       "6   timestamp:\"2022-02-24 16:58:41.002\"}}}  \n",
       "7   timestamp:\"2022-02-24 16:58:41.035\"}}}  \n",
       "8   timestamp:\"2022-02-24 16:58:41.069\"}}}  \n",
       "10  timestamp:\"2022-02-24 16:58:41.102\"}}}  \n",
       "\n",
       "[10 rows x 25 columns]"
      ]
     },
     "execution_count": 53,
     "metadata": {},
     "output_type": "execute_result"
    }
   ],
   "source": [
    "df.head(10)"
   ]
  },
  {
   "cell_type": "code",
   "execution_count": null,
   "metadata": {},
   "outputs": [],
   "source": []
  },
  {
   "cell_type": "code",
   "execution_count": 52,
   "metadata": {},
   "outputs": [
    {
     "data": {
      "text/plain": [
       "0                      {\"category\":\"tracker\"\n",
       "1                              request:\"get\"\n",
       "2                             statuscode:200\n",
       "3      values:{\"frame\":{\"avg\":{\"x\":3081.8843\n",
       "4                               y:1246.8584}\n",
       "5                                   fix:true\n",
       "6              lefteye:{\"avg\":{\"x\":3058.6782\n",
       "7                               y:1397.1122}\n",
       "8                        pcenter:{\"x\":0.4913\n",
       "9                                  y:0.5124}\n",
       "10                             psize:19.5989\n",
       "11                        raw:{\"x\":3056.5818\n",
       "12                             y:1391.8253}}\n",
       "13                        raw:{\"x\":3051.9551\n",
       "14                              y:1256.7532}\n",
       "15            righteye:{\"avg\":{\"x\":3070.6343\n",
       "16                              y:1126.5854}\n",
       "17                       pcenter:{\"x\":0.6363\n",
       "18                                 y:0.5612}\n",
       "19                             psize:19.8574\n",
       "20                        raw:{\"x\":3047.3286\n",
       "21                             y:1121.6810}}\n",
       "22                                   state:7\n",
       "23                            time:745846734\n",
       "24    timestamp:\"2022-02-24 16:58:41.102\"}}}\n",
       "Name: 10, dtype: object"
      ]
     },
     "execution_count": 52,
     "metadata": {},
     "output_type": "execute_result"
    }
   ],
   "source": [
    "df.iloc[9]"
   ]
  },
  {
   "cell_type": "code",
   "execution_count": 50,
   "metadata": {},
   "outputs": [
    {
     "name": "stdout",
     "output_type": "stream",
     "text": [
      "418\n"
     ]
    }
   ],
   "source": [
    "print(len(df))"
   ]
  },
  {
   "cell_type": "code",
   "execution_count": 51,
   "metadata": {},
   "outputs": [
    {
     "name": "stdout",
     "output_type": "stream",
     "text": [
      "0 3192.5493\n",
      "1 3188.0786\n",
      "2 3186.3933\n",
      "3 3130.3647\n",
      "4 3107.0664\n",
      "5 3097.9880\n",
      "6 3093.5693\n",
      "7 3088.6548\n",
      "8 3084.9636\n"
     ]
    },
    {
     "ename": "KeyError",
     "evalue": "9",
     "output_type": "error",
     "traceback": [
      "\u001b[1;31m---------------------------------------------------------------------------\u001b[0m",
      "\u001b[1;31mKeyError\u001b[0m                                  Traceback (most recent call last)",
      "\u001b[1;32m<ipython-input-51-68b14d600ac5>\u001b[0m in \u001b[0;36m<module>\u001b[1;34m()\u001b[0m\n\u001b[0;32m      1\u001b[0m \u001b[1;32mfor\u001b[0m \u001b[0mi\u001b[0m \u001b[1;32min\u001b[0m \u001b[0mrange\u001b[0m\u001b[1;33m(\u001b[0m\u001b[0mlen\u001b[0m\u001b[1;33m(\u001b[0m\u001b[0mdf\u001b[0m\u001b[1;33m)\u001b[0m\u001b[1;33m)\u001b[0m\u001b[1;33m:\u001b[0m\u001b[1;33m\u001b[0m\u001b[0m\n\u001b[1;32m----> 2\u001b[1;33m     \u001b[0mx\u001b[0m \u001b[1;33m=\u001b[0m \u001b[0mdf\u001b[0m\u001b[1;33m.\u001b[0m\u001b[0miloc\u001b[0m\u001b[1;33m[\u001b[0m\u001b[1;33m:\u001b[0m\u001b[1;33m,\u001b[0m\u001b[1;36m3\u001b[0m\u001b[1;33m]\u001b[0m\u001b[1;33m[\u001b[0m\u001b[0mi\u001b[0m\u001b[1;33m]\u001b[0m\u001b[1;33m.\u001b[0m\u001b[0msplit\u001b[0m\u001b[1;33m(\u001b[0m\u001b[1;34m':'\u001b[0m\u001b[1;33m)\u001b[0m\u001b[1;33m[\u001b[0m\u001b[1;33m-\u001b[0m\u001b[1;36m1\u001b[0m\u001b[1;33m]\u001b[0m\u001b[1;33m\u001b[0m\u001b[0m\n\u001b[0m\u001b[0;32m      3\u001b[0m     \u001b[0mprint\u001b[0m\u001b[1;33m(\u001b[0m\u001b[0mi\u001b[0m\u001b[1;33m,\u001b[0m \u001b[0mx\u001b[0m\u001b[1;33m)\u001b[0m\u001b[1;33m\u001b[0m\u001b[0m\n",
      "\u001b[1;32m~\\Anaconda3\\envs\\python3\\lib\\site-packages\\pandas\\core\\series.py\u001b[0m in \u001b[0;36m__getitem__\u001b[1;34m(self, key)\u001b[0m\n\u001b[0;32m   1069\u001b[0m         \u001b[0mkey\u001b[0m \u001b[1;33m=\u001b[0m \u001b[0mcom\u001b[0m\u001b[1;33m.\u001b[0m\u001b[0mapply_if_callable\u001b[0m\u001b[1;33m(\u001b[0m\u001b[0mkey\u001b[0m\u001b[1;33m,\u001b[0m \u001b[0mself\u001b[0m\u001b[1;33m)\u001b[0m\u001b[1;33m\u001b[0m\u001b[0m\n\u001b[0;32m   1070\u001b[0m         \u001b[1;32mtry\u001b[0m\u001b[1;33m:\u001b[0m\u001b[1;33m\u001b[0m\u001b[0m\n\u001b[1;32m-> 1071\u001b[1;33m             \u001b[0mresult\u001b[0m \u001b[1;33m=\u001b[0m \u001b[0mself\u001b[0m\u001b[1;33m.\u001b[0m\u001b[0mindex\u001b[0m\u001b[1;33m.\u001b[0m\u001b[0mget_value\u001b[0m\u001b[1;33m(\u001b[0m\u001b[0mself\u001b[0m\u001b[1;33m,\u001b[0m \u001b[0mkey\u001b[0m\u001b[1;33m)\u001b[0m\u001b[1;33m\u001b[0m\u001b[0m\n\u001b[0m\u001b[0;32m   1072\u001b[0m \u001b[1;33m\u001b[0m\u001b[0m\n\u001b[0;32m   1073\u001b[0m             \u001b[1;32mif\u001b[0m \u001b[1;32mnot\u001b[0m \u001b[0mis_scalar\u001b[0m\u001b[1;33m(\u001b[0m\u001b[0mresult\u001b[0m\u001b[1;33m)\u001b[0m\u001b[1;33m:\u001b[0m\u001b[1;33m\u001b[0m\u001b[0m\n",
      "\u001b[1;32m~\\Anaconda3\\envs\\python3\\lib\\site-packages\\pandas\\core\\indexes\\base.py\u001b[0m in \u001b[0;36mget_value\u001b[1;34m(self, series, key)\u001b[0m\n\u001b[0;32m   4728\u001b[0m         \u001b[0mk\u001b[0m \u001b[1;33m=\u001b[0m \u001b[0mself\u001b[0m\u001b[1;33m.\u001b[0m\u001b[0m_convert_scalar_indexer\u001b[0m\u001b[1;33m(\u001b[0m\u001b[0mk\u001b[0m\u001b[1;33m,\u001b[0m \u001b[0mkind\u001b[0m\u001b[1;33m=\u001b[0m\u001b[1;34m\"getitem\"\u001b[0m\u001b[1;33m)\u001b[0m\u001b[1;33m\u001b[0m\u001b[0m\n\u001b[0;32m   4729\u001b[0m         \u001b[1;32mtry\u001b[0m\u001b[1;33m:\u001b[0m\u001b[1;33m\u001b[0m\u001b[0m\n\u001b[1;32m-> 4730\u001b[1;33m             \u001b[1;32mreturn\u001b[0m \u001b[0mself\u001b[0m\u001b[1;33m.\u001b[0m\u001b[0m_engine\u001b[0m\u001b[1;33m.\u001b[0m\u001b[0mget_value\u001b[0m\u001b[1;33m(\u001b[0m\u001b[0ms\u001b[0m\u001b[1;33m,\u001b[0m \u001b[0mk\u001b[0m\u001b[1;33m,\u001b[0m \u001b[0mtz\u001b[0m\u001b[1;33m=\u001b[0m\u001b[0mgetattr\u001b[0m\u001b[1;33m(\u001b[0m\u001b[0mseries\u001b[0m\u001b[1;33m.\u001b[0m\u001b[0mdtype\u001b[0m\u001b[1;33m,\u001b[0m \u001b[1;34m\"tz\"\u001b[0m\u001b[1;33m,\u001b[0m \u001b[1;32mNone\u001b[0m\u001b[1;33m)\u001b[0m\u001b[1;33m)\u001b[0m\u001b[1;33m\u001b[0m\u001b[0m\n\u001b[0m\u001b[0;32m   4731\u001b[0m         \u001b[1;32mexcept\u001b[0m \u001b[0mKeyError\u001b[0m \u001b[1;32mas\u001b[0m \u001b[0me1\u001b[0m\u001b[1;33m:\u001b[0m\u001b[1;33m\u001b[0m\u001b[0m\n\u001b[0;32m   4732\u001b[0m             \u001b[1;32mif\u001b[0m \u001b[0mlen\u001b[0m\u001b[1;33m(\u001b[0m\u001b[0mself\u001b[0m\u001b[1;33m)\u001b[0m \u001b[1;33m>\u001b[0m \u001b[1;36m0\u001b[0m \u001b[1;32mand\u001b[0m \u001b[1;33m(\u001b[0m\u001b[0mself\u001b[0m\u001b[1;33m.\u001b[0m\u001b[0mholds_integer\u001b[0m\u001b[1;33m(\u001b[0m\u001b[1;33m)\u001b[0m \u001b[1;32mor\u001b[0m \u001b[0mself\u001b[0m\u001b[1;33m.\u001b[0m\u001b[0mis_boolean\u001b[0m\u001b[1;33m(\u001b[0m\u001b[1;33m)\u001b[0m\u001b[1;33m)\u001b[0m\u001b[1;33m:\u001b[0m\u001b[1;33m\u001b[0m\u001b[0m\n",
      "\u001b[1;32mpandas/_libs/index.pyx\u001b[0m in \u001b[0;36mpandas._libs.index.IndexEngine.get_value\u001b[1;34m()\u001b[0m\n",
      "\u001b[1;32mpandas/_libs/index.pyx\u001b[0m in \u001b[0;36mpandas._libs.index.IndexEngine.get_value\u001b[1;34m()\u001b[0m\n",
      "\u001b[1;32mpandas/_libs/index.pyx\u001b[0m in \u001b[0;36mpandas._libs.index.IndexEngine.get_loc\u001b[1;34m()\u001b[0m\n",
      "\u001b[1;32mpandas/_libs/hashtable_class_helper.pxi\u001b[0m in \u001b[0;36mpandas._libs.hashtable.Int64HashTable.get_item\u001b[1;34m()\u001b[0m\n",
      "\u001b[1;32mpandas/_libs/hashtable_class_helper.pxi\u001b[0m in \u001b[0;36mpandas._libs.hashtable.Int64HashTable.get_item\u001b[1;34m()\u001b[0m\n",
      "\u001b[1;31mKeyError\u001b[0m: 9"
     ]
    }
   ],
   "source": [
    "for i in range(len(df)):\n",
    "    x = df.iloc[:,3][i].split(':')[-1]\n",
    "    print(i, x)\n"
   ]
  },
  {
   "cell_type": "code",
   "execution_count": null,
   "metadata": {},
   "outputs": [],
   "source": []
  },
  {
   "cell_type": "code",
   "execution_count": null,
   "metadata": {},
   "outputs": [],
   "source": []
  },
  {
   "cell_type": "code",
   "execution_count": null,
   "metadata": {},
   "outputs": [],
   "source": []
  },
  {
   "cell_type": "code",
   "execution_count": 32,
   "metadata": {},
   "outputs": [
    {
     "data": {
      "text/html": [
       "<div>\n",
       "<style scoped>\n",
       "    .dataframe tbody tr th:only-of-type {\n",
       "        vertical-align: middle;\n",
       "    }\n",
       "\n",
       "    .dataframe tbody tr th {\n",
       "        vertical-align: top;\n",
       "    }\n",
       "\n",
       "    .dataframe thead th {\n",
       "        text-align: right;\n",
       "    }\n",
       "</style>\n",
       "<table border=\"1\" class=\"dataframe\">\n",
       "  <thead>\n",
       "    <tr style=\"text-align: right;\">\n",
       "      <th></th>\n",
       "      <th>0</th>\n",
       "      <th>1</th>\n",
       "      <th>2</th>\n",
       "      <th>3</th>\n",
       "      <th>4</th>\n",
       "      <th>5</th>\n",
       "      <th>6</th>\n",
       "      <th>7</th>\n",
       "      <th>8</th>\n",
       "      <th>9</th>\n",
       "      <th>...</th>\n",
       "      <th>15</th>\n",
       "      <th>16</th>\n",
       "      <th>17</th>\n",
       "      <th>18</th>\n",
       "      <th>19</th>\n",
       "      <th>20</th>\n",
       "      <th>21</th>\n",
       "      <th>22</th>\n",
       "      <th>23</th>\n",
       "      <th>24</th>\n",
       "    </tr>\n",
       "  </thead>\n",
       "  <tbody>\n",
       "    <tr>\n",
       "      <th>0</th>\n",
       "      <td>{\"category\":\"tracker\"</td>\n",
       "      <td>request:\"get\"</td>\n",
       "      <td>statuscode:200</td>\n",
       "      <td>values:{\"frame\":{\"avg\":{\"x\":3192.5493</td>\n",
       "      <td>y:1360.4380}</td>\n",
       "      <td>fix:false</td>\n",
       "      <td>lefteye:{\"avg\":{\"x\":3208.2761</td>\n",
       "      <td>y:1475.5612}</td>\n",
       "      <td>pcenter:{\"x\":0.4889</td>\n",
       "      <td>y:0.5135}</td>\n",
       "      <td>...</td>\n",
       "      <td>righteye:{\"avg\":{\"x\":3162.4949</td>\n",
       "      <td>y:1158.6604}</td>\n",
       "      <td>pcenter:{\"x\":0.6350</td>\n",
       "      <td>y:0.5604}</td>\n",
       "      <td>psize:18.7045</td>\n",
       "      <td>raw:{\"x\":3162.4949</td>\n",
       "      <td>y:1158.6604}}</td>\n",
       "      <td>state:7</td>\n",
       "      <td>time:745846434</td>\n",
       "      <td>timestamp:\"2022-02-24 16:58:40.802\"}}}</td>\n",
       "    </tr>\n",
       "    <tr>\n",
       "      <th>1</th>\n",
       "      <td>{\"category\":\"tracker\"</td>\n",
       "      <td>request:\"get\"</td>\n",
       "      <td>statuscode:200</td>\n",
       "      <td>values:{\"frame\":{\"avg\":{\"x\":3188.0786</td>\n",
       "      <td>y:1318.4167}</td>\n",
       "      <td>fix:false</td>\n",
       "      <td>lefteye:{\"avg\":{\"x\":3206.9280</td>\n",
       "      <td>y:1471.0730}</td>\n",
       "      <td>pcenter:{\"x\":0.4887</td>\n",
       "      <td>y:0.5137}</td>\n",
       "      <td>...</td>\n",
       "      <td>righteye:{\"avg\":{\"x\":3170.5042</td>\n",
       "      <td>y:1153.1619}</td>\n",
       "      <td>pcenter:{\"x\":0.6348</td>\n",
       "      <td>y:0.5605}</td>\n",
       "      <td>psize:18.7830</td>\n",
       "      <td>raw:{\"x\":3178.4932</td>\n",
       "      <td>y:1147.6772}}</td>\n",
       "      <td>state:7</td>\n",
       "      <td>time:745846468</td>\n",
       "      <td>timestamp:\"2022-02-24 16:58:40.836\"}}}</td>\n",
       "    </tr>\n",
       "    <tr>\n",
       "      <th>2</th>\n",
       "      <td>{\"category\":\"tracker\"</td>\n",
       "      <td>request:\"get\"</td>\n",
       "      <td>statuscode:200</td>\n",
       "      <td>values:{\"frame\":{\"avg\":{\"x\":3186.3933</td>\n",
       "      <td>y:1321.2983}</td>\n",
       "      <td>fix:false</td>\n",
       "      <td>lefteye:{\"avg\":{\"x\":3205.0676</td>\n",
       "      <td>y:1470.4415}</td>\n",
       "      <td>pcenter:{\"x\":0.4885</td>\n",
       "      <td>y:0.5138}</td>\n",
       "      <td>...</td>\n",
       "      <td>righteye:{\"avg\":{\"x\":3164.4788</td>\n",
       "      <td>y:1146.2719}</td>\n",
       "      <td>pcenter:{\"x\":0.6345</td>\n",
       "      <td>y:0.5606}</td>\n",
       "      <td>psize:18.8117</td>\n",
       "      <td>raw:{\"x\":3152.4631</td>\n",
       "      <td>y:1132.6069}}</td>\n",
       "      <td>state:7</td>\n",
       "      <td>time:745846501</td>\n",
       "      <td>timestamp:\"2022-02-24 16:58:40.869\"}}}</td>\n",
       "    </tr>\n",
       "    <tr>\n",
       "      <th>3</th>\n",
       "      <td>{\"category\":\"tracker\"</td>\n",
       "      <td>request:\"get\"</td>\n",
       "      <td>statuscode:200</td>\n",
       "      <td>values:{\"frame\":{\"avg\":{\"x\":3130.3647</td>\n",
       "      <td>y:1138.7164}</td>\n",
       "      <td>fix:false</td>\n",
       "      <td>lefteye:{\"avg\":{\"x\":3048.8669</td>\n",
       "      <td>y:1377.8784}</td>\n",
       "      <td>pcenter:{\"x\":0.4876</td>\n",
       "      <td>y:0.5131}</td>\n",
       "      <td>...</td>\n",
       "      <td>righteye:{\"avg\":{\"x\":3130.3647</td>\n",
       "      <td>y:1138.7164}</td>\n",
       "      <td>pcenter:{\"x\":0.6337</td>\n",
       "      <td>y:0.560}</td>\n",
       "      <td>psize:19.0406</td>\n",
       "      <td>raw:{\"x\":3029.2817</td>\n",
       "      <td>y:1116.4486}}</td>\n",
       "      <td>state:7</td>\n",
       "      <td>time:745846534</td>\n",
       "      <td>timestamp:\"2022-02-24 16:58:40.902\"}}}</td>\n",
       "    </tr>\n",
       "    <tr>\n",
       "      <th>4</th>\n",
       "      <td>{\"category\":\"tracker\"</td>\n",
       "      <td>request:\"get\"</td>\n",
       "      <td>statuscode:200</td>\n",
       "      <td>values:{\"frame\":{\"avg\":{\"x\":3107.0664</td>\n",
       "      <td>y:1236.030}</td>\n",
       "      <td>fix:false</td>\n",
       "      <td>lefteye:{\"avg\":{\"x\":3071.9919</td>\n",
       "      <td>y:1410.3341}</td>\n",
       "      <td>pcenter:{\"x\":0.4881</td>\n",
       "      <td>y:0.5132}</td>\n",
       "      <td>...</td>\n",
       "      <td>righteye:{\"avg\":{\"x\":3114.5413</td>\n",
       "      <td>y:1132.6543}</td>\n",
       "      <td>pcenter:{\"x\":0.6339</td>\n",
       "      <td>y:0.5601}</td>\n",
       "      <td>psize:19.2129</td>\n",
       "      <td>raw:{\"x\":3053.510</td>\n",
       "      <td>y:1109.2177}}</td>\n",
       "      <td>state:7</td>\n",
       "      <td>time:745846567</td>\n",
       "      <td>timestamp:\"2022-02-24 16:58:40.935\"}}}</td>\n",
       "    </tr>\n",
       "    <tr>\n",
       "      <th>5</th>\n",
       "      <td>{\"category\":\"tracker\"</td>\n",
       "      <td>request:\"get\"</td>\n",
       "      <td>statuscode:200</td>\n",
       "      <td>values:{\"frame\":{\"avg\":{\"x\":3097.9880</td>\n",
       "      <td>y:1246.9502}</td>\n",
       "      <td>fix:false</td>\n",
       "      <td>lefteye:{\"avg\":{\"x\":3058.8796</td>\n",
       "      <td>y:1412.2914}</td>\n",
       "      <td>pcenter:{\"x\":0.4886</td>\n",
       "      <td>y:0.5131}</td>\n",
       "      <td>...</td>\n",
       "      <td>righteye:{\"avg\":{\"x\":3100.5928</td>\n",
       "      <td>y:1128.4816}</td>\n",
       "      <td>pcenter:{\"x\":0.6342</td>\n",
       "      <td>y:0.5603}</td>\n",
       "      <td>psize:19.2484</td>\n",
       "      <td>raw:{\"x\":3034.5881</td>\n",
       "      <td>y:1108.8330}}</td>\n",
       "      <td>state:7</td>\n",
       "      <td>time:745846601</td>\n",
       "      <td>timestamp:\"2022-02-24 16:58:40.969\"}}}</td>\n",
       "    </tr>\n",
       "    <tr>\n",
       "      <th>6</th>\n",
       "      <td>{\"category\":\"tracker\"</td>\n",
       "      <td>request:\"get\"</td>\n",
       "      <td>statuscode:200</td>\n",
       "      <td>values:{\"frame\":{\"avg\":{\"x\":3093.5693</td>\n",
       "      <td>y:1238.3721}</td>\n",
       "      <td>fix:false</td>\n",
       "      <td>lefteye:{\"avg\":{\"x\":3058.6675</td>\n",
       "      <td>y:1401.1631}</td>\n",
       "      <td>pcenter:{\"x\":0.4894</td>\n",
       "      <td>y:0.5127}</td>\n",
       "      <td>...</td>\n",
       "      <td>righteye:{\"avg\":{\"x\":3090.4946</td>\n",
       "      <td>y:1128.6182}</td>\n",
       "      <td>pcenter:{\"x\":0.6347</td>\n",
       "      <td>y:0.5605}</td>\n",
       "      <td>psize:19.4785</td>\n",
       "      <td>raw:{\"x\":3034.960</td>\n",
       "      <td>y:1130.3337}}</td>\n",
       "      <td>state:7</td>\n",
       "      <td>time:745846634</td>\n",
       "      <td>timestamp:\"2022-02-24 16:58:41.002\"}}}</td>\n",
       "    </tr>\n",
       "    <tr>\n",
       "      <th>7</th>\n",
       "      <td>{\"category\":\"tracker\"</td>\n",
       "      <td>request:\"get\"</td>\n",
       "      <td>statuscode:200</td>\n",
       "      <td>values:{\"frame\":{\"avg\":{\"x\":3088.6548</td>\n",
       "      <td>y:1245.3273}</td>\n",
       "      <td>fix:false</td>\n",
       "      <td>lefteye:{\"avg\":{\"x\":3058.5828</td>\n",
       "      <td>y:1402.4757}</td>\n",
       "      <td>pcenter:{\"x\":0.4901</td>\n",
       "      <td>y:0.5128}</td>\n",
       "      <td>...</td>\n",
       "      <td>righteye:{\"avg\":{\"x\":3081.9736</td>\n",
       "      <td>y:1129.6149}</td>\n",
       "      <td>pcenter:{\"x\":0.6353</td>\n",
       "      <td>y:0.5608}</td>\n",
       "      <td>psize:19.7932</td>\n",
       "      <td>raw:{\"x\":3028.9302</td>\n",
       "      <td>y:1137.1251}}</td>\n",
       "      <td>state:7</td>\n",
       "      <td>time:745846667</td>\n",
       "      <td>timestamp:\"2022-02-24 16:58:41.035\"}}}</td>\n",
       "    </tr>\n",
       "    <tr>\n",
       "      <th>8</th>\n",
       "      <td>{\"category\":\"tracker\"</td>\n",
       "      <td>request:\"get\"</td>\n",
       "      <td>statuscode:200</td>\n",
       "      <td>values:{\"frame\":{\"avg\":{\"x\":3084.9636</td>\n",
       "      <td>y:1245.3341}</td>\n",
       "      <td>fix:true</td>\n",
       "      <td>lefteye:{\"avg\":{\"x\":3059.1174</td>\n",
       "      <td>y:1398.2651}</td>\n",
       "      <td>pcenter:{\"x\":0.4909</td>\n",
       "      <td>y:0.5126}</td>\n",
       "      <td>...</td>\n",
       "      <td>righteye:{\"avg\":{\"x\":3074.1208</td>\n",
       "      <td>y:1127.2998}</td>\n",
       "      <td>pcenter:{\"x\":0.6358</td>\n",
       "      <td>y:0.5610}</td>\n",
       "      <td>psize:19.6888</td>\n",
       "      <td>raw:{\"x\":3019.8137</td>\n",
       "      <td>y:1110.6233}}</td>\n",
       "      <td>state:7</td>\n",
       "      <td>time:745846701</td>\n",
       "      <td>timestamp:\"2022-02-24 16:58:41.069\"}}}</td>\n",
       "    </tr>\n",
       "    <tr>\n",
       "      <th>9</th>\n",
       "      <td>{\"category\":\"heartbeat\"</td>\n",
       "      <td>statuscode:200}</td>\n",
       "      <td>NaN</td>\n",
       "      <td>NaN</td>\n",
       "      <td>NaN</td>\n",
       "      <td>NaN</td>\n",
       "      <td>NaN</td>\n",
       "      <td>NaN</td>\n",
       "      <td>NaN</td>\n",
       "      <td>NaN</td>\n",
       "      <td>...</td>\n",
       "      <td>NaN</td>\n",
       "      <td>NaN</td>\n",
       "      <td>NaN</td>\n",
       "      <td>NaN</td>\n",
       "      <td>NaN</td>\n",
       "      <td>NaN</td>\n",
       "      <td>NaN</td>\n",
       "      <td>NaN</td>\n",
       "      <td>NaN</td>\n",
       "      <td>NaN</td>\n",
       "    </tr>\n",
       "  </tbody>\n",
       "</table>\n",
       "<p>10 rows × 25 columns</p>\n",
       "</div>"
      ],
      "text/plain": [
       "                        0                1               2   \\\n",
       "0    {\"category\":\"tracker\"    request:\"get\"  statuscode:200   \n",
       "1    {\"category\":\"tracker\"    request:\"get\"  statuscode:200   \n",
       "2    {\"category\":\"tracker\"    request:\"get\"  statuscode:200   \n",
       "3    {\"category\":\"tracker\"    request:\"get\"  statuscode:200   \n",
       "4    {\"category\":\"tracker\"    request:\"get\"  statuscode:200   \n",
       "5    {\"category\":\"tracker\"    request:\"get\"  statuscode:200   \n",
       "6    {\"category\":\"tracker\"    request:\"get\"  statuscode:200   \n",
       "7    {\"category\":\"tracker\"    request:\"get\"  statuscode:200   \n",
       "8    {\"category\":\"tracker\"    request:\"get\"  statuscode:200   \n",
       "9  {\"category\":\"heartbeat\"  statuscode:200}             NaN   \n",
       "\n",
       "                                      3             4          5   \\\n",
       "0  values:{\"frame\":{\"avg\":{\"x\":3192.5493  y:1360.4380}  fix:false   \n",
       "1  values:{\"frame\":{\"avg\":{\"x\":3188.0786  y:1318.4167}  fix:false   \n",
       "2  values:{\"frame\":{\"avg\":{\"x\":3186.3933  y:1321.2983}  fix:false   \n",
       "3  values:{\"frame\":{\"avg\":{\"x\":3130.3647  y:1138.7164}  fix:false   \n",
       "4  values:{\"frame\":{\"avg\":{\"x\":3107.0664   y:1236.030}  fix:false   \n",
       "5  values:{\"frame\":{\"avg\":{\"x\":3097.9880  y:1246.9502}  fix:false   \n",
       "6  values:{\"frame\":{\"avg\":{\"x\":3093.5693  y:1238.3721}  fix:false   \n",
       "7  values:{\"frame\":{\"avg\":{\"x\":3088.6548  y:1245.3273}  fix:false   \n",
       "8  values:{\"frame\":{\"avg\":{\"x\":3084.9636  y:1245.3341}   fix:true   \n",
       "9                                    NaN           NaN        NaN   \n",
       "\n",
       "                              6             7                    8   \\\n",
       "0  lefteye:{\"avg\":{\"x\":3208.2761  y:1475.5612}  pcenter:{\"x\":0.4889   \n",
       "1  lefteye:{\"avg\":{\"x\":3206.9280  y:1471.0730}  pcenter:{\"x\":0.4887   \n",
       "2  lefteye:{\"avg\":{\"x\":3205.0676  y:1470.4415}  pcenter:{\"x\":0.4885   \n",
       "3  lefteye:{\"avg\":{\"x\":3048.8669  y:1377.8784}  pcenter:{\"x\":0.4876   \n",
       "4  lefteye:{\"avg\":{\"x\":3071.9919  y:1410.3341}  pcenter:{\"x\":0.4881   \n",
       "5  lefteye:{\"avg\":{\"x\":3058.8796  y:1412.2914}  pcenter:{\"x\":0.4886   \n",
       "6  lefteye:{\"avg\":{\"x\":3058.6675  y:1401.1631}  pcenter:{\"x\":0.4894   \n",
       "7  lefteye:{\"avg\":{\"x\":3058.5828  y:1402.4757}  pcenter:{\"x\":0.4901   \n",
       "8  lefteye:{\"avg\":{\"x\":3059.1174  y:1398.2651}  pcenter:{\"x\":0.4909   \n",
       "9                            NaN           NaN                  NaN   \n",
       "\n",
       "          9   ...                              15            16  \\\n",
       "0  y:0.5135}  ...  righteye:{\"avg\":{\"x\":3162.4949  y:1158.6604}   \n",
       "1  y:0.5137}  ...  righteye:{\"avg\":{\"x\":3170.5042  y:1153.1619}   \n",
       "2  y:0.5138}  ...  righteye:{\"avg\":{\"x\":3164.4788  y:1146.2719}   \n",
       "3  y:0.5131}  ...  righteye:{\"avg\":{\"x\":3130.3647  y:1138.7164}   \n",
       "4  y:0.5132}  ...  righteye:{\"avg\":{\"x\":3114.5413  y:1132.6543}   \n",
       "5  y:0.5131}  ...  righteye:{\"avg\":{\"x\":3100.5928  y:1128.4816}   \n",
       "6  y:0.5127}  ...  righteye:{\"avg\":{\"x\":3090.4946  y:1128.6182}   \n",
       "7  y:0.5128}  ...  righteye:{\"avg\":{\"x\":3081.9736  y:1129.6149}   \n",
       "8  y:0.5126}  ...  righteye:{\"avg\":{\"x\":3074.1208  y:1127.2998}   \n",
       "9        NaN  ...                             NaN           NaN   \n",
       "\n",
       "                    17         18             19                  20  \\\n",
       "0  pcenter:{\"x\":0.6350  y:0.5604}  psize:18.7045  raw:{\"x\":3162.4949   \n",
       "1  pcenter:{\"x\":0.6348  y:0.5605}  psize:18.7830  raw:{\"x\":3178.4932   \n",
       "2  pcenter:{\"x\":0.6345  y:0.5606}  psize:18.8117  raw:{\"x\":3152.4631   \n",
       "3  pcenter:{\"x\":0.6337   y:0.560}  psize:19.0406  raw:{\"x\":3029.2817   \n",
       "4  pcenter:{\"x\":0.6339  y:0.5601}  psize:19.2129   raw:{\"x\":3053.510   \n",
       "5  pcenter:{\"x\":0.6342  y:0.5603}  psize:19.2484  raw:{\"x\":3034.5881   \n",
       "6  pcenter:{\"x\":0.6347  y:0.5605}  psize:19.4785   raw:{\"x\":3034.960   \n",
       "7  pcenter:{\"x\":0.6353  y:0.5608}  psize:19.7932  raw:{\"x\":3028.9302   \n",
       "8  pcenter:{\"x\":0.6358  y:0.5610}  psize:19.6888  raw:{\"x\":3019.8137   \n",
       "9                  NaN        NaN            NaN                 NaN   \n",
       "\n",
       "              21       22              23  \\\n",
       "0  y:1158.6604}}  state:7  time:745846434   \n",
       "1  y:1147.6772}}  state:7  time:745846468   \n",
       "2  y:1132.6069}}  state:7  time:745846501   \n",
       "3  y:1116.4486}}  state:7  time:745846534   \n",
       "4  y:1109.2177}}  state:7  time:745846567   \n",
       "5  y:1108.8330}}  state:7  time:745846601   \n",
       "6  y:1130.3337}}  state:7  time:745846634   \n",
       "7  y:1137.1251}}  state:7  time:745846667   \n",
       "8  y:1110.6233}}  state:7  time:745846701   \n",
       "9            NaN      NaN             NaN   \n",
       "\n",
       "                                       24  \n",
       "0  timestamp:\"2022-02-24 16:58:40.802\"}}}  \n",
       "1  timestamp:\"2022-02-24 16:58:40.836\"}}}  \n",
       "2  timestamp:\"2022-02-24 16:58:40.869\"}}}  \n",
       "3  timestamp:\"2022-02-24 16:58:40.902\"}}}  \n",
       "4  timestamp:\"2022-02-24 16:58:40.935\"}}}  \n",
       "5  timestamp:\"2022-02-24 16:58:40.969\"}}}  \n",
       "6  timestamp:\"2022-02-24 16:58:41.002\"}}}  \n",
       "7  timestamp:\"2022-02-24 16:58:41.035\"}}}  \n",
       "8  timestamp:\"2022-02-24 16:58:41.069\"}}}  \n",
       "9                                     NaN  \n",
       "\n",
       "[10 rows x 25 columns]"
      ]
     },
     "execution_count": 32,
     "metadata": {},
     "output_type": "execute_result"
    }
   ],
   "source": [
    "data.head(10)"
   ]
  },
  {
   "cell_type": "code",
   "execution_count": 42,
   "metadata": {},
   "outputs": [
    {
     "data": {
      "text/plain": [
       "418"
      ]
     },
     "execution_count": 42,
     "metadata": {},
     "output_type": "execute_result"
    }
   ],
   "source": [
    "data[data.iloc[:,2]=='statuscode:200']"
   ]
  },
  {
   "cell_type": "code",
   "execution_count": 41,
   "metadata": {},
   "outputs": [
    {
     "data": {
      "text/plain": [
       "array(['statuscode:200', nan], dtype=object)"
      ]
     },
     "execution_count": 41,
     "metadata": {},
     "output_type": "execute_result"
    }
   ],
   "source": [
    "data.iloc[:,2].unique()"
   ]
  },
  {
   "cell_type": "code",
   "execution_count": 45,
   "metadata": {},
   "outputs": [
    {
     "data": {
      "text/plain": [
       "array(['statuscode:200', nan], dtype=object)"
      ]
     },
     "execution_count": 45,
     "metadata": {},
     "output_type": "execute_result"
    }
   ],
   "source": [
    "data.iloc[:,2].unique()"
   ]
  },
  {
   "cell_type": "code",
   "execution_count": 46,
   "metadata": {},
   "outputs": [
    {
     "data": {
      "text/plain": [
       "462"
      ]
     },
     "execution_count": 46,
     "metadata": {},
     "output_type": "execute_result"
    }
   ],
   "source": [
    "len(data)"
   ]
  },
  {
   "cell_type": "code",
   "execution_count": null,
   "metadata": {},
   "outputs": [],
   "source": []
  },
  {
   "cell_type": "code",
   "execution_count": 28,
   "metadata": {},
   "outputs": [
    {
     "ename": "TypeError",
     "evalue": "ufunc 'isnan' not supported for the input types, and the inputs could not be safely coerced to any supported types according to the casting rule ''safe''",
     "output_type": "error",
     "traceback": [
      "\u001b[1;31m---------------------------------------------------------------------------\u001b[0m",
      "\u001b[1;31mTypeError\u001b[0m                                 Traceback (most recent call last)",
      "\u001b[1;32m<ipython-input-28-f6030ee63593>\u001b[0m in \u001b[0;36m<module>\u001b[1;34m()\u001b[0m\n\u001b[1;32m----> 1\u001b[1;33m \u001b[0mnp\u001b[0m\u001b[1;33m.\u001b[0m\u001b[0misnan\u001b[0m\u001b[1;33m(\u001b[0m\u001b[0mdata\u001b[0m\u001b[1;33m.\u001b[0m\u001b[0miloc\u001b[0m\u001b[1;33m[\u001b[0m\u001b[1;33m:\u001b[0m\u001b[1;33m,\u001b[0m\u001b[1;36m3\u001b[0m\u001b[1;33m]\u001b[0m\u001b[1;33m)\u001b[0m\u001b[1;33m\u001b[0m\u001b[0m\n\u001b[0m",
      "\u001b[1;32m~\\Anaconda3\\envs\\python3\\lib\\site-packages\\pandas\\core\\series.py\u001b[0m in \u001b[0;36m__array_ufunc__\u001b[1;34m(self, ufunc, method, *inputs, **kwargs)\u001b[0m\n\u001b[0;32m    854\u001b[0m \u001b[1;33m\u001b[0m\u001b[0m\n\u001b[0;32m    855\u001b[0m         \u001b[0minputs\u001b[0m \u001b[1;33m=\u001b[0m \u001b[0mtuple\u001b[0m\u001b[1;33m(\u001b[0m\u001b[0mextract_array\u001b[0m\u001b[1;33m(\u001b[0m\u001b[0mx\u001b[0m\u001b[1;33m,\u001b[0m \u001b[0mextract_numpy\u001b[0m\u001b[1;33m=\u001b[0m\u001b[1;32mTrue\u001b[0m\u001b[1;33m)\u001b[0m \u001b[1;32mfor\u001b[0m \u001b[0mx\u001b[0m \u001b[1;32min\u001b[0m \u001b[0minputs\u001b[0m\u001b[1;33m)\u001b[0m\u001b[1;33m\u001b[0m\u001b[0m\n\u001b[1;32m--> 856\u001b[1;33m         \u001b[0mresult\u001b[0m \u001b[1;33m=\u001b[0m \u001b[0mgetattr\u001b[0m\u001b[1;33m(\u001b[0m\u001b[0mufunc\u001b[0m\u001b[1;33m,\u001b[0m \u001b[0mmethod\u001b[0m\u001b[1;33m)\u001b[0m\u001b[1;33m(\u001b[0m\u001b[1;33m*\u001b[0m\u001b[0minputs\u001b[0m\u001b[1;33m,\u001b[0m \u001b[1;33m**\u001b[0m\u001b[0mkwargs\u001b[0m\u001b[1;33m)\u001b[0m\u001b[1;33m\u001b[0m\u001b[0m\n\u001b[0m\u001b[0;32m    857\u001b[0m         \u001b[1;32mif\u001b[0m \u001b[0mlen\u001b[0m\u001b[1;33m(\u001b[0m\u001b[0mset\u001b[0m\u001b[1;33m(\u001b[0m\u001b[0mnames\u001b[0m\u001b[1;33m)\u001b[0m\u001b[1;33m)\u001b[0m \u001b[1;33m==\u001b[0m \u001b[1;36m1\u001b[0m\u001b[1;33m:\u001b[0m\u001b[1;33m\u001b[0m\u001b[0m\n\u001b[0;32m    858\u001b[0m             \u001b[1;31m# we require names to be hashable, right?\u001b[0m\u001b[1;33m\u001b[0m\u001b[1;33m\u001b[0m\u001b[0m\n",
      "\u001b[1;31mTypeError\u001b[0m: ufunc 'isnan' not supported for the input types, and the inputs could not be safely coerced to any supported types according to the casting rule ''safe''"
     ]
    }
   ],
   "source": [
    "np.isnan(data.iloc[:,3])"
   ]
  },
  {
   "cell_type": "code",
   "execution_count": 23,
   "metadata": {},
   "outputs": [
    {
     "name": "stdout",
     "output_type": "stream",
     "text": [
      "0 3192.5493\n",
      "1 3188.0786\n",
      "2 3186.3933\n",
      "3 3130.3647\n",
      "4 3107.0664\n",
      "5 3097.9880\n",
      "6 3093.5693\n",
      "7 3088.6548\n",
      "8 3084.9636\n"
     ]
    },
    {
     "ename": "AttributeError",
     "evalue": "'float' object has no attribute 'split'",
     "output_type": "error",
     "traceback": [
      "\u001b[1;31m---------------------------------------------------------------------------\u001b[0m",
      "\u001b[1;31mAttributeError\u001b[0m                            Traceback (most recent call last)",
      "\u001b[1;32m<ipython-input-23-71c0fdbeb9d8>\u001b[0m in \u001b[0;36m<module>\u001b[1;34m()\u001b[0m\n\u001b[0;32m      1\u001b[0m \u001b[1;32mfor\u001b[0m \u001b[0mi\u001b[0m \u001b[1;32min\u001b[0m \u001b[0mrange\u001b[0m\u001b[1;33m(\u001b[0m\u001b[0mlen\u001b[0m\u001b[1;33m(\u001b[0m\u001b[0mdata\u001b[0m\u001b[1;33m)\u001b[0m\u001b[1;33m)\u001b[0m\u001b[1;33m:\u001b[0m\u001b[1;33m\u001b[0m\u001b[0m\n\u001b[1;32m----> 2\u001b[1;33m     \u001b[0mx\u001b[0m \u001b[1;33m=\u001b[0m \u001b[0mdata\u001b[0m\u001b[1;33m.\u001b[0m\u001b[0miloc\u001b[0m\u001b[1;33m[\u001b[0m\u001b[1;33m:\u001b[0m\u001b[1;33m,\u001b[0m\u001b[1;36m3\u001b[0m\u001b[1;33m]\u001b[0m\u001b[1;33m[\u001b[0m\u001b[0mi\u001b[0m\u001b[1;33m]\u001b[0m\u001b[1;33m.\u001b[0m\u001b[0msplit\u001b[0m\u001b[1;33m(\u001b[0m\u001b[1;34m':'\u001b[0m\u001b[1;33m)\u001b[0m\u001b[1;33m[\u001b[0m\u001b[1;33m-\u001b[0m\u001b[1;36m1\u001b[0m\u001b[1;33m]\u001b[0m\u001b[1;33m\u001b[0m\u001b[0m\n\u001b[0m\u001b[0;32m      3\u001b[0m     \u001b[0mprint\u001b[0m\u001b[1;33m(\u001b[0m\u001b[0mi\u001b[0m\u001b[1;33m,\u001b[0m \u001b[0mx\u001b[0m\u001b[1;33m)\u001b[0m\u001b[1;33m\u001b[0m\u001b[0m\n",
      "\u001b[1;31mAttributeError\u001b[0m: 'float' object has no attribute 'split'"
     ]
    }
   ],
   "source": [
    "for i in range(len(data)):\n",
    "    x = data.iloc[:,3][i].split(':')[-1]\n",
    "    print(i, x)\n",
    "\n"
   ]
  },
  {
   "cell_type": "code",
   "execution_count": null,
   "metadata": {},
   "outputs": [],
   "source": []
  },
  {
   "cell_type": "code",
   "execution_count": null,
   "metadata": {},
   "outputs": [],
   "source": []
  },
  {
   "cell_type": "code",
   "execution_count": 6,
   "metadata": {},
   "outputs": [
    {
     "data": {
      "text/plain": [
       "'C:\\\\Users\\\\David\\\\Documents\\\\GitHub\\\\OpenBrains\\\\Eyetraker'"
      ]
     },
     "execution_count": 6,
     "metadata": {},
     "output_type": "execute_result"
    }
   ],
   "source": [
    "import os\n",
    "os.getcwd()"
   ]
  },
  {
   "cell_type": "code",
   "execution_count": 5,
   "metadata": {},
   "outputs": [
    {
     "ename": "AttributeError",
     "evalue": "module 'io' has no attribute 'path'",
     "output_type": "error",
     "traceback": [
      "\u001b[1;31m---------------------------------------------------------------------------\u001b[0m",
      "\u001b[1;31mAttributeError\u001b[0m                            Traceback (most recent call last)",
      "\u001b[1;32m<ipython-input-5-9ef86c060d41>\u001b[0m in \u001b[0;36m<module>\u001b[1;34m()\u001b[0m\n\u001b[1;32m----> 1\u001b[1;33m \u001b[0mio\u001b[0m\u001b[1;33m.\u001b[0m\u001b[0mpath\u001b[0m\u001b[1;33m.\u001b[0m\u001b[0mgetcwd\u001b[0m\u001b[1;33m(\u001b[0m\u001b[1;33m)\u001b[0m\u001b[1;33m\u001b[0m\u001b[0m\n\u001b[0m",
      "\u001b[1;31mAttributeError\u001b[0m: module 'io' has no attribute 'path'"
     ]
    }
   ],
   "source": []
  },
  {
   "cell_type": "code",
   "execution_count": 8,
   "metadata": {},
   "outputs": [
    {
     "ename": "ValueError",
     "evalue": "could not convert string to float: '{\"category\":\"tracker\"'",
     "output_type": "error",
     "traceback": [
      "\u001b[1;31m---------------------------------------------------------------------------\u001b[0m",
      "\u001b[1;31mValueError\u001b[0m                                Traceback (most recent call last)",
      "\u001b[1;32m<ipython-input-8-d29fbc813a18>\u001b[0m in \u001b[0;36m<module>\u001b[1;34m()\u001b[0m\n\u001b[0;32m      1\u001b[0m \u001b[0mfile\u001b[0m \u001b[1;33m=\u001b[0m\u001b[1;34m'C:\\\\Users\\\\David\\\\Desktop\\\\recordings.txt'\u001b[0m\u001b[1;33m\u001b[0m\u001b[0m\n\u001b[1;32m----> 2\u001b[1;33m \u001b[0mdata\u001b[0m \u001b[1;33m=\u001b[0m \u001b[0mnp\u001b[0m\u001b[1;33m.\u001b[0m\u001b[0mloadtxt\u001b[0m\u001b[1;33m(\u001b[0m\u001b[0mfile\u001b[0m\u001b[1;33m,\u001b[0m \u001b[0mdelimiter\u001b[0m\u001b[1;33m=\u001b[0m\u001b[1;34m','\u001b[0m\u001b[1;33m)\u001b[0m\u001b[1;33m\u001b[0m\u001b[0m\n\u001b[0m",
      "\u001b[1;32m~\\Anaconda3\\envs\\python3\\lib\\site-packages\\numpy\\lib\\npyio.py\u001b[0m in \u001b[0;36mloadtxt\u001b[1;34m(fname, dtype, comments, delimiter, converters, skiprows, usecols, unpack, ndmin, encoding)\u001b[0m\n\u001b[0;32m   1099\u001b[0m         \u001b[1;31m# converting the data\u001b[0m\u001b[1;33m\u001b[0m\u001b[1;33m\u001b[0m\u001b[0m\n\u001b[0;32m   1100\u001b[0m         \u001b[0mX\u001b[0m \u001b[1;33m=\u001b[0m \u001b[1;32mNone\u001b[0m\u001b[1;33m\u001b[0m\u001b[0m\n\u001b[1;32m-> 1101\u001b[1;33m         \u001b[1;32mfor\u001b[0m \u001b[0mx\u001b[0m \u001b[1;32min\u001b[0m \u001b[0mread_data\u001b[0m\u001b[1;33m(\u001b[0m\u001b[0m_loadtxt_chunksize\u001b[0m\u001b[1;33m)\u001b[0m\u001b[1;33m:\u001b[0m\u001b[1;33m\u001b[0m\u001b[0m\n\u001b[0m\u001b[0;32m   1102\u001b[0m             \u001b[1;32mif\u001b[0m \u001b[0mX\u001b[0m \u001b[1;32mis\u001b[0m \u001b[1;32mNone\u001b[0m\u001b[1;33m:\u001b[0m\u001b[1;33m\u001b[0m\u001b[0m\n\u001b[0;32m   1103\u001b[0m                 \u001b[0mX\u001b[0m \u001b[1;33m=\u001b[0m \u001b[0mnp\u001b[0m\u001b[1;33m.\u001b[0m\u001b[0marray\u001b[0m\u001b[1;33m(\u001b[0m\u001b[0mx\u001b[0m\u001b[1;33m,\u001b[0m \u001b[0mdtype\u001b[0m\u001b[1;33m)\u001b[0m\u001b[1;33m\u001b[0m\u001b[0m\n",
      "\u001b[1;32m~\\Anaconda3\\envs\\python3\\lib\\site-packages\\numpy\\lib\\npyio.py\u001b[0m in \u001b[0;36mread_data\u001b[1;34m(chunk_size)\u001b[0m\n\u001b[0;32m   1026\u001b[0m \u001b[1;33m\u001b[0m\u001b[0m\n\u001b[0;32m   1027\u001b[0m             \u001b[1;31m# Convert each value according to its column and store\u001b[0m\u001b[1;33m\u001b[0m\u001b[1;33m\u001b[0m\u001b[0m\n\u001b[1;32m-> 1028\u001b[1;33m             \u001b[0mitems\u001b[0m \u001b[1;33m=\u001b[0m \u001b[1;33m[\u001b[0m\u001b[0mconv\u001b[0m\u001b[1;33m(\u001b[0m\u001b[0mval\u001b[0m\u001b[1;33m)\u001b[0m \u001b[1;32mfor\u001b[0m \u001b[1;33m(\u001b[0m\u001b[0mconv\u001b[0m\u001b[1;33m,\u001b[0m \u001b[0mval\u001b[0m\u001b[1;33m)\u001b[0m \u001b[1;32min\u001b[0m \u001b[0mzip\u001b[0m\u001b[1;33m(\u001b[0m\u001b[0mconverters\u001b[0m\u001b[1;33m,\u001b[0m \u001b[0mvals\u001b[0m\u001b[1;33m)\u001b[0m\u001b[1;33m]\u001b[0m\u001b[1;33m\u001b[0m\u001b[0m\n\u001b[0m\u001b[0;32m   1029\u001b[0m \u001b[1;33m\u001b[0m\u001b[0m\n\u001b[0;32m   1030\u001b[0m             \u001b[1;31m# Then pack it according to the dtype's nesting\u001b[0m\u001b[1;33m\u001b[0m\u001b[1;33m\u001b[0m\u001b[0m\n",
      "\u001b[1;32m~\\Anaconda3\\envs\\python3\\lib\\site-packages\\numpy\\lib\\npyio.py\u001b[0m in \u001b[0;36m<listcomp>\u001b[1;34m(.0)\u001b[0m\n\u001b[0;32m   1026\u001b[0m \u001b[1;33m\u001b[0m\u001b[0m\n\u001b[0;32m   1027\u001b[0m             \u001b[1;31m# Convert each value according to its column and store\u001b[0m\u001b[1;33m\u001b[0m\u001b[1;33m\u001b[0m\u001b[0m\n\u001b[1;32m-> 1028\u001b[1;33m             \u001b[0mitems\u001b[0m \u001b[1;33m=\u001b[0m \u001b[1;33m[\u001b[0m\u001b[0mconv\u001b[0m\u001b[1;33m(\u001b[0m\u001b[0mval\u001b[0m\u001b[1;33m)\u001b[0m \u001b[1;32mfor\u001b[0m \u001b[1;33m(\u001b[0m\u001b[0mconv\u001b[0m\u001b[1;33m,\u001b[0m \u001b[0mval\u001b[0m\u001b[1;33m)\u001b[0m \u001b[1;32min\u001b[0m \u001b[0mzip\u001b[0m\u001b[1;33m(\u001b[0m\u001b[0mconverters\u001b[0m\u001b[1;33m,\u001b[0m \u001b[0mvals\u001b[0m\u001b[1;33m)\u001b[0m\u001b[1;33m]\u001b[0m\u001b[1;33m\u001b[0m\u001b[0m\n\u001b[0m\u001b[0;32m   1029\u001b[0m \u001b[1;33m\u001b[0m\u001b[0m\n\u001b[0;32m   1030\u001b[0m             \u001b[1;31m# Then pack it according to the dtype's nesting\u001b[0m\u001b[1;33m\u001b[0m\u001b[1;33m\u001b[0m\u001b[0m\n",
      "\u001b[1;32m~\\Anaconda3\\envs\\python3\\lib\\site-packages\\numpy\\lib\\npyio.py\u001b[0m in \u001b[0;36mfloatconv\u001b[1;34m(x)\u001b[0m\n\u001b[0;32m    744\u001b[0m         \u001b[1;32mif\u001b[0m \u001b[1;34m'0x'\u001b[0m \u001b[1;32min\u001b[0m \u001b[0mx\u001b[0m\u001b[1;33m:\u001b[0m\u001b[1;33m\u001b[0m\u001b[0m\n\u001b[0;32m    745\u001b[0m             \u001b[1;32mreturn\u001b[0m \u001b[0mfloat\u001b[0m\u001b[1;33m.\u001b[0m\u001b[0mfromhex\u001b[0m\u001b[1;33m(\u001b[0m\u001b[0mx\u001b[0m\u001b[1;33m)\u001b[0m\u001b[1;33m\u001b[0m\u001b[0m\n\u001b[1;32m--> 746\u001b[1;33m         \u001b[1;32mreturn\u001b[0m \u001b[0mfloat\u001b[0m\u001b[1;33m(\u001b[0m\u001b[0mx\u001b[0m\u001b[1;33m)\u001b[0m\u001b[1;33m\u001b[0m\u001b[0m\n\u001b[0m\u001b[0;32m    747\u001b[0m \u001b[1;33m\u001b[0m\u001b[0m\n\u001b[0;32m    748\u001b[0m     \u001b[0mtyp\u001b[0m \u001b[1;33m=\u001b[0m \u001b[0mdtype\u001b[0m\u001b[1;33m.\u001b[0m\u001b[0mtype\u001b[0m\u001b[1;33m\u001b[0m\u001b[0m\n",
      "\u001b[1;31mValueError\u001b[0m: could not convert string to float: '{\"category\":\"tracker\"'"
     ]
    }
   ],
   "source": [
    "file ='C:\\\\Users\\\\David\\\\Desktop\\\\recordings.txt'\n",
    "data = np.loadtxt(file, delimiter=',')"
   ]
  },
  {
   "cell_type": "code",
   "execution_count": null,
   "metadata": {},
   "outputs": [],
   "source": []
  }
 ],
 "metadata": {
  "kernelspec": {
   "display_name": "Python 3",
   "language": "python",
   "name": "python3"
  },
  "language_info": {
   "codemirror_mode": {
    "name": "ipython",
    "version": 3
   },
   "file_extension": ".py",
   "mimetype": "text/x-python",
   "name": "python",
   "nbconvert_exporter": "python",
   "pygments_lexer": "ipython3",
   "version": "3.5.6"
  }
 },
 "nbformat": 4,
 "nbformat_minor": 2
}
