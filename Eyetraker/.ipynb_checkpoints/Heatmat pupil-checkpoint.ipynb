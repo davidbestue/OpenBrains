{
 "cells": [
  {
   "cell_type": "code",
   "execution_count": 1,
   "metadata": {},
   "outputs": [],
   "source": [
    "from linares_plot import *"
   ]
  },
  {
   "cell_type": "code",
   "execution_count": null,
   "metadata": {},
   "outputs": [],
   "source": [
    "### Recording, se genera txt"
   ]
  },
  {
   "cell_type": "code",
   "execution_count": 195,
   "metadata": {},
   "outputs": [],
   "source": [
    "file ='C:\\\\Users\\\\David\\\\Desktop\\\\recordings.txt'\n",
    "file ='C:\\\\Users\\\\David\\\\Desktop\\\\recording2.txt'"
   ]
  },
  {
   "cell_type": "code",
   "execution_count": 202,
   "metadata": {},
   "outputs": [],
   "source": [
    "data = pd.read_csv(file, delimiter=',', header=None)"
   ]
  },
  {
   "cell_type": "code",
   "execution_count": 149,
   "metadata": {},
   "outputs": [],
   "source": [
    "### 0,0 es arriba a la izquierda!!"
   ]
  },
  {
   "cell_type": "code",
   "execution_count": 203,
   "metadata": {},
   "outputs": [],
   "source": [
    "### Remove NANs"
   ]
  },
  {
   "cell_type": "code",
   "execution_count": 204,
   "metadata": {},
   "outputs": [
    {
     "name": "stdout",
     "output_type": "stream",
     "text": [
      "502\n"
     ]
    },
    {
     "data": {
      "text/plain": [
       "array(['statuscode:200', nan], dtype=object)"
      ]
     },
     "execution_count": 204,
     "metadata": {},
     "output_type": "execute_result"
    }
   ],
   "source": [
    "print(len(data))\n",
    "data.iloc[:,2].unique()"
   ]
  },
  {
   "cell_type": "code",
   "execution_count": 205,
   "metadata": {},
   "outputs": [],
   "source": [
    "df_ = data[data.iloc[:,2]=='statuscode:200']\n",
    "df_ = df_.reset_index()"
   ]
  },
  {
   "cell_type": "code",
   "execution_count": 206,
   "metadata": {},
   "outputs": [
    {
     "data": {
      "text/html": [
       "<div>\n",
       "<style scoped>\n",
       "    .dataframe tbody tr th:only-of-type {\n",
       "        vertical-align: middle;\n",
       "    }\n",
       "\n",
       "    .dataframe tbody tr th {\n",
       "        vertical-align: top;\n",
       "    }\n",
       "\n",
       "    .dataframe thead th {\n",
       "        text-align: right;\n",
       "    }\n",
       "</style>\n",
       "<table border=\"1\" class=\"dataframe\">\n",
       "  <thead>\n",
       "    <tr style=\"text-align: right;\">\n",
       "      <th></th>\n",
       "      <th>index</th>\n",
       "      <th>0</th>\n",
       "      <th>1</th>\n",
       "      <th>2</th>\n",
       "      <th>3</th>\n",
       "      <th>4</th>\n",
       "      <th>5</th>\n",
       "      <th>6</th>\n",
       "      <th>7</th>\n",
       "      <th>8</th>\n",
       "      <th>...</th>\n",
       "      <th>15</th>\n",
       "      <th>16</th>\n",
       "      <th>17</th>\n",
       "      <th>18</th>\n",
       "      <th>19</th>\n",
       "      <th>20</th>\n",
       "      <th>21</th>\n",
       "      <th>22</th>\n",
       "      <th>23</th>\n",
       "      <th>24</th>\n",
       "    </tr>\n",
       "  </thead>\n",
       "  <tbody>\n",
       "    <tr>\n",
       "      <th>0</th>\n",
       "      <td>0</td>\n",
       "      <td>{\"category\":\"tracker\"</td>\n",
       "      <td>request:\"get\"</td>\n",
       "      <td>statuscode:200</td>\n",
       "      <td>values:{\"frame\":{\"avg\":{\"x\":313.1732</td>\n",
       "      <td>y:96.0933}</td>\n",
       "      <td>fix:false</td>\n",
       "      <td>lefteye:{\"avg\":{\"x\":0.0</td>\n",
       "      <td>y:0.0}</td>\n",
       "      <td>pcenter:{\"x\":0.3365</td>\n",
       "      <td>...</td>\n",
       "      <td>righteye:{\"avg\":{\"x\":272.5606</td>\n",
       "      <td>y:101.9664}</td>\n",
       "      <td>pcenter:{\"x\":0.4942</td>\n",
       "      <td>y:0.6708}</td>\n",
       "      <td>psize:17.9533</td>\n",
       "      <td>raw:{\"x\":280.0056</td>\n",
       "      <td>y:92.1010}}</td>\n",
       "      <td>state:7</td>\n",
       "      <td>time:749654302</td>\n",
       "      <td>timestamp:\"2022-02-24 18:02:08.670\"}}}</td>\n",
       "    </tr>\n",
       "    <tr>\n",
       "      <th>1</th>\n",
       "      <td>1</td>\n",
       "      <td>{\"category\":\"tracker\"</td>\n",
       "      <td>request:\"get\"</td>\n",
       "      <td>statuscode:200</td>\n",
       "      <td>values:{\"frame\":{\"avg\":{\"x\":301.8272</td>\n",
       "      <td>y:98.5675}</td>\n",
       "      <td>fix:false</td>\n",
       "      <td>lefteye:{\"avg\":{\"x\":0.0</td>\n",
       "      <td>y:0.0}</td>\n",
       "      <td>pcenter:{\"x\":0.3363</td>\n",
       "      <td>...</td>\n",
       "      <td>righteye:{\"avg\":{\"x\":268.8446</td>\n",
       "      <td>y:105.7639}</td>\n",
       "      <td>pcenter:{\"x\":0.4940</td>\n",
       "      <td>y:0.6708}</td>\n",
       "      <td>psize:18.0761</td>\n",
       "      <td>raw:{\"x\":261.4218</td>\n",
       "      <td>y:113.3606}}</td>\n",
       "      <td>state:7</td>\n",
       "      <td>time:749654335</td>\n",
       "      <td>timestamp:\"2022-02-24 18:02:08.703\"}}}</td>\n",
       "    </tr>\n",
       "    <tr>\n",
       "      <th>2</th>\n",
       "      <td>2</td>\n",
       "      <td>{\"category\":\"tracker\"</td>\n",
       "      <td>request:\"get\"</td>\n",
       "      <td>statuscode:200</td>\n",
       "      <td>values:{\"frame\":{\"avg\":{\"x\":294.4464</td>\n",
       "      <td>y:98.9010}</td>\n",
       "      <td>fix:false</td>\n",
       "      <td>lefteye:{\"avg\":{\"x\":0.0</td>\n",
       "      <td>y:0.0}</td>\n",
       "      <td>pcenter:{\"x\":0.3362</td>\n",
       "      <td>...</td>\n",
       "      <td>righteye:{\"avg\":{\"x\":266.4558</td>\n",
       "      <td>y:100.0004}</td>\n",
       "      <td>pcenter:{\"x\":0.4938</td>\n",
       "      <td>y:0.6705}</td>\n",
       "      <td>psize:18.1562</td>\n",
       "      <td>raw:{\"x\":259.3929</td>\n",
       "      <td>y:82.9059}}</td>\n",
       "      <td>state:7</td>\n",
       "      <td>time:749654369</td>\n",
       "      <td>timestamp:\"2022-02-24 18:02:08.737\"}}}</td>\n",
       "    </tr>\n",
       "    <tr>\n",
       "      <th>3</th>\n",
       "      <td>4</td>\n",
       "      <td>{\"category\":\"tracker\"</td>\n",
       "      <td>request:\"get\"</td>\n",
       "      <td>statuscode:200</td>\n",
       "      <td>values:{\"frame\":{\"avg\":{\"x\":270.5248</td>\n",
       "      <td>y:107.6032}</td>\n",
       "      <td>fix:false</td>\n",
       "      <td>lefteye:{\"avg\":{\"x\":0.0</td>\n",
       "      <td>y:0.0}</td>\n",
       "      <td>pcenter:{\"x\":0.3360</td>\n",
       "      <td>...</td>\n",
       "      <td>righteye:{\"avg\":{\"x\":270.5248</td>\n",
       "      <td>y:107.6032}</td>\n",
       "      <td>pcenter:{\"x\":0.4938</td>\n",
       "      <td>y:0.6708}</td>\n",
       "      <td>psize:18.4837</td>\n",
       "      <td>raw:{\"x\":286.5844</td>\n",
       "      <td>y:137.6050}}</td>\n",
       "      <td>state:7</td>\n",
       "      <td>time:749654402</td>\n",
       "      <td>timestamp:\"2022-02-24 18:02:08.770\"}}}</td>\n",
       "    </tr>\n",
       "    <tr>\n",
       "      <th>4</th>\n",
       "      <td>5</td>\n",
       "      <td>{\"category\":\"tracker\"</td>\n",
       "      <td>request:\"get\"</td>\n",
       "      <td>statuscode:200</td>\n",
       "      <td>values:{\"frame\":{\"avg\":{\"x\":272.3723</td>\n",
       "      <td>y:111.7071}</td>\n",
       "      <td>fix:false</td>\n",
       "      <td>lefteye:{\"avg\":{\"x\":0.0</td>\n",
       "      <td>y:0.0}</td>\n",
       "      <td>pcenter:{\"x\":0.3360</td>\n",
       "      <td>...</td>\n",
       "      <td>righteye:{\"avg\":{\"x\":272.3723</td>\n",
       "      <td>y:111.7071}</td>\n",
       "      <td>pcenter:{\"x\":0.4937</td>\n",
       "      <td>y:0.6706}</td>\n",
       "      <td>psize:18.5666</td>\n",
       "      <td>raw:{\"x\":281.2443</td>\n",
       "      <td>y:131.4492}}</td>\n",
       "      <td>state:7</td>\n",
       "      <td>time:749654435</td>\n",
       "      <td>timestamp:\"2022-02-24 18:02:08.803\"}}}</td>\n",
       "    </tr>\n",
       "  </tbody>\n",
       "</table>\n",
       "<p>5 rows × 26 columns</p>\n",
       "</div>"
      ],
      "text/plain": [
       "   index                      0              1               2  \\\n",
       "0      0  {\"category\":\"tracker\"  request:\"get\"  statuscode:200   \n",
       "1      1  {\"category\":\"tracker\"  request:\"get\"  statuscode:200   \n",
       "2      2  {\"category\":\"tracker\"  request:\"get\"  statuscode:200   \n",
       "3      4  {\"category\":\"tracker\"  request:\"get\"  statuscode:200   \n",
       "4      5  {\"category\":\"tracker\"  request:\"get\"  statuscode:200   \n",
       "\n",
       "                                      3            4          5  \\\n",
       "0  values:{\"frame\":{\"avg\":{\"x\":313.1732   y:96.0933}  fix:false   \n",
       "1  values:{\"frame\":{\"avg\":{\"x\":301.8272   y:98.5675}  fix:false   \n",
       "2  values:{\"frame\":{\"avg\":{\"x\":294.4464   y:98.9010}  fix:false   \n",
       "3  values:{\"frame\":{\"avg\":{\"x\":270.5248  y:107.6032}  fix:false   \n",
       "4  values:{\"frame\":{\"avg\":{\"x\":272.3723  y:111.7071}  fix:false   \n",
       "\n",
       "                         6       7                    8  ...  \\\n",
       "0  lefteye:{\"avg\":{\"x\":0.0  y:0.0}  pcenter:{\"x\":0.3365  ...   \n",
       "1  lefteye:{\"avg\":{\"x\":0.0  y:0.0}  pcenter:{\"x\":0.3363  ...   \n",
       "2  lefteye:{\"avg\":{\"x\":0.0  y:0.0}  pcenter:{\"x\":0.3362  ...   \n",
       "3  lefteye:{\"avg\":{\"x\":0.0  y:0.0}  pcenter:{\"x\":0.3360  ...   \n",
       "4  lefteye:{\"avg\":{\"x\":0.0  y:0.0}  pcenter:{\"x\":0.3360  ...   \n",
       "\n",
       "                              15           16                   17         18  \\\n",
       "0  righteye:{\"avg\":{\"x\":272.5606  y:101.9664}  pcenter:{\"x\":0.4942  y:0.6708}   \n",
       "1  righteye:{\"avg\":{\"x\":268.8446  y:105.7639}  pcenter:{\"x\":0.4940  y:0.6708}   \n",
       "2  righteye:{\"avg\":{\"x\":266.4558  y:100.0004}  pcenter:{\"x\":0.4938  y:0.6705}   \n",
       "3  righteye:{\"avg\":{\"x\":270.5248  y:107.6032}  pcenter:{\"x\":0.4938  y:0.6708}   \n",
       "4  righteye:{\"avg\":{\"x\":272.3723  y:111.7071}  pcenter:{\"x\":0.4937  y:0.6706}   \n",
       "\n",
       "              19                 20            21       22              23  \\\n",
       "0  psize:17.9533  raw:{\"x\":280.0056   y:92.1010}}  state:7  time:749654302   \n",
       "1  psize:18.0761  raw:{\"x\":261.4218  y:113.3606}}  state:7  time:749654335   \n",
       "2  psize:18.1562  raw:{\"x\":259.3929   y:82.9059}}  state:7  time:749654369   \n",
       "3  psize:18.4837  raw:{\"x\":286.5844  y:137.6050}}  state:7  time:749654402   \n",
       "4  psize:18.5666  raw:{\"x\":281.2443  y:131.4492}}  state:7  time:749654435   \n",
       "\n",
       "                                       24  \n",
       "0  timestamp:\"2022-02-24 18:02:08.670\"}}}  \n",
       "1  timestamp:\"2022-02-24 18:02:08.703\"}}}  \n",
       "2  timestamp:\"2022-02-24 18:02:08.737\"}}}  \n",
       "3  timestamp:\"2022-02-24 18:02:08.770\"}}}  \n",
       "4  timestamp:\"2022-02-24 18:02:08.803\"}}}  \n",
       "\n",
       "[5 rows x 26 columns]"
      ]
     },
     "execution_count": 206,
     "metadata": {},
     "output_type": "execute_result"
    }
   ],
   "source": [
    "df_.head(5)"
   ]
  },
  {
   "cell_type": "code",
   "execution_count": 247,
   "metadata": {},
   "outputs": [
    {
     "data": {
      "text/plain": [
       "0      psize:17.9533\n",
       "1      psize:18.0761\n",
       "2      psize:18.1562\n",
       "3      psize:18.4837\n",
       "4      psize:18.5666\n",
       "           ...      \n",
       "448        psize:0.0\n",
       "449        psize:0.0\n",
       "450        psize:0.0\n",
       "451        psize:0.0\n",
       "452        psize:0.0\n",
       "Name: 19, Length: 453, dtype: object"
      ]
     },
     "execution_count": 247,
     "metadata": {},
     "output_type": "execute_result"
    }
   ],
   "source": [
    "df_.iloc[:,20]"
   ]
  },
  {
   "cell_type": "code",
   "execution_count": null,
   "metadata": {},
   "outputs": [],
   "source": []
  },
  {
   "cell_type": "markdown",
   "metadata": {},
   "source": [
    "4,5 --> xy average  \n",
    "7,8 --> xy left eye  \n",
    "9,10 --> pcenter left eye  \n",
    "11 --> psize left  \n",
    "16,17 --> xy right eye  \n",
    "18,19 --> pcenter right eye  \n",
    "20 --> psize left  \n"
   ]
  },
  {
   "cell_type": "code",
   "execution_count": 259,
   "metadata": {},
   "outputs": [],
   "source": [
    "pos_x = []\n",
    "pos_y = []\n",
    "time_ = []\n",
    "for i in range(len(df_)):\n",
    "    x = float(df_.iloc[:,16][i].split(':')[-1])\n",
    "    pos_x.append(x)\n",
    "    y = float(df_.iloc[:,17][i].split(':')[1].split('}')[0])\n",
    "    pos_y.append(y)\n",
    "    time = df_.iloc[:,-1][i].split(' ')[-1].split('}')[0].split('\"')[0]\n",
    "    time_.append(time)"
   ]
  },
  {
   "cell_type": "code",
   "execution_count": 260,
   "metadata": {},
   "outputs": [
    {
     "data": {
      "text/html": [
       "<div>\n",
       "<style scoped>\n",
       "    .dataframe tbody tr th:only-of-type {\n",
       "        vertical-align: middle;\n",
       "    }\n",
       "\n",
       "    .dataframe tbody tr th {\n",
       "        vertical-align: top;\n",
       "    }\n",
       "\n",
       "    .dataframe thead th {\n",
       "        text-align: right;\n",
       "    }\n",
       "</style>\n",
       "<table border=\"1\" class=\"dataframe\">\n",
       "  <thead>\n",
       "    <tr style=\"text-align: right;\">\n",
       "      <th></th>\n",
       "      <th>time</th>\n",
       "      <th>x</th>\n",
       "      <th>y</th>\n",
       "    </tr>\n",
       "  </thead>\n",
       "  <tbody>\n",
       "    <tr>\n",
       "      <th>0</th>\n",
       "      <td>18:02:08.670</td>\n",
       "      <td>272.5606</td>\n",
       "      <td>101.9664</td>\n",
       "    </tr>\n",
       "    <tr>\n",
       "      <th>1</th>\n",
       "      <td>18:02:08.703</td>\n",
       "      <td>268.8446</td>\n",
       "      <td>105.7639</td>\n",
       "    </tr>\n",
       "    <tr>\n",
       "      <th>2</th>\n",
       "      <td>18:02:08.737</td>\n",
       "      <td>266.4558</td>\n",
       "      <td>100.0004</td>\n",
       "    </tr>\n",
       "    <tr>\n",
       "      <th>3</th>\n",
       "      <td>18:02:08.770</td>\n",
       "      <td>270.5248</td>\n",
       "      <td>107.6032</td>\n",
       "    </tr>\n",
       "    <tr>\n",
       "      <th>4</th>\n",
       "      <td>18:02:08.803</td>\n",
       "      <td>272.3723</td>\n",
       "      <td>111.7071</td>\n",
       "    </tr>\n",
       "    <tr>\n",
       "      <th>...</th>\n",
       "      <td>...</td>\n",
       "      <td>...</td>\n",
       "      <td>...</td>\n",
       "    </tr>\n",
       "    <tr>\n",
       "      <th>448</th>\n",
       "      <td>18:02:23.592</td>\n",
       "      <td>0.0000</td>\n",
       "      <td>0.0000</td>\n",
       "    </tr>\n",
       "    <tr>\n",
       "      <th>449</th>\n",
       "      <td>18:02:23.625</td>\n",
       "      <td>0.0000</td>\n",
       "      <td>0.0000</td>\n",
       "    </tr>\n",
       "    <tr>\n",
       "      <th>450</th>\n",
       "      <td>18:02:23.659</td>\n",
       "      <td>0.0000</td>\n",
       "      <td>0.0000</td>\n",
       "    </tr>\n",
       "    <tr>\n",
       "      <th>451</th>\n",
       "      <td>18:02:23.692</td>\n",
       "      <td>0.0000</td>\n",
       "      <td>0.0000</td>\n",
       "    </tr>\n",
       "    <tr>\n",
       "      <th>452</th>\n",
       "      <td>18:02:23.725</td>\n",
       "      <td>0.0000</td>\n",
       "      <td>0.0000</td>\n",
       "    </tr>\n",
       "  </tbody>\n",
       "</table>\n",
       "<p>453 rows × 3 columns</p>\n",
       "</div>"
      ],
      "text/plain": [
       "             time         x         y\n",
       "0    18:02:08.670  272.5606  101.9664\n",
       "1    18:02:08.703  268.8446  105.7639\n",
       "2    18:02:08.737  266.4558  100.0004\n",
       "3    18:02:08.770  270.5248  107.6032\n",
       "4    18:02:08.803  272.3723  111.7071\n",
       "..            ...       ...       ...\n",
       "448  18:02:23.592    0.0000    0.0000\n",
       "449  18:02:23.625    0.0000    0.0000\n",
       "450  18:02:23.659    0.0000    0.0000\n",
       "451  18:02:23.692    0.0000    0.0000\n",
       "452  18:02:23.725    0.0000    0.0000\n",
       "\n",
       "[453 rows x 3 columns]"
      ]
     },
     "execution_count": 260,
     "metadata": {},
     "output_type": "execute_result"
    }
   ],
   "source": [
    "df = pd.DataFrame({'x':pos_x, 'y':pos_y, 'time': time_})\n",
    "df"
   ]
  },
  {
   "cell_type": "code",
   "execution_count": 261,
   "metadata": {},
   "outputs": [],
   "source": [
    "df = df.loc[df['x']!=0]\n",
    "df = df.loc[df['y']!=0]"
   ]
  },
  {
   "cell_type": "code",
   "execution_count": 257,
   "metadata": {},
   "outputs": [
    {
     "data": {
      "text/plain": [
       "451"
      ]
     },
     "execution_count": 257,
     "metadata": {},
     "output_type": "execute_result"
    }
   ],
   "source": [
    "len(df)"
   ]
  },
  {
   "cell_type": "code",
   "execution_count": null,
   "metadata": {},
   "outputs": [],
   "source": []
  },
  {
   "cell_type": "code",
   "execution_count": null,
   "metadata": {},
   "outputs": [],
   "source": []
  },
  {
   "cell_type": "code",
   "execution_count": 262,
   "metadata": {},
   "outputs": [
    {
     "data": {
      "text/plain": [
       "[<matplotlib.lines.Line2D at 0x2c68bbe4f60>]"
      ]
     },
     "execution_count": 262,
     "metadata": {},
     "output_type": "execute_result"
    },
    {
     "data": {
      "image/png": "[encoded data removed]",
      "text/plain": [
       "<Figure size 432x288 with 1 Axes>"
      ]
     },
     "metadata": {
      "needs_background": "light"
     },
     "output_type": "display_data"
    }
   ],
   "source": [
    "plt.title('xy right eye')\n",
    "plt.plot(df.x, df.y)"
   ]
  },
  {
   "cell_type": "code",
   "execution_count": 258,
   "metadata": {},
   "outputs": [
    {
     "data": {
      "text/plain": [
       "[<matplotlib.lines.Line2D at 0x2c68bba8b70>]"
      ]
     },
     "execution_count": 258,
     "metadata": {},
     "output_type": "execute_result"
    },
    {
     "data": {
      "image/png": "[encoded data removed]",
      "text/plain": [
       "<Figure size 432x288 with 1 Axes>"
      ]
     },
     "metadata": {
      "needs_background": "light"
     },
     "output_type": "display_data"
    }
   ],
   "source": [
    "plt.title('pcenter left eye')\n",
    "plt.plot(df.x, df.y)"
   ]
  },
  {
   "cell_type": "code",
   "execution_count": 253,
   "metadata": {},
   "outputs": [
    {
     "data": {
      "text/plain": [
       "[<matplotlib.lines.Line2D at 0x2c68bb71ef0>]"
      ]
     },
     "execution_count": 253,
     "metadata": {},
     "output_type": "execute_result"
    },
    {
     "data": {
      "image/png": "[encoded data removed]",
      "text/plain": [
       "<Figure size 432x288 with 1 Axes>"
      ]
     },
     "metadata": {
      "needs_background": "light"
     },
     "output_type": "display_data"
    }
   ],
   "source": [
    "plt.title('xy left eye')\n",
    "plt.plot(df.x, df.y)"
   ]
  },
  {
   "cell_type": "code",
   "execution_count": 219,
   "metadata": {},
   "outputs": [
    {
     "data": {
      "text/plain": [
       "[<matplotlib.lines.Line2D at 0x2c68bb29d30>]"
      ]
     },
     "execution_count": 219,
     "metadata": {},
     "output_type": "execute_result"
    },
    {
     "data": {
      "image/png": "[encoded data removed]",
      "text/plain": [
       "<Figure size 432x288 with 1 Axes>"
      ]
     },
     "metadata": {
      "needs_background": "light"
     },
     "output_type": "display_data"
    }
   ],
   "source": [
    "plt.title('xy avg')\n",
    "plt.plot(df.x, df.y)"
   ]
  },
  {
   "cell_type": "code",
   "execution_count": null,
   "metadata": {},
   "outputs": [],
   "source": []
  },
  {
   "cell_type": "code",
   "execution_count": null,
   "metadata": {},
   "outputs": [],
   "source": []
  },
  {
   "cell_type": "code",
   "execution_count": null,
   "metadata": {},
   "outputs": [],
   "source": []
  },
  {
   "cell_type": "code",
   "execution_count": 158,
   "metadata": {},
   "outputs": [
    {
     "data": {
      "text/plain": [
       "[<matplotlib.lines.Line2D at 0x2c68a92db70>]"
      ]
     },
     "execution_count": 158,
     "metadata": {},
     "output_type": "execute_result"
    },
    {
     "data": {
      "image/png": "[encoded data removed]",
      "text/plain": [
       "<Figure size 432x288 with 1 Axes>"
      ]
     },
     "metadata": {
      "needs_background": "light"
     },
     "output_type": "display_data"
    }
   ],
   "source": [
    "plt.plot(df.x, df.y, 'bo')"
   ]
  },
  {
   "cell_type": "code",
   "execution_count": null,
   "metadata": {},
   "outputs": [],
   "source": []
  },
  {
   "cell_type": "code",
   "execution_count": null,
   "metadata": {},
   "outputs": [],
   "source": []
  },
  {
   "cell_type": "code",
   "execution_count": null,
   "metadata": {},
   "outputs": [],
   "source": []
  },
  {
   "cell_type": "code",
   "execution_count": null,
   "metadata": {},
   "outputs": [],
   "source": []
  },
  {
   "cell_type": "code",
   "execution_count": null,
   "metadata": {},
   "outputs": [],
   "source": []
  },
  {
   "cell_type": "code",
   "execution_count": 119,
   "metadata": {},
   "outputs": [],
   "source": [
    "dims = (int(1920/100),int(1080/100))"
   ]
  },
  {
   "cell_type": "code",
   "execution_count": 120,
   "metadata": {},
   "outputs": [
    {
     "data": {
      "image/png": "[encoded data removed]",
      "text/plain": [
       "<Figure size 432x288 with 1 Axes>"
      ]
     },
     "metadata": {
      "needs_background": "light"
     },
     "output_type": "display_data"
    }
   ],
   "source": [
    "heatmap, xedges, yedges = np.histogram2d(df_.x, df_.y, bins=dims)\n",
    "extent = [xedges[0], xedges[-1], yedges[0], yedges[-1]]\n",
    "\n",
    "plt.clf()\n",
    "plt.imshow(heatmap.T) #, extent=extent, origin='lower')\n",
    "plt.show()"
   ]
  },
  {
   "cell_type": "code",
   "execution_count": null,
   "metadata": {},
   "outputs": [],
   "source": []
  },
  {
   "cell_type": "code",
   "execution_count": 108,
   "metadata": {},
   "outputs": [],
   "source": [
    "dims = (df_.x.max(), df_.y.max())"
   ]
  },
  {
   "cell_type": "code",
   "execution_count": 109,
   "metadata": {},
   "outputs": [
    {
     "data": {
      "image/png": "[encoded data removed]",
      "text/plain": [
       "<Figure size 432x288 with 1 Axes>"
      ]
     },
     "metadata": {
      "needs_background": "light"
     },
     "output_type": "display_data"
    }
   ],
   "source": [
    "heatmap, xedges, yedges = np.histogram2d(df_.x, df_.y, bins=dims)\n",
    "extent = [xedges[0], xedges[-1], yedges[0], yedges[-1]]\n",
    "\n",
    "plt.clf()\n",
    "plt.imshow(heatmap.T) #, extent=extent, origin='lower')\n",
    "plt.show()"
   ]
  },
  {
   "cell_type": "code",
   "execution_count": 112,
   "metadata": {},
   "outputs": [
    {
     "data": {
      "text/plain": [
       "array([0., 0., 0., ..., 0., 0., 1.])"
      ]
     },
     "execution_count": 112,
     "metadata": {},
     "output_type": "execute_result"
    }
   ],
   "source": [
    "sum(heatmap[3186:])"
   ]
  },
  {
   "cell_type": "code",
   "execution_count": null,
   "metadata": {},
   "outputs": [],
   "source": []
  },
  {
   "cell_type": "code",
   "execution_count": null,
   "metadata": {},
   "outputs": [],
   "source": []
  },
  {
   "cell_type": "code",
   "execution_count": 88,
   "metadata": {},
   "outputs": [
    {
     "data": {
      "text/plain": [
       "<matplotlib.axes._subplots.AxesSubplot at 0x2c68a2cc208>"
      ]
     },
     "execution_count": 88,
     "metadata": {},
     "output_type": "execute_result"
    },
    {
     "data": {
      "image/png": "[encoded data removed]",
      "text/plain": [
       "<Figure size 432x288 with 1 Axes>"
      ]
     },
     "metadata": {
      "needs_background": "light"
     },
     "output_type": "display_data"
    }
   ],
   "source": [
    "sns.scatterplot(x='x', y='y', data=df_)"
   ]
  },
  {
   "cell_type": "code",
   "execution_count": 104,
   "metadata": {},
   "outputs": [
    {
     "ename": "NameError",
     "evalue": "name 'df_x' is not defined",
     "output_type": "error",
     "traceback": [
      "\u001b[1;31m---------------------------------------------------------------------------\u001b[0m",
      "\u001b[1;31mNameError\u001b[0m                                 Traceback (most recent call last)",
      "\u001b[1;32m<ipython-input-104-4776212d275f>\u001b[0m in \u001b[0;36m<module>\u001b[1;34m()\u001b[0m\n\u001b[1;32m----> 1\u001b[1;33m \u001b[0mdf_x\u001b[0m\u001b[1;33m\u001b[0m\u001b[0m\n\u001b[0m",
      "\u001b[1;31mNameError\u001b[0m: name 'df_x' is not defined"
     ]
    }
   ],
   "source": [
    "df_x"
   ]
  },
  {
   "cell_type": "code",
   "execution_count": 98,
   "metadata": {},
   "outputs": [
    {
     "data": {
      "image/png": "[encoded data removed]",
      "text/plain": [
       "<Figure size 432x288 with 1 Axes>"
      ]
     },
     "metadata": {
      "needs_background": "light"
     },
     "output_type": "display_data"
    }
   ],
   "source": [
    "\n",
    "heatmap, xedges, yedges = np.histogram2d(df_.x, df_.y, bins=(3344, 1818))\n",
    "extent = [xedges[0], xedges[-1], yedges[0], yedges[-1]]\n",
    "\n",
    "plt.clf()\n",
    "plt.imshow(heatmap.T) #, extent=extent, origin='lower')\n",
    "plt.show()"
   ]
  },
  {
   "cell_type": "code",
   "execution_count": 102,
   "metadata": {},
   "outputs": [
    {
     "data": {
      "text/plain": [
       "(3344, 1818)"
      ]
     },
     "execution_count": 102,
     "metadata": {},
     "output_type": "execute_result"
    }
   ],
   "source": [
    "np.shape(heatmap)"
   ]
  },
  {
   "cell_type": "code",
   "execution_count": 94,
   "metadata": {},
   "outputs": [
    {
     "name": "stdout",
     "output_type": "stream",
     "text": [
      "3344.304\n",
      "1818.7042\n"
     ]
    }
   ],
   "source": [
    "print(df_.x.max())\n",
    "print(df_.y.max())"
   ]
  },
  {
   "cell_type": "code",
   "execution_count": 81,
   "metadata": {},
   "outputs": [
    {
     "data": {
      "text/plain": [
       "'16:58:40.802'"
      ]
     },
     "execution_count": 81,
     "metadata": {},
     "output_type": "execute_result"
    }
   ],
   "source": [
    "df.iloc[:,-1][0].split(' ')[-1].split('}')[0].split('\"')[0]"
   ]
  },
  {
   "cell_type": "code",
   "execution_count": null,
   "metadata": {},
   "outputs": [],
   "source": []
  },
  {
   "cell_type": "code",
   "execution_count": 73,
   "metadata": {},
   "outputs": [
    {
     "data": {
      "text/plain": [
       "1360.438"
      ]
     },
     "execution_count": 73,
     "metadata": {},
     "output_type": "execute_result"
    }
   ],
   "source": [
    "float(df.iloc[:,5][0].split(':')[1].split('}')[0])"
   ]
  },
  {
   "cell_type": "code",
   "execution_count": 53,
   "metadata": {},
   "outputs": [
    {
     "data": {
      "text/html": [
       "<div>\n",
       "<style scoped>\n",
       "    .dataframe tbody tr th:only-of-type {\n",
       "        vertical-align: middle;\n",
       "    }\n",
       "\n",
       "    .dataframe tbody tr th {\n",
       "        vertical-align: top;\n",
       "    }\n",
       "\n",
       "    .dataframe thead th {\n",
       "        text-align: right;\n",
       "    }\n",
       "</style>\n",
       "<table border=\"1\" class=\"dataframe\">\n",
       "  <thead>\n",
       "    <tr style=\"text-align: right;\">\n",
       "      <th></th>\n",
       "      <th>0</th>\n",
       "      <th>1</th>\n",
       "      <th>2</th>\n",
       "      <th>3</th>\n",
       "      <th>4</th>\n",
       "      <th>5</th>\n",
       "      <th>6</th>\n",
       "      <th>7</th>\n",
       "      <th>8</th>\n",
       "      <th>9</th>\n",
       "      <th>...</th>\n",
       "      <th>15</th>\n",
       "      <th>16</th>\n",
       "      <th>17</th>\n",
       "      <th>18</th>\n",
       "      <th>19</th>\n",
       "      <th>20</th>\n",
       "      <th>21</th>\n",
       "      <th>22</th>\n",
       "      <th>23</th>\n",
       "      <th>24</th>\n",
       "    </tr>\n",
       "  </thead>\n",
       "  <tbody>\n",
       "    <tr>\n",
       "      <th>0</th>\n",
       "      <td>{\"category\":\"tracker\"</td>\n",
       "      <td>request:\"get\"</td>\n",
       "      <td>statuscode:200</td>\n",
       "      <td>values:{\"frame\":{\"avg\":{\"x\":3192.5493</td>\n",
       "      <td>y:1360.4380}</td>\n",
       "      <td>fix:false</td>\n",
       "      <td>lefteye:{\"avg\":{\"x\":3208.2761</td>\n",
       "      <td>y:1475.5612}</td>\n",
       "      <td>pcenter:{\"x\":0.4889</td>\n",
       "      <td>y:0.5135}</td>\n",
       "      <td>...</td>\n",
       "      <td>righteye:{\"avg\":{\"x\":3162.4949</td>\n",
       "      <td>y:1158.6604}</td>\n",
       "      <td>pcenter:{\"x\":0.6350</td>\n",
       "      <td>y:0.5604}</td>\n",
       "      <td>psize:18.7045</td>\n",
       "      <td>raw:{\"x\":3162.4949</td>\n",
       "      <td>y:1158.6604}}</td>\n",
       "      <td>state:7</td>\n",
       "      <td>time:745846434</td>\n",
       "      <td>timestamp:\"2022-02-24 16:58:40.802\"}}}</td>\n",
       "    </tr>\n",
       "    <tr>\n",
       "      <th>1</th>\n",
       "      <td>{\"category\":\"tracker\"</td>\n",
       "      <td>request:\"get\"</td>\n",
       "      <td>statuscode:200</td>\n",
       "      <td>values:{\"frame\":{\"avg\":{\"x\":3188.0786</td>\n",
       "      <td>y:1318.4167}</td>\n",
       "      <td>fix:false</td>\n",
       "      <td>lefteye:{\"avg\":{\"x\":3206.9280</td>\n",
       "      <td>y:1471.0730}</td>\n",
       "      <td>pcenter:{\"x\":0.4887</td>\n",
       "      <td>y:0.5137}</td>\n",
       "      <td>...</td>\n",
       "      <td>righteye:{\"avg\":{\"x\":3170.5042</td>\n",
       "      <td>y:1153.1619}</td>\n",
       "      <td>pcenter:{\"x\":0.6348</td>\n",
       "      <td>y:0.5605}</td>\n",
       "      <td>psize:18.7830</td>\n",
       "      <td>raw:{\"x\":3178.4932</td>\n",
       "      <td>y:1147.6772}}</td>\n",
       "      <td>state:7</td>\n",
       "      <td>time:745846468</td>\n",
       "      <td>timestamp:\"2022-02-24 16:58:40.836\"}}}</td>\n",
       "    </tr>\n",
       "    <tr>\n",
       "      <th>2</th>\n",
       "      <td>{\"category\":\"tracker\"</td>\n",
       "      <td>request:\"get\"</td>\n",
       "      <td>statuscode:200</td>\n",
       "      <td>values:{\"frame\":{\"avg\":{\"x\":3186.3933</td>\n",
       "      <td>y:1321.2983}</td>\n",
       "      <td>fix:false</td>\n",
       "      <td>lefteye:{\"avg\":{\"x\":3205.0676</td>\n",
       "      <td>y:1470.4415}</td>\n",
       "      <td>pcenter:{\"x\":0.4885</td>\n",
       "      <td>y:0.5138}</td>\n",
       "      <td>...</td>\n",
       "      <td>righteye:{\"avg\":{\"x\":3164.4788</td>\n",
       "      <td>y:1146.2719}</td>\n",
       "      <td>pcenter:{\"x\":0.6345</td>\n",
       "      <td>y:0.5606}</td>\n",
       "      <td>psize:18.8117</td>\n",
       "      <td>raw:{\"x\":3152.4631</td>\n",
       "      <td>y:1132.6069}}</td>\n",
       "      <td>state:7</td>\n",
       "      <td>time:745846501</td>\n",
       "      <td>timestamp:\"2022-02-24 16:58:40.869\"}}}</td>\n",
       "    </tr>\n",
       "    <tr>\n",
       "      <th>3</th>\n",
       "      <td>{\"category\":\"tracker\"</td>\n",
       "      <td>request:\"get\"</td>\n",
       "      <td>statuscode:200</td>\n",
       "      <td>values:{\"frame\":{\"avg\":{\"x\":3130.3647</td>\n",
       "      <td>y:1138.7164}</td>\n",
       "      <td>fix:false</td>\n",
       "      <td>lefteye:{\"avg\":{\"x\":3048.8669</td>\n",
       "      <td>y:1377.8784}</td>\n",
       "      <td>pcenter:{\"x\":0.4876</td>\n",
       "      <td>y:0.5131}</td>\n",
       "      <td>...</td>\n",
       "      <td>righteye:{\"avg\":{\"x\":3130.3647</td>\n",
       "      <td>y:1138.7164}</td>\n",
       "      <td>pcenter:{\"x\":0.6337</td>\n",
       "      <td>y:0.560}</td>\n",
       "      <td>psize:19.0406</td>\n",
       "      <td>raw:{\"x\":3029.2817</td>\n",
       "      <td>y:1116.4486}}</td>\n",
       "      <td>state:7</td>\n",
       "      <td>time:745846534</td>\n",
       "      <td>timestamp:\"2022-02-24 16:58:40.902\"}}}</td>\n",
       "    </tr>\n",
       "    <tr>\n",
       "      <th>4</th>\n",
       "      <td>{\"category\":\"tracker\"</td>\n",
       "      <td>request:\"get\"</td>\n",
       "      <td>statuscode:200</td>\n",
       "      <td>values:{\"frame\":{\"avg\":{\"x\":3107.0664</td>\n",
       "      <td>y:1236.030}</td>\n",
       "      <td>fix:false</td>\n",
       "      <td>lefteye:{\"avg\":{\"x\":3071.9919</td>\n",
       "      <td>y:1410.3341}</td>\n",
       "      <td>pcenter:{\"x\":0.4881</td>\n",
       "      <td>y:0.5132}</td>\n",
       "      <td>...</td>\n",
       "      <td>righteye:{\"avg\":{\"x\":3114.5413</td>\n",
       "      <td>y:1132.6543}</td>\n",
       "      <td>pcenter:{\"x\":0.6339</td>\n",
       "      <td>y:0.5601}</td>\n",
       "      <td>psize:19.2129</td>\n",
       "      <td>raw:{\"x\":3053.510</td>\n",
       "      <td>y:1109.2177}}</td>\n",
       "      <td>state:7</td>\n",
       "      <td>time:745846567</td>\n",
       "      <td>timestamp:\"2022-02-24 16:58:40.935\"}}}</td>\n",
       "    </tr>\n",
       "    <tr>\n",
       "      <th>5</th>\n",
       "      <td>{\"category\":\"tracker\"</td>\n",
       "      <td>request:\"get\"</td>\n",
       "      <td>statuscode:200</td>\n",
       "      <td>values:{\"frame\":{\"avg\":{\"x\":3097.9880</td>\n",
       "      <td>y:1246.9502}</td>\n",
       "      <td>fix:false</td>\n",
       "      <td>lefteye:{\"avg\":{\"x\":3058.8796</td>\n",
       "      <td>y:1412.2914}</td>\n",
       "      <td>pcenter:{\"x\":0.4886</td>\n",
       "      <td>y:0.5131}</td>\n",
       "      <td>...</td>\n",
       "      <td>righteye:{\"avg\":{\"x\":3100.5928</td>\n",
       "      <td>y:1128.4816}</td>\n",
       "      <td>pcenter:{\"x\":0.6342</td>\n",
       "      <td>y:0.5603}</td>\n",
       "      <td>psize:19.2484</td>\n",
       "      <td>raw:{\"x\":3034.5881</td>\n",
       "      <td>y:1108.8330}}</td>\n",
       "      <td>state:7</td>\n",
       "      <td>time:745846601</td>\n",
       "      <td>timestamp:\"2022-02-24 16:58:40.969\"}}}</td>\n",
       "    </tr>\n",
       "    <tr>\n",
       "      <th>6</th>\n",
       "      <td>{\"category\":\"tracker\"</td>\n",
       "      <td>request:\"get\"</td>\n",
       "      <td>statuscode:200</td>\n",
       "      <td>values:{\"frame\":{\"avg\":{\"x\":3093.5693</td>\n",
       "      <td>y:1238.3721}</td>\n",
       "      <td>fix:false</td>\n",
       "      <td>lefteye:{\"avg\":{\"x\":3058.6675</td>\n",
       "      <td>y:1401.1631}</td>\n",
       "      <td>pcenter:{\"x\":0.4894</td>\n",
       "      <td>y:0.5127}</td>\n",
       "      <td>...</td>\n",
       "      <td>righteye:{\"avg\":{\"x\":3090.4946</td>\n",
       "      <td>y:1128.6182}</td>\n",
       "      <td>pcenter:{\"x\":0.6347</td>\n",
       "      <td>y:0.5605}</td>\n",
       "      <td>psize:19.4785</td>\n",
       "      <td>raw:{\"x\":3034.960</td>\n",
       "      <td>y:1130.3337}}</td>\n",
       "      <td>state:7</td>\n",
       "      <td>time:745846634</td>\n",
       "      <td>timestamp:\"2022-02-24 16:58:41.002\"}}}</td>\n",
       "    </tr>\n",
       "    <tr>\n",
       "      <th>7</th>\n",
       "      <td>{\"category\":\"tracker\"</td>\n",
       "      <td>request:\"get\"</td>\n",
       "      <td>statuscode:200</td>\n",
       "      <td>values:{\"frame\":{\"avg\":{\"x\":3088.6548</td>\n",
       "      <td>y:1245.3273}</td>\n",
       "      <td>fix:false</td>\n",
       "      <td>lefteye:{\"avg\":{\"x\":3058.5828</td>\n",
       "      <td>y:1402.4757}</td>\n",
       "      <td>pcenter:{\"x\":0.4901</td>\n",
       "      <td>y:0.5128}</td>\n",
       "      <td>...</td>\n",
       "      <td>righteye:{\"avg\":{\"x\":3081.9736</td>\n",
       "      <td>y:1129.6149}</td>\n",
       "      <td>pcenter:{\"x\":0.6353</td>\n",
       "      <td>y:0.5608}</td>\n",
       "      <td>psize:19.7932</td>\n",
       "      <td>raw:{\"x\":3028.9302</td>\n",
       "      <td>y:1137.1251}}</td>\n",
       "      <td>state:7</td>\n",
       "      <td>time:745846667</td>\n",
       "      <td>timestamp:\"2022-02-24 16:58:41.035\"}}}</td>\n",
       "    </tr>\n",
       "    <tr>\n",
       "      <th>8</th>\n",
       "      <td>{\"category\":\"tracker\"</td>\n",
       "      <td>request:\"get\"</td>\n",
       "      <td>statuscode:200</td>\n",
       "      <td>values:{\"frame\":{\"avg\":{\"x\":3084.9636</td>\n",
       "      <td>y:1245.3341}</td>\n",
       "      <td>fix:true</td>\n",
       "      <td>lefteye:{\"avg\":{\"x\":3059.1174</td>\n",
       "      <td>y:1398.2651}</td>\n",
       "      <td>pcenter:{\"x\":0.4909</td>\n",
       "      <td>y:0.5126}</td>\n",
       "      <td>...</td>\n",
       "      <td>righteye:{\"avg\":{\"x\":3074.1208</td>\n",
       "      <td>y:1127.2998}</td>\n",
       "      <td>pcenter:{\"x\":0.6358</td>\n",
       "      <td>y:0.5610}</td>\n",
       "      <td>psize:19.6888</td>\n",
       "      <td>raw:{\"x\":3019.8137</td>\n",
       "      <td>y:1110.6233}}</td>\n",
       "      <td>state:7</td>\n",
       "      <td>time:745846701</td>\n",
       "      <td>timestamp:\"2022-02-24 16:58:41.069\"}}}</td>\n",
       "    </tr>\n",
       "    <tr>\n",
       "      <th>10</th>\n",
       "      <td>{\"category\":\"tracker\"</td>\n",
       "      <td>request:\"get\"</td>\n",
       "      <td>statuscode:200</td>\n",
       "      <td>values:{\"frame\":{\"avg\":{\"x\":3081.8843</td>\n",
       "      <td>y:1246.8584}</td>\n",
       "      <td>fix:true</td>\n",
       "      <td>lefteye:{\"avg\":{\"x\":3058.6782</td>\n",
       "      <td>y:1397.1122}</td>\n",
       "      <td>pcenter:{\"x\":0.4913</td>\n",
       "      <td>y:0.5124}</td>\n",
       "      <td>...</td>\n",
       "      <td>righteye:{\"avg\":{\"x\":3070.6343</td>\n",
       "      <td>y:1126.5854}</td>\n",
       "      <td>pcenter:{\"x\":0.6363</td>\n",
       "      <td>y:0.5612}</td>\n",
       "      <td>psize:19.8574</td>\n",
       "      <td>raw:{\"x\":3047.3286</td>\n",
       "      <td>y:1121.6810}}</td>\n",
       "      <td>state:7</td>\n",
       "      <td>time:745846734</td>\n",
       "      <td>timestamp:\"2022-02-24 16:58:41.102\"}}}</td>\n",
       "    </tr>\n",
       "  </tbody>\n",
       "</table>\n",
       "<p>10 rows × 25 columns</p>\n",
       "</div>"
      ],
      "text/plain": [
       "                       0              1               2   \\\n",
       "0   {\"category\":\"tracker\"  request:\"get\"  statuscode:200   \n",
       "1   {\"category\":\"tracker\"  request:\"get\"  statuscode:200   \n",
       "2   {\"category\":\"tracker\"  request:\"get\"  statuscode:200   \n",
       "3   {\"category\":\"tracker\"  request:\"get\"  statuscode:200   \n",
       "4   {\"category\":\"tracker\"  request:\"get\"  statuscode:200   \n",
       "5   {\"category\":\"tracker\"  request:\"get\"  statuscode:200   \n",
       "6   {\"category\":\"tracker\"  request:\"get\"  statuscode:200   \n",
       "7   {\"category\":\"tracker\"  request:\"get\"  statuscode:200   \n",
       "8   {\"category\":\"tracker\"  request:\"get\"  statuscode:200   \n",
       "10  {\"category\":\"tracker\"  request:\"get\"  statuscode:200   \n",
       "\n",
       "                                       3             4          5   \\\n",
       "0   values:{\"frame\":{\"avg\":{\"x\":3192.5493  y:1360.4380}  fix:false   \n",
       "1   values:{\"frame\":{\"avg\":{\"x\":3188.0786  y:1318.4167}  fix:false   \n",
       "2   values:{\"frame\":{\"avg\":{\"x\":3186.3933  y:1321.2983}  fix:false   \n",
       "3   values:{\"frame\":{\"avg\":{\"x\":3130.3647  y:1138.7164}  fix:false   \n",
       "4   values:{\"frame\":{\"avg\":{\"x\":3107.0664   y:1236.030}  fix:false   \n",
       "5   values:{\"frame\":{\"avg\":{\"x\":3097.9880  y:1246.9502}  fix:false   \n",
       "6   values:{\"frame\":{\"avg\":{\"x\":3093.5693  y:1238.3721}  fix:false   \n",
       "7   values:{\"frame\":{\"avg\":{\"x\":3088.6548  y:1245.3273}  fix:false   \n",
       "8   values:{\"frame\":{\"avg\":{\"x\":3084.9636  y:1245.3341}   fix:true   \n",
       "10  values:{\"frame\":{\"avg\":{\"x\":3081.8843  y:1246.8584}   fix:true   \n",
       "\n",
       "                               6             7                    8   \\\n",
       "0   lefteye:{\"avg\":{\"x\":3208.2761  y:1475.5612}  pcenter:{\"x\":0.4889   \n",
       "1   lefteye:{\"avg\":{\"x\":3206.9280  y:1471.0730}  pcenter:{\"x\":0.4887   \n",
       "2   lefteye:{\"avg\":{\"x\":3205.0676  y:1470.4415}  pcenter:{\"x\":0.4885   \n",
       "3   lefteye:{\"avg\":{\"x\":3048.8669  y:1377.8784}  pcenter:{\"x\":0.4876   \n",
       "4   lefteye:{\"avg\":{\"x\":3071.9919  y:1410.3341}  pcenter:{\"x\":0.4881   \n",
       "5   lefteye:{\"avg\":{\"x\":3058.8796  y:1412.2914}  pcenter:{\"x\":0.4886   \n",
       "6   lefteye:{\"avg\":{\"x\":3058.6675  y:1401.1631}  pcenter:{\"x\":0.4894   \n",
       "7   lefteye:{\"avg\":{\"x\":3058.5828  y:1402.4757}  pcenter:{\"x\":0.4901   \n",
       "8   lefteye:{\"avg\":{\"x\":3059.1174  y:1398.2651}  pcenter:{\"x\":0.4909   \n",
       "10  lefteye:{\"avg\":{\"x\":3058.6782  y:1397.1122}  pcenter:{\"x\":0.4913   \n",
       "\n",
       "           9   ...                              15            16  \\\n",
       "0   y:0.5135}  ...  righteye:{\"avg\":{\"x\":3162.4949  y:1158.6604}   \n",
       "1   y:0.5137}  ...  righteye:{\"avg\":{\"x\":3170.5042  y:1153.1619}   \n",
       "2   y:0.5138}  ...  righteye:{\"avg\":{\"x\":3164.4788  y:1146.2719}   \n",
       "3   y:0.5131}  ...  righteye:{\"avg\":{\"x\":3130.3647  y:1138.7164}   \n",
       "4   y:0.5132}  ...  righteye:{\"avg\":{\"x\":3114.5413  y:1132.6543}   \n",
       "5   y:0.5131}  ...  righteye:{\"avg\":{\"x\":3100.5928  y:1128.4816}   \n",
       "6   y:0.5127}  ...  righteye:{\"avg\":{\"x\":3090.4946  y:1128.6182}   \n",
       "7   y:0.5128}  ...  righteye:{\"avg\":{\"x\":3081.9736  y:1129.6149}   \n",
       "8   y:0.5126}  ...  righteye:{\"avg\":{\"x\":3074.1208  y:1127.2998}   \n",
       "10  y:0.5124}  ...  righteye:{\"avg\":{\"x\":3070.6343  y:1126.5854}   \n",
       "\n",
       "                     17         18             19                  20  \\\n",
       "0   pcenter:{\"x\":0.6350  y:0.5604}  psize:18.7045  raw:{\"x\":3162.4949   \n",
       "1   pcenter:{\"x\":0.6348  y:0.5605}  psize:18.7830  raw:{\"x\":3178.4932   \n",
       "2   pcenter:{\"x\":0.6345  y:0.5606}  psize:18.8117  raw:{\"x\":3152.4631   \n",
       "3   pcenter:{\"x\":0.6337   y:0.560}  psize:19.0406  raw:{\"x\":3029.2817   \n",
       "4   pcenter:{\"x\":0.6339  y:0.5601}  psize:19.2129   raw:{\"x\":3053.510   \n",
       "5   pcenter:{\"x\":0.6342  y:0.5603}  psize:19.2484  raw:{\"x\":3034.5881   \n",
       "6   pcenter:{\"x\":0.6347  y:0.5605}  psize:19.4785   raw:{\"x\":3034.960   \n",
       "7   pcenter:{\"x\":0.6353  y:0.5608}  psize:19.7932  raw:{\"x\":3028.9302   \n",
       "8   pcenter:{\"x\":0.6358  y:0.5610}  psize:19.6888  raw:{\"x\":3019.8137   \n",
       "10  pcenter:{\"x\":0.6363  y:0.5612}  psize:19.8574  raw:{\"x\":3047.3286   \n",
       "\n",
       "               21       22              23  \\\n",
       "0   y:1158.6604}}  state:7  time:745846434   \n",
       "1   y:1147.6772}}  state:7  time:745846468   \n",
       "2   y:1132.6069}}  state:7  time:745846501   \n",
       "3   y:1116.4486}}  state:7  time:745846534   \n",
       "4   y:1109.2177}}  state:7  time:745846567   \n",
       "5   y:1108.8330}}  state:7  time:745846601   \n",
       "6   y:1130.3337}}  state:7  time:745846634   \n",
       "7   y:1137.1251}}  state:7  time:745846667   \n",
       "8   y:1110.6233}}  state:7  time:745846701   \n",
       "10  y:1121.6810}}  state:7  time:745846734   \n",
       "\n",
       "                                        24  \n",
       "0   timestamp:\"2022-02-24 16:58:40.802\"}}}  \n",
       "1   timestamp:\"2022-02-24 16:58:40.836\"}}}  \n",
       "2   timestamp:\"2022-02-24 16:58:40.869\"}}}  \n",
       "3   timestamp:\"2022-02-24 16:58:40.902\"}}}  \n",
       "4   timestamp:\"2022-02-24 16:58:40.935\"}}}  \n",
       "5   timestamp:\"2022-02-24 16:58:40.969\"}}}  \n",
       "6   timestamp:\"2022-02-24 16:58:41.002\"}}}  \n",
       "7   timestamp:\"2022-02-24 16:58:41.035\"}}}  \n",
       "8   timestamp:\"2022-02-24 16:58:41.069\"}}}  \n",
       "10  timestamp:\"2022-02-24 16:58:41.102\"}}}  \n",
       "\n",
       "[10 rows x 25 columns]"
      ]
     },
     "execution_count": 53,
     "metadata": {},
     "output_type": "execute_result"
    }
   ],
   "source": [
    "df.head(10)"
   ]
  },
  {
   "cell_type": "code",
   "execution_count": null,
   "metadata": {},
   "outputs": [],
   "source": []
  },
  {
   "cell_type": "code",
   "execution_count": 52,
   "metadata": {},
   "outputs": [
    {
     "data": {
      "text/plain": [
       "0                      {\"category\":\"tracker\"\n",
       "1                              request:\"get\"\n",
       "2                             statuscode:200\n",
       "3      values:{\"frame\":{\"avg\":{\"x\":3081.8843\n",
       "4                               y:1246.8584}\n",
       "5                                   fix:true\n",
       "6              lefteye:{\"avg\":{\"x\":3058.6782\n",
       "7                               y:1397.1122}\n",
       "8                        pcenter:{\"x\":0.4913\n",
       "9                                  y:0.5124}\n",
       "10                             psize:19.5989\n",
       "11                        raw:{\"x\":3056.5818\n",
       "12                             y:1391.8253}}\n",
       "13                        raw:{\"x\":3051.9551\n",
       "14                              y:1256.7532}\n",
       "15            righteye:{\"avg\":{\"x\":3070.6343\n",
       "16                              y:1126.5854}\n",
       "17                       pcenter:{\"x\":0.6363\n",
       "18                                 y:0.5612}\n",
       "19                             psize:19.8574\n",
       "20                        raw:{\"x\":3047.3286\n",
       "21                             y:1121.6810}}\n",
       "22                                   state:7\n",
       "23                            time:745846734\n",
       "24    timestamp:\"2022-02-24 16:58:41.102\"}}}\n",
       "Name: 10, dtype: object"
      ]
     },
     "execution_count": 52,
     "metadata": {},
     "output_type": "execute_result"
    }
   ],
   "source": [
    "df.iloc[9]"
   ]
  },
  {
   "cell_type": "code",
   "execution_count": 50,
   "metadata": {},
   "outputs": [
    {
     "name": "stdout",
     "output_type": "stream",
     "text": [
      "418\n"
     ]
    }
   ],
   "source": [
    "print(len(df))"
   ]
  },
  {
   "cell_type": "code",
   "execution_count": 51,
   "metadata": {},
   "outputs": [
    {
     "name": "stdout",
     "output_type": "stream",
     "text": [
      "0 3192.5493\n",
      "1 3188.0786\n",
      "2 3186.3933\n",
      "3 3130.3647\n",
      "4 3107.0664\n",
      "5 3097.9880\n",
      "6 3093.5693\n",
      "7 3088.6548\n",
      "8 3084.9636\n"
     ]
    },
    {
     "ename": "KeyError",
     "evalue": "9",
     "output_type": "error",
     "traceback": [
      "\u001b[1;31m---------------------------------------------------------------------------\u001b[0m",
      "\u001b[1;31mKeyError\u001b[0m                                  Traceback (most recent call last)",
      "\u001b[1;32m<ipython-input-51-68b14d600ac5>\u001b[0m in \u001b[0;36m<module>\u001b[1;34m()\u001b[0m\n\u001b[0;32m      1\u001b[0m \u001b[1;32mfor\u001b[0m \u001b[0mi\u001b[0m \u001b[1;32min\u001b[0m \u001b[0mrange\u001b[0m\u001b[1;33m(\u001b[0m\u001b[0mlen\u001b[0m\u001b[1;33m(\u001b[0m\u001b[0mdf\u001b[0m\u001b[1;33m)\u001b[0m\u001b[1;33m)\u001b[0m\u001b[1;33m:\u001b[0m\u001b[1;33m\u001b[0m\u001b[0m\n\u001b[1;32m----> 2\u001b[1;33m     \u001b[0mx\u001b[0m \u001b[1;33m=\u001b[0m \u001b[0mdf\u001b[0m\u001b[1;33m.\u001b[0m\u001b[0miloc\u001b[0m\u001b[1;33m[\u001b[0m\u001b[1;33m:\u001b[0m\u001b[1;33m,\u001b[0m\u001b[1;36m3\u001b[0m\u001b[1;33m]\u001b[0m\u001b[1;33m[\u001b[0m\u001b[0mi\u001b[0m\u001b[1;33m]\u001b[0m\u001b[1;33m.\u001b[0m\u001b[0msplit\u001b[0m\u001b[1;33m(\u001b[0m\u001b[1;34m':'\u001b[0m\u001b[1;33m)\u001b[0m\u001b[1;33m[\u001b[0m\u001b[1;33m-\u001b[0m\u001b[1;36m1\u001b[0m\u001b[1;33m]\u001b[0m\u001b[1;33m\u001b[0m\u001b[0m\n\u001b[0m\u001b[0;32m      3\u001b[0m     \u001b[0mprint\u001b[0m\u001b[1;33m(\u001b[0m\u001b[0mi\u001b[0m\u001b[1;33m,\u001b[0m \u001b[0mx\u001b[0m\u001b[1;33m)\u001b[0m\u001b[1;33m\u001b[0m\u001b[0m\n",
      "\u001b[1;32m~\\Anaconda3\\envs\\python3\\lib\\site-packages\\pandas\\core\\series.py\u001b[0m in \u001b[0;36m__getitem__\u001b[1;34m(self, key)\u001b[0m\n\u001b[0;32m   1069\u001b[0m         \u001b[0mkey\u001b[0m \u001b[1;33m=\u001b[0m \u001b[0mcom\u001b[0m\u001b[1;33m.\u001b[0m\u001b[0mapply_if_callable\u001b[0m\u001b[1;33m(\u001b[0m\u001b[0mkey\u001b[0m\u001b[1;33m,\u001b[0m \u001b[0mself\u001b[0m\u001b[1;33m)\u001b[0m\u001b[1;33m\u001b[0m\u001b[0m\n\u001b[0;32m   1070\u001b[0m         \u001b[1;32mtry\u001b[0m\u001b[1;33m:\u001b[0m\u001b[1;33m\u001b[0m\u001b[0m\n\u001b[1;32m-> 1071\u001b[1;33m             \u001b[0mresult\u001b[0m \u001b[1;33m=\u001b[0m \u001b[0mself\u001b[0m\u001b[1;33m.\u001b[0m\u001b[0mindex\u001b[0m\u001b[1;33m.\u001b[0m\u001b[0mget_value\u001b[0m\u001b[1;33m(\u001b[0m\u001b[0mself\u001b[0m\u001b[1;33m,\u001b[0m \u001b[0mkey\u001b[0m\u001b[1;33m)\u001b[0m\u001b[1;33m\u001b[0m\u001b[0m\n\u001b[0m\u001b[0;32m   1072\u001b[0m \u001b[1;33m\u001b[0m\u001b[0m\n\u001b[0;32m   1073\u001b[0m             \u001b[1;32mif\u001b[0m \u001b[1;32mnot\u001b[0m \u001b[0mis_scalar\u001b[0m\u001b[1;33m(\u001b[0m\u001b[0mresult\u001b[0m\u001b[1;33m)\u001b[0m\u001b[1;33m:\u001b[0m\u001b[1;33m\u001b[0m\u001b[0m\n",
      "\u001b[1;32m~\\Anaconda3\\envs\\python3\\lib\\site-packages\\pandas\\core\\indexes\\base.py\u001b[0m in \u001b[0;36mget_value\u001b[1;34m(self, series, key)\u001b[0m\n\u001b[0;32m   4728\u001b[0m         \u001b[0mk\u001b[0m \u001b[1;33m=\u001b[0m \u001b[0mself\u001b[0m\u001b[1;33m.\u001b[0m\u001b[0m_convert_scalar_indexer\u001b[0m\u001b[1;33m(\u001b[0m\u001b[0mk\u001b[0m\u001b[1;33m,\u001b[0m \u001b[0mkind\u001b[0m\u001b[1;33m=\u001b[0m\u001b[1;34m\"getitem\"\u001b[0m\u001b[1;33m)\u001b[0m\u001b[1;33m\u001b[0m\u001b[0m\n\u001b[0;32m   4729\u001b[0m         \u001b[1;32mtry\u001b[0m\u001b[1;33m:\u001b[0m\u001b[1;33m\u001b[0m\u001b[0m\n\u001b[1;32m-> 4730\u001b[1;33m             \u001b[1;32mreturn\u001b[0m \u001b[0mself\u001b[0m\u001b[1;33m.\u001b[0m\u001b[0m_engine\u001b[0m\u001b[1;33m.\u001b[0m\u001b[0mget_value\u001b[0m\u001b[1;33m(\u001b[0m\u001b[0ms\u001b[0m\u001b[1;33m,\u001b[0m \u001b[0mk\u001b[0m\u001b[1;33m,\u001b[0m \u001b[0mtz\u001b[0m\u001b[1;33m=\u001b[0m\u001b[0mgetattr\u001b[0m\u001b[1;33m(\u001b[0m\u001b[0mseries\u001b[0m\u001b[1;33m.\u001b[0m\u001b[0mdtype\u001b[0m\u001b[1;33m,\u001b[0m \u001b[1;34m\"tz\"\u001b[0m\u001b[1;33m,\u001b[0m \u001b[1;32mNone\u001b[0m\u001b[1;33m)\u001b[0m\u001b[1;33m)\u001b[0m\u001b[1;33m\u001b[0m\u001b[0m\n\u001b[0m\u001b[0;32m   4731\u001b[0m         \u001b[1;32mexcept\u001b[0m \u001b[0mKeyError\u001b[0m \u001b[1;32mas\u001b[0m \u001b[0me1\u001b[0m\u001b[1;33m:\u001b[0m\u001b[1;33m\u001b[0m\u001b[0m\n\u001b[0;32m   4732\u001b[0m             \u001b[1;32mif\u001b[0m \u001b[0mlen\u001b[0m\u001b[1;33m(\u001b[0m\u001b[0mself\u001b[0m\u001b[1;33m)\u001b[0m \u001b[1;33m>\u001b[0m \u001b[1;36m0\u001b[0m \u001b[1;32mand\u001b[0m \u001b[1;33m(\u001b[0m\u001b[0mself\u001b[0m\u001b[1;33m.\u001b[0m\u001b[0mholds_integer\u001b[0m\u001b[1;33m(\u001b[0m\u001b[1;33m)\u001b[0m \u001b[1;32mor\u001b[0m \u001b[0mself\u001b[0m\u001b[1;33m.\u001b[0m\u001b[0mis_boolean\u001b[0m\u001b[1;33m(\u001b[0m\u001b[1;33m)\u001b[0m\u001b[1;33m)\u001b[0m\u001b[1;33m:\u001b[0m\u001b[1;33m\u001b[0m\u001b[0m\n",
      "\u001b[1;32mpandas/_libs/index.pyx\u001b[0m in \u001b[0;36mpandas._libs.index.IndexEngine.get_value\u001b[1;34m()\u001b[0m\n",
      "\u001b[1;32mpandas/_libs/index.pyx\u001b[0m in \u001b[0;36mpandas._libs.index.IndexEngine.get_value\u001b[1;34m()\u001b[0m\n",
      "\u001b[1;32mpandas/_libs/index.pyx\u001b[0m in \u001b[0;36mpandas._libs.index.IndexEngine.get_loc\u001b[1;34m()\u001b[0m\n",
      "\u001b[1;32mpandas/_libs/hashtable_class_helper.pxi\u001b[0m in \u001b[0;36mpandas._libs.hashtable.Int64HashTable.get_item\u001b[1;34m()\u001b[0m\n",
      "\u001b[1;32mpandas/_libs/hashtable_class_helper.pxi\u001b[0m in \u001b[0;36mpandas._libs.hashtable.Int64HashTable.get_item\u001b[1;34m()\u001b[0m\n",
      "\u001b[1;31mKeyError\u001b[0m: 9"
     ]
    }
   ],
   "source": [
    "for i in range(len(df)):\n",
    "    x = df.iloc[:,3][i].split(':')[-1]\n",
    "    print(i, x)\n"
   ]
  },
  {
   "cell_type": "code",
   "execution_count": null,
   "metadata": {},
   "outputs": [],
   "source": []
  },
  {
   "cell_type": "code",
   "execution_count": null,
   "metadata": {},
   "outputs": [],
   "source": []
  },
  {
   "cell_type": "code",
   "execution_count": null,
   "metadata": {},
   "outputs": [],
   "source": []
  },
  {
   "cell_type": "code",
   "execution_count": 32,
   "metadata": {},
   "outputs": [
    {
     "data": {
      "text/html": [
       "<div>\n",
       "<style scoped>\n",
       "    .dataframe tbody tr th:only-of-type {\n",
       "        vertical-align: middle;\n",
       "    }\n",
       "\n",
       "    .dataframe tbody tr th {\n",
       "        vertical-align: top;\n",
       "    }\n",
       "\n",
       "    .dataframe thead th {\n",
       "        text-align: right;\n",
       "    }\n",
       "</style>\n",
       "<table border=\"1\" class=\"dataframe\">\n",
       "  <thead>\n",
       "    <tr style=\"text-align: right;\">\n",
       "      <th></th>\n",
       "      <th>0</th>\n",
       "      <th>1</th>\n",
       "      <th>2</th>\n",
       "      <th>3</th>\n",
       "      <th>4</th>\n",
       "      <th>5</th>\n",
       "      <th>6</th>\n",
       "      <th>7</th>\n",
       "      <th>8</th>\n",
       "      <th>9</th>\n",
       "      <th>...</th>\n",
       "      <th>15</th>\n",
       "      <th>16</th>\n",
       "      <th>17</th>\n",
       "      <th>18</th>\n",
       "      <th>19</th>\n",
       "      <th>20</th>\n",
       "      <th>21</th>\n",
       "      <th>22</th>\n",
       "      <th>23</th>\n",
       "      <th>24</th>\n",
       "    </tr>\n",
       "  </thead>\n",
       "  <tbody>\n",
       "    <tr>\n",
       "      <th>0</th>\n",
       "      <td>{\"category\":\"tracker\"</td>\n",
       "      <td>request:\"get\"</td>\n",
       "      <td>statuscode:200</td>\n",
       "      <td>values:{\"frame\":{\"avg\":{\"x\":3192.5493</td>\n",
       "      <td>y:1360.4380}</td>\n",
       "      <td>fix:false</td>\n",
       "      <td>lefteye:{\"avg\":{\"x\":3208.2761</td>\n",
       "      <td>y:1475.5612}</td>\n",
       "      <td>pcenter:{\"x\":0.4889</td>\n",
       "      <td>y:0.5135}</td>\n",
       "      <td>...</td>\n",
       "      <td>righteye:{\"avg\":{\"x\":3162.4949</td>\n",
       "      <td>y:1158.6604}</td>\n",
       "      <td>pcenter:{\"x\":0.6350</td>\n",
       "      <td>y:0.5604}</td>\n",
       "      <td>psize:18.7045</td>\n",
       "      <td>raw:{\"x\":3162.4949</td>\n",
       "      <td>y:1158.6604}}</td>\n",
       "      <td>state:7</td>\n",
       "      <td>time:745846434</td>\n",
       "      <td>timestamp:\"2022-02-24 16:58:40.802\"}}}</td>\n",
       "    </tr>\n",
       "    <tr>\n",
       "      <th>1</th>\n",
       "      <td>{\"category\":\"tracker\"</td>\n",
       "      <td>request:\"get\"</td>\n",
       "      <td>statuscode:200</td>\n",
       "      <td>values:{\"frame\":{\"avg\":{\"x\":3188.0786</td>\n",
       "      <td>y:1318.4167}</td>\n",
       "      <td>fix:false</td>\n",
       "      <td>lefteye:{\"avg\":{\"x\":3206.9280</td>\n",
       "      <td>y:1471.0730}</td>\n",
       "      <td>pcenter:{\"x\":0.4887</td>\n",
       "      <td>y:0.5137}</td>\n",
       "      <td>...</td>\n",
       "      <td>righteye:{\"avg\":{\"x\":3170.5042</td>\n",
       "      <td>y:1153.1619}</td>\n",
       "      <td>pcenter:{\"x\":0.6348</td>\n",
       "      <td>y:0.5605}</td>\n",
       "      <td>psize:18.7830</td>\n",
       "      <td>raw:{\"x\":3178.4932</td>\n",
       "      <td>y:1147.6772}}</td>\n",
       "      <td>state:7</td>\n",
       "      <td>time:745846468</td>\n",
       "      <td>timestamp:\"2022-02-24 16:58:40.836\"}}}</td>\n",
       "    </tr>\n",
       "    <tr>\n",
       "      <th>2</th>\n",
       "      <td>{\"category\":\"tracker\"</td>\n",
       "      <td>request:\"get\"</td>\n",
       "      <td>statuscode:200</td>\n",
       "      <td>values:{\"frame\":{\"avg\":{\"x\":3186.3933</td>\n",
       "      <td>y:1321.2983}</td>\n",
       "      <td>fix:false</td>\n",
       "      <td>lefteye:{\"avg\":{\"x\":3205.0676</td>\n",
       "      <td>y:1470.4415}</td>\n",
       "      <td>pcenter:{\"x\":0.4885</td>\n",
       "      <td>y:0.5138}</td>\n",
       "      <td>...</td>\n",
       "      <td>righteye:{\"avg\":{\"x\":3164.4788</td>\n",
       "      <td>y:1146.2719}</td>\n",
       "      <td>pcenter:{\"x\":0.6345</td>\n",
       "      <td>y:0.5606}</td>\n",
       "      <td>psize:18.8117</td>\n",
       "      <td>raw:{\"x\":3152.4631</td>\n",
       "      <td>y:1132.6069}}</td>\n",
       "      <td>state:7</td>\n",
       "      <td>time:745846501</td>\n",
       "      <td>timestamp:\"2022-02-24 16:58:40.869\"}}}</td>\n",
       "    </tr>\n",
       "    <tr>\n",
       "      <th>3</th>\n",
       "      <td>{\"category\":\"tracker\"</td>\n",
       "      <td>request:\"get\"</td>\n",
       "      <td>statuscode:200</td>\n",
       "      <td>values:{\"frame\":{\"avg\":{\"x\":3130.3647</td>\n",
       "      <td>y:1138.7164}</td>\n",
       "      <td>fix:false</td>\n",
       "      <td>lefteye:{\"avg\":{\"x\":3048.8669</td>\n",
       "      <td>y:1377.8784}</td>\n",
       "      <td>pcenter:{\"x\":0.4876</td>\n",
       "      <td>y:0.5131}</td>\n",
       "      <td>...</td>\n",
       "      <td>righteye:{\"avg\":{\"x\":3130.3647</td>\n",
       "      <td>y:1138.7164}</td>\n",
       "      <td>pcenter:{\"x\":0.6337</td>\n",
       "      <td>y:0.560}</td>\n",
       "      <td>psize:19.0406</td>\n",
       "      <td>raw:{\"x\":3029.2817</td>\n",
       "      <td>y:1116.4486}}</td>\n",
       "      <td>state:7</td>\n",
       "      <td>time:745846534</td>\n",
       "      <td>timestamp:\"2022-02-24 16:58:40.902\"}}}</td>\n",
       "    </tr>\n",
       "    <tr>\n",
       "      <th>4</th>\n",
       "      <td>{\"category\":\"tracker\"</td>\n",
       "      <td>request:\"get\"</td>\n",
       "      <td>statuscode:200</td>\n",
       "      <td>values:{\"frame\":{\"avg\":{\"x\":3107.0664</td>\n",
       "      <td>y:1236.030}</td>\n",
       "      <td>fix:false</td>\n",
       "      <td>lefteye:{\"avg\":{\"x\":3071.9919</td>\n",
       "      <td>y:1410.3341}</td>\n",
       "      <td>pcenter:{\"x\":0.4881</td>\n",
       "      <td>y:0.5132}</td>\n",
       "      <td>...</td>\n",
       "      <td>righteye:{\"avg\":{\"x\":3114.5413</td>\n",
       "      <td>y:1132.6543}</td>\n",
       "      <td>pcenter:{\"x\":0.6339</td>\n",
       "      <td>y:0.5601}</td>\n",
       "      <td>psize:19.2129</td>\n",
       "      <td>raw:{\"x\":3053.510</td>\n",
       "      <td>y:1109.2177}}</td>\n",
       "      <td>state:7</td>\n",
       "      <td>time:745846567</td>\n",
       "      <td>timestamp:\"2022-02-24 16:58:40.935\"}}}</td>\n",
       "    </tr>\n",
       "    <tr>\n",
       "      <th>5</th>\n",
       "      <td>{\"category\":\"tracker\"</td>\n",
       "      <td>request:\"get\"</td>\n",
       "      <td>statuscode:200</td>\n",
       "      <td>values:{\"frame\":{\"avg\":{\"x\":3097.9880</td>\n",
       "      <td>y:1246.9502}</td>\n",
       "      <td>fix:false</td>\n",
       "      <td>lefteye:{\"avg\":{\"x\":3058.8796</td>\n",
       "      <td>y:1412.2914}</td>\n",
       "      <td>pcenter:{\"x\":0.4886</td>\n",
       "      <td>y:0.5131}</td>\n",
       "      <td>...</td>\n",
       "      <td>righteye:{\"avg\":{\"x\":3100.5928</td>\n",
       "      <td>y:1128.4816}</td>\n",
       "      <td>pcenter:{\"x\":0.6342</td>\n",
       "      <td>y:0.5603}</td>\n",
       "      <td>psize:19.2484</td>\n",
       "      <td>raw:{\"x\":3034.5881</td>\n",
       "      <td>y:1108.8330}}</td>\n",
       "      <td>state:7</td>\n",
       "      <td>time:745846601</td>\n",
       "      <td>timestamp:\"2022-02-24 16:58:40.969\"}}}</td>\n",
       "    </tr>\n",
       "    <tr>\n",
       "      <th>6</th>\n",
       "      <td>{\"category\":\"tracker\"</td>\n",
       "      <td>request:\"get\"</td>\n",
       "      <td>statuscode:200</td>\n",
       "      <td>values:{\"frame\":{\"avg\":{\"x\":3093.5693</td>\n",
       "      <td>y:1238.3721}</td>\n",
       "      <td>fix:false</td>\n",
       "      <td>lefteye:{\"avg\":{\"x\":3058.6675</td>\n",
       "      <td>y:1401.1631}</td>\n",
       "      <td>pcenter:{\"x\":0.4894</td>\n",
       "      <td>y:0.5127}</td>\n",
       "      <td>...</td>\n",
       "      <td>righteye:{\"avg\":{\"x\":3090.4946</td>\n",
       "      <td>y:1128.6182}</td>\n",
       "      <td>pcenter:{\"x\":0.6347</td>\n",
       "      <td>y:0.5605}</td>\n",
       "      <td>psize:19.4785</td>\n",
       "      <td>raw:{\"x\":3034.960</td>\n",
       "      <td>y:1130.3337}}</td>\n",
       "      <td>state:7</td>\n",
       "      <td>time:745846634</td>\n",
       "      <td>timestamp:\"2022-02-24 16:58:41.002\"}}}</td>\n",
       "    </tr>\n",
       "    <tr>\n",
       "      <th>7</th>\n",
       "      <td>{\"category\":\"tracker\"</td>\n",
       "      <td>request:\"get\"</td>\n",
       "      <td>statuscode:200</td>\n",
       "      <td>values:{\"frame\":{\"avg\":{\"x\":3088.6548</td>\n",
       "      <td>y:1245.3273}</td>\n",
       "      <td>fix:false</td>\n",
       "      <td>lefteye:{\"avg\":{\"x\":3058.5828</td>\n",
       "      <td>y:1402.4757}</td>\n",
       "      <td>pcenter:{\"x\":0.4901</td>\n",
       "      <td>y:0.5128}</td>\n",
       "      <td>...</td>\n",
       "      <td>righteye:{\"avg\":{\"x\":3081.9736</td>\n",
       "      <td>y:1129.6149}</td>\n",
       "      <td>pcenter:{\"x\":0.6353</td>\n",
       "      <td>y:0.5608}</td>\n",
       "      <td>psize:19.7932</td>\n",
       "      <td>raw:{\"x\":3028.9302</td>\n",
       "      <td>y:1137.1251}}</td>\n",
       "      <td>state:7</td>\n",
       "      <td>time:745846667</td>\n",
       "      <td>timestamp:\"2022-02-24 16:58:41.035\"}}}</td>\n",
       "    </tr>\n",
       "    <tr>\n",
       "      <th>8</th>\n",
       "      <td>{\"category\":\"tracker\"</td>\n",
       "      <td>request:\"get\"</td>\n",
       "      <td>statuscode:200</td>\n",
       "      <td>values:{\"frame\":{\"avg\":{\"x\":3084.9636</td>\n",
       "      <td>y:1245.3341}</td>\n",
       "      <td>fix:true</td>\n",
       "      <td>lefteye:{\"avg\":{\"x\":3059.1174</td>\n",
       "      <td>y:1398.2651}</td>\n",
       "      <td>pcenter:{\"x\":0.4909</td>\n",
       "      <td>y:0.5126}</td>\n",
       "      <td>...</td>\n",
       "      <td>righteye:{\"avg\":{\"x\":3074.1208</td>\n",
       "      <td>y:1127.2998}</td>\n",
       "      <td>pcenter:{\"x\":0.6358</td>\n",
       "      <td>y:0.5610}</td>\n",
       "      <td>psize:19.6888</td>\n",
       "      <td>raw:{\"x\":3019.8137</td>\n",
       "      <td>y:1110.6233}}</td>\n",
       "      <td>state:7</td>\n",
       "      <td>time:745846701</td>\n",
       "      <td>timestamp:\"2022-02-24 16:58:41.069\"}}}</td>\n",
       "    </tr>\n",
       "    <tr>\n",
       "      <th>9</th>\n",
       "      <td>{\"category\":\"heartbeat\"</td>\n",
       "      <td>statuscode:200}</td>\n",
       "      <td>NaN</td>\n",
       "      <td>NaN</td>\n",
       "      <td>NaN</td>\n",
       "      <td>NaN</td>\n",
       "      <td>NaN</td>\n",
       "      <td>NaN</td>\n",
       "      <td>NaN</td>\n",
       "      <td>NaN</td>\n",
       "      <td>...</td>\n",
       "      <td>NaN</td>\n",
       "      <td>NaN</td>\n",
       "      <td>NaN</td>\n",
       "      <td>NaN</td>\n",
       "      <td>NaN</td>\n",
       "      <td>NaN</td>\n",
       "      <td>NaN</td>\n",
       "      <td>NaN</td>\n",
       "      <td>NaN</td>\n",
       "      <td>NaN</td>\n",
       "    </tr>\n",
       "  </tbody>\n",
       "</table>\n",
       "<p>10 rows × 25 columns</p>\n",
       "</div>"
      ],
      "text/plain": [
       "                        0                1               2   \\\n",
       "0    {\"category\":\"tracker\"    request:\"get\"  statuscode:200   \n",
       "1    {\"category\":\"tracker\"    request:\"get\"  statuscode:200   \n",
       "2    {\"category\":\"tracker\"    request:\"get\"  statuscode:200   \n",
       "3    {\"category\":\"tracker\"    request:\"get\"  statuscode:200   \n",
       "4    {\"category\":\"tracker\"    request:\"get\"  statuscode:200   \n",
       "5    {\"category\":\"tracker\"    request:\"get\"  statuscode:200   \n",
       "6    {\"category\":\"tracker\"    request:\"get\"  statuscode:200   \n",
       "7    {\"category\":\"tracker\"    request:\"get\"  statuscode:200   \n",
       "8    {\"category\":\"tracker\"    request:\"get\"  statuscode:200   \n",
       "9  {\"category\":\"heartbeat\"  statuscode:200}             NaN   \n",
       "\n",
       "                                      3             4          5   \\\n",
       "0  values:{\"frame\":{\"avg\":{\"x\":3192.5493  y:1360.4380}  fix:false   \n",
       "1  values:{\"frame\":{\"avg\":{\"x\":3188.0786  y:1318.4167}  fix:false   \n",
       "2  values:{\"frame\":{\"avg\":{\"x\":3186.3933  y:1321.2983}  fix:false   \n",
       "3  values:{\"frame\":{\"avg\":{\"x\":3130.3647  y:1138.7164}  fix:false   \n",
       "4  values:{\"frame\":{\"avg\":{\"x\":3107.0664   y:1236.030}  fix:false   \n",
       "5  values:{\"frame\":{\"avg\":{\"x\":3097.9880  y:1246.9502}  fix:false   \n",
       "6  values:{\"frame\":{\"avg\":{\"x\":3093.5693  y:1238.3721}  fix:false   \n",
       "7  values:{\"frame\":{\"avg\":{\"x\":3088.6548  y:1245.3273}  fix:false   \n",
       "8  values:{\"frame\":{\"avg\":{\"x\":3084.9636  y:1245.3341}   fix:true   \n",
       "9                                    NaN           NaN        NaN   \n",
       "\n",
       "                              6             7                    8   \\\n",
       "0  lefteye:{\"avg\":{\"x\":3208.2761  y:1475.5612}  pcenter:{\"x\":0.4889   \n",
       "1  lefteye:{\"avg\":{\"x\":3206.9280  y:1471.0730}  pcenter:{\"x\":0.4887   \n",
       "2  lefteye:{\"avg\":{\"x\":3205.0676  y:1470.4415}  pcenter:{\"x\":0.4885   \n",
       "3  lefteye:{\"avg\":{\"x\":3048.8669  y:1377.8784}  pcenter:{\"x\":0.4876   \n",
       "4  lefteye:{\"avg\":{\"x\":3071.9919  y:1410.3341}  pcenter:{\"x\":0.4881   \n",
       "5  lefteye:{\"avg\":{\"x\":3058.8796  y:1412.2914}  pcenter:{\"x\":0.4886   \n",
       "6  lefteye:{\"avg\":{\"x\":3058.6675  y:1401.1631}  pcenter:{\"x\":0.4894   \n",
       "7  lefteye:{\"avg\":{\"x\":3058.5828  y:1402.4757}  pcenter:{\"x\":0.4901   \n",
       "8  lefteye:{\"avg\":{\"x\":3059.1174  y:1398.2651}  pcenter:{\"x\":0.4909   \n",
       "9                            NaN           NaN                  NaN   \n",
       "\n",
       "          9   ...                              15            16  \\\n",
       "0  y:0.5135}  ...  righteye:{\"avg\":{\"x\":3162.4949  y:1158.6604}   \n",
       "1  y:0.5137}  ...  righteye:{\"avg\":{\"x\":3170.5042  y:1153.1619}   \n",
       "2  y:0.5138}  ...  righteye:{\"avg\":{\"x\":3164.4788  y:1146.2719}   \n",
       "3  y:0.5131}  ...  righteye:{\"avg\":{\"x\":3130.3647  y:1138.7164}   \n",
       "4  y:0.5132}  ...  righteye:{\"avg\":{\"x\":3114.5413  y:1132.6543}   \n",
       "5  y:0.5131}  ...  righteye:{\"avg\":{\"x\":3100.5928  y:1128.4816}   \n",
       "6  y:0.5127}  ...  righteye:{\"avg\":{\"x\":3090.4946  y:1128.6182}   \n",
       "7  y:0.5128}  ...  righteye:{\"avg\":{\"x\":3081.9736  y:1129.6149}   \n",
       "8  y:0.5126}  ...  righteye:{\"avg\":{\"x\":3074.1208  y:1127.2998}   \n",
       "9        NaN  ...                             NaN           NaN   \n",
       "\n",
       "                    17         18             19                  20  \\\n",
       "0  pcenter:{\"x\":0.6350  y:0.5604}  psize:18.7045  raw:{\"x\":3162.4949   \n",
       "1  pcenter:{\"x\":0.6348  y:0.5605}  psize:18.7830  raw:{\"x\":3178.4932   \n",
       "2  pcenter:{\"x\":0.6345  y:0.5606}  psize:18.8117  raw:{\"x\":3152.4631   \n",
       "3  pcenter:{\"x\":0.6337   y:0.560}  psize:19.0406  raw:{\"x\":3029.2817   \n",
       "4  pcenter:{\"x\":0.6339  y:0.5601}  psize:19.2129   raw:{\"x\":3053.510   \n",
       "5  pcenter:{\"x\":0.6342  y:0.5603}  psize:19.2484  raw:{\"x\":3034.5881   \n",
       "6  pcenter:{\"x\":0.6347  y:0.5605}  psize:19.4785   raw:{\"x\":3034.960   \n",
       "7  pcenter:{\"x\":0.6353  y:0.5608}  psize:19.7932  raw:{\"x\":3028.9302   \n",
       "8  pcenter:{\"x\":0.6358  y:0.5610}  psize:19.6888  raw:{\"x\":3019.8137   \n",
       "9                  NaN        NaN            NaN                 NaN   \n",
       "\n",
       "              21       22              23  \\\n",
       "0  y:1158.6604}}  state:7  time:745846434   \n",
       "1  y:1147.6772}}  state:7  time:745846468   \n",
       "2  y:1132.6069}}  state:7  time:745846501   \n",
       "3  y:1116.4486}}  state:7  time:745846534   \n",
       "4  y:1109.2177}}  state:7  time:745846567   \n",
       "5  y:1108.8330}}  state:7  time:745846601   \n",
       "6  y:1130.3337}}  state:7  time:745846634   \n",
       "7  y:1137.1251}}  state:7  time:745846667   \n",
       "8  y:1110.6233}}  state:7  time:745846701   \n",
       "9            NaN      NaN             NaN   \n",
       "\n",
       "                                       24  \n",
       "0  timestamp:\"2022-02-24 16:58:40.802\"}}}  \n",
       "1  timestamp:\"2022-02-24 16:58:40.836\"}}}  \n",
       "2  timestamp:\"2022-02-24 16:58:40.869\"}}}  \n",
       "3  timestamp:\"2022-02-24 16:58:40.902\"}}}  \n",
       "4  timestamp:\"2022-02-24 16:58:40.935\"}}}  \n",
       "5  timestamp:\"2022-02-24 16:58:40.969\"}}}  \n",
       "6  timestamp:\"2022-02-24 16:58:41.002\"}}}  \n",
       "7  timestamp:\"2022-02-24 16:58:41.035\"}}}  \n",
       "8  timestamp:\"2022-02-24 16:58:41.069\"}}}  \n",
       "9                                     NaN  \n",
       "\n",
       "[10 rows x 25 columns]"
      ]
     },
     "execution_count": 32,
     "metadata": {},
     "output_type": "execute_result"
    }
   ],
   "source": [
    "data.head(10)"
   ]
  },
  {
   "cell_type": "code",
   "execution_count": 42,
   "metadata": {},
   "outputs": [
    {
     "data": {
      "text/plain": [
       "418"
      ]
     },
     "execution_count": 42,
     "metadata": {},
     "output_type": "execute_result"
    }
   ],
   "source": [
    "data[data.iloc[:,2]=='statuscode:200']"
   ]
  },
  {
   "cell_type": "code",
   "execution_count": 41,
   "metadata": {},
   "outputs": [
    {
     "data": {
      "text/plain": [
       "array(['statuscode:200', nan], dtype=object)"
      ]
     },
     "execution_count": 41,
     "metadata": {},
     "output_type": "execute_result"
    }
   ],
   "source": [
    "data.iloc[:,2].unique()"
   ]
  },
  {
   "cell_type": "code",
   "execution_count": 45,
   "metadata": {},
   "outputs": [
    {
     "data": {
      "text/plain": [
       "array(['statuscode:200', nan], dtype=object)"
      ]
     },
     "execution_count": 45,
     "metadata": {},
     "output_type": "execute_result"
    }
   ],
   "source": [
    "data.iloc[:,2].unique()"
   ]
  },
  {
   "cell_type": "code",
   "execution_count": 46,
   "metadata": {},
   "outputs": [
    {
     "data": {
      "text/plain": [
       "462"
      ]
     },
     "execution_count": 46,
     "metadata": {},
     "output_type": "execute_result"
    }
   ],
   "source": [
    "len(data)"
   ]
  },
  {
   "cell_type": "code",
   "execution_count": null,
   "metadata": {},
   "outputs": [],
   "source": []
  },
  {
   "cell_type": "code",
   "execution_count": 28,
   "metadata": {},
   "outputs": [
    {
     "ename": "TypeError",
     "evalue": "ufunc 'isnan' not supported for the input types, and the inputs could not be safely coerced to any supported types according to the casting rule ''safe''",
     "output_type": "error",
     "traceback": [
      "\u001b[1;31m---------------------------------------------------------------------------\u001b[0m",
      "\u001b[1;31mTypeError\u001b[0m                                 Traceback (most recent call last)",
      "\u001b[1;32m<ipython-input-28-f6030ee63593>\u001b[0m in \u001b[0;36m<module>\u001b[1;34m()\u001b[0m\n\u001b[1;32m----> 1\u001b[1;33m \u001b[0mnp\u001b[0m\u001b[1;33m.\u001b[0m\u001b[0misnan\u001b[0m\u001b[1;33m(\u001b[0m\u001b[0mdata\u001b[0m\u001b[1;33m.\u001b[0m\u001b[0miloc\u001b[0m\u001b[1;33m[\u001b[0m\u001b[1;33m:\u001b[0m\u001b[1;33m,\u001b[0m\u001b[1;36m3\u001b[0m\u001b[1;33m]\u001b[0m\u001b[1;33m)\u001b[0m\u001b[1;33m\u001b[0m\u001b[0m\n\u001b[0m",
      "\u001b[1;32m~\\Anaconda3\\envs\\python3\\lib\\site-packages\\pandas\\core\\series.py\u001b[0m in \u001b[0;36m__array_ufunc__\u001b[1;34m(self, ufunc, method, *inputs, **kwargs)\u001b[0m\n\u001b[0;32m    854\u001b[0m \u001b[1;33m\u001b[0m\u001b[0m\n\u001b[0;32m    855\u001b[0m         \u001b[0minputs\u001b[0m \u001b[1;33m=\u001b[0m \u001b[0mtuple\u001b[0m\u001b[1;33m(\u001b[0m\u001b[0mextract_array\u001b[0m\u001b[1;33m(\u001b[0m\u001b[0mx\u001b[0m\u001b[1;33m,\u001b[0m \u001b[0mextract_numpy\u001b[0m\u001b[1;33m=\u001b[0m\u001b[1;32mTrue\u001b[0m\u001b[1;33m)\u001b[0m \u001b[1;32mfor\u001b[0m \u001b[0mx\u001b[0m \u001b[1;32min\u001b[0m \u001b[0minputs\u001b[0m\u001b[1;33m)\u001b[0m\u001b[1;33m\u001b[0m\u001b[0m\n\u001b[1;32m--> 856\u001b[1;33m         \u001b[0mresult\u001b[0m \u001b[1;33m=\u001b[0m \u001b[0mgetattr\u001b[0m\u001b[1;33m(\u001b[0m\u001b[0mufunc\u001b[0m\u001b[1;33m,\u001b[0m \u001b[0mmethod\u001b[0m\u001b[1;33m)\u001b[0m\u001b[1;33m(\u001b[0m\u001b[1;33m*\u001b[0m\u001b[0minputs\u001b[0m\u001b[1;33m,\u001b[0m \u001b[1;33m**\u001b[0m\u001b[0mkwargs\u001b[0m\u001b[1;33m)\u001b[0m\u001b[1;33m\u001b[0m\u001b[0m\n\u001b[0m\u001b[0;32m    857\u001b[0m         \u001b[1;32mif\u001b[0m \u001b[0mlen\u001b[0m\u001b[1;33m(\u001b[0m\u001b[0mset\u001b[0m\u001b[1;33m(\u001b[0m\u001b[0mnames\u001b[0m\u001b[1;33m)\u001b[0m\u001b[1;33m)\u001b[0m \u001b[1;33m==\u001b[0m \u001b[1;36m1\u001b[0m\u001b[1;33m:\u001b[0m\u001b[1;33m\u001b[0m\u001b[0m\n\u001b[0;32m    858\u001b[0m             \u001b[1;31m# we require names to be hashable, right?\u001b[0m\u001b[1;33m\u001b[0m\u001b[1;33m\u001b[0m\u001b[0m\n",
      "\u001b[1;31mTypeError\u001b[0m: ufunc 'isnan' not supported for the input types, and the inputs could not be safely coerced to any supported types according to the casting rule ''safe''"
     ]
    }
   ],
   "source": [
    "np.isnan(data.iloc[:,3])"
   ]
  },
  {
   "cell_type": "code",
   "execution_count": 23,
   "metadata": {},
   "outputs": [
    {
     "name": "stdout",
     "output_type": "stream",
     "text": [
      "0 3192.5493\n",
      "1 3188.0786\n",
      "2 3186.3933\n",
      "3 3130.3647\n",
      "4 3107.0664\n",
      "5 3097.9880\n",
      "6 3093.5693\n",
      "7 3088.6548\n",
      "8 3084.9636\n"
     ]
    },
    {
     "ename": "AttributeError",
     "evalue": "'float' object has no attribute 'split'",
     "output_type": "error",
     "traceback": [
      "\u001b[1;31m---------------------------------------------------------------------------\u001b[0m",
      "\u001b[1;31mAttributeError\u001b[0m                            Traceback (most recent call last)",
      "\u001b[1;32m<ipython-input-23-71c0fdbeb9d8>\u001b[0m in \u001b[0;36m<module>\u001b[1;34m()\u001b[0m\n\u001b[0;32m      1\u001b[0m \u001b[1;32mfor\u001b[0m \u001b[0mi\u001b[0m \u001b[1;32min\u001b[0m \u001b[0mrange\u001b[0m\u001b[1;33m(\u001b[0m\u001b[0mlen\u001b[0m\u001b[1;33m(\u001b[0m\u001b[0mdata\u001b[0m\u001b[1;33m)\u001b[0m\u001b[1;33m)\u001b[0m\u001b[1;33m:\u001b[0m\u001b[1;33m\u001b[0m\u001b[0m\n\u001b[1;32m----> 2\u001b[1;33m     \u001b[0mx\u001b[0m \u001b[1;33m=\u001b[0m \u001b[0mdata\u001b[0m\u001b[1;33m.\u001b[0m\u001b[0miloc\u001b[0m\u001b[1;33m[\u001b[0m\u001b[1;33m:\u001b[0m\u001b[1;33m,\u001b[0m\u001b[1;36m3\u001b[0m\u001b[1;33m]\u001b[0m\u001b[1;33m[\u001b[0m\u001b[0mi\u001b[0m\u001b[1;33m]\u001b[0m\u001b[1;33m.\u001b[0m\u001b[0msplit\u001b[0m\u001b[1;33m(\u001b[0m\u001b[1;34m':'\u001b[0m\u001b[1;33m)\u001b[0m\u001b[1;33m[\u001b[0m\u001b[1;33m-\u001b[0m\u001b[1;36m1\u001b[0m\u001b[1;33m]\u001b[0m\u001b[1;33m\u001b[0m\u001b[0m\n\u001b[0m\u001b[0;32m      3\u001b[0m     \u001b[0mprint\u001b[0m\u001b[1;33m(\u001b[0m\u001b[0mi\u001b[0m\u001b[1;33m,\u001b[0m \u001b[0mx\u001b[0m\u001b[1;33m)\u001b[0m\u001b[1;33m\u001b[0m\u001b[0m\n",
      "\u001b[1;31mAttributeError\u001b[0m: 'float' object has no attribute 'split'"
     ]
    }
   ],
   "source": [
    "for i in range(len(data)):\n",
    "    x = data.iloc[:,3][i].split(':')[-1]\n",
    "    print(i, x)\n",
    "\n"
   ]
  },
  {
   "cell_type": "code",
   "execution_count": null,
   "metadata": {},
   "outputs": [],
   "source": []
  },
  {
   "cell_type": "code",
   "execution_count": null,
   "metadata": {},
   "outputs": [],
   "source": []
  },
  {
   "cell_type": "code",
   "execution_count": 6,
   "metadata": {},
   "outputs": [
    {
     "data": {
      "text/plain": [
       "'C:\\\\Users\\\\David\\\\Documents\\\\GitHub\\\\OpenBrains\\\\Eyetraker'"
      ]
     },
     "execution_count": 6,
     "metadata": {},
     "output_type": "execute_result"
    }
   ],
   "source": [
    "import os\n",
    "os.getcwd()"
   ]
  },
  {
   "cell_type": "code",
   "execution_count": 5,
   "metadata": {},
   "outputs": [
    {
     "ename": "AttributeError",
     "evalue": "module 'io' has no attribute 'path'",
     "output_type": "error",
     "traceback": [
      "\u001b[1;31m---------------------------------------------------------------------------\u001b[0m",
      "\u001b[1;31mAttributeError\u001b[0m                            Traceback (most recent call last)",
      "\u001b[1;32m<ipython-input-5-9ef86c060d41>\u001b[0m in \u001b[0;36m<module>\u001b[1;34m()\u001b[0m\n\u001b[1;32m----> 1\u001b[1;33m \u001b[0mio\u001b[0m\u001b[1;33m.\u001b[0m\u001b[0mpath\u001b[0m\u001b[1;33m.\u001b[0m\u001b[0mgetcwd\u001b[0m\u001b[1;33m(\u001b[0m\u001b[1;33m)\u001b[0m\u001b[1;33m\u001b[0m\u001b[0m\n\u001b[0m",
      "\u001b[1;31mAttributeError\u001b[0m: module 'io' has no attribute 'path'"
     ]
    }
   ],
   "source": []
  },
  {
   "cell_type": "code",
   "execution_count": 8,
   "metadata": {},
   "outputs": [
    {
     "ename": "ValueError",
     "evalue": "could not convert string to float: '{\"category\":\"tracker\"'",
     "output_type": "error",
     "traceback": [
      "\u001b[1;31m---------------------------------------------------------------------------\u001b[0m",
      "\u001b[1;31mValueError\u001b[0m                                Traceback (most recent call last)",
      "\u001b[1;32m<ipython-input-8-d29fbc813a18>\u001b[0m in \u001b[0;36m<module>\u001b[1;34m()\u001b[0m\n\u001b[0;32m      1\u001b[0m \u001b[0mfile\u001b[0m \u001b[1;33m=\u001b[0m\u001b[1;34m'C:\\\\Users\\\\David\\\\Desktop\\\\recordings.txt'\u001b[0m\u001b[1;33m\u001b[0m\u001b[0m\n\u001b[1;32m----> 2\u001b[1;33m \u001b[0mdata\u001b[0m \u001b[1;33m=\u001b[0m \u001b[0mnp\u001b[0m\u001b[1;33m.\u001b[0m\u001b[0mloadtxt\u001b[0m\u001b[1;33m(\u001b[0m\u001b[0mfile\u001b[0m\u001b[1;33m,\u001b[0m \u001b[0mdelimiter\u001b[0m\u001b[1;33m=\u001b[0m\u001b[1;34m','\u001b[0m\u001b[1;33m)\u001b[0m\u001b[1;33m\u001b[0m\u001b[0m\n\u001b[0m",
      "\u001b[1;32m~\\Anaconda3\\envs\\python3\\lib\\site-packages\\numpy\\lib\\npyio.py\u001b[0m in \u001b[0;36mloadtxt\u001b[1;34m(fname, dtype, comments, delimiter, converters, skiprows, usecols, unpack, ndmin, encoding)\u001b[0m\n\u001b[0;32m   1099\u001b[0m         \u001b[1;31m# converting the data\u001b[0m\u001b[1;33m\u001b[0m\u001b[1;33m\u001b[0m\u001b[0m\n\u001b[0;32m   1100\u001b[0m         \u001b[0mX\u001b[0m \u001b[1;33m=\u001b[0m \u001b[1;32mNone\u001b[0m\u001b[1;33m\u001b[0m\u001b[0m\n\u001b[1;32m-> 1101\u001b[1;33m         \u001b[1;32mfor\u001b[0m \u001b[0mx\u001b[0m \u001b[1;32min\u001b[0m \u001b[0mread_data\u001b[0m\u001b[1;33m(\u001b[0m\u001b[0m_loadtxt_chunksize\u001b[0m\u001b[1;33m)\u001b[0m\u001b[1;33m:\u001b[0m\u001b[1;33m\u001b[0m\u001b[0m\n\u001b[0m\u001b[0;32m   1102\u001b[0m             \u001b[1;32mif\u001b[0m \u001b[0mX\u001b[0m \u001b[1;32mis\u001b[0m \u001b[1;32mNone\u001b[0m\u001b[1;33m:\u001b[0m\u001b[1;33m\u001b[0m\u001b[0m\n\u001b[0;32m   1103\u001b[0m                 \u001b[0mX\u001b[0m \u001b[1;33m=\u001b[0m \u001b[0mnp\u001b[0m\u001b[1;33m.\u001b[0m\u001b[0marray\u001b[0m\u001b[1;33m(\u001b[0m\u001b[0mx\u001b[0m\u001b[1;33m,\u001b[0m \u001b[0mdtype\u001b[0m\u001b[1;33m)\u001b[0m\u001b[1;33m\u001b[0m\u001b[0m\n",
      "\u001b[1;32m~\\Anaconda3\\envs\\python3\\lib\\site-packages\\numpy\\lib\\npyio.py\u001b[0m in \u001b[0;36mread_data\u001b[1;34m(chunk_size)\u001b[0m\n\u001b[0;32m   1026\u001b[0m \u001b[1;33m\u001b[0m\u001b[0m\n\u001b[0;32m   1027\u001b[0m             \u001b[1;31m# Convert each value according to its column and store\u001b[0m\u001b[1;33m\u001b[0m\u001b[1;33m\u001b[0m\u001b[0m\n\u001b[1;32m-> 1028\u001b[1;33m             \u001b[0mitems\u001b[0m \u001b[1;33m=\u001b[0m \u001b[1;33m[\u001b[0m\u001b[0mconv\u001b[0m\u001b[1;33m(\u001b[0m\u001b[0mval\u001b[0m\u001b[1;33m)\u001b[0m \u001b[1;32mfor\u001b[0m \u001b[1;33m(\u001b[0m\u001b[0mconv\u001b[0m\u001b[1;33m,\u001b[0m \u001b[0mval\u001b[0m\u001b[1;33m)\u001b[0m \u001b[1;32min\u001b[0m \u001b[0mzip\u001b[0m\u001b[1;33m(\u001b[0m\u001b[0mconverters\u001b[0m\u001b[1;33m,\u001b[0m \u001b[0mvals\u001b[0m\u001b[1;33m)\u001b[0m\u001b[1;33m]\u001b[0m\u001b[1;33m\u001b[0m\u001b[0m\n\u001b[0m\u001b[0;32m   1029\u001b[0m \u001b[1;33m\u001b[0m\u001b[0m\n\u001b[0;32m   1030\u001b[0m             \u001b[1;31m# Then pack it according to the dtype's nesting\u001b[0m\u001b[1;33m\u001b[0m\u001b[1;33m\u001b[0m\u001b[0m\n",
      "\u001b[1;32m~\\Anaconda3\\envs\\python3\\lib\\site-packages\\numpy\\lib\\npyio.py\u001b[0m in \u001b[0;36m<listcomp>\u001b[1;34m(.0)\u001b[0m\n\u001b[0;32m   1026\u001b[0m \u001b[1;33m\u001b[0m\u001b[0m\n\u001b[0;32m   1027\u001b[0m             \u001b[1;31m# Convert each value according to its column and store\u001b[0m\u001b[1;33m\u001b[0m\u001b[1;33m\u001b[0m\u001b[0m\n\u001b[1;32m-> 1028\u001b[1;33m             \u001b[0mitems\u001b[0m \u001b[1;33m=\u001b[0m \u001b[1;33m[\u001b[0m\u001b[0mconv\u001b[0m\u001b[1;33m(\u001b[0m\u001b[0mval\u001b[0m\u001b[1;33m)\u001b[0m \u001b[1;32mfor\u001b[0m \u001b[1;33m(\u001b[0m\u001b[0mconv\u001b[0m\u001b[1;33m,\u001b[0m \u001b[0mval\u001b[0m\u001b[1;33m)\u001b[0m \u001b[1;32min\u001b[0m \u001b[0mzip\u001b[0m\u001b[1;33m(\u001b[0m\u001b[0mconverters\u001b[0m\u001b[1;33m,\u001b[0m \u001b[0mvals\u001b[0m\u001b[1;33m)\u001b[0m\u001b[1;33m]\u001b[0m\u001b[1;33m\u001b[0m\u001b[0m\n\u001b[0m\u001b[0;32m   1029\u001b[0m \u001b[1;33m\u001b[0m\u001b[0m\n\u001b[0;32m   1030\u001b[0m             \u001b[1;31m# Then pack it according to the dtype's nesting\u001b[0m\u001b[1;33m\u001b[0m\u001b[1;33m\u001b[0m\u001b[0m\n",
      "\u001b[1;32m~\\Anaconda3\\envs\\python3\\lib\\site-packages\\numpy\\lib\\npyio.py\u001b[0m in \u001b[0;36mfloatconv\u001b[1;34m(x)\u001b[0m\n\u001b[0;32m    744\u001b[0m         \u001b[1;32mif\u001b[0m \u001b[1;34m'0x'\u001b[0m \u001b[1;32min\u001b[0m \u001b[0mx\u001b[0m\u001b[1;33m:\u001b[0m\u001b[1;33m\u001b[0m\u001b[0m\n\u001b[0;32m    745\u001b[0m             \u001b[1;32mreturn\u001b[0m \u001b[0mfloat\u001b[0m\u001b[1;33m.\u001b[0m\u001b[0mfromhex\u001b[0m\u001b[1;33m(\u001b[0m\u001b[0mx\u001b[0m\u001b[1;33m)\u001b[0m\u001b[1;33m\u001b[0m\u001b[0m\n\u001b[1;32m--> 746\u001b[1;33m         \u001b[1;32mreturn\u001b[0m \u001b[0mfloat\u001b[0m\u001b[1;33m(\u001b[0m\u001b[0mx\u001b[0m\u001b[1;33m)\u001b[0m\u001b[1;33m\u001b[0m\u001b[0m\n\u001b[0m\u001b[0;32m    747\u001b[0m \u001b[1;33m\u001b[0m\u001b[0m\n\u001b[0;32m    748\u001b[0m     \u001b[0mtyp\u001b[0m \u001b[1;33m=\u001b[0m \u001b[0mdtype\u001b[0m\u001b[1;33m.\u001b[0m\u001b[0mtype\u001b[0m\u001b[1;33m\u001b[0m\u001b[0m\n",
      "\u001b[1;31mValueError\u001b[0m: could not convert string to float: '{\"category\":\"tracker\"'"
     ]
    }
   ],
   "source": [
    "file ='C:\\\\Users\\\\David\\\\Desktop\\\\recordings.txt'\n",
    "data = np.loadtxt(file, delimiter=',')"
   ]
  },
  {
   "cell_type": "code",
   "execution_count": null,
   "metadata": {},
   "outputs": [],
   "source": []
  }
 ],
 "metadata": {
  "kernelspec": {
   "display_name": "Python 3",
   "language": "python",
   "name": "python3"
  },
  "language_info": {
   "codemirror_mode": {
    "name": "ipython",
    "version": 3
   },
   "file_extension": ".py",
   "mimetype": "text/x-python",
   "name": "python",
   "nbconvert_exporter": "python",
   "pygments_lexer": "ipython3",
   "version": "3.5.6"
  }
 },
 "nbformat": 4,
 "nbformat_minor": 2
}
