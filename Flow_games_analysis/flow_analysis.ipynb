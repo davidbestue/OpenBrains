{
 "cells": [
  {
   "cell_type": "markdown",
   "metadata": {},
   "source": [
    "## ANALYSIS"
   ]
  },
  {
   "cell_type": "code",
   "execution_count": 1,
   "metadata": {},
   "outputs": [],
   "source": [
    "## -----------IMPORT LIBRARIES\n",
    "import pandas as pd #for dealing with csv import\n",
    "import os # for joining paths and filenames sensibly\n",
    "import numpy as np #for the population std\n",
    "import glob # for finding csv data files\n",
    "import platform # paths use different dividers on linux vs windows, so we need to test for this\n",
    "import csv\n",
    "from pandas.errors import EmptyDataError\n"
   ]
  },
  {
   "cell_type": "code",
   "execution_count": 2,
   "metadata": {},
   "outputs": [],
   "source": [
    "# square_dot_game_new --> slow\n",
    "# square_dot_game2_new --> fast\n",
    "# monkey_game --> monkey"
   ]
  },
  {
   "cell_type": "code",
   "execution_count": null,
   "metadata": {},
   "outputs": [],
   "source": []
  },
  {
   "cell_type": "code",
   "execution_count": 3,
   "metadata": {},
   "outputs": [],
   "source": [
    "# Old computer\n",
    "# path_folder_monkey = 'C:\\\\Users\\\\David\\\\Desktop\\\\OpenBrains\\\\games\\\\monkey\\\\balaguer'\n",
    "# path_folder_slow = 'C:\\\\Users\\\\David\\\\Desktop\\\\OpenBrains\\\\games\\\\slow\\\\balaguer'\n",
    "# path_folder_fast = 'C:\\\\Users\\\\David\\\\Desktop\\\\OpenBrains\\\\games\\\\fast\\\\balaguer'\n",
    "\n",
    "# path_folder_monkey = 'C:\\\\Users\\\\David\\\\Desktop\\\\OpenBrains\\\\games\\\\monkey\\\\tobar'\n",
    "# path_folder_slow = 'C:\\\\Users\\\\David\\\\Desktop\\\\OpenBrains\\\\games\\\\slow\\\\tobar'\n",
    "# path_folder_fast = 'C:\\\\Users\\\\David\\\\Desktop\\\\OpenBrains\\\\games\\\\fast\\\\tobar'\n",
    "\n",
    "path_folder_monkey = 'C:\\\\Users\\\\David\\\\Desktop\\\\OpenBrains\\\\games\\\\monkey\\\\all'\n",
    "path_folder_slow = 'C:\\\\Users\\\\David\\\\Desktop\\\\OpenBrains\\\\games\\\\slow\\\\all'\n",
    "path_folder_fast = 'C:\\\\Users\\\\David\\\\Desktop\\\\OpenBrains\\\\games\\\\fast\\\\all'\n",
    "\n",
    "\n",
    "\n",
    "## New computer\n",
    "# path_folder_monkey = 'C:\\\\Users\\\\david\\\\Documents\\\\Open Brains\\\\Balanced Brains\\\\games\\\\monkey\\\\margaret'\n",
    "# path_folder_slow = 'C:\\\\Users\\\\david\\\\Documents\\\\Open Brains\\\\Balanced Brains\\\\games\\\\slow\\\\margaret'\n",
    "# path_folder_fast = 'C:\\\\Users\\\\david\\\\Documents\\\\Open Brains\\\\Balanced Brains\\\\games\\\\fast\\\\margaret'\n",
    "\n",
    "# path_folder_monkey = 'C:\\\\Users\\\\david\\\\Documents\\\\Open Brains\\\\Balanced Brains\\\\games\\\\monkey\\\\all'\n",
    "# path_folder_slow = 'C:\\\\Users\\\\david\\\\Documents\\\\Open Brains\\\\Balanced Brains\\\\games\\\\slow\\\\all'\n",
    "# path_folder_fast = 'C:\\\\Users\\\\david\\\\Documents\\\\Open Brains\\\\Balanced Brains\\\\games\\\\fast\\\\all'\n",
    "\n",
    "summary = []"
   ]
  },
  {
   "cell_type": "markdown",
   "metadata": {},
   "source": [
    "##### Monkey"
   ]
  },
  {
   "cell_type": "code",
   "execution_count": 4,
   "metadata": {},
   "outputs": [
    {
     "name": "stdout",
     "output_type": "stream",
     "text": [
      "PARTICIPANT_BananaMonkey_2023-02-28_13h07.17.402.csv\n",
      "ok\n",
      "\n",
      "PARTICIPANT_BananaMonkey_2023-02-28_13h07.56.236.csv\n",
      "KeyError - not stored\n",
      "\n",
      "PARTICIPANT_BananaMonkey_2023-02-28_13h08.09.769.csv\n",
      "KeyError - not stored\n",
      "\n",
      "PARTICIPANT_BananaMonkey_2023-02-28_13h09.36.456.csv\n",
      "ok\n",
      "\n",
      "PARTICIPANT_BananaMonkey_2023-02-28_13h09.57.577.csv\n",
      "ok\n",
      "\n",
      "PARTICIPANT_BananaMonkey_2023-02-28_13h10.48.160.csv\n",
      "ok\n",
      "\n",
      "PARTICIPANT_BananaMonkey_2023-02-28_13h11.04.337.csv\n",
      "KeyError - not stored\n",
      "\n",
      "PARTICIPANT_BananaMonkey_2023-02-28_13h11.33.596.csv\n",
      "ok\n",
      "\n"
     ]
    }
   ],
   "source": [
    "search_string=os.path.join(path_folder_monkey,'*.csv') \n",
    "files = glob.glob(search_string) #list of data files in the named location\n",
    "\n",
    "#######################################################################################################\n",
    "\n",
    "frames = []\n",
    "for filename in files:\n",
    "    print(filename.split('\\\\')[-1])\n",
    "    file_path =os.path.join(path_folder_monkey,filename) \n",
    "\n",
    "    #import into python using pandas\n",
    "    try:\n",
    "        df = pd.read_csv(file_path)\n",
    "    except EmptyDataError:\n",
    "        print('not enough data')\n",
    "        print('')\n",
    "        continue\n",
    "    \n",
    "    try:        \n",
    "        df_sub = df[['Participant','mean_speed', 'max_speed', 'number_trials', 'number_trials_correct', 'valoracion_resp.keys']].iloc[-1]\n",
    "        df_subset = pd.DataFrame(df_sub).transpose()\n",
    "        frames.append(df_subset)\n",
    "        print('ok')\n",
    "        print('')\n",
    "    \n",
    "    except KeyError:\n",
    "        print('KeyError - not stored')\n",
    "        print('')\n",
    "        continue\n",
    "    \n",
    "#######################################################################################################\n",
    "\n",
    "df_ = pd.concat(frames)\n",
    "df_ ['game'] = 'monkey'\n",
    "df_=df_.rename(columns = {'valoracion_resp.keys':'valoracion'})\n",
    "\n",
    "summary.append(df_)\n",
    "        "
   ]
  },
  {
   "cell_type": "code",
   "execution_count": null,
   "metadata": {},
   "outputs": [],
   "source": []
  },
  {
   "cell_type": "code",
   "execution_count": null,
   "metadata": {},
   "outputs": [],
   "source": []
  },
  {
   "cell_type": "markdown",
   "metadata": {},
   "source": [
    "##### Slow"
   ]
  },
  {
   "cell_type": "code",
   "execution_count": 5,
   "metadata": {},
   "outputs": [
    {
     "name": "stdout",
     "output_type": "stream",
     "text": [
      "PARTICIPANT_SquareDot_2023-02-28_13h06.53.770.csv\n",
      "ok\n",
      "\n",
      "PARTICIPANT_SquareDot_2023-02-28_13h07.25.349.csv\n",
      "ok\n",
      "\n",
      "PARTICIPANT_SquareDot_2023-02-28_13h07.35.282.csv\n",
      "ok\n",
      "\n",
      "PARTICIPANT_SquareDot_2023-02-28_13h07.35.661.csv\n",
      "ok\n",
      "\n",
      "PARTICIPANT_SquareDot_2023-02-28_13h07.57.003.csv\n",
      "ok\n",
      "\n"
     ]
    }
   ],
   "source": [
    "search_string=os.path.join(path_folder_slow,'*.csv') \n",
    "files = glob.glob(search_string) #list of data files in the named location\n",
    "\n",
    "#######################################################################################################\n",
    "\n",
    "frames = []\n",
    "for filename in files:\n",
    "    print(filename.split('\\\\')[-1])\n",
    "    file_path =os.path.join(path_folder_slow,filename) \n",
    "\n",
    "    #import into python using pandas\n",
    "    try:\n",
    "        df = pd.read_csv(file_path)\n",
    "    except EmptyDataError:\n",
    "        print('not enough data')\n",
    "        print('')\n",
    "        continue\n",
    "    \n",
    "    try:        \n",
    "        df_sub = df[['Participant','mean_speed', 'max_speed', 'number_trials', 'number_trials_correct', 'key_resp_2.keys']].iloc[-1]\n",
    "        df_subset = pd.DataFrame(df_sub).transpose()\n",
    "        frames.append(df_subset)\n",
    "        print('ok')\n",
    "        print('')\n",
    "    \n",
    "    except KeyError:\n",
    "        print('KeyError - not stored')\n",
    "        print('')\n",
    "        continue\n",
    "            \n",
    "\n",
    "        \n",
    "    \n",
    "#######################################################################################################\n",
    "\n",
    "df_ = pd.concat(frames)\n",
    "df_ ['game'] = 'slow'\n",
    "df_=df_.rename(columns = {'key_resp_2.keys':'valoracion'})\n",
    "summary.append(df_)\n",
    "        "
   ]
  },
  {
   "cell_type": "markdown",
   "metadata": {},
   "source": [
    "##### Fast"
   ]
  },
  {
   "cell_type": "code",
   "execution_count": 6,
   "metadata": {},
   "outputs": [
    {
     "name": "stdout",
     "output_type": "stream",
     "text": [
      "PARTICIPANT_SquareDot2_2023-02-28_13h06.45.570.csv\n",
      "ok\n",
      "\n",
      "PARTICIPANT_SquareDot2_2023-02-28_13h07.11.335.csv\n",
      "ok\n",
      "\n",
      "PARTICIPANT_SquareDot2_2023-02-28_13h07.34.292.csv\n",
      "ok\n",
      "\n",
      "PARTICIPANT_SquareDot2_2023-02-28_13h07.47.968.csv\n",
      "ok\n",
      "\n",
      "PARTICIPANT_SquareDot2_2023-02-28_13h09.50.665.csv\n",
      "ok\n",
      "\n",
      "PARTICIPANT_SquareDot2_2023-02-28_13h10.40.975.csv\n",
      "ok\n",
      "\n"
     ]
    }
   ],
   "source": [
    "search_string=os.path.join(path_folder_fast,'*.csv') \n",
    "files = glob.glob(search_string) #list of data files in the named location\n",
    "\n",
    "#######################################################################################################\n",
    "\n",
    "frames = []\n",
    "for filename in files:\n",
    "    print(filename.split('\\\\')[-1])\n",
    "    file_path =os.path.join(path_folder_fast,filename) \n",
    "\n",
    "    #import into python using pandas\n",
    "    try:\n",
    "        df = pd.read_csv(file_path)\n",
    "    except EmptyDataError:\n",
    "        print('not enough data')\n",
    "        print('')\n",
    "        continue\n",
    "    \n",
    "    try:        \n",
    "        df_sub = df[['Participant','mean_speed', 'max_speed', 'number_trials', 'number_trials_correct', 'key_resp_2.keys']].iloc[-1]\n",
    "        df_subset = pd.DataFrame(df_sub).transpose()\n",
    "        frames.append(df_subset)\n",
    "        print('ok')\n",
    "        print('')\n",
    "    \n",
    "    except KeyError:\n",
    "        print('KeyError - not stored')\n",
    "        print('')\n",
    "        continue\n",
    "            \n",
    "\n",
    "        \n",
    "    \n",
    "#######################################################################################################\n",
    "\n",
    "df_ = pd.concat(frames)\n",
    "df_ ['game'] = 'fast'\n",
    "df_=df_.rename(columns = {'key_resp_2.keys':'valoracion'})\n",
    "summary.append(df_)"
   ]
  },
  {
   "cell_type": "code",
   "execution_count": 7,
   "metadata": {},
   "outputs": [],
   "source": [
    "### OLD in python 3.6\n",
    "\n",
    "\n",
    "# search_string=os.path.join(path_folder_monkey,'*.csv') \n",
    "# files = glob.glob(search_string) #list of data files in the named location\n",
    "\n",
    "# #######################################################################################################\n",
    "\n",
    "# frames = []\n",
    "# for filename in files:\n",
    "#     file_path =os.path.join(path_folder_monkey,filename) \n",
    "\n",
    "#     #import into python using pandas\n",
    "#     try:\n",
    "#         df = pd.read_csv(file_path)\n",
    "#     except pd.io.common.EmptyDataError:\n",
    "#         print('not enough data')\n",
    "#         continue\n",
    "    \n",
    "#     #\n",
    "#     df_sub = df[['mean_speed', 'max_speed', 'number_trials', 'number_trials_correct', 'key_resp_2.keys']].iloc[-1]\n",
    "#     df_subset = pd.DataFrame(df_sub).transpose()\n",
    "#     frames.append(df_subset)\n",
    "    \n",
    "# #######################################################################################################\n",
    "\n",
    "# df_ = pd.concat(frames)\n",
    "# df_ ['game'] = 'monkey'\n",
    "# summary.append(df_)\n",
    "        \n",
    "    \n",
    "    \n",
    "    \n",
    "    \n",
    "    \n",
    "    \n",
    "# search_string=os.path.join(path_folder_slow,'*.csv') \n",
    "# files = glob.glob(search_string) #list of data files in the named location\n",
    "\n",
    "# #######################################################################################################\n",
    "\n",
    "# frames = []\n",
    "# for filename in files:\n",
    "#     file_path =os.path.join(path_folder_monkey,filename) \n",
    "\n",
    "#     #import into python using pandas\n",
    "#     try:\n",
    "#         df = pd.read_csv(file_path)\n",
    "#     except pd.io.common.EmptyDataError:\n",
    "#         print('not enough data')\n",
    "#         continue\n",
    "    \n",
    "#     #\n",
    "#     df_sub = df[['mean_speed', 'max_speed', 'number_trials', 'number_trials_correct', 'key_resp_2.keys']].iloc[-1]\n",
    "#     df_subset = pd.DataFrame(df_sub).transpose()\n",
    "#     frames.append(df_subset)\n",
    "    \n",
    "# #######################################################################################################\n",
    "\n",
    "# df_ = pd.concat(frames)\n",
    "# df_ ['game'] = 'slow'\n",
    "# summary.append(df_)\n",
    "        \n",
    "\n",
    "\n",
    "\n",
    "\n",
    "\n",
    "# search_string=os.path.join(path_folder_fast,'*.csv') \n",
    "# files = glob.glob(search_string) #list of data files in the named location\n",
    "\n",
    "# #######################################################################################################\n",
    "\n",
    "# frames = []\n",
    "# for filename in files:\n",
    "#     file_path =os.path.join(path_folder_monkey,filename) \n",
    "\n",
    "#     #import into python using pandas\n",
    "#     try:\n",
    "#         df = pd.read_csv(file_path)\n",
    "#     except pd.io.common.EmptyDataError:\n",
    "#         print('not enough data')\n",
    "#         continue\n",
    "    \n",
    "#     #\n",
    "#     df_sub = df[['mean_speed', 'max_speed', 'number_trials', 'number_trials_correct', 'key_resp_2.keys']].iloc[-1]\n",
    "#     df_subset = pd.DataFrame(df_sub).transpose()\n",
    "#     frames.append(df_subset)\n",
    "    \n",
    "# #######################################################################################################\n",
    "\n",
    "# df_ = pd.concat(frames)\n",
    "# df_ ['game'] = 'fast'\n",
    "# summary.append(df_)\n",
    "        "
   ]
  },
  {
   "cell_type": "markdown",
   "metadata": {},
   "source": [
    "## PLOTS"
   ]
  },
  {
   "cell_type": "code",
   "execution_count": 8,
   "metadata": {},
   "outputs": [],
   "source": [
    "import pandas as pd #for dealing with csv import\n",
    "import matplotlib.pyplot as plt  # Matplotlib's pyplot: MATLAB-like syntax\n",
    "import scipy\n",
    "from scipy import stats\n",
    "import numpy as np\n",
    "import seaborn as sns"
   ]
  },
  {
   "cell_type": "code",
   "execution_count": 9,
   "metadata": {},
   "outputs": [
    {
     "name": "stdout",
     "output_type": "stream",
     "text": [
      "16\n"
     ]
    },
    {
     "data": {
      "text/html": [
       "<div>\n",
       "<style scoped>\n",
       "    .dataframe tbody tr th:only-of-type {\n",
       "        vertical-align: middle;\n",
       "    }\n",
       "\n",
       "    .dataframe tbody tr th {\n",
       "        vertical-align: top;\n",
       "    }\n",
       "\n",
       "    .dataframe thead th {\n",
       "        text-align: right;\n",
       "    }\n",
       "</style>\n",
       "<table border=\"1\" class=\"dataframe\">\n",
       "  <thead>\n",
       "    <tr style=\"text-align: right;\">\n",
       "      <th></th>\n",
       "      <th>Participant</th>\n",
       "      <th>mean_speed</th>\n",
       "      <th>max_speed</th>\n",
       "      <th>number_trials</th>\n",
       "      <th>number_trials_correct</th>\n",
       "      <th>valoracion</th>\n",
       "      <th>game</th>\n",
       "      <th>percentage_correct</th>\n",
       "      <th>time_played</th>\n",
       "    </tr>\n",
       "  </thead>\n",
       "  <tbody>\n",
       "    <tr>\n",
       "      <th>160</th>\n",
       "      <td>aleix cerezuela</td>\n",
       "      <td>0.074</td>\n",
       "      <td>0.1</td>\n",
       "      <td>150</td>\n",
       "      <td>125</td>\n",
       "      <td>5</td>\n",
       "      <td>monkey</td>\n",
       "      <td>0.833333</td>\n",
       "      <td>111</td>\n",
       "    </tr>\n",
       "    <tr>\n",
       "      <th>48</th>\n",
       "      <td>Gina</td>\n",
       "      <td>0.0516667</td>\n",
       "      <td>0.08</td>\n",
       "      <td>45</td>\n",
       "      <td>41</td>\n",
       "      <td>4</td>\n",
       "      <td>monkey</td>\n",
       "      <td>0.911111</td>\n",
       "      <td>23.25</td>\n",
       "    </tr>\n",
       "    <tr>\n",
       "      <th>128</th>\n",
       "      <td>ONA</td>\n",
       "      <td>0.0560417</td>\n",
       "      <td>0.0825</td>\n",
       "      <td>120</td>\n",
       "      <td>99</td>\n",
       "      <td>4</td>\n",
       "      <td>monkey</td>\n",
       "      <td>0.825</td>\n",
       "      <td>67.25</td>\n",
       "    </tr>\n",
       "    <tr>\n",
       "      <th>160</th>\n",
       "      <td>pau carricondo</td>\n",
       "      <td>0.0693333</td>\n",
       "      <td>0.0975</td>\n",
       "      <td>150</td>\n",
       "      <td>124</td>\n",
       "      <td>4</td>\n",
       "      <td>monkey</td>\n",
       "      <td>0.826667</td>\n",
       "      <td>104</td>\n",
       "    </tr>\n",
       "    <tr>\n",
       "      <th>160</th>\n",
       "      <td>elver galarga</td>\n",
       "      <td>0.0545833</td>\n",
       "      <td>0.0875</td>\n",
       "      <td>150</td>\n",
       "      <td>124</td>\n",
       "      <td>4</td>\n",
       "      <td>monkey</td>\n",
       "      <td>0.826667</td>\n",
       "      <td>81.875</td>\n",
       "    </tr>\n",
       "  </tbody>\n",
       "</table>\n",
       "</div>"
      ],
      "text/plain": [
       "         Participant mean_speed max_speed number_trials number_trials_correct  \\\n",
       "160  aleix cerezuela      0.074       0.1           150                   125   \n",
       "48              Gina  0.0516667      0.08            45                    41   \n",
       "128             ONA   0.0560417    0.0825           120                    99   \n",
       "160   pau carricondo  0.0693333    0.0975           150                   124   \n",
       "160    elver galarga  0.0545833    0.0875           150                   124   \n",
       "\n",
       "    valoracion    game percentage_correct time_played  \n",
       "160          5  monkey           0.833333         111  \n",
       "48           4  monkey           0.911111       23.25  \n",
       "128          4  monkey              0.825       67.25  \n",
       "160          4  monkey           0.826667         104  \n",
       "160          4  monkey           0.826667      81.875  "
      ]
     },
     "execution_count": 9,
     "metadata": {},
     "output_type": "execute_result"
    }
   ],
   "source": [
    "df = pd.concat(summary)\n",
    "df['percentage_correct'] = df['number_trials_correct'] / df['number_trials']\n",
    "df['time_played'] = df['mean_speed']*df['number_trials']*10\n",
    "print(len(df))\n",
    "df.head()"
   ]
  },
  {
   "cell_type": "code",
   "execution_count": 10,
   "metadata": {},
   "outputs": [],
   "source": [
    "c_monk = '#e59500'\n",
    "c_slow= 'aquamarine' #'#002642'\n",
    "c_fast = 'indianred' # '#840032'\n",
    "\n",
    "sns.set_context(\"poster\")"
   ]
  },
  {
   "cell_type": "code",
   "execution_count": 11,
   "metadata": {},
   "outputs": [
    {
     "name": "stderr",
     "output_type": "stream",
     "text": [
      "C:\\Users\\David\\Anaconda3\\envs\\python3\\lib\\site-packages\\scipy\\stats\\stats.py:1713: FutureWarning: Using a non-tuple sequence for multidimensional indexing is deprecated; use `arr[tuple(seq)]` instead of `arr[seq]`. In the future this will be interpreted as an array index, `arr[np.array(seq)]`, which will result either in an error or a different result.\n",
      "  return np.add.reduce(sorted[indexer] * weights, axis=axis) / sumval\n"
     ]
    },
    {
     "data": {
      "image/png": "[encoded data removed]",
      "text/plain": [
       "<Figure size 1800x576 with 3 Axes>"
      ]
     },
     "metadata": {
      "needs_background": "light"
     },
     "output_type": "display_data"
    }
   ],
   "source": [
    "plt.figure(figsize=(25,8))\n",
    "\n",
    "plt.subplot(131)\n",
    "sns.barplot(x='game', y='number_trials', order = ['monkey', 'slow', 'fast'], \n",
    "            palette=[c_monk, c_slow, c_fast], ci=68, estimator=np.mean, data=df)\n",
    "plt.gca().spines['right'].set_visible(False)  # aesthetics                                                                              # remove right spines\n",
    "plt.gca().spines['top'].set_visible(False)                                                                                  # remove top spines\n",
    "plt.gca().get_xaxis().tick_bottom()                                                                                         \n",
    "plt.gca().get_yaxis().tick_left()\n",
    "plt.gca().tick_params(direction='in') #direction\n",
    "#plt.ylim(0,1.5)\n",
    "#plt.yticks([0,0.5,1,1.5])\n",
    "plt.ylabel('# trials')\n",
    "plt.xlabel('')\n",
    "plt.xticks([0,1,2], ['flux', 'avorriment', 'frustració'])\n",
    "plt.title('Temps de joc', fontsize=30)\n",
    "\n",
    "\n",
    "plt.subplot(132)\n",
    "sns.barplot(x='game', y='max_speed', order = ['monkey', 'slow', 'fast'], \n",
    "            palette=[c_monk, c_slow, c_fast], ci=68, estimator=np.mean, data=df)\n",
    "plt.gca().spines['right'].set_visible(False)  # aesthetics                                                                              # remove right spines\n",
    "plt.gca().spines['top'].set_visible(False)                                                                                  # remove top spines\n",
    "plt.gca().get_xaxis().tick_bottom()                                                                                         \n",
    "plt.gca().get_yaxis().tick_left()\n",
    "plt.gca().tick_params(direction='in') #direction\n",
    "#plt.ylim(0,1.5)\n",
    "#plt.yticks([0,0.5,1,1.5])\n",
    "plt.ylabel('velocitat màxima')\n",
    "plt.xticks([0,1,2], ['flux', 'avorriment', 'frustració'])\n",
    "plt.xlabel('')\n",
    "plt.title('Aprenentatge', fontsize=30)\n",
    "\n",
    "plt.subplot(133)\n",
    "sns.barplot(x='game', y='valoracion', order = ['monkey', 'slow', 'fast'], \n",
    "            palette=[c_monk, c_slow, c_fast], ci=68, estimator=np.mean, data=df)\n",
    "plt.gca().spines['right'].set_visible(False)  # aesthetics                                                                              # remove right spines\n",
    "plt.gca().spines['top'].set_visible(False)   \n",
    "plt.gca().get_xaxis().tick_bottom()                                                                                         \n",
    "plt.gca().get_yaxis().tick_left()\n",
    "plt.gca().tick_params(direction='in') #direction\n",
    "#plt.ylim(0,1.5)\n",
    "#plt.yticks([0,0.5,1,1.5])\n",
    "plt.ylabel('punts')\n",
    "plt.xlabel('')\n",
    "plt.xticks([0,1,2], ['flux', 'avorriment', 'frustració'])\n",
    "plt.title('Valoració', fontsize=30)\n",
    "\n",
    "plt.tight_layout()\n",
    "plt.subplots_adjust(wspace=0.3)\n"
   ]
  },
  {
   "cell_type": "code",
   "execution_count": 12,
   "metadata": {},
   "outputs": [
    {
     "name": "stderr",
     "output_type": "stream",
     "text": [
      "C:\\Users\\David\\Anaconda3\\envs\\python3\\lib\\site-packages\\scipy\\stats\\stats.py:1713: FutureWarning: Using a non-tuple sequence for multidimensional indexing is deprecated; use `arr[tuple(seq)]` instead of `arr[seq]`. In the future this will be interpreted as an array index, `arr[np.array(seq)]`, which will result either in an error or a different result.\n",
      "  return np.add.reduce(sorted[indexer] * weights, axis=axis) / sumval\n"
     ]
    },
    {
     "data": {
      "image/png": "[encoded data removed]",
      "text/plain": [
       "<Figure size 1800x576 with 3 Axes>"
      ]
     },
     "metadata": {
      "needs_background": "light"
     },
     "output_type": "display_data"
    }
   ],
   "source": [
    "plt.figure(figsize=(25,8))\n",
    "\n",
    "plt.subplot(131)\n",
    "sns.barplot(x='game', y='time_played', order = ['monkey', 'slow', 'fast'], \n",
    "            palette=[c_monk, c_slow, c_fast], ci=68, estimator=np.sum, data=df)\n",
    "plt.gca().spines['right'].set_visible(False)  # aesthetics                                                                              # remove right spines\n",
    "plt.gca().spines['top'].set_visible(False)                                                                                  # remove top spines\n",
    "plt.gca().get_xaxis().tick_bottom()                                                                                         \n",
    "plt.gca().get_yaxis().tick_left()\n",
    "plt.gca().tick_params(direction='in') #direction\n",
    "#plt.ylim(0,1.5)\n",
    "#plt.yticks([0,0.5,1,1.5])\n",
    "plt.ylabel('total segons')\n",
    "plt.xlabel('')\n",
    "plt.xticks([0,1,2], ['flux', 'avorriment', 'frustració'])\n",
    "plt.title('Temps de joc', fontsize=30)\n",
    "\n",
    "\n",
    "plt.subplot(132)\n",
    "sns.barplot(x='game', y='percentage_correct', order = ['monkey', 'slow', 'fast'], \n",
    "            palette=[c_monk, c_slow, c_fast], ci=68, estimator=np.mean, data=df)\n",
    "plt.gca().spines['right'].set_visible(False)  # aesthetics                                                                              # remove right spines\n",
    "plt.gca().spines['top'].set_visible(False)                                                                                  # remove top spines\n",
    "plt.gca().get_xaxis().tick_bottom()                                                                                         \n",
    "plt.gca().get_yaxis().tick_left()\n",
    "plt.gca().tick_params(direction='in') #direction\n",
    "plt.ylim(0,1.)\n",
    "plt.yticks([0,0.25,0.5,0.75,1])\n",
    "plt.ylabel('% correctes')\n",
    "plt.xlabel('')\n",
    "plt.xticks([0,1,2], ['flux', 'avorriment', 'frustració'])\n",
    "plt.title('Aprenentatge', fontsize=30)\n",
    "\n",
    "plt.subplot(133)\n",
    "sns.barplot(x='game', y='valoracion', order = ['monkey', 'slow', 'fast'], \n",
    "            palette=[c_monk, c_slow, c_fast], ci=68, estimator=np.mean, data=df)\n",
    "plt.gca().spines['right'].set_visible(False)  # aesthetics                                                                              # remove right spines\n",
    "plt.gca().spines['top'].set_visible(False)   \n",
    "plt.gca().get_xaxis().tick_bottom()                                                                                         \n",
    "plt.gca().get_yaxis().tick_left()\n",
    "plt.gca().tick_params(direction='in') #direction\n",
    "#plt.ylim(0,1.5)\n",
    "#plt.yticks([0,0.5,1,1.5])\n",
    "plt.ylabel('punts')\n",
    "plt.xlabel('')\n",
    "plt.xticks([0,1,2], ['flux', 'avorriment', 'frustració'])\n",
    "plt.title('Valoració', fontsize=30)\n",
    "\n",
    "plt.tight_layout()\n",
    "plt.subplots_adjust(wspace=0.3)"
   ]
  },
  {
   "cell_type": "code",
   "execution_count": null,
   "metadata": {},
   "outputs": [],
   "source": []
  },
  {
   "cell_type": "code",
   "execution_count": 13,
   "metadata": {},
   "outputs": [
    {
     "name": "stderr",
     "output_type": "stream",
     "text": [
      "C:\\Users\\David\\Anaconda3\\envs\\python3\\lib\\site-packages\\scipy\\stats\\stats.py:1713: FutureWarning: Using a non-tuple sequence for multidimensional indexing is deprecated; use `arr[tuple(seq)]` instead of `arr[seq]`. In the future this will be interpreted as an array index, `arr[np.array(seq)]`, which will result either in an error or a different result.\n",
      "  return np.add.reduce(sorted[indexer] * weights, axis=axis) / sumval\n"
     ]
    },
    {
     "data": {
      "image/png": "[encoded data removed]",
      "text/plain": [
       "<Figure size 1800x576 with 3 Axes>"
      ]
     },
     "metadata": {
      "needs_background": "light"
     },
     "output_type": "display_data"
    }
   ],
   "source": [
    "plt.figure(figsize=(25,8))\n",
    "\n",
    "plt.subplot(131)\n",
    "sns.barplot(x='game', y='number_trials', order = ['monkey', 'slow', 'fast'], \n",
    "            palette=[c_monk, c_slow, c_fast], ci=68, estimator=np.mean, data=df)\n",
    "plt.gca().spines['right'].set_visible(False)  # aesthetics                                                                              # remove right spines\n",
    "plt.gca().spines['top'].set_visible(False)                                                                                  # remove top spines\n",
    "plt.gca().get_xaxis().tick_bottom()                                                                                         \n",
    "plt.gca().get_yaxis().tick_left()\n",
    "plt.gca().tick_params(direction='in') #direction\n",
    "#plt.ylim(0,1.5)\n",
    "#plt.yticks([0,0.5,1,1.5])\n",
    "plt.ylabel('# trials')\n",
    "plt.xlabel('')\n",
    "plt.xticks([0,1,2], ['flux', 'avorriment', 'frustració'])\n",
    "plt.title('Temps de joc', fontsize=30)\n",
    "\n",
    "\n",
    "plt.subplot(132)\n",
    "sns.barplot(x='game', y='percentage_correct', order = ['monkey', 'slow', 'fast'], \n",
    "            palette=[c_monk, c_slow, c_fast], ci=68, estimator=np.mean, data=df)\n",
    "plt.gca().spines['right'].set_visible(False)  # aesthetics                                                                              # remove right spines\n",
    "plt.gca().spines['top'].set_visible(False)                                                                                  # remove top spines\n",
    "plt.gca().get_xaxis().tick_bottom()                                                                                         \n",
    "plt.gca().get_yaxis().tick_left()\n",
    "plt.gca().tick_params(direction='in') #direction\n",
    "plt.ylim(0,1.)\n",
    "plt.yticks([0,0.25,0.5,0.75,1])\n",
    "plt.ylabel('% correctes')\n",
    "plt.xlabel('')\n",
    "plt.xticks([0,1,2], ['flux', 'avorriment', 'frustració'])\n",
    "plt.title('Aprenentatge', fontsize=30)\n",
    "\n",
    "plt.subplot(133)\n",
    "sns.barplot(x='game', y='valoracion', order = ['monkey', 'slow', 'fast'], \n",
    "            palette=[c_monk, c_slow, c_fast], ci=68, estimator=np.mean, data=df)\n",
    "plt.gca().spines['right'].set_visible(False)  # aesthetics                                                                              # remove right spines\n",
    "plt.gca().spines['top'].set_visible(False)   \n",
    "plt.gca().get_xaxis().tick_bottom()                                                                                         \n",
    "plt.gca().get_yaxis().tick_left()\n",
    "plt.gca().tick_params(direction='in') #direction\n",
    "#plt.ylim(0,1.5)\n",
    "#plt.yticks([0,0.5,1,1.5])\n",
    "plt.ylabel('punts')\n",
    "plt.xlabel('')\n",
    "plt.xticks([0,1,2], ['flux', 'avorriment', 'frustració'])\n",
    "plt.title('Valoració', fontsize=30)\n",
    "\n",
    "plt.tight_layout()\n",
    "plt.subplots_adjust(wspace=0.3)"
   ]
  },
  {
   "cell_type": "code",
   "execution_count": null,
   "metadata": {},
   "outputs": [],
   "source": []
  },
  {
   "cell_type": "code",
   "execution_count": null,
   "metadata": {},
   "outputs": [],
   "source": []
  },
  {
   "cell_type": "code",
   "execution_count": null,
   "metadata": {},
   "outputs": [],
   "source": []
  },
  {
   "cell_type": "markdown",
   "metadata": {},
   "source": [
    "## INDIVIDUAL PLOTS"
   ]
  },
  {
   "cell_type": "code",
   "execution_count": 21,
   "metadata": {},
   "outputs": [],
   "source": [
    "sns.set_context(\"talk\")"
   ]
  },
  {
   "cell_type": "code",
   "execution_count": 15,
   "metadata": {},
   "outputs": [
    {
     "name": "stderr",
     "output_type": "stream",
     "text": [
      "C:\\Users\\David\\Anaconda3\\envs\\python3\\lib\\site-packages\\scipy\\stats\\stats.py:1713: FutureWarning: Using a non-tuple sequence for multidimensional indexing is deprecated; use `arr[tuple(seq)]` instead of `arr[seq]`. In the future this will be interpreted as an array index, `arr[np.array(seq)]`, which will result either in an error or a different result.\n",
      "  return np.add.reduce(sorted[indexer] * weights, axis=axis) / sumval\n"
     ]
    },
    {
     "data": {
      "image/png": "[encoded data removed]",
      "text/plain": [
       "<Figure size 432x288 with 1 Axes>"
      ]
     },
     "metadata": {
      "needs_background": "light"
     },
     "output_type": "display_data"
    },
    {
     "name": "stdout",
     "output_type": "stream",
     "text": [
      "monkey-boring\n",
      "Ttest_indResult(statistic=3.751366502557187, pvalue=0.0003625259709212262)\n",
      "\n",
      "monkey-frustrating\n",
      "Ttest_indResult(statistic=0.0864934419286409, pvalue=0.9313360409492465)\n",
      "\n",
      "boring-frustrating\n",
      "Ttest_indResult(statistic=-3.26704639671645, pvalue=0.0018137167245203002)\n"
     ]
    }
   ],
   "source": [
    "########### NUMBER OF TRIALS\n",
    "\n",
    "plt.figure()\n",
    "sns.barplot(x='game', y='number_trials', order = ['monkey', 'slow', 'fast'], \n",
    "            palette=[c_monk, c_slow, c_fast], ci=68, estimator=np.mean, data=df)\n",
    "plt.gca().spines['right'].set_visible(False)  # aesthetics                                                                              # remove right spines\n",
    "plt.gca().spines['top'].set_visible(False)                                                                                  # remove top spines\n",
    "plt.gca().get_xaxis().tick_bottom()                                                                                         \n",
    "plt.gca().get_yaxis().tick_left()\n",
    "plt.gca().tick_params(direction='in') #direction\n",
    "#plt.ylim(0,1.5)\n",
    "#plt.yticks([0,0.5,1,1.5])\n",
    "plt.ylabel('number of trials')\n",
    "plt.xlabel('')\n",
    "plt.xticks([0,1,2], ['flow', 'boring', 'frustrating'])\n",
    "plt.show(block=False)\n",
    "\n",
    "\n",
    "print('monkey-boring')\n",
    "print(scipy.stats.ttest_ind(df.loc[df['game']=='monkey', 'number_trials'].values, df.loc[df['game']=='slow', 'number_trials'].values) )\n",
    "print('')\n",
    "\n",
    "print('monkey-frustrating')\n",
    "print(scipy.stats.ttest_ind(df.loc[df['game']=='monkey', 'number_trials'].values, df.loc[df['game']=='fast', 'number_trials'].values) )\n",
    "print('')\n",
    "\n",
    "print('boring-frustrating')\n",
    "print(scipy.stats.ttest_ind(df.loc[df['game']=='slow', 'number_trials'].values, df.loc[df['game']=='fast', 'number_trials'].values) )\n"
   ]
  },
  {
   "cell_type": "code",
   "execution_count": 16,
   "metadata": {},
   "outputs": [
    {
     "name": "stderr",
     "output_type": "stream",
     "text": [
      "C:\\Users\\David\\Anaconda3\\envs\\python3\\lib\\site-packages\\scipy\\stats\\stats.py:1713: FutureWarning: Using a non-tuple sequence for multidimensional indexing is deprecated; use `arr[tuple(seq)]` instead of `arr[seq]`. In the future this will be interpreted as an array index, `arr[np.array(seq)]`, which will result either in an error or a different result.\n",
      "  return np.add.reduce(sorted[indexer] * weights, axis=axis) / sumval\n"
     ]
    },
    {
     "data": {
      "image/png": "[encoded data removed]",
      "text/plain": [
       "<Figure size 432x288 with 1 Axes>"
      ]
     },
     "metadata": {
      "needs_background": "light"
     },
     "output_type": "display_data"
    },
    {
     "name": "stdout",
     "output_type": "stream",
     "text": [
      "monkey-boring\n",
      "Ttest_indResult(statistic=16.710825441421175, pvalue=5.920646137068635e-26)\n",
      "\n",
      "monkey-frustrating\n",
      "Ttest_indResult(statistic=-2.034684861025968, pvalue=0.04590332700625939)\n",
      "\n",
      "boring-frustrating\n",
      "Ttest_indResult(statistic=-11.336919419026913, pvalue=1.898175015696546e-16)\n"
     ]
    }
   ],
   "source": [
    "########### SPEED\n",
    "plt.figure()\n",
    "sns.barplot(x='game', y='max_speed', order = ['monkey', 'slow', 'fast'], \n",
    "            palette=[c_monk, c_slow, c_fast], ci=68, estimator=np.mean, data=df)\n",
    "plt.gca().spines['right'].set_visible(False)  # aesthetics                                                                              # remove right spines\n",
    "plt.gca().spines['top'].set_visible(False)                                                                                  # remove top spines\n",
    "plt.gca().get_xaxis().tick_bottom()                                                                                         \n",
    "plt.gca().get_yaxis().tick_left()\n",
    "plt.gca().tick_params(direction='in') #direction\n",
    "#plt.ylim(0,1.5)\n",
    "#plt.yticks([0,0.5,1,1.5])\n",
    "plt.ylabel('velocitat màxima')\n",
    "plt.xlabel('')\n",
    "plt.xticks([0,1,2], ['flow', 'boring', 'frustrating'])\n",
    "plt.show(block=False)\n",
    "\n",
    "\n",
    "print('monkey-boring')\n",
    "print(scipy.stats.ttest_ind(df.loc[df['game']=='monkey', 'max_speed'].values, df.loc[df['game']=='slow', 'max_speed'].values) )\n",
    "print('')\n",
    "\n",
    "print('monkey-frustrating')\n",
    "print(scipy.stats.ttest_ind(df.loc[df['game']=='monkey', 'max_speed'].values, df.loc[df['game']=='fast', 'max_speed'].values) )\n",
    "print('')\n",
    "\n",
    "print('boring-frustrating')\n",
    "print(scipy.stats.ttest_ind(df.loc[df['game']=='slow', 'max_speed'].values, df.loc[df['game']=='fast', 'max_speed'].values) )\n"
   ]
  },
  {
   "cell_type": "code",
   "execution_count": 20,
   "metadata": {},
   "outputs": [
    {
     "name": "stderr",
     "output_type": "stream",
     "text": [
      "C:\\Users\\David\\Anaconda3\\envs\\python3\\lib\\site-packages\\scipy\\stats\\stats.py:1713: FutureWarning: Using a non-tuple sequence for multidimensional indexing is deprecated; use `arr[tuple(seq)]` instead of `arr[seq]`. In the future this will be interpreted as an array index, `arr[np.array(seq)]`, which will result either in an error or a different result.\n",
      "  return np.add.reduce(sorted[indexer] * weights, axis=axis) / sumval\n"
     ]
    },
    {
     "data": {
      "image/png": "[encoded data removed]",
      "text/plain": [
       "<Figure size 432x288 with 1 Axes>"
      ]
     },
     "metadata": {
      "needs_background": "light"
     },
     "output_type": "display_data"
    },
    {
     "name": "stdout",
     "output_type": "stream",
     "text": [
      "monkey-boring\n",
      "Ttest_indResult(statistic=-9.07018354225655, pvalue=2.2243634320096406e-13)\n",
      "\n",
      "monkey-frustrating\n",
      "Ttest_indResult(statistic=9.171837101907668, pvalue=2.1559632701061529e-13)\n",
      "\n",
      "boring-frustrating\n",
      "Ttest_indResult(statistic=10.893306399400288, pvalue=9.457647694533112e-16)\n"
     ]
    }
   ],
   "source": [
    "########### PERCENTAGE OF CORRECT\n",
    "\n",
    "plt.figure()\n",
    "sns.barplot(x='game', y='percentage_correct', order = ['monkey', 'slow', 'fast'], \n",
    "            palette=[c_monk, c_slow, c_fast], ci=68, estimator=np.mean, data=df)\n",
    "plt.gca().spines['right'].set_visible(False)  # aesthetics                                                                              # remove right spines\n",
    "plt.gca().spines['top'].set_visible(False)                                                                                  # remove top spines\n",
    "plt.gca().get_xaxis().tick_bottom()                                                                                         \n",
    "plt.gca().get_yaxis().tick_left()\n",
    "plt.gca().tick_params(direction='in') #direction\n",
    "plt.ylim(0,1.)\n",
    "plt.yticks([0,0.25,0.5,0.75,1])\n",
    "plt.ylabel('% of correct')\n",
    "plt.xlabel('')\n",
    "plt.xticks([0,1,2], ['flow', 'boring', 'frustrating'])\n",
    "plt.show(block=False)\n",
    "\n",
    "\n",
    "\n",
    "print('monkey-boring')\n",
    "print(scipy.stats.ttest_ind(df.loc[df['game']=='monkey', 'percentage_correct'].values, df.loc[df['game']=='slow', 'percentage_correct'].values) )\n",
    "print('')\n",
    "\n",
    "print('monkey-frustrating')\n",
    "print(scipy.stats.ttest_ind(df.loc[df['game']=='monkey', 'percentage_correct'].values, df.loc[df['game']=='fast', 'percentage_correct'].values) )\n",
    "print('')\n",
    "\n",
    "print('boring-frustrating')\n",
    "print(scipy.stats.ttest_ind(df.loc[df['game']=='slow', 'percentage_correct'].values, df.loc[df['game']=='fast', 'percentage_correct'].values) )\n",
    "\n"
   ]
  },
  {
   "cell_type": "code",
   "execution_count": 19,
   "metadata": {},
   "outputs": [
    {
     "name": "stderr",
     "output_type": "stream",
     "text": [
      "C:\\Users\\David\\Anaconda3\\envs\\python3\\lib\\site-packages\\scipy\\stats\\stats.py:1713: FutureWarning: Using a non-tuple sequence for multidimensional indexing is deprecated; use `arr[tuple(seq)]` instead of `arr[seq]`. In the future this will be interpreted as an array index, `arr[np.array(seq)]`, which will result either in an error or a different result.\n",
      "  return np.add.reduce(sorted[indexer] * weights, axis=axis) / sumval\n"
     ]
    },
    {
     "data": {
      "image/png": "[encoded data removed]",
      "text/plain": [
       "<Figure size 432x288 with 1 Axes>"
      ]
     },
     "metadata": {
      "needs_background": "light"
     },
     "output_type": "display_data"
    },
    {
     "name": "stdout",
     "output_type": "stream",
     "text": [
      "monkey-boring\n",
      "Ttest_indResult(statistic=2.7271652808629376, pvalue=0.008093379564770683)\n",
      "\n",
      "monkey-frustrating\n",
      "Ttest_indResult(statistic=1.9779770456660144, pvalue=0.05210872880415732)\n",
      "\n",
      "boring-frustrating\n",
      "Ttest_indResult(statistic=-0.38638228965942595, pvalue=0.7006035169917479)\n",
      "\n"
     ]
    }
   ],
   "source": [
    "########### EVALUATION OF THE GAME\n",
    "\n",
    "plt.figure()\n",
    "sns.barplot(x='game', y='valoracion', order = ['monkey', 'slow', 'fast'], \n",
    "            palette=[c_monk, c_slow, c_fast], ci=68, estimator=np.mean, data=df)\n",
    "plt.gca().spines['right'].set_visible(False)  # aesthetics                                                                              # remove right spines\n",
    "plt.gca().spines['top'].set_visible(False)                                                                                  # remove top spines\n",
    "plt.gca().get_xaxis().tick_bottom()                                                                                         \n",
    "plt.gca().get_yaxis().tick_left()\n",
    "plt.gca().tick_params(direction='in') #direction\n",
    "#plt.ylim(0,1.5)\n",
    "#plt.yticks([0,0.5,1,1.5])\n",
    "plt.ylabel('points evaluation')\n",
    "plt.xlabel('')\n",
    "plt.xticks([0,1,2], ['flow', 'boring', 'frustrating'])\n",
    "plt.show(block=False)\n",
    "\n",
    "print('monkey-boring')\n",
    "print(scipy.stats.ttest_ind(df.loc[df['game']=='monkey', 'valoracion'].values, df.loc[df['game']=='slow', 'valoracion'].values) )\n",
    "print('')\n",
    "\n",
    "print('monkey-frustrating')\n",
    "print(scipy.stats.ttest_ind(df.loc[df['game']=='monkey', 'valoracion'].values, df.loc[df['game']=='fast', 'valoracion'].values) )\n",
    "print('')\n",
    "\n",
    "print('boring-frustrating')\n",
    "print(scipy.stats.ttest_ind(df.loc[df['game']=='slow', 'valoracion'].values, df.loc[df['game']=='fast', 'valoracion'].values) )\n",
    "print('')\n"
   ]
  },
  {
   "cell_type": "code",
   "execution_count": null,
   "metadata": {},
   "outputs": [],
   "source": []
  },
  {
   "cell_type": "code",
   "execution_count": null,
   "metadata": {},
   "outputs": [],
   "source": []
  }
 ],
 "metadata": {
  "kernelspec": {
   "display_name": "Python 3",
   "language": "python",
   "name": "python3"
  },
  "language_info": {
   "codemirror_mode": {
    "name": "ipython",
    "version": 3
   },
   "file_extension": ".py",
   "mimetype": "text/x-python",
   "name": "python",
   "nbconvert_exporter": "python",
   "pygments_lexer": "ipython3",
   "version": "3.5.6"
  }
 },
 "nbformat": 4,
 "nbformat_minor": 2
}
