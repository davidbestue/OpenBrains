{
 "cells": [
  {
   "cell_type": "markdown",
   "metadata": {},
   "source": [
    "## ANALYSIS"
   ]
  },
  {
   "cell_type": "code",
   "execution_count": 1,
   "metadata": {},
   "outputs": [],
   "source": [
    "## -----------IMPORT LIBRARIES\n",
    "import pandas as pd #for dealing with csv import\n",
    "import os # for joining paths and filenames sensibly\n",
    "import numpy as np #for the population std\n",
    "import glob # for finding csv data files\n",
    "import platform # paths use different dividers on linux vs windows, so we need to test for this\n",
    "import csv\n",
    "from pandas.errors import EmptyDataError\n"
   ]
  },
  {
   "cell_type": "code",
   "execution_count": null,
   "metadata": {},
   "outputs": [],
   "source": [
    "# square_dot_game_new --> slow\n",
    "# square_dot_game2_new --> fast\n",
    "# monkey_game --> monkey"
   ]
  },
  {
   "cell_type": "code",
   "execution_count": null,
   "metadata": {},
   "outputs": [],
   "source": []
  },
  {
   "cell_type": "code",
   "execution_count": 229,
   "metadata": {},
   "outputs": [],
   "source": [
    "# path_folder_monkey = 'C:\\\\Users\\\\David\\\\Desktop\\\\OpenBrains\\\\games\\\\monkey'\n",
    "# path_folder_slow = 'C:\\\\Users\\\\David\\\\Desktop\\\\OpenBrains\\\\games\\\\slow'\n",
    "# path_folder_fast = 'C:\\\\Users\\\\David\\\\Desktop\\\\OpenBrains\\\\games\\\\fast'\n",
    "\n",
    "\n",
    "path_folder_monkey = 'C:\\\\Users\\\\david\\\\Documents\\\\Open Brains\\\\Balanced Brains\\\\games\\\\monkey\\\\margaret'\n",
    "path_folder_slow = 'C:\\\\Users\\\\david\\\\Documents\\\\Open Brains\\\\Balanced Brains\\\\games\\\\slow\\\\margaret'\n",
    "path_folder_fast = 'C:\\\\Users\\\\david\\\\Documents\\\\Open Brains\\\\Balanced Brains\\\\games\\\\fast\\\\margaret'\n",
    "\n",
    "# path_folder_monkey = 'C:\\\\Users\\\\david\\\\Documents\\\\Open Brains\\\\Balanced Brains\\\\games\\\\monkey\\\\all'\n",
    "# path_folder_slow = 'C:\\\\Users\\\\david\\\\Documents\\\\Open Brains\\\\Balanced Brains\\\\games\\\\slow\\\\all'\n",
    "# path_folder_fast = 'C:\\\\Users\\\\david\\\\Documents\\\\Open Brains\\\\Balanced Brains\\\\games\\\\fast\\\\all'\n",
    "\n",
    "summary = []"
   ]
  },
  {
   "cell_type": "markdown",
   "metadata": {},
   "source": [
    "##### Monkey"
   ]
  },
  {
   "cell_type": "code",
   "execution_count": 230,
   "metadata": {},
   "outputs": [
    {
     "name": "stdout",
     "output_type": "stream",
     "text": [
      "PARTICIPANT_BananaMonkey_2022-10-19_13h29.27.790.csv\n",
      "ok\n",
      "\n",
      "PARTICIPANT_BananaMonkey_2022-10-19_13h29.36.967.csv\n",
      "ok\n",
      "\n",
      "PARTICIPANT_BananaMonkey_2022-10-19_13h29.47.384.csv\n",
      "ok\n",
      "\n",
      "PARTICIPANT_BananaMonkey_2022-10-19_13h31.31.558.csv\n",
      "ok\n",
      "\n",
      "PARTICIPANT_BananaMonkey_2022-10-19_13h31.44.239.csv\n",
      "KeyError - not stored\n",
      "\n",
      "PARTICIPANT_BananaMonkey_2022-10-19_13h35.19.654.csv\n",
      "ok\n",
      "\n"
     ]
    }
   ],
   "source": [
    "search_string=os.path.join(path_folder_monkey,'*.csv') \n",
    "files = glob.glob(search_string) #list of data files in the named location\n",
    "\n",
    "#######################################################################################################\n",
    "\n",
    "frames = []\n",
    "for filename in files:\n",
    "    print(filename.split('\\\\')[-1])\n",
    "    file_path =os.path.join(path_folder_monkey,filename) \n",
    "\n",
    "    #import into python using pandas\n",
    "    try:\n",
    "        df = pd.read_csv(file_path)\n",
    "    except EmptyDataError:\n",
    "        print('not enough data')\n",
    "        print('')\n",
    "        continue\n",
    "    \n",
    "    try:        \n",
    "        df_sub = df[['Participant','mean_speed', 'max_speed', 'number_trials', 'number_trials_correct', 'valoracion_resp.keys']].iloc[-1]\n",
    "        df_subset = pd.DataFrame(df_sub).transpose()\n",
    "        frames.append(df_subset)\n",
    "        print('ok')\n",
    "        print('')\n",
    "    \n",
    "    except KeyError:\n",
    "        print('KeyError - not stored')\n",
    "        print('')\n",
    "        continue\n",
    "    \n",
    "#######################################################################################################\n",
    "\n",
    "df_ = pd.concat(frames)\n",
    "df_ ['game'] = 'monkey'\n",
    "df_=df_.rename(columns = {'valoracion_resp.keys':'valoracion'})\n",
    "\n",
    "summary.append(df_)\n",
    "        "
   ]
  },
  {
   "cell_type": "code",
   "execution_count": null,
   "metadata": {},
   "outputs": [],
   "source": []
  },
  {
   "cell_type": "markdown",
   "metadata": {},
   "source": [
    "##### Slow"
   ]
  },
  {
   "cell_type": "code",
   "execution_count": 231,
   "metadata": {},
   "outputs": [
    {
     "name": "stdout",
     "output_type": "stream",
     "text": [
      "PARTICIPANT_SquareDot_2022-10-19_13h28.58.232.csv\n",
      "ok\n",
      "\n",
      "PARTICIPANT_SquareDot_2022-10-19_13h29.08.966.csv\n",
      "ok\n",
      "\n",
      "PARTICIPANT_SquareDot_2022-10-19_13h29.10.265.csv\n",
      "ok\n",
      "\n",
      "PARTICIPANT_SquareDot_2022-10-19_13h29.50.701.csv\n",
      "ok\n",
      "\n",
      "PARTICIPANT_SquareDot_2022-10-19_13h30.46.223.csv\n",
      "KeyError - not stored\n",
      "\n",
      "PARTICIPANT_SquareDot_2022-10-19_13h31.22.826.csv\n",
      "ok\n",
      "\n",
      "PARTICIPANT_SquareDot_2022-10-19_13h34.28.292.csv\n",
      "ok\n",
      "\n",
      "PARTICIPANT_square_dot_game_new_2022-10-19_13h32.03.351.csv\n",
      "not enough data\n",
      "\n"
     ]
    }
   ],
   "source": [
    "search_string=os.path.join(path_folder_slow,'*.csv') \n",
    "files = glob.glob(search_string) #list of data files in the named location\n",
    "\n",
    "#######################################################################################################\n",
    "\n",
    "frames = []\n",
    "for filename in files:\n",
    "    print(filename.split('\\\\')[-1])\n",
    "    file_path =os.path.join(path_folder_monkey,filename) \n",
    "\n",
    "    #import into python using pandas\n",
    "    try:\n",
    "        df = pd.read_csv(file_path)\n",
    "    except EmptyDataError:\n",
    "        print('not enough data')\n",
    "        print('')\n",
    "        continue\n",
    "    \n",
    "    try:        \n",
    "        df_sub = df[['Participant','mean_speed', 'max_speed', 'number_trials', 'number_trials_correct', 'key_resp_2.keys']].iloc[-1]\n",
    "        df_subset = pd.DataFrame(df_sub).transpose()\n",
    "        frames.append(df_subset)\n",
    "        print('ok')\n",
    "        print('')\n",
    "    \n",
    "    except KeyError:\n",
    "        print('KeyError - not stored')\n",
    "        print('')\n",
    "        continue\n",
    "            \n",
    "\n",
    "        \n",
    "    \n",
    "#######################################################################################################\n",
    "\n",
    "df_ = pd.concat(frames)\n",
    "df_ ['game'] = 'slow'\n",
    "df_=df_.rename(columns = {'key_resp_2.keys':'valoracion'})\n",
    "summary.append(df_)\n",
    "        "
   ]
  },
  {
   "cell_type": "markdown",
   "metadata": {},
   "source": [
    "##### Fast"
   ]
  },
  {
   "cell_type": "code",
   "execution_count": 232,
   "metadata": {},
   "outputs": [
    {
     "name": "stdout",
     "output_type": "stream",
     "text": [
      "PARTICIPANT_SquareDot2_2022-10-19_13h28.18.990.csv\n",
      "ok\n",
      "\n",
      "PARTICIPANT_SquareDot2_2022-10-19_13h28.47.261.csv\n",
      "ok\n",
      "\n",
      "PARTICIPANT_SquareDot2_2022-10-19_13h29.28.720.csv\n",
      "KeyError - not stored\n",
      "\n",
      "PARTICIPANT_SquareDot2_2022-10-19_13h31.00.832.csv\n",
      "ok\n",
      "\n",
      "PARTICIPANT_SquareDot2_2022-10-19_13h31.39.233.csv\n",
      "ok\n",
      "\n",
      "PARTICIPANT_SquareDot2_2022-10-19_13h31.59.550.csv\n",
      "ok\n",
      "\n",
      "PARTICIPANT_SquareDot2_2022-10-19_13h32.35.275.csv\n",
      "ok\n",
      "\n",
      "PARTICIPANT_SquareDot2_2022-10-19_13h33.45.320.csv\n",
      "ok\n",
      "\n"
     ]
    }
   ],
   "source": [
    "search_string=os.path.join(path_folder_fast,'*.csv') \n",
    "files = glob.glob(search_string) #list of data files in the named location\n",
    "\n",
    "#######################################################################################################\n",
    "\n",
    "frames = []\n",
    "for filename in files:\n",
    "    print(filename.split('\\\\')[-1])\n",
    "    file_path =os.path.join(path_folder_monkey,filename) \n",
    "\n",
    "    #import into python using pandas\n",
    "    try:\n",
    "        df = pd.read_csv(file_path)\n",
    "    except EmptyDataError:\n",
    "        print('not enough data')\n",
    "        print('')\n",
    "        continue\n",
    "    \n",
    "    try:        \n",
    "        df_sub = df[['Participant','mean_speed', 'max_speed', 'number_trials', 'number_trials_correct', 'key_resp_2.keys']].iloc[-1]\n",
    "        df_subset = pd.DataFrame(df_sub).transpose()\n",
    "        frames.append(df_subset)\n",
    "        print('ok')\n",
    "        print('')\n",
    "    \n",
    "    except KeyError:\n",
    "        print('KeyError - not stored')\n",
    "        print('')\n",
    "        continue\n",
    "            \n",
    "\n",
    "        \n",
    "    \n",
    "#######################################################################################################\n",
    "\n",
    "df_ = pd.concat(frames)\n",
    "df_ ['game'] = 'fast'\n",
    "df_=df_.rename(columns = {'key_resp_2.keys':'valoracion'})\n",
    "summary.append(df_)"
   ]
  },
  {
   "cell_type": "code",
   "execution_count": 233,
   "metadata": {},
   "outputs": [],
   "source": [
    "### OLD in python 3.6\n",
    "\n",
    "\n",
    "# search_string=os.path.join(path_folder_monkey,'*.csv') \n",
    "# files = glob.glob(search_string) #list of data files in the named location\n",
    "\n",
    "# #######################################################################################################\n",
    "\n",
    "# frames = []\n",
    "# for filename in files:\n",
    "#     file_path =os.path.join(path_folder_monkey,filename) \n",
    "\n",
    "#     #import into python using pandas\n",
    "#     try:\n",
    "#         df = pd.read_csv(file_path)\n",
    "#     except pd.io.common.EmptyDataError:\n",
    "#         print('not enough data')\n",
    "#         continue\n",
    "    \n",
    "#     #\n",
    "#     df_sub = df[['mean_speed', 'max_speed', 'number_trials', 'number_trials_correct', 'key_resp_2.keys']].iloc[-1]\n",
    "#     df_subset = pd.DataFrame(df_sub).transpose()\n",
    "#     frames.append(df_subset)\n",
    "    \n",
    "# #######################################################################################################\n",
    "\n",
    "# df_ = pd.concat(frames)\n",
    "# df_ ['game'] = 'monkey'\n",
    "# summary.append(df_)\n",
    "        \n",
    "    \n",
    "    \n",
    "    \n",
    "    \n",
    "    \n",
    "    \n",
    "# search_string=os.path.join(path_folder_slow,'*.csv') \n",
    "# files = glob.glob(search_string) #list of data files in the named location\n",
    "\n",
    "# #######################################################################################################\n",
    "\n",
    "# frames = []\n",
    "# for filename in files:\n",
    "#     file_path =os.path.join(path_folder_monkey,filename) \n",
    "\n",
    "#     #import into python using pandas\n",
    "#     try:\n",
    "#         df = pd.read_csv(file_path)\n",
    "#     except pd.io.common.EmptyDataError:\n",
    "#         print('not enough data')\n",
    "#         continue\n",
    "    \n",
    "#     #\n",
    "#     df_sub = df[['mean_speed', 'max_speed', 'number_trials', 'number_trials_correct', 'key_resp_2.keys']].iloc[-1]\n",
    "#     df_subset = pd.DataFrame(df_sub).transpose()\n",
    "#     frames.append(df_subset)\n",
    "    \n",
    "# #######################################################################################################\n",
    "\n",
    "# df_ = pd.concat(frames)\n",
    "# df_ ['game'] = 'slow'\n",
    "# summary.append(df_)\n",
    "        \n",
    "\n",
    "\n",
    "\n",
    "\n",
    "\n",
    "# search_string=os.path.join(path_folder_fast,'*.csv') \n",
    "# files = glob.glob(search_string) #list of data files in the named location\n",
    "\n",
    "# #######################################################################################################\n",
    "\n",
    "# frames = []\n",
    "# for filename in files:\n",
    "#     file_path =os.path.join(path_folder_monkey,filename) \n",
    "\n",
    "#     #import into python using pandas\n",
    "#     try:\n",
    "#         df = pd.read_csv(file_path)\n",
    "#     except pd.io.common.EmptyDataError:\n",
    "#         print('not enough data')\n",
    "#         continue\n",
    "    \n",
    "#     #\n",
    "#     df_sub = df[['mean_speed', 'max_speed', 'number_trials', 'number_trials_correct', 'key_resp_2.keys']].iloc[-1]\n",
    "#     df_subset = pd.DataFrame(df_sub).transpose()\n",
    "#     frames.append(df_subset)\n",
    "    \n",
    "# #######################################################################################################\n",
    "\n",
    "# df_ = pd.concat(frames)\n",
    "# df_ ['game'] = 'fast'\n",
    "# summary.append(df_)\n",
    "        "
   ]
  },
  {
   "cell_type": "markdown",
   "metadata": {},
   "source": [
    "## PLOTS"
   ]
  },
  {
   "cell_type": "code",
   "execution_count": 248,
   "metadata": {},
   "outputs": [],
   "source": [
    "import pandas as pd #for dealing with csv import\n",
    "import matplotlib.pyplot as plt  # Matplotlib's pyplot: MATLAB-like syntax\n",
    "import scipy\n",
    "from scipy import stats\n",
    "import numpy as np\n",
    "import seaborn as sns"
   ]
  },
  {
   "cell_type": "code",
   "execution_count": 249,
   "metadata": {},
   "outputs": [
    {
     "name": "stdout",
     "output_type": "stream",
     "text": [
      "18\n"
     ]
    },
    {
     "data": {
      "text/html": [
       "<div>\n",
       "<style scoped>\n",
       "    .dataframe tbody tr th:only-of-type {\n",
       "        vertical-align: middle;\n",
       "    }\n",
       "\n",
       "    .dataframe tbody tr th {\n",
       "        vertical-align: top;\n",
       "    }\n",
       "\n",
       "    .dataframe thead th {\n",
       "        text-align: right;\n",
       "    }\n",
       "</style>\n",
       "<table border=\"1\" class=\"dataframe\">\n",
       "  <thead>\n",
       "    <tr style=\"text-align: right;\">\n",
       "      <th></th>\n",
       "      <th>Participant</th>\n",
       "      <th>mean_speed</th>\n",
       "      <th>max_speed</th>\n",
       "      <th>number_trials</th>\n",
       "      <th>number_trials_correct</th>\n",
       "      <th>valoracion</th>\n",
       "      <th>game</th>\n",
       "      <th>percentage_correct</th>\n",
       "    </tr>\n",
       "  </thead>\n",
       "  <tbody>\n",
       "    <tr>\n",
       "      <th>128</th>\n",
       "      <td>margaret/daniela</td>\n",
       "      <td>0.062083</td>\n",
       "      <td>0.0875</td>\n",
       "      <td>120.0</td>\n",
       "      <td>100.0</td>\n",
       "      <td>4.0</td>\n",
       "      <td>monkey</td>\n",
       "      <td>0.833333</td>\n",
       "    </tr>\n",
       "    <tr>\n",
       "      <th>160</th>\n",
       "      <td>margaret.__________hugo</td>\n",
       "      <td>0.066083</td>\n",
       "      <td>0.0925</td>\n",
       "      <td>150.0</td>\n",
       "      <td>126.0</td>\n",
       "      <td>5.0</td>\n",
       "      <td>monkey</td>\n",
       "      <td>0.84</td>\n",
       "    </tr>\n",
       "    <tr>\n",
       "      <th>96</th>\n",
       "      <td>princessmargaret/marc.a</td>\n",
       "      <td>0.062083</td>\n",
       "      <td>0.0925</td>\n",
       "      <td>90.0</td>\n",
       "      <td>72.0</td>\n",
       "      <td>5.0</td>\n",
       "      <td>monkey</td>\n",
       "      <td>0.8</td>\n",
       "    </tr>\n",
       "    <tr>\n",
       "      <th>160</th>\n",
       "      <td>margaret_sally</td>\n",
       "      <td>0.048417</td>\n",
       "      <td>0.0825</td>\n",
       "      <td>150.0</td>\n",
       "      <td>122.0</td>\n",
       "      <td>5.0</td>\n",
       "      <td>monkey</td>\n",
       "      <td>0.813333</td>\n",
       "    </tr>\n",
       "    <tr>\n",
       "      <th>64</th>\n",
       "      <td>AriSolva</td>\n",
       "      <td>0.050833</td>\n",
       "      <td>0.0825</td>\n",
       "      <td>60.0</td>\n",
       "      <td>51.0</td>\n",
       "      <td>5.0</td>\n",
       "      <td>monkey</td>\n",
       "      <td>0.85</td>\n",
       "    </tr>\n",
       "  </tbody>\n",
       "</table>\n",
       "</div>"
      ],
      "text/plain": [
       "                 Participant mean_speed max_speed number_trials  \\\n",
       "128         margaret/daniela   0.062083    0.0875         120.0   \n",
       "160  margaret.__________hugo   0.066083    0.0925         150.0   \n",
       "96   princessmargaret/marc.a   0.062083    0.0925          90.0   \n",
       "160           margaret_sally   0.048417    0.0825         150.0   \n",
       "64                  AriSolva   0.050833    0.0825          60.0   \n",
       "\n",
       "    number_trials_correct valoracion    game percentage_correct  \n",
       "128                 100.0        4.0  monkey           0.833333  \n",
       "160                 126.0        5.0  monkey               0.84  \n",
       "96                   72.0        5.0  monkey                0.8  \n",
       "160                 122.0        5.0  monkey           0.813333  \n",
       "64                   51.0        5.0  monkey               0.85  "
      ]
     },
     "execution_count": 249,
     "metadata": {},
     "output_type": "execute_result"
    }
   ],
   "source": [
    "df = pd.concat(summary)\n",
    "df['percentage_correct'] = df['number_trials_correct'] / df['number_trials']\n",
    "print(len(df))\n",
    "df.head()"
   ]
  },
  {
   "cell_type": "code",
   "execution_count": 250,
   "metadata": {},
   "outputs": [],
   "source": [
    "c_monk = '#e59500'\n",
    "c_slow= 'aquamarine' #'#002642'\n",
    "c_fast = 'indianred' # '#840032'\n",
    "\n",
    "sns.set_context(\"poster\")"
   ]
  },
  {
   "cell_type": "code",
   "execution_count": 251,
   "metadata": {},
   "outputs": [
    {
     "data": {
      "image/png": "[encoded data removed]",
      "text/plain": [
       "<Figure size 1800x576 with 3 Axes>"
      ]
     },
     "metadata": {
      "needs_background": "light"
     },
     "output_type": "display_data"
    }
   ],
   "source": [
    "plt.figure(figsize=(25,8))\n",
    "\n",
    "plt.subplot(131)\n",
    "sns.barplot(x='game', y='number_trials', order = ['monkey', 'slow', 'fast'], \n",
    "            palette=[c_monk, c_slow, c_fast], ci=68, estimator=np.mean, data=df)\n",
    "plt.gca().spines['right'].set_visible(False)  # aesthetics                                                                              # remove right spines\n",
    "plt.gca().spines['top'].set_visible(False)                                                                                  # remove top spines\n",
    "plt.gca().get_xaxis().tick_bottom()                                                                                         \n",
    "plt.gca().get_yaxis().tick_left()\n",
    "plt.gca().tick_params(direction='in') #direction\n",
    "#plt.ylim(0,1.5)\n",
    "#plt.yticks([0,0.5,1,1.5])\n",
    "plt.ylabel('# trials')\n",
    "plt.xlabel('')\n",
    "plt.xticks([0,1,2], ['flux', 'avorriment', 'frustració'])\n",
    "plt.title('Temps de joc', fontsize=30)\n",
    "\n",
    "\n",
    "plt.subplot(132)\n",
    "sns.barplot(x='game', y='max_speed', order = ['monkey', 'slow', 'fast'], \n",
    "            palette=[c_monk, c_slow, c_fast], ci=68, estimator=np.mean, data=df)\n",
    "plt.gca().spines['right'].set_visible(False)  # aesthetics                                                                              # remove right spines\n",
    "plt.gca().spines['top'].set_visible(False)                                                                                  # remove top spines\n",
    "plt.gca().get_xaxis().tick_bottom()                                                                                         \n",
    "plt.gca().get_yaxis().tick_left()\n",
    "plt.gca().tick_params(direction='in') #direction\n",
    "#plt.ylim(0,1.5)\n",
    "#plt.yticks([0,0.5,1,1.5])\n",
    "plt.ylabel('velocitat màxima')\n",
    "plt.xticks([0,1,2], ['flux', 'avorriment', 'frustració'])\n",
    "plt.xlabel('')\n",
    "plt.title('Aprenentatge', fontsize=30)\n",
    "\n",
    "plt.subplot(133)\n",
    "sns.barplot(x='game', y='valoracion', order = ['monkey', 'slow', 'fast'], \n",
    "            palette=[c_monk, c_slow, c_fast], ci=68, estimator=np.mean, data=df)\n",
    "plt.gca().spines['right'].set_visible(False)  # aesthetics                                                                              # remove right spines\n",
    "plt.gca().spines['top'].set_visible(False)   \n",
    "plt.gca().get_xaxis().tick_bottom()                                                                                         \n",
    "plt.gca().get_yaxis().tick_left()\n",
    "plt.gca().tick_params(direction='in') #direction\n",
    "#plt.ylim(0,1.5)\n",
    "#plt.yticks([0,0.5,1,1.5])\n",
    "plt.ylabel('punts')\n",
    "plt.xlabel('')\n",
    "plt.xticks([0,1,2], ['flux', 'avorriment', 'frustració'])\n",
    "plt.title('Valoració', fontsize=30)\n",
    "\n",
    "plt.tight_layout()\n",
    "plt.subplots_adjust(wspace=0.3)\n"
   ]
  },
  {
   "cell_type": "code",
   "execution_count": 252,
   "metadata": {},
   "outputs": [
    {
     "data": {
      "image/png": "[encoded data removed]",
      "text/plain": [
       "<Figure size 1800x576 with 3 Axes>"
      ]
     },
     "metadata": {
      "needs_background": "light"
     },
     "output_type": "display_data"
    }
   ],
   "source": [
    "plt.figure(figsize=(25,8))\n",
    "\n",
    "plt.subplot(131)\n",
    "sns.barplot(x='game', y='number_trials', order = ['monkey', 'slow', 'fast'], \n",
    "            palette=[c_monk, c_slow, c_fast], ci=68, estimator=np.mean, data=df)\n",
    "plt.gca().spines['right'].set_visible(False)  # aesthetics                                                                              # remove right spines\n",
    "plt.gca().spines['top'].set_visible(False)                                                                                  # remove top spines\n",
    "plt.gca().get_xaxis().tick_bottom()                                                                                         \n",
    "plt.gca().get_yaxis().tick_left()\n",
    "plt.gca().tick_params(direction='in') #direction\n",
    "#plt.ylim(0,1.5)\n",
    "#plt.yticks([0,0.5,1,1.5])\n",
    "plt.ylabel('# trials')\n",
    "plt.xlabel('')\n",
    "plt.xticks([0,1,2], ['flux', 'avorriment', 'frustració'])\n",
    "plt.title('Temps de joc', fontsize=30)\n",
    "\n",
    "\n",
    "plt.subplot(132)\n",
    "sns.barplot(x='game', y='percentage_correct', order = ['monkey', 'slow', 'fast'], \n",
    "            palette=[c_monk, c_slow, c_fast], ci=68, estimator=np.mean, data=df)\n",
    "plt.gca().spines['right'].set_visible(False)  # aesthetics                                                                              # remove right spines\n",
    "plt.gca().spines['top'].set_visible(False)                                                                                  # remove top spines\n",
    "plt.gca().get_xaxis().tick_bottom()                                                                                         \n",
    "plt.gca().get_yaxis().tick_left()\n",
    "plt.gca().tick_params(direction='in') #direction\n",
    "plt.ylim(0,1.)\n",
    "plt.yticks([0,0.25,0.5,0.75,1])\n",
    "plt.ylabel('% correctes')\n",
    "plt.xlabel('')\n",
    "plt.xticks([0,1,2], ['flux', 'avorriment', 'frustració'])\n",
    "plt.title('Aprenentatge', fontsize=30)\n",
    "\n",
    "plt.subplot(133)\n",
    "sns.barplot(x='game', y='valoracion', order = ['monkey', 'slow', 'fast'], \n",
    "            palette=[c_monk, c_slow, c_fast], ci=68, estimator=np.mean, data=df)\n",
    "plt.gca().spines['right'].set_visible(False)  # aesthetics                                                                              # remove right spines\n",
    "plt.gca().spines['top'].set_visible(False)   \n",
    "plt.gca().get_xaxis().tick_bottom()                                                                                         \n",
    "plt.gca().get_yaxis().tick_left()\n",
    "plt.gca().tick_params(direction='in') #direction\n",
    "#plt.ylim(0,1.5)\n",
    "#plt.yticks([0,0.5,1,1.5])\n",
    "plt.ylabel('punts')\n",
    "plt.xlabel('')\n",
    "plt.xticks([0,1,2], ['flux', 'avorriment', 'frustració'])\n",
    "plt.title('Valoració', fontsize=30)\n",
    "\n",
    "plt.tight_layout()\n",
    "plt.subplots_adjust(wspace=0.3)"
   ]
  },
  {
   "cell_type": "code",
   "execution_count": null,
   "metadata": {},
   "outputs": [],
   "source": []
  },
  {
   "cell_type": "markdown",
   "metadata": {},
   "source": [
    "## INDIVIDUAL PLOTS"
   ]
  },
  {
   "cell_type": "code",
   "execution_count": 239,
   "metadata": {},
   "outputs": [],
   "source": [
    "sns.set_context(\"talk\")"
   ]
  },
  {
   "cell_type": "code",
   "execution_count": 240,
   "metadata": {},
   "outputs": [
    {
     "data": {
      "image/png": "[encoded data removed]",
      "text/plain": [
       "<Figure size 432x288 with 1 Axes>"
      ]
     },
     "metadata": {
      "needs_background": "light"
     },
     "output_type": "display_data"
    },
    {
     "name": "stdout",
     "output_type": "stream",
     "text": [
      "monkey-boring\n",
      "Ttest_indResult(statistic=2.910750063544595, pvalue=0.017290129029181624)\n",
      "\n",
      "monkey-frustrating\n",
      "Ttest_indResult(statistic=0.7914532268497158, pvalue=0.4470456227420946)\n",
      "\n",
      "boring-frustrating\n",
      "Ttest_indResult(statistic=-1.3989152015417912, pvalue=0.18939710074133356)\n"
     ]
    }
   ],
   "source": [
    "########### NUMBER OF TRIALS\n",
    "\n",
    "plt.figure()\n",
    "sns.barplot(x='game', y='number_trials', order = ['monkey', 'slow', 'fast'], \n",
    "            palette=[c_monk, c_slow, c_fast], ci=68, estimator=np.mean, data=df)\n",
    "plt.gca().spines['right'].set_visible(False)  # aesthetics                                                                              # remove right spines\n",
    "plt.gca().spines['top'].set_visible(False)                                                                                  # remove top spines\n",
    "plt.gca().get_xaxis().tick_bottom()                                                                                         \n",
    "plt.gca().get_yaxis().tick_left()\n",
    "plt.gca().tick_params(direction='in') #direction\n",
    "#plt.ylim(0,1.5)\n",
    "#plt.yticks([0,0.5,1,1.5])\n",
    "plt.ylabel('number of trials')\n",
    "plt.xlabel('')\n",
    "plt.xticks([0,1,2], ['flow', 'boring', 'frustrating'])\n",
    "plt.show(block=False)\n",
    "\n",
    "\n",
    "print('monkey-boring')\n",
    "print(scipy.stats.ttest_ind(df.loc[df['game']=='monkey', 'number_trials'].values, df.loc[df['game']=='slow', 'number_trials'].values) )\n",
    "print('')\n",
    "\n",
    "print('monkey-frustrating')\n",
    "print(scipy.stats.ttest_ind(df.loc[df['game']=='monkey', 'number_trials'].values, df.loc[df['game']=='fast', 'number_trials'].values) )\n",
    "print('')\n",
    "\n",
    "print('boring-frustrating')\n",
    "print(scipy.stats.ttest_ind(df.loc[df['game']=='slow', 'number_trials'].values, df.loc[df['game']=='fast', 'number_trials'].values) )\n"
   ]
  },
  {
   "cell_type": "code",
   "execution_count": 241,
   "metadata": {},
   "outputs": [
    {
     "data": {
      "image/png": "[encoded data removed]",
      "text/plain": [
       "<Figure size 432x288 with 1 Axes>"
      ]
     },
     "metadata": {
      "needs_background": "light"
     },
     "output_type": "display_data"
    },
    {
     "name": "stdout",
     "output_type": "stream",
     "text": [
      "monkey-boring\n",
      "Ttest_indResult(statistic=33.4417743657131, pvalue=9.419453028313559e-11)\n",
      "\n",
      "monkey-frustrating\n",
      "Ttest_indResult(statistic=-0.02431428099512601, pvalue=0.9810802694071739)\n",
      "\n",
      "boring-frustrating\n",
      "Ttest_indResult(statistic=-5.140428826220057, pvalue=0.0003230194578469089)\n"
     ]
    }
   ],
   "source": [
    "########### SPEED\n",
    "plt.figure()\n",
    "sns.barplot(x='game', y='max_speed', order = ['monkey', 'slow', 'fast'], \n",
    "            palette=[c_monk, c_slow, c_fast], ci=68, estimator=np.mean, data=df)\n",
    "plt.gca().spines['right'].set_visible(False)  # aesthetics                                                                              # remove right spines\n",
    "plt.gca().spines['top'].set_visible(False)                                                                                  # remove top spines\n",
    "plt.gca().get_xaxis().tick_bottom()                                                                                         \n",
    "plt.gca().get_yaxis().tick_left()\n",
    "plt.gca().tick_params(direction='in') #direction\n",
    "#plt.ylim(0,1.5)\n",
    "#plt.yticks([0,0.5,1,1.5])\n",
    "plt.ylabel('velocitat màxima')\n",
    "plt.xlabel('')\n",
    "plt.xticks([0,1,2], ['flow', 'boring', 'frustrating'])\n",
    "plt.show(block=False)\n",
    "\n",
    "\n",
    "print('monkey-boring')\n",
    "print(scipy.stats.ttest_ind(df.loc[df['game']=='monkey', 'max_speed'].values, df.loc[df['game']=='slow', 'max_speed'].values) )\n",
    "print('')\n",
    "\n",
    "print('monkey-frustrating')\n",
    "print(scipy.stats.ttest_ind(df.loc[df['game']=='monkey', 'max_speed'].values, df.loc[df['game']=='fast', 'max_speed'].values) )\n",
    "print('')\n",
    "\n",
    "print('boring-frustrating')\n",
    "print(scipy.stats.ttest_ind(df.loc[df['game']=='slow', 'max_speed'].values, df.loc[df['game']=='fast', 'max_speed'].values) )\n"
   ]
  },
  {
   "cell_type": "code",
   "execution_count": 242,
   "metadata": {},
   "outputs": [
    {
     "data": {
      "image/png": "[encoded data removed]",
      "text/plain": [
       "<Figure size 432x288 with 1 Axes>"
      ]
     },
     "metadata": {
      "needs_background": "light"
     },
     "output_type": "display_data"
    },
    {
     "name": "stdout",
     "output_type": "stream",
     "text": [
      "monkey-boring\n",
      "Ttest_indResult(statistic=-10.381692715159202, pvalue=2.6175105366130405e-06)\n",
      "\n",
      "monkey-frustrating\n",
      "Ttest_indResult(statistic=3.2227094423025404, pvalue=0.009133102970176266)\n",
      "\n",
      "boring-frustrating\n",
      "Ttest_indResult(statistic=5.0622021863348525, pvalue=0.0003650197244823051)\n"
     ]
    }
   ],
   "source": [
    "########### PERCENTAGE OF CORRECT\n",
    "\n",
    "plt.figure()\n",
    "sns.barplot(x='game', y='percentage_correct', order = ['monkey', 'slow', 'fast'], \n",
    "            palette=[c_monk, c_slow, c_fast], ci=68, estimator=np.mean, data=df)\n",
    "plt.gca().spines['right'].set_visible(False)  # aesthetics                                                                              # remove right spines\n",
    "plt.gca().spines['top'].set_visible(False)                                                                                  # remove top spines\n",
    "plt.gca().get_xaxis().tick_bottom()                                                                                         \n",
    "plt.gca().get_yaxis().tick_left()\n",
    "plt.gca().tick_params(direction='in') #direction\n",
    "plt.ylim(0,1.)\n",
    "plt.yticks([0,0.25,0.5,0.75,1])\n",
    "plt.ylabel('% of correct')\n",
    "plt.xlabel('')\n",
    "plt.xticks([0,1,2], ['flow', 'boring', 'frustrating'])\n",
    "plt.show(block=False)\n",
    "\n",
    "\n",
    "\n",
    "print('monkey-boring')\n",
    "print(scipy.stats.ttest_ind(df.loc[df['game']=='monkey', 'percentage_correct'].values, df.loc[df['game']=='slow', 'percentage_correct'].values) )\n",
    "print('')\n",
    "\n",
    "print('monkey-frustrating')\n",
    "print(scipy.stats.ttest_ind(df.loc[df['game']=='monkey', 'percentage_correct'].values, df.loc[df['game']=='fast', 'percentage_correct'].values) )\n",
    "print('')\n",
    "\n",
    "print('boring-frustrating')\n",
    "print(scipy.stats.ttest_ind(df.loc[df['game']=='slow', 'percentage_correct'].values, df.loc[df['game']=='fast', 'percentage_correct'].values) )\n",
    "\n"
   ]
  },
  {
   "cell_type": "code",
   "execution_count": 243,
   "metadata": {},
   "outputs": [
    {
     "data": {
      "image/png": "[encoded data removed]",
      "text/plain": [
       "<Figure size 432x288 with 1 Axes>"
      ]
     },
     "metadata": {
      "needs_background": "light"
     },
     "output_type": "display_data"
    },
    {
     "name": "stdout",
     "output_type": "stream",
     "text": [
      "monkey-boring\n",
      "Ttest_indResult(statistic=1.4294891812467092, pvalue=0.18664302614352019)\n",
      "\n",
      "monkey-frustrating\n",
      "Ttest_indResult(statistic=4.513401722319168, pvalue=0.001119688701618147)\n",
      "\n",
      "boring-frustrating\n",
      "Ttest_indResult(statistic=0.9381348412587143, pvalue=0.36831718899046006)\n",
      "\n"
     ]
    }
   ],
   "source": [
    "########### EVALUATION OF THE GAME\n",
    "\n",
    "plt.figure()\n",
    "sns.barplot(x='game', y='valoracion', order = ['monkey', 'slow', 'fast'], \n",
    "            palette=[c_monk, c_slow, c_fast], ci=68, estimator=np.mean, data=df)\n",
    "plt.gca().spines['right'].set_visible(False)  # aesthetics                                                                              # remove right spines\n",
    "plt.gca().spines['top'].set_visible(False)                                                                                  # remove top spines\n",
    "plt.gca().get_xaxis().tick_bottom()                                                                                         \n",
    "plt.gca().get_yaxis().tick_left()\n",
    "plt.gca().tick_params(direction='in') #direction\n",
    "#plt.ylim(0,1.5)\n",
    "#plt.yticks([0,0.5,1,1.5])\n",
    "plt.ylabel('points evaluation')\n",
    "plt.xlabel('')\n",
    "plt.xticks([0,1,2], ['flow', 'boring', 'frustrating'])\n",
    "plt.show(block=False)\n",
    "\n",
    "print('monkey-boring')\n",
    "print(scipy.stats.ttest_ind(df.loc[df['game']=='monkey', 'valoracion'].values, df.loc[df['game']=='slow', 'valoracion'].values) )\n",
    "print('')\n",
    "\n",
    "print('monkey-frustrating')\n",
    "print(scipy.stats.ttest_ind(df.loc[df['game']=='monkey', 'valoracion'].values, df.loc[df['game']=='fast', 'valoracion'].values) )\n",
    "print('')\n",
    "\n",
    "print('boring-frustrating')\n",
    "print(scipy.stats.ttest_ind(df.loc[df['game']=='slow', 'valoracion'].values, df.loc[df['game']=='fast', 'valoracion'].values) )\n",
    "print('')\n"
   ]
  },
  {
   "cell_type": "code",
   "execution_count": null,
   "metadata": {},
   "outputs": [],
   "source": []
  }
 ],
 "metadata": {
  "kernelspec": {
   "display_name": "Python 3 (ipykernel)",
   "language": "python",
   "name": "python3"
  },
  "language_info": {
   "codemirror_mode": {
    "name": "ipython",
    "version": 3
   },
   "file_extension": ".py",
   "mimetype": "text/x-python",
   "name": "python",
   "nbconvert_exporter": "python",
   "pygments_lexer": "ipython3",
   "version": "3.9.15"
  }
 },
 "nbformat": 4,
 "nbformat_minor": 2
}
