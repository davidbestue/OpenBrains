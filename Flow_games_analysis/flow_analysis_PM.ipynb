{
 "cells": [
  {
   "cell_type": "markdown",
   "metadata": {},
   "source": [
    "## ANALYSIS"
   ]
  },
  {
   "cell_type": "code",
   "execution_count": 92,
   "metadata": {},
   "outputs": [],
   "source": [
    "## -----------IMPORT LIBRARIES\n",
    "import pandas as pd #for dealing with csv import\n",
    "import os # for joining paths and filenames sensibly\n",
    "import numpy as np #for the population std\n",
    "import glob # for finding csv data files\n",
    "import platform # paths use different dividers on linux vs windows, so we need to test for this\n",
    "import csv\n"
   ]
  },
  {
   "cell_type": "code",
   "execution_count": 93,
   "metadata": {},
   "outputs": [],
   "source": [
    "path_folder_monkey = 'C:\\\\Users\\\\David\\\\Desktop\\\\OpenBrains\\\\games\\\\monkey_pm'\n",
    "path_folder_slow = 'C:\\\\Users\\\\David\\\\Desktop\\\\OpenBrains\\\\games\\\\slow_pm'\n",
    "path_folder_fast = 'C:\\\\Users\\\\David\\\\Desktop\\\\OpenBrains\\\\games\\\\fast_pm'\n",
    "\n",
    "summary = []"
   ]
  },
  {
   "cell_type": "markdown",
   "metadata": {},
   "source": [
    "##### Monkey"
   ]
  },
  {
   "cell_type": "code",
   "execution_count": 94,
   "metadata": {},
   "outputs": [],
   "source": [
    "search_string=os.path.join(path_folder_monkey,'*.csv') \n",
    "files = glob.glob(search_string) #list of data files in the named location\n",
    "\n",
    "#######################################################################################################\n",
    "\n",
    "frames = []\n",
    "for filename in files:\n",
    "    file_path =os.path.join(path_folder_monkey,filename) \n",
    "\n",
    "    #import into python using pandas\n",
    "    try:\n",
    "        df = pd.read_csv(file_path)\n",
    "    except pd.io.common.EmptyDataError:\n",
    "        print('not enough data')\n",
    "        continue\n",
    "    \n",
    "    #\n",
    "    df_sub = df[['mean_speed', 'max_speed', 'number_trials', 'number_trials_correct', 'key_resp_2.keys']].iloc[-1]\n",
    "    df_subset = pd.DataFrame(df_sub).transpose()\n",
    "    frames.append(df_subset)\n",
    "    \n",
    "#######################################################################################################\n",
    "\n",
    "df_ = pd.concat(frames)\n",
    "df_ ['game'] = 'monkey'\n",
    "summary.append(df_)\n",
    "        "
   ]
  },
  {
   "cell_type": "markdown",
   "metadata": {},
   "source": [
    "##### Slow"
   ]
  },
  {
   "cell_type": "code",
   "execution_count": 95,
   "metadata": {},
   "outputs": [],
   "source": [
    "search_string=os.path.join(path_folder_slow,'*.csv') \n",
    "files = glob.glob(search_string) #list of data files in the named location\n",
    "\n",
    "#######################################################################################################\n",
    "\n",
    "frames = []\n",
    "for filename in files:\n",
    "    file_path =os.path.join(path_folder_monkey,filename) \n",
    "\n",
    "    #import into python using pandas\n",
    "    try:\n",
    "        df = pd.read_csv(file_path)\n",
    "    except pd.io.common.EmptyDataError:\n",
    "        print('not enough data')\n",
    "        continue\n",
    "    \n",
    "    #\n",
    "    df_sub = df[['mean_speed', 'max_speed', 'number_trials', 'number_trials_correct', 'key_resp_2.keys']].iloc[-1]\n",
    "    df_subset = pd.DataFrame(df_sub).transpose()\n",
    "    frames.append(df_subset)\n",
    "    \n",
    "#######################################################################################################\n",
    "\n",
    "df_ = pd.concat(frames)\n",
    "df_ ['game'] = 'slow'\n",
    "summary.append(df_)\n",
    "        "
   ]
  },
  {
   "cell_type": "markdown",
   "metadata": {},
   "source": [
    "##### Fast"
   ]
  },
  {
   "cell_type": "code",
   "execution_count": 96,
   "metadata": {},
   "outputs": [],
   "source": [
    "search_string=os.path.join(path_folder_fast,'*.csv') \n",
    "files = glob.glob(search_string) #list of data files in the named location\n",
    "\n",
    "#######################################################################################################\n",
    "\n",
    "frames = []\n",
    "for filename in files:\n",
    "    file_path =os.path.join(path_folder_monkey,filename) \n",
    "\n",
    "    #import into python using pandas\n",
    "    try:\n",
    "        df = pd.read_csv(file_path)\n",
    "    except pd.io.common.EmptyDataError:\n",
    "        print('not enough data')\n",
    "        continue\n",
    "    \n",
    "    #\n",
    "    df_sub = df[['mean_speed', 'max_speed', 'number_trials', 'number_trials_correct', 'key_resp_2.keys']].iloc[-1]\n",
    "    df_subset = pd.DataFrame(df_sub).transpose()\n",
    "    frames.append(df_subset)\n",
    "    \n",
    "#######################################################################################################\n",
    "\n",
    "df_ = pd.concat(frames)\n",
    "df_ ['game'] = 'fast'\n",
    "summary.append(df_)\n",
    "        "
   ]
  },
  {
   "cell_type": "markdown",
   "metadata": {},
   "source": [
    "## PLOTS"
   ]
  },
  {
   "cell_type": "code",
   "execution_count": 97,
   "metadata": {},
   "outputs": [],
   "source": [
    "import pandas as pd #for dealing with csv import\n",
    "import matplotlib.pyplot as plt  # Matplotlib's pyplot: MATLAB-like syntax\n",
    "import scipy\n",
    "from scipy import stats\n",
    "import numpy as np\n",
    "import seaborn as sns\n",
    "\n",
    "c_monk = '#e59500'\n",
    "c_slow= '#002642'\n",
    "c_fast = '#840032'"
   ]
  },
  {
   "cell_type": "code",
   "execution_count": 98,
   "metadata": {},
   "outputs": [
    {
     "data": {
      "text/html": [
       "<div>\n",
       "<style scoped>\n",
       "    .dataframe tbody tr th:only-of-type {\n",
       "        vertical-align: middle;\n",
       "    }\n",
       "\n",
       "    .dataframe tbody tr th {\n",
       "        vertical-align: top;\n",
       "    }\n",
       "\n",
       "    .dataframe thead th {\n",
       "        text-align: right;\n",
       "    }\n",
       "</style>\n",
       "<table border=\"1\" class=\"dataframe\">\n",
       "  <thead>\n",
       "    <tr style=\"text-align: right;\">\n",
       "      <th></th>\n",
       "      <th>mean_speed</th>\n",
       "      <th>max_speed</th>\n",
       "      <th>number_trials</th>\n",
       "      <th>number_trials_correct</th>\n",
       "      <th>key_resp_2.keys</th>\n",
       "      <th>game</th>\n",
       "    </tr>\n",
       "  </thead>\n",
       "  <tbody>\n",
       "    <tr>\n",
       "      <th>32</th>\n",
       "      <td>0.0190</td>\n",
       "      <td>0.020</td>\n",
       "      <td>30.0</td>\n",
       "      <td>30.0</td>\n",
       "      <td>5.0</td>\n",
       "      <td>monkey</td>\n",
       "    </tr>\n",
       "    <tr>\n",
       "      <th>32</th>\n",
       "      <td>0.0185</td>\n",
       "      <td>0.021</td>\n",
       "      <td>50.0</td>\n",
       "      <td>40.0</td>\n",
       "      <td>5.0</td>\n",
       "      <td>monkey</td>\n",
       "    </tr>\n",
       "    <tr>\n",
       "      <th>32</th>\n",
       "      <td>0.0210</td>\n",
       "      <td>0.025</td>\n",
       "      <td>75.0</td>\n",
       "      <td>55.0</td>\n",
       "      <td>4.0</td>\n",
       "      <td>monkey</td>\n",
       "    </tr>\n",
       "    <tr>\n",
       "      <th>32</th>\n",
       "      <td>0.0170</td>\n",
       "      <td>0.020</td>\n",
       "      <td>30.0</td>\n",
       "      <td>20.0</td>\n",
       "      <td>4.0</td>\n",
       "      <td>monkey</td>\n",
       "    </tr>\n",
       "    <tr>\n",
       "      <th>32</th>\n",
       "      <td>0.0220</td>\n",
       "      <td>0.025</td>\n",
       "      <td>75.0</td>\n",
       "      <td>60.0</td>\n",
       "      <td>5.0</td>\n",
       "      <td>monkey</td>\n",
       "    </tr>\n",
       "  </tbody>\n",
       "</table>\n",
       "</div>"
      ],
      "text/plain": [
       "    mean_speed  max_speed  number_trials  number_trials_correct  \\\n",
       "32      0.0190      0.020           30.0                   30.0   \n",
       "32      0.0185      0.021           50.0                   40.0   \n",
       "32      0.0210      0.025           75.0                   55.0   \n",
       "32      0.0170      0.020           30.0                   20.0   \n",
       "32      0.0220      0.025           75.0                   60.0   \n",
       "\n",
       "    key_resp_2.keys    game  \n",
       "32              5.0  monkey  \n",
       "32              5.0  monkey  \n",
       "32              4.0  monkey  \n",
       "32              4.0  monkey  \n",
       "32              5.0  monkey  "
      ]
     },
     "execution_count": 98,
     "metadata": {},
     "output_type": "execute_result"
    }
   ],
   "source": [
    "df = pd.concat(summary)\n",
    "df.head()"
   ]
  },
  {
   "cell_type": "code",
   "execution_count": 108,
   "metadata": {},
   "outputs": [
    {
     "name": "stderr",
     "output_type": "stream",
     "text": [
      "C:\\Users\\David\\Anaconda3\\envs\\python3\\lib\\site-packages\\scipy\\stats\\stats.py:1713: FutureWarning: Using a non-tuple sequence for multidimensional indexing is deprecated; use `arr[tuple(seq)]` instead of `arr[seq]`. In the future this will be interpreted as an array index, `arr[np.array(seq)]`, which will result either in an error or a different result.\n",
      "  return np.add.reduce(sorted[indexer] * weights, axis=axis) / sumval\n"
     ]
    },
    {
     "data": {
      "image/png": "[encoded data removed]",
      "text/plain": [
       "<Figure size 432x288 with 1 Axes>"
      ]
     },
     "metadata": {
      "needs_background": "light"
     },
     "output_type": "display_data"
    },
    {
     "name": "stdout",
     "output_type": "stream",
     "text": [
      "Ttest_indResult(statistic=1.1992507023933785, pvalue=0.2535751629736883)\n",
      "Ttest_indResult(statistic=1.4912475655799244, pvalue=0.16170921574723907)\n",
      "Ttest_indResult(statistic=0.2532449735475091, pvalue=0.8043653784758868)\n"
     ]
    }
   ],
   "source": [
    "########### NUMBER OF TRIALS\n",
    "\n",
    "plt.figure()\n",
    "sns.barplot(x='game', y='number_trials', order = ['monkey', 'slow', 'fast'], \n",
    "            palette=[c_monk, c_slow, c_fast], ci=68, estimator=np.mean, data=df)\n",
    "plt.gca().spines['right'].set_visible(False)  # aesthetics                                                                              # remove right spines\n",
    "plt.gca().spines['top'].set_visible(False)                                                                                  # remove top spines\n",
    "plt.gca().get_xaxis().tick_bottom()                                                                                         \n",
    "plt.gca().get_yaxis().tick_left()\n",
    "plt.gca().tick_params(direction='in') #direction\n",
    "#plt.ylim(0,1.5)\n",
    "#plt.yticks([0,0.5,1,1.5])\n",
    "plt.ylabel('number of trials', fontsize=12)\n",
    "plt.xlabel('')\n",
    "plt.xticks([0,1,2], ['flow', 'boring', 'frustrating'], fontsize=12)\n",
    "plt.show(block=False)\n",
    "\n",
    "\n",
    "print(scipy.stats.ttest_ind(df.loc[df['game']=='monkey', 'number_trials'].values, df.loc[df['game']=='slow', 'number_trials'].values) )\n",
    "print(scipy.stats.ttest_ind(df.loc[df['game']=='monkey', 'number_trials'].values, df.loc[df['game']=='fast', 'number_trials'].values) )\n",
    "print(scipy.stats.ttest_ind(df.loc[df['game']=='slow', 'number_trials'].values, df.loc[df['game']=='fast', 'number_trials'].values) )\n"
   ]
  },
  {
   "cell_type": "code",
   "execution_count": 100,
   "metadata": {},
   "outputs": [
    {
     "name": "stderr",
     "output_type": "stream",
     "text": [
      "C:\\Users\\David\\Anaconda3\\envs\\python3\\lib\\site-packages\\scipy\\stats\\stats.py:1713: FutureWarning: Using a non-tuple sequence for multidimensional indexing is deprecated; use `arr[tuple(seq)]` instead of `arr[seq]`. In the future this will be interpreted as an array index, `arr[np.array(seq)]`, which will result either in an error or a different result.\n",
      "  return np.add.reduce(sorted[indexer] * weights, axis=axis) / sumval\n"
     ]
    },
    {
     "data": {
      "image/png": "[encoded data removed]",
      "text/plain": [
       "<Figure size 432x288 with 1 Axes>"
      ]
     },
     "metadata": {
      "needs_background": "light"
     },
     "output_type": "display_data"
    },
    {
     "name": "stdout",
     "output_type": "stream",
     "text": [
      "Ttest_indResult(statistic=-3.753686315941929, pvalue=0.002752409779777145)\n",
      "Ttest_indResult(statistic=3.391542046791833, pvalue=0.005352726311515133)\n",
      "Ttest_indResult(statistic=8.615159722692395, pvalue=1.7473005076329585e-06)\n"
     ]
    }
   ],
   "source": [
    "########### PERCENTAGE OF CORRECT\n",
    "\n",
    "df['percentage_correct'] = df['number_trials_correct'] / df['number_trials']\n",
    "\n",
    "\n",
    "plt.figure()\n",
    "sns.barplot(x='game', y='percentage_correct', order = ['monkey', 'slow', 'fast'], \n",
    "            palette=[c_monk, c_slow, c_fast], ci=68, estimator=np.mean, data=df)\n",
    "plt.gca().spines['right'].set_visible(False)  # aesthetics                                                                              # remove right spines\n",
    "plt.gca().spines['top'].set_visible(False)                                                                                  # remove top spines\n",
    "plt.gca().get_xaxis().tick_bottom()                                                                                         \n",
    "plt.gca().get_yaxis().tick_left()\n",
    "plt.gca().tick_params(direction='in') #direction\n",
    "plt.ylim(0,1.)\n",
    "plt.yticks([0,0.25,0.5,0.75,1])\n",
    "plt.ylabel('% of correct', fontsize=12)\n",
    "plt.xlabel('')\n",
    "plt.xticks([0,1,2], ['flow', 'boring', 'frustrating'], fontsize=12)\n",
    "plt.show(block=False)\n",
    "\n",
    "\n",
    "print(scipy.stats.ttest_ind(df.loc[df['game']=='monkey', 'percentage_correct'].values, df.loc[df['game']=='slow', 'percentage_correct'].values) )\n",
    "print(scipy.stats.ttest_ind(df.loc[df['game']=='monkey', 'percentage_correct'].values, df.loc[df['game']=='fast', 'percentage_correct'].values) )\n",
    "print(scipy.stats.ttest_ind(df.loc[df['game']=='slow', 'percentage_correct'].values, df.loc[df['game']=='fast', 'percentage_correct'].values) )\n"
   ]
  },
  {
   "cell_type": "code",
   "execution_count": 101,
   "metadata": {},
   "outputs": [
    {
     "name": "stderr",
     "output_type": "stream",
     "text": [
      "C:\\Users\\David\\Anaconda3\\envs\\python3\\lib\\site-packages\\scipy\\stats\\stats.py:1713: FutureWarning: Using a non-tuple sequence for multidimensional indexing is deprecated; use `arr[tuple(seq)]` instead of `arr[seq]`. In the future this will be interpreted as an array index, `arr[np.array(seq)]`, which will result either in an error or a different result.\n",
      "  return np.add.reduce(sorted[indexer] * weights, axis=axis) / sumval\n"
     ]
    },
    {
     "data": {
      "image/png": "[encoded data removed]",
      "text/plain": [
       "<Figure size 432x288 with 1 Axes>"
      ]
     },
     "metadata": {
      "needs_background": "light"
     },
     "output_type": "display_data"
    },
    {
     "name": "stdout",
     "output_type": "stream",
     "text": [
      "Ttest_indResult(statistic=5.54700196225229, pvalue=0.00012637775949151845)\n",
      "Ttest_indResult(statistic=3.771236166328253, pvalue=0.002665783856189283)\n",
      "Ttest_indResult(statistic=-0.834057656228299, pvalue=0.42054182800471973)\n"
     ]
    }
   ],
   "source": [
    "########### EVALUATION OF THE GAME\n",
    "\n",
    "plt.figure()\n",
    "sns.barplot(x='game', y='key_resp_2.keys', order = ['monkey', 'slow', 'fast'], \n",
    "            palette=[c_monk, c_slow, c_fast], ci=68, estimator=np.mean, data=df)\n",
    "plt.gca().spines['right'].set_visible(False)  # aesthetics                                                                              # remove right spines\n",
    "plt.gca().spines['top'].set_visible(False)                                                                                  # remove top spines\n",
    "plt.gca().get_xaxis().tick_bottom()                                                                                         \n",
    "plt.gca().get_yaxis().tick_left()\n",
    "plt.gca().tick_params(direction='in') #direction\n",
    "#plt.ylim(0,1.5)\n",
    "#plt.yticks([0,0.5,1,1.5])\n",
    "plt.ylabel('mark', fontsize=12)\n",
    "plt.xlabel('')\n",
    "plt.xticks([0,1,2], ['flow', 'boring', 'frustrating'], fontsize=12)\n",
    "plt.show(block=False)\n",
    "\n",
    "\n",
    "print(scipy.stats.ttest_ind(df.loc[df['game']=='monkey', 'key_resp_2.keys'].values, df.loc[df['game']=='slow', 'key_resp_2.keys'].values) )\n",
    "print(scipy.stats.ttest_ind(df.loc[df['game']=='monkey', 'key_resp_2.keys'].values, df.loc[df['game']=='fast', 'key_resp_2.keys'].values) )\n",
    "print(scipy.stats.ttest_ind(df.loc[df['game']=='slow', 'key_resp_2.keys'].values, df.loc[df['game']=='fast', 'key_resp_2.keys'].values) )\n"
   ]
  },
  {
   "cell_type": "code",
   "execution_count": null,
   "metadata": {},
   "outputs": [],
   "source": []
  }
 ],
 "metadata": {
  "kernelspec": {
   "display_name": "Python 3",
   "language": "python",
   "name": "python3"
  },
  "language_info": {
   "codemirror_mode": {
    "name": "ipython",
    "version": 3
   },
   "file_extension": ".py",
   "mimetype": "text/x-python",
   "name": "python",
   "nbconvert_exporter": "python",
   "pygments_lexer": "ipython3",
   "version": "3.5.6"
  }
 },
 "nbformat": 4,
 "nbformat_minor": 2
}
