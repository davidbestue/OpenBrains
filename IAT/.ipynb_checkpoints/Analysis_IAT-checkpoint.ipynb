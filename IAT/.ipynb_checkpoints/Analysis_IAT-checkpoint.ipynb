{
 "cells": [
  {
   "cell_type": "code",
   "execution_count": 20,
   "metadata": {},
   "outputs": [],
   "source": [
    "## -----------IMPORT LIBRARIES\n",
    "import pandas as pd #for dealing with csv import\n",
    "import matplotlib.pyplot as plt  # Matplotlib's pyplot: MATLAB-like syntax\n",
    "import scipy\n",
    "from scipy import stats\n",
    "import numpy as np\n",
    "import seaborn as sns\n"
   ]
  },
  {
   "cell_type": "code",
   "execution_count": 21,
   "metadata": {},
   "outputs": [],
   "source": [
    "# # GET THE DATA\n",
    "iat_race=pd.read_csv('C:\\\\Users\\David\\\\Desktop\\\\OpenBrains\\\\summary_imerys.csv')\n",
    "\n",
    "dat={} #store for summary stats. We use a dict because can be dynamically allocated\n",
    "basis=np.zeros(2) # IAT race, RAW race,order variable\n",
    "\n",
    "# COLLATE THE DATA\n",
    "\n",
    "#iterate through all IAT race data\n",
    "for i in range(0,len(iat_race)):\n",
    "    #get filename\n",
    "    name_full=iat_race['file'].iloc[0]\n",
    "    name= name_full.split('_')[0]\n",
    "    #from the filename we extract the ppt number\n",
    "    ppt_number=i\n",
    "    #creat a dict entry for that ppt\n",
    "    ppt_dat=basis.copy()\n",
    "    ppt_dat[0]=iat_race['IAT score'].values[i]\n",
    "    ppt_dat[1]=iat_race['raw uncorrected'].values[i]\n",
    "    dat[ppt_number]=ppt_dat\n",
    "\n",
    "\n",
    "#now we can extract paired IAT scores\n",
    "            \n",
    "IATrace=[]  \n",
    "RAWrace=[]\n",
    "            \n",
    "for key in dat:\n",
    "    IATrace.append(dat[key][0])              \n",
    "    RAWrace.append(dat[key][1])              \n",
    "\n",
    "####"
   ]
  },
  {
   "cell_type": "code",
   "execution_count": 22,
   "metadata": {},
   "outputs": [
    {
     "data": {
      "text/plain": [
       "Text(-1.45,-1.7,'black racism')"
      ]
     },
     "execution_count": 22,
     "metadata": {},
     "output_type": "execute_result"
    },
    {
     "data": {
      "image/png": "[encoded data removed]",
      "text/plain": [
       "<Figure size 432x288 with 1 Axes>"
      ]
     },
     "metadata": {
      "needs_background": "light"
     },
     "output_type": "display_data"
    }
   ],
   "source": [
    "\n",
    "for i in range(len(RAWrace)):\n",
    "    plt.plot(RAWrace[i], IATrace[i], marker='.', markersize=15, color='darkred' )\n",
    "\n",
    "\n",
    "#plt.xlim([-0.5,0.5])\n",
    "#plt.xticks([-0.5, -0.25, 0, 0.25, 0.5], ['-0.5', '', '0', '', '0.5'], fontsize=10)\n",
    "plt.xlim([-1.5,1.5])\n",
    "plt.xticks([-1.5, -0.75, 0, 0.75, 1.5], ['-1.5', '', '0', '', '1.5'], fontsize=10)\n",
    "\n",
    "#plt.plot([-0.5, 0.5], [0,0], 'k--', linewidth=1)\n",
    "plt.plot([-1.5, 1.5], [0,0], 'k--', linewidth=1)\n",
    "\n",
    "\n",
    "plt.ylim([-2,2])\n",
    "plt.yticks([-2,-1, 0, 1,2], ['-2','', '0', '','2'], fontsize=10)\n",
    "\n",
    "plt.plot( [0,0], [-2,2], 'k--', linewidth=1)\n",
    "plt.xlabel('raw score', fontsize=15)\n",
    "plt.ylabel('IAT score', fontsize=15)\n",
    "\n",
    "plt.plot(np.mean(RAWrace), np.mean(IATrace), marker='+', markersize=30, color='k' )\n",
    "plt.plot(np.mean(RAWrace), np.mean(IATrace), marker='.', markersize=20, color='k' )\n",
    "\n",
    "stats = scipy.stats.ttest_1samp(IATrace, 0)\n",
    "\n",
    "# plt.text( 0.1, -1.5, 'RACE t-statistic = ' + str(np.round(stats[0], 3)), fontsize=10 )\n",
    "# plt.text( 0.1, -1.8, 'pvalue = ' + str(np.round(stats[1], 3)), fontsize=10 )\n",
    "plt.text( 0.4, -1.5, 'RACE t-statistic = ' + str(np.round(stats[0], 3)), fontsize=10 )\n",
    "plt.text( 0.4, -1.8, 'pvalue = ' + str(np.round(stats[1], 3)), fontsize=10 )\n",
    "\n",
    "\n",
    "# plt.text( 0.3, 1.7, 'white racism' , fontsize=10 )\n",
    "# plt.text( -0.45, -1.7, 'black racism' , fontsize=10 )\n",
    "plt.text( 0.8, 1.7, 'white racism' , fontsize=10 )\n",
    "plt.text( -1.45, -1.7, 'black racism' , fontsize=10 )\n",
    "\n",
    "\n"
   ]
  },
  {
   "cell_type": "code",
   "execution_count": 23,
   "metadata": {},
   "outputs": [
    {
     "name": "stderr",
     "output_type": "stream",
     "text": [
      "C:\\Users\\David\\Anaconda3\\envs\\python3\\lib\\site-packages\\scipy\\stats\\stats.py:1713: FutureWarning: Using a non-tuple sequence for multidimensional indexing is deprecated; use `arr[tuple(seq)]` instead of `arr[seq]`. In the future this will be interpreted as an array index, `arr[np.array(seq)]`, which will result either in an error or a different result.\n",
      "  return np.add.reduce(sorted[indexer] * weights, axis=axis) / sumval\n"
     ]
    },
    {
     "data": {
      "text/plain": [
       "Text(-0.2,1.2,'pvalue = 0.039')"
      ]
     },
     "execution_count": 23,
     "metadata": {},
     "output_type": "execute_result"
    },
    {
     "data": {
      "image/png": "[encoded data removed]",
      "text/plain": [
       "<Figure size 432x288 with 1 Axes>"
      ]
     },
     "metadata": {
      "needs_background": "light"
     },
     "output_type": "display_data"
    }
   ],
   "source": [
    "########### REACTION TIMES\n",
    "\n",
    "c_ = iat_race['congruent mean RT'].values\n",
    "c_adj = iat_race['congruent adjmean RT'].values\n",
    "congruent = pd.DataFrame({'reaction time': c_, 'reaction time adj': c_adj})\n",
    "congruent['condition'] = 'congruent'\n",
    "\n",
    "\n",
    "i_ = iat_race['incongruent mean RT'].values\n",
    "i_adj = iat_race['incongruent adjmean RT'].values\n",
    "incongruent = pd.DataFrame({'reaction time': i_,  'reaction time adj': i_adj})\n",
    "incongruent['condition'] = 'incongruent'\n",
    "\n",
    "\n",
    "reaction_time = pd.concat([congruent, incongruent])\n",
    "\n",
    "sns.barplot(x='condition', y='reaction time', palette=['grey', 'darkred'], ci=68, estimator=np.mean, data=reaction_time)\n",
    "plt.gca().spines['right'].set_visible(False)  # aesthetics                                                                              # remove right spines\n",
    "plt.gca().spines['top'].set_visible(False)                                                                                  # remove top spines\n",
    "plt.gca().get_xaxis().tick_bottom()                                                                                         \n",
    "plt.gca().get_yaxis().tick_left()\n",
    "plt.gca().tick_params(direction='in') #direction\n",
    "plt.ylim(0,1.5)\n",
    "plt.yticks([0,0.5,1,1.5])\n",
    "plt.ylabel('latency (s)', fontsize=15)\n",
    "plt.xlabel('')\n",
    "plt.xticks([0,1], ['B-P/N-N', 'B-N/N-P'], fontsize=15)\n",
    "stats2 = scipy.stats.ttest_rel(c_, i_)\n",
    "plt.text( -0.2, 1.3, 'RACE t-statistic = ' + str(np.round(stats2[0], 3)), fontsize=8 )\n",
    "plt.text( -0.2, 1.2, 'pvalue = ' + str(np.round(stats2[1], 3)), fontsize=8 )\n",
    "\n",
    "\n",
    "\n"
   ]
  },
  {
   "cell_type": "code",
   "execution_count": 24,
   "metadata": {},
   "outputs": [
    {
     "name": "stderr",
     "output_type": "stream",
     "text": [
      "C:\\Users\\David\\Anaconda3\\envs\\python3\\lib\\site-packages\\scipy\\stats\\stats.py:1713: FutureWarning: Using a non-tuple sequence for multidimensional indexing is deprecated; use `arr[tuple(seq)]` instead of `arr[seq]`. In the future this will be interpreted as an array index, `arr[np.array(seq)]`, which will result either in an error or a different result.\n",
      "  return np.add.reduce(sorted[indexer] * weights, axis=axis) / sumval\n"
     ]
    },
    {
     "data": {
      "image/png": "[encoded data removed]",
      "text/plain": [
       "<Figure size 432x288 with 1 Axes>"
      ]
     },
     "metadata": {
      "needs_background": "light"
     },
     "output_type": "display_data"
    }
   ],
   "source": [
    "sns.barplot(x='condition', y='reaction time adj', palette=['grey', 'darkred'], ci=68, estimator=np.mean, data=reaction_time)\n",
    "plt.gca().spines['right'].set_visible(False)  # aesthetics                                                                              # remove right spines\n",
    "plt.gca().spines['top'].set_visible(False)                                                                                  # remove top spines\n",
    "plt.gca().get_xaxis().tick_bottom()                                                                                         \n",
    "plt.gca().get_yaxis().tick_left()\n",
    "plt.gca().tick_params(direction='in') #direction\n",
    "plt.ylim(0,1.5)\n",
    "plt.yticks([0,0.5,1,1.5])\n",
    "plt.ylabel('latency (s)***', fontsize=12)\n",
    "plt.xlabel('')\n",
    "plt.xticks([0,1], ['B-P/N-N', 'B-N/N-P'], fontsize=12)\n",
    "stats3 = scipy.stats.ttest_rel(c_adj, i_adj)\n",
    "plt.text( -0.2, 1.3, 'RACE t-statistic = ' + str(np.round(stats3[0], 3)), fontsize=8 )\n",
    "plt.text( -0.2, 1.2, 'pvalue = ' + str(np.round(stats3[1], 3)), fontsize=8 )\n",
    "plt.show(block=False)"
   ]
  },
  {
   "cell_type": "code",
   "execution_count": null,
   "metadata": {},
   "outputs": [],
   "source": []
  },
  {
   "cell_type": "code",
   "execution_count": null,
   "metadata": {},
   "outputs": [],
   "source": []
  },
  {
   "cell_type": "code",
   "execution_count": null,
   "metadata": {},
   "outputs": [],
   "source": []
  },
  {
   "cell_type": "code",
   "execution_count": null,
   "metadata": {},
   "outputs": [],
   "source": []
  },
  {
   "cell_type": "code",
   "execution_count": null,
   "metadata": {},
   "outputs": [],
   "source": []
  },
  {
   "cell_type": "code",
   "execution_count": null,
   "metadata": {},
   "outputs": [],
   "source": []
  },
  {
   "cell_type": "markdown",
   "metadata": {},
   "source": [
    "##  BACKUP"
   ]
  },
  {
   "cell_type": "code",
   "execution_count": 19,
   "metadata": {},
   "outputs": [
    {
     "data": {
      "image/png": "[encoded data removed]",
      "text/plain": [
       "<Figure size 432x288 with 1 Axes>"
      ]
     },
     "metadata": {
      "needs_background": "light"
     },
     "output_type": "display_data"
    },
    {
     "name": "stderr",
     "output_type": "stream",
     "text": [
      "C:\\Users\\David\\Anaconda3\\envs\\python3\\lib\\site-packages\\scipy\\stats\\stats.py:1713: FutureWarning: Using a non-tuple sequence for multidimensional indexing is deprecated; use `arr[tuple(seq)]` instead of `arr[seq]`. In the future this will be interpreted as an array index, `arr[np.array(seq)]`, which will result either in an error or a different result.\n",
      "  return np.add.reduce(sorted[indexer] * weights, axis=axis) / sumval\n"
     ]
    },
    {
     "data": {
      "image/png": "[encoded data removed]",
      "text/plain": [
       "<Figure size 432x288 with 1 Axes>"
      ]
     },
     "metadata": {
      "needs_background": "light"
     },
     "output_type": "display_data"
    },
    {
     "data": {
      "image/png": "[encoded data removed]",
      "text/plain": [
       "<Figure size 432x288 with 1 Axes>"
      ]
     },
     "metadata": {
      "needs_background": "light"
     },
     "output_type": "display_data"
    }
   ],
   "source": [
    "# # GET THE DATA\n",
    "iat_race=pd.read_csv('C:\\\\Users\\David\\\\Desktop\\\\OpenBrains\\\\summary_imerys_backup.csv')\n",
    "\n",
    "dat={} #store for summary stats. We use a dict because can be dynamically allocated\n",
    "basis=np.zeros(2) # IAT race, RAW race,order variable\n",
    "\n",
    "# COLLATE THE DATA\n",
    "\n",
    "#iterate through all IAT race data\n",
    "for i in range(0,len(iat_race)):\n",
    "    #get filename\n",
    "    name_full=iat_race['file'].iloc[0]\n",
    "    name= name_full.split('_')[0]\n",
    "    #from the filename we extract the ppt number\n",
    "    ppt_number=i\n",
    "    #creat a dict entry for that ppt\n",
    "    ppt_dat=basis.copy()\n",
    "    ppt_dat[0]=iat_race['IAT score'].values[i]\n",
    "    ppt_dat[1]=iat_race['raw uncorrected'].values[i]\n",
    "    dat[ppt_number]=ppt_dat\n",
    "\n",
    "\n",
    "#now we can extract paired IAT scores\n",
    "            \n",
    "IATrace=[]  \n",
    "RAWrace=[]\n",
    "            \n",
    "for key in dat:\n",
    "    IATrace.append(dat[key][0])              \n",
    "    RAWrace.append(dat[key][1])              \n",
    "\n",
    "####\n",
    "\n",
    "plt.figure()\n",
    "\n",
    "for i in range(len(RAWrace)):\n",
    "    plt.plot(RAWrace[i], IATrace[i], marker='.', markersize=15, color='darkred' )\n",
    "\n",
    "\n",
    "#plt.xlim([-0.5,0.5])\n",
    "#plt.xticks([-0.5, -0.25, 0, 0.25, 0.5], ['-0.5', '', '0', '', '0.5'], fontsize=10)\n",
    "plt.xlim([-1.5,1.5])\n",
    "plt.xticks([-1.5, -0.75, 0, 0.75, 1.5], ['-1.5', '', '0', '', '1.5'], fontsize=10)\n",
    "\n",
    "#plt.plot([-0.5, 0.5], [0,0], 'k--', linewidth=1)\n",
    "plt.plot([-1.5, 1.5], [0,0], 'k--', linewidth=1)\n",
    "\n",
    "\n",
    "plt.ylim([-2,2])\n",
    "plt.yticks([-2,-1, 0, 1,2], ['-2','', '0', '','2'], fontsize=10)\n",
    "\n",
    "plt.plot( [0,0], [-2,2], 'k--', linewidth=1)\n",
    "plt.xlabel('raw score', fontsize=15)\n",
    "plt.ylabel('IAT score', fontsize=15)\n",
    "\n",
    "plt.plot(np.mean(RAWrace), np.mean(IATrace), marker='+', markersize=30, color='k' )\n",
    "plt.plot(np.mean(RAWrace), np.mean(IATrace), marker='.', markersize=20, color='k' )\n",
    "\n",
    "stats = scipy.stats.ttest_1samp(IATrace, 0)\n",
    "\n",
    "# plt.text( 0.1, -1.5, 'RACE t-statistic = ' + str(np.round(stats[0], 3)), fontsize=10 )\n",
    "# plt.text( 0.1, -1.8, 'pvalue = ' + str(np.round(stats[1], 3)), fontsize=10 )\n",
    "plt.text( 0.4, -1.5, 'RACE t-statistic = ' + str(np.round(stats[0], 3)), fontsize=10 )\n",
    "plt.text( 0.4, -1.8, 'pvalue = ' + str(np.round(stats[1], 3)), fontsize=10 )\n",
    "\n",
    "\n",
    "# plt.text( 0.3, 1.7, 'white racism' , fontsize=10 )\n",
    "# plt.text( -0.45, -1.7, 'black racism' , fontsize=10 )\n",
    "plt.text( 0.8, 1.7, 'white racism' , fontsize=10 )\n",
    "plt.text( -1.45, -1.7, 'black racism' , fontsize=10 )\n",
    "plt.show()\n",
    "\n",
    "#####\n",
    "\n",
    "\n",
    "########### REACTION TIMES\n",
    "\n",
    "c_ = iat_race['congruent mean RT'].values\n",
    "c_adj = iat_race['congruent adjmean RT'].values\n",
    "congruent = pd.DataFrame({'reaction time': c_, 'reaction time adj': c_adj})\n",
    "congruent['condition'] = 'congruent'\n",
    "\n",
    "\n",
    "i_ = iat_race['incongruent mean RT'].values\n",
    "i_adj = iat_race['incongruent adjmean RT'].values\n",
    "incongruent = pd.DataFrame({'reaction time': i_,  'reaction time adj': i_adj})\n",
    "incongruent['condition'] = 'incongruent'\n",
    "\n",
    "\n",
    "reaction_time = pd.concat([congruent, incongruent])\n",
    "\n",
    "plt.figure()\n",
    "\n",
    "sns.barplot(x='condition', y='reaction time', palette=['grey', 'darkred'], ci=68, estimator=np.mean, data=reaction_time)\n",
    "plt.gca().spines['right'].set_visible(False)  # aesthetics                                                                              # remove right spines\n",
    "plt.gca().spines['top'].set_visible(False)                                                                                  # remove top spines\n",
    "plt.gca().get_xaxis().tick_bottom()                                                                                         \n",
    "plt.gca().get_yaxis().tick_left()\n",
    "plt.gca().tick_params(direction='in') #direction\n",
    "plt.ylim(0,1.5)\n",
    "plt.yticks([0,0.5,1,1.5])\n",
    "plt.ylabel('latency (s)', fontsize=15)\n",
    "plt.xlabel('')\n",
    "plt.xticks([0,1], ['B-P/N-N', 'B-N/N-P'], fontsize=15)\n",
    "stats2 = scipy.stats.ttest_rel(c_, i_)\n",
    "plt.text( -0.2, 1.3, 'RACE t-statistic = ' + str(np.round(stats2[0], 3)), fontsize=8 )\n",
    "plt.text( -0.2, 1.2, 'pvalue = ' + str(np.round(stats2[1], 3)), fontsize=8 )\n",
    "plt.show()\n",
    "\n",
    "####\n",
    "\n",
    "plt.figure()\n",
    "sns.barplot(x='condition', y='reaction time adj', palette=['grey', 'darkred'], ci=68, estimator=np.mean, data=reaction_time)\n",
    "plt.gca().spines['right'].set_visible(False)  # aesthetics                                                                              # remove right spines\n",
    "plt.gca().spines['top'].set_visible(False)                                                                                  # remove top spines\n",
    "plt.gca().get_xaxis().tick_bottom()                                                                                         \n",
    "plt.gca().get_yaxis().tick_left()\n",
    "plt.gca().tick_params(direction='in') #direction\n",
    "plt.ylim(0,1.5)\n",
    "plt.yticks([0,0.5,1,1.5])\n",
    "plt.ylabel('latency (s)***', fontsize=12)\n",
    "plt.xlabel('')\n",
    "plt.xticks([0,1], ['B-P/N-N', 'B-N/N-P'], fontsize=12)\n",
    "stats3 = scipy.stats.ttest_rel(c_adj, i_adj)\n",
    "plt.text( -0.2, 1.3, 'RACE t-statistic = ' + str(np.round(stats3[0], 3)), fontsize=8 )\n",
    "plt.text( -0.2, 1.2, 'pvalue = ' + str(np.round(stats3[1], 3)), fontsize=8 )\n",
    "plt.show(block=False)\n",
    "plt.show()\n"
   ]
  },
  {
   "cell_type": "code",
   "execution_count": null,
   "metadata": {},
   "outputs": [],
   "source": []
  }
 ],
 "metadata": {
  "kernelspec": {
   "display_name": "Python 3",
   "language": "python",
   "name": "python3"
  },
  "language_info": {
   "codemirror_mode": {
    "name": "ipython",
    "version": 3
   },
   "file_extension": ".py",
   "mimetype": "text/x-python",
   "name": "python",
   "nbconvert_exporter": "python",
   "pygments_lexer": "ipython3",
   "version": "3.5.6"
  }
 },
 "nbformat": 4,
 "nbformat_minor": 2
}
