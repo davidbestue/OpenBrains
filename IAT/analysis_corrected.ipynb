{
 "cells": [
  {
   "cell_type": "markdown",
   "metadata": {},
   "source": [
    "## ANALYSIS"
   ]
  },
  {
   "cell_type": "code",
   "execution_count": 5,
   "metadata": {},
   "outputs": [],
   "source": [
    "## -----------IMPORT LIBRARIES\n",
    "import pandas as pd #for dealing with csv import\n",
    "import os # for joining paths and filenames sensibly\n",
    "import numpy as np #for the population std\n",
    "import glob # for finding csv data Çfiles\n",
    "import platform # paths use different dividers on linux vs windows, so we need to test for this\n",
    "import csv\n"
   ]
  },
  {
   "cell_type": "code",
   "execution_count": 6,
   "metadata": {},
   "outputs": [],
   "source": [
    "#path_folder = 'C:\\\\Users\\\\David\\\\Desktop\\\\OpenBrains\\\\biased_brains\\\\juncar_all'\n",
    "#path_folder = 'C:\\\\Users\\\\David\\\\Desktop\\\\OpenBrains\\\\biased_brains\\\\guinardo_all'\n",
    "#path_folder = 'C:\\\\Users\\\\David\\\\Desktop\\\\OpenBrains\\\\biased_brains\\\\guinardo_all2'\n",
    "#path_folder = 'C:\\\\Users\\\\David\\\\Desktop\\\\OpenBrains\\\\biased_brains\\\\coles'  \n",
    "#path_folder = 'C:\\\\Users\\\\David\\\\Desktop\\\\OpenBrains\\\\biased_brains\\\\Pias_sc'\n",
    "#path_folder = 'C:\\\\Users\\\\David\\\\Desktop\\\\OpenBrains\\\\biased_brains\\\\maristes'\n",
    "#path_folder = 'C:\\\\Users\\\\David\\\\Desktop\\\\OpenBrains\\\\biased_brains\\\\PiaBalaguer'\n",
    "#path_folder = 'C:\\\\Users\\\\David\\\\Desktop\\\\OpenBrains\\\\biased_brains\\\\Moli'\n",
    "#path_folder = 'C:\\\\Users\\\\David\\\\Desktop\\\\OpenBrains\\\\biased_brains\\\\marti_pous'\n",
    "#path_folder = 'C:\\\\Users\\\\David\\\\Desktop\\\\OpenBrains\\\\biased_brains\\\\guinardo_bt'\n",
    "#path_folder = 'C:\\\\Users\\\\David\\\\Desktop\\\\OpenBrains\\\\biased_brains\\\\Moli_bt'\n",
    "#path_folder = 'C:\\\\Users\\\\David\\\\Desktop\\\\OpenBrains\\\\biased_brains\\\\Pias_sc_bt'\n",
    "#path_folder = 'C:\\\\Users\\\\David\\\\Desktop\\\\OpenBrains\\\\biased_brains\\\\Miami'\n",
    "#path_folder = 'C:\\\\Users\\\\david\\\\Downloads\\\\guineueta'\n",
    "#path_folder = 'C:\\\\Users\\\\david\\\\Downloads\\\\coves'\n",
    "#path_folder = 'C:\\\\Users\\\\david\\\\Downloads\\\\piasc2'\n",
    "#path_folder = 'C:\\\\Users\\\\david\\\\Downloads\\\\guini'\n",
    "#path_folder = 'C:\\\\Users\\\\david\\\\Downloads\\\\piasc4'\n",
    "#path_folder = 'C:\\\\Users\\\\david\\\\Downloads\\\\pians'\n",
    "#path_folder = 'C:\\\\Users\\\\david\\\\Downloads\\\\coves1'\n",
    "#path_folder = 'C:\\\\Users\\\\david\\\\Downloads\\\\Berenguer'\n",
    "#path_folder = 'C:\\\\Users\\\\david\\\\Downloads\\\\alzina'\n",
    "#path_folder = 'C:\\\\Users\\\\david\\\\Downloads\\\\bisbe'\n",
    "#path_folder = 'C:\\\\Users\\\\david\\\\Downloads\\\\santjosep'\n",
    "#path_folder = 'C:\\\\Users\\\\david\\\\Downloads\\\\Tarradell'\n",
    "#path_folder = 'C:\\\\Users\\\\david\\\\Downloads\\\\gravi'\n",
    "#path_folder = 'C:\\\\Users\\\\david\\\\Downloads\\\\roca'\n",
    "#path_folder = 'C:\\\\Users\\\\david\\\\Downloads\\\\iborra'\n",
    "#path_folder = 'C:\\\\Users\\\\david\\\\Downloads\\\\monturiol'\n",
    "path_folder = 'C:\\\\Users\\\\david\\\\Downloads\\\\rel'\n",
    "\n",
    "\n",
    "\n",
    "\n",
    "\n",
    "path_summary_file =  'C:\\\\Users\\\\david\\\\Downloads\\\\' #'C:\\\\Users\\\\David\\\\Desktop\\\\OpenBrains\\\\'"
   ]
  },
  {
   "cell_type": "code",
   "execution_count": 7,
   "metadata": {},
   "outputs": [],
   "source": [
    "### Functions\n",
    "def adjustedmean(RTs,corrs,penalty):\n",
    "    n=len(corrs) #trials\n",
    "    n_errors=n-sum(corrs) #errors\n",
    "    cor_RTs=np.array(corrs)*RTs #sum of correct RTs\n",
    "    cor_mean=sum(cor_RTs)/sum(corrs)\n",
    "    import csv\n",
    "    #mean with errors replaced with penalty value\n",
    "    return cor_mean+(n_errors*penalty)/n\n",
    "\n",
    "###\n",
    "\n",
    "def exclude_slows(RTs,corrs,slowRT_limit):\n",
    "    new_rt=[] #holding variables\n",
    "    new_cr=[]\n",
    "    for i in range(len(RTs)): #iterate over every item\n",
    "        if RTs[i] < slowRT_limit: #if it isn't too fast, include RT and corr values\n",
    "            new_rt.append(RTs[i])\n",
    "            new_cr.append(corrs[i])\n",
    "    \n",
    "    return (new_rt, new_cr)"
   ]
  },
  {
   "cell_type": "code",
   "execution_count": 8,
   "metadata": {},
   "outputs": [],
   "source": [
    "## -----------DEFINE PARAMETERS\n",
    "penalty=0.600 #penalty - in seconds - for incorrect responses\n",
    "slowRT_limit=10 #threshold at which slow RTs are discarded\n",
    "fastRT_limit=0.300 #threshold which defines responses which are \"too fast\"\n",
    "fast_prop_limit=0.1 # threshold proportion of \"too fast\" responses which defines exclusion of ppt\n",
    "\n",
    "search_string=os.path.join(path_folder,'*.csv') \n",
    "\n",
    "## -----------LOAD DATA\n",
    "files = glob.glob(search_string) #list of data files in the named location"
   ]
  },
  {
   "cell_type": "code",
   "execution_count": 9,
   "metadata": {
    "scrolled": false
   },
   "outputs": [
    {
     "name": "stdout",
     "output_type": "stream",
     "text": [
      "openIAT\n",
      "CAM\n",
      "IAT is : -0.820\n",
      "\n",
      "openIAT\n",
      "Inicials\n",
      "IAT is : -1.197\n",
      "\n",
      "openIAT\n",
      "lsm\n",
      "IAT is : -1.385\n",
      "\n",
      "openIAT\n",
      "MGV\n",
      "IAT is : -0.751\n",
      "\n",
      "openIAT\n",
      "mna\n",
      "IAT is : -0.610\n",
      "\n",
      "openIAT\n",
      "RCS\n",
      "IAT is : -0.774\n",
      "\n",
      "openIAT\n",
      "SPC\n",
      "IAT is : -1.458\n",
      "\n",
      "openIAT\n",
      "SRR\n",
      "IAT is : -0.867\n",
      "\n",
      "openIAT\n",
      "SSF\n",
      "IAT is : -0.703\n",
      "\n",
      "openIAT\n",
      "SVC\n",
      "IAT is : -0.968\n",
      "\n"
     ]
    }
   ],
   "source": [
    "#now iterate through all data files and calculate the IAT  \n",
    "\n",
    "summary=[]\n",
    "\n",
    "for filename in files:\n",
    "    code_ =filename.split('\\\\')[-1].split('_')[1]\n",
    "    print(filename.split('\\\\')[-1].split('_')[2])\n",
    "    print(code_)\n",
    "    file_path =os.path.join(path_folder,filename) \n",
    "\n",
    "    #import into python using pandas\n",
    "    try:\n",
    "        df = pd.read_csv(file_path)\n",
    "    except pd.io.common.EmptyDataError:\n",
    "        print('not enough data')\n",
    "        continue\n",
    "        \n",
    "    ####   \n",
    "    if len(df)<10:\n",
    "        print('not enough data')\n",
    "        continue\n",
    "            \n",
    "    ## -----------EXTRACT DATA\n",
    "    #find order \n",
    "    order=df['order'].tolist()[0]\n",
    "    #1 congr then incong\n",
    "    #2 incongr then congr\n",
    "\n",
    "    if order==1:\n",
    "        congr_corr=   df['corr'][24:44].dropna().tolist()  #corrs[0:block_length]\n",
    "        congr_rts=    df['rt'][24:44].dropna().tolist()   #rts[0:block_length]\n",
    "        incon_corr=   df['corr'][56:].dropna().tolist() #corrs[block_length:]\n",
    "        incon_rts=    df['rt'][56:].dropna().tolist()    #rts[block_length:]\n",
    "    else:\n",
    "        congr_corr= df['corr'][56:].dropna().tolist()  #corrs[block_length:]\n",
    "        congr_rts= df['rt'][56:].dropna().tolist() #rts[block_length:]\n",
    "        incon_corr= df['corr'][24:44].dropna().tolist() #corrs[0:block_length]\n",
    "        incon_rts= df['rt'][24:44].dropna().tolist() #rts[0:block_length]\n",
    "            \n",
    "    \n",
    "    \n",
    "    ## -----------ANALYSE / CALCULATE\n",
    "        \n",
    "    #1 discard subject if too many fast responses\n",
    "    if sum(np.array(congr_rts + incon_rts)<fastRT_limit)>len(congr_rts + incon_rts)*fast_prop_limit:\n",
    "        print(\"excluding subject for \" + code_ + \" because too many fast responses\")\n",
    "    else:\n",
    "        #2 Eliminate scores over 10,000 ms\n",
    "             \n",
    "        congr_rts,congr_corr=exclude_slows(congr_rts,congr_corr,slowRT_limit)              \n",
    "        incon_rts,incon_corr=exclude_slows(incon_rts,incon_corr,slowRT_limit)\n",
    "        \n",
    "        #3 Calculate pooled std\n",
    "        #pooled_std=pooled.std(0) #n-1 std sample std\n",
    "        #(Use N not N-1 because this is the whole sample). \n",
    "        #numpy.std is population std\n",
    "        pooled=congr_rts + incon_rts #all RTs from both blocks, correct and incorrect\n",
    "        pooled_std=np.std(pooled)\n",
    "        \n",
    "        #4 Calculated adjusted means, including the penalty\n",
    "        congr_adjmean=adjustedmean(congr_rts,congr_corr,penalty)\n",
    "        incon_adjmean=adjustedmean(incon_rts,incon_corr,penalty)\n",
    "        \n",
    "        #5 Calculate the IAT, so that pro-stereotype RTs are a -ve score\n",
    "        IAT=(congr_adjmean-incon_adjmean)/pooled_std\n",
    "        \n",
    "        simpleIAT=np.mean(congr_rts)-np.mean(incon_rts)        \n",
    "        \n",
    "        print(\"IAT is : {:+.3f}\".format(IAT))\n",
    "        print('')\n",
    "        #print(\"Mean difference (uncorrected) is {:+.3f}\".format(simpleIAT)+\" seconds\")\n",
    "        #datwriter.writerow(['IAT score', 'raw uncorrected', 'congruent mean RT,'congruent RT sd', 'congruent error prop','incongruent mean RT,'incongruent RT sd', 'incongruent error prop'])            \n",
    "        summary.append([code_,\"{:+.3f}\".format(IAT), \"{:+.3f}\".format(simpleIAT), \"{:+.3f}\".format(np.mean(congr_rts)),\"{:+.3f}\".format(np.std(congr_rts)),\"{:+.2f}\".format(1-(sum(congr_corr)/len(congr_corr))),\"{:+.3f}\".format(np.mean(incon_rts)),\"{:+.3f}\".format(np.std(incon_rts)),\"{:+.2f}\".format(1-(sum(incon_corr)/len(incon_corr))),\"{:+.3f}\".format(congr_adjmean),\"{:+.3f}\".format(incon_adjmean)])            \n",
    "        # np.std(congr_rts)\n",
    "        # sum(congr_corr)/size(congr_corr)\n",
    "    \n",
    "\n",
    "\n",
    "\n",
    "\n",
    "\n"
   ]
  },
  {
   "cell_type": "code",
   "execution_count": 10,
   "metadata": {},
   "outputs": [],
   "source": [
    "iat_race=pd.DataFrame(summary)\n",
    "iat_race.columns = ['file_code', 'IAT score', 'raw uncorrected', 'congruent mean RT','congruent RT sd', 'congruent error prop','incongruent mean RT','incongruent RT sd', 'incongruent error prop', 'congruent adjmean RT', 'incongruent adjmean RT' ]           \n",
    "#iat_race.to_csv(path_summary_file + 'summary_filex.csv')  \n"
   ]
  },
  {
   "cell_type": "code",
   "execution_count": 11,
   "metadata": {},
   "outputs": [],
   "source": [
    "iat_race['congruent mean RT'] =  iat_race['congruent mean RT'].astype(float)\n",
    "iat_race['incongruent mean RT'] =  iat_race['incongruent mean RT'].astype(float)\n",
    "iat_race['congruent adjmean RT'] =  iat_race['congruent adjmean RT'].astype(float)\n",
    "iat_race['incongruent adjmean RT'] =  iat_race['incongruent adjmean RT'].astype(float)"
   ]
  },
  {
   "cell_type": "markdown",
   "metadata": {},
   "source": [
    "## PLOTS"
   ]
  },
  {
   "cell_type": "code",
   "execution_count": 12,
   "metadata": {},
   "outputs": [],
   "source": [
    "import pandas as pd #for dealing with csv import\n",
    "import matplotlib.pyplot as plt  # Matplotlib's pyplot: MATLAB-like syntax\n",
    "import scipy\n",
    "from scipy import stats\n",
    "import numpy as np\n",
    "import seaborn as sns"
   ]
  },
  {
   "cell_type": "code",
   "execution_count": 13,
   "metadata": {},
   "outputs": [],
   "source": [
    "# # GET THE DATA\n",
    "\n",
    "#iat_race=pd.read_csv(path_summary_file + 'summary_filex.csv')  \n",
    "\n",
    "\n",
    "dat={} #store for summary stats. We use a dict because can be dynamically allocated\n",
    "basis=np.zeros(2) # IAT race, RAW race,order variable\n",
    "\n",
    "# COLLATE THE DATA\n",
    "\n",
    "#iterate through all IAT race data\n",
    "for i in range(0,len(iat_race)):\n",
    "    #get filename\n",
    "    #name_full=iat_race['code_file'].iloc[0]\n",
    "    name= iat_race['file_code'] #name_full.split('_')[0]\n",
    "    #from the filename we extract the ppt number\n",
    "    ppt_number=i\n",
    "    #creat a dict entry for that ppt\n",
    "    ppt_dat=basis.copy()\n",
    "    ppt_dat[0]=iat_race['IAT score'].values[i]\n",
    "    ppt_dat[1]=iat_race['raw uncorrected'].values[i]\n",
    "    dat[ppt_number]=ppt_dat\n",
    "\n",
    "\n",
    "#now we can extract paired IAT scores\n",
    "            \n",
    "IATrace=[]  \n",
    "RAWrace=[]\n",
    "            \n",
    "for key in dat:\n",
    "    IATrace.append(dat[key][0])              \n",
    "    RAWrace.append(dat[key][1])              \n",
    "\n"
   ]
  },
  {
   "cell_type": "code",
   "execution_count": 14,
   "metadata": {},
   "outputs": [
    {
     "data": {
      "image/png": "[encoded data removed]",
      "text/plain": [
       "<Figure size 640x480 with 1 Axes>"
      ]
     },
     "metadata": {},
     "output_type": "display_data"
    },
    {
     "name": "stdout",
     "output_type": "stream",
     "text": [
      "TtestResult(statistic=-10.243446488033992, pvalue=2.927964670194549e-06, df=9)\n",
      "10\n"
     ]
    }
   ],
   "source": [
    "##PLOT\n",
    "\n",
    "plt.figure()\n",
    "\n",
    "for i in range(len(RAWrace)):\n",
    "    plt.plot(RAWrace[i], IATrace[i], marker='.', markersize=10, color='darkred' )\n",
    "\n",
    "\n",
    "#plt.xlim([-0.5,0.5])\n",
    "#plt.xticks([-0.5, -0.25, 0, 0.25, 0.5], ['-0.5', '', '0', '', '0.5'], fontsize=10)\n",
    "plt.xlim([-2,2])\n",
    "plt.xticks([-1.5, -0.75, 0, 0.75, 1.5], ['-1.5', '', '0', '', '1.5'], fontsize=10)\n",
    "\n",
    "#plt.plot([-0.5, 0.5], [0,0], 'k--', linewidth=1)\n",
    "plt.plot([-2, 2], [0,0], 'k--', linewidth=1)\n",
    "\n",
    "\n",
    "plt.ylim([-2,2])\n",
    "plt.yticks([-2,-1, 0, 1,2], ['-2','', '0', '','2'], fontsize=10)\n",
    "\n",
    "plt.plot( [0,0], [-2,2], 'k--', linewidth=1)\n",
    "plt.xlabel('raw score', fontsize=15)\n",
    "plt.ylabel('IAT score', fontsize=15)\n",
    "\n",
    "plt.plot(np.mean(RAWrace), np.mean(IATrace), marker='+', markersize=30, color='k' )\n",
    "plt.plot(np.mean(RAWrace), np.mean(IATrace), marker='.', markersize=20, color='k' )\n",
    "\n",
    "stats1 = stats.ttest_1samp(IATrace, 0)\n",
    "\n",
    "# plt.text( 0.1, -1.5, 'RACE t-statistic = ' + str(np.round(stats[0], 3)), fontsize=10 )\n",
    "# plt.text( 0.1, -1.8, 'pvalue = ' + str(np.round(stats[1], 3)), fontsize=10 )\n",
    "plt.text( 0.4, -1.5, 'RACE t-statistic = ' + str(np.round(stats1[0], 3)), fontsize=10 )\n",
    "#plt.text( 0.4, -1.8, 'pvalue = ' + str(np.round(stats1[1], 3)), fontsize=10 )\n",
    "plt.text( 0.4, -1.8, 'pvalue <0.001', fontsize=10 )\n",
    "\n",
    "\n",
    "# plt.text( 0.3, 1.7, 'white racism' , fontsize=10 )\n",
    "# plt.text( -0.45, -1.7, 'black racism' , fontsize=10 )\n",
    "plt.text( 0.8, 1.7, 'racisme blanc' , fontsize=10 )\n",
    "plt.text( -1.45, -1.7, 'racisme negre' , fontsize=10 )\n",
    "\n",
    "\n",
    "plt.savefig('biblios1.png', transparent=True)\n",
    "plt.show(block=False)\n",
    "\n",
    "#plt.savefig('IATscatter.png', dpi=300, facecolor='w', edgecolor='w',\n",
    "#            orientation='portrait', papertype=None, format=None,\n",
    "#            transparent=False, bbox_inches=None, pad_inches=0.1)\n",
    "         \n",
    "\n",
    "print(stats1)\n",
    "print(len(IATrace))\n"
   ]
  },
  {
   "cell_type": "code",
   "execution_count": 15,
   "metadata": {},
   "outputs": [
    {
     "name": "stderr",
     "output_type": "stream",
     "text": [
      "C:\\Users\\david\\AppData\\Local\\Temp\\ipykernel_10732\\2010335092.py:19: FutureWarning: \n",
      "\n",
      "The `ci` parameter is deprecated. Use `errorbar=('ci', 68)` for the same effect.\n",
      "\n",
      "  sns.barplot(x='condition', y='reaction time', palette=['grey', 'darkred'], ci=68, estimator=np.mean, data=reaction_time)\n"
     ]
    },
    {
     "data": {
      "image/png": "[encoded data removed]",
      "text/plain": [
       "<Figure size 640x480 with 1 Axes>"
      ]
     },
     "metadata": {},
     "output_type": "display_data"
    },
    {
     "name": "stdout",
     "output_type": "stream",
     "text": [
      "TtestResult(statistic=-6.364479604590392, pvalue=0.00013062345529908344, df=9)\n"
     ]
    }
   ],
   "source": [
    "########### REACTION TIMES\n",
    "\n",
    "c_ = iat_race['congruent mean RT'].values\n",
    "c_adj = iat_race['congruent adjmean RT'].values\n",
    "congruent = pd.DataFrame({'reaction time': c_, 'reaction time adj': c_adj})\n",
    "congruent['condition'] = 'congruent'\n",
    "\n",
    "\n",
    "i_ = iat_race['incongruent mean RT'].values\n",
    "i_adj = iat_race['incongruent adjmean RT'].values\n",
    "incongruent = pd.DataFrame({'reaction time': i_,  'reaction time adj': i_adj})\n",
    "incongruent['condition'] = 'incongruent'\n",
    "\n",
    "\n",
    "reaction_time = pd.concat([congruent, incongruent])\n",
    "#reaction_time['reaction time'] =  reaction_time['reaction time'].astype(float)\n",
    "\n",
    "plt.figure()\n",
    "sns.barplot(x='condition', y='reaction time', palette=['grey', 'darkred'], ci=68, estimator=np.mean, data=reaction_time)\n",
    "plt.gca().spines['right'].set_visible(False)  # aesthetics                                                                              # remove right spines\n",
    "plt.gca().spines['top'].set_visible(False)                                                                                  # remove top spines\n",
    "plt.gca().get_xaxis().tick_bottom()                                                                                         \n",
    "plt.gca().get_yaxis().tick_left()\n",
    "plt.gca().tick_params(direction='in') #direction\n",
    "plt.ylim(0,1.5)\n",
    "plt.yticks([0,0.5,1,1.5])\n",
    "plt.ylabel('temps de reacció (s)', fontsize=12)\n",
    "plt.xlabel('')\n",
    "plt.xticks([0,1], ['blanc-positiu', 'negre-positiu'], fontsize=12)\n",
    "stats2 = scipy.stats.ttest_rel(c_, i_)\n",
    "plt.text( 1, 1.6, 'RACE t-statistic = ' + str(np.round(stats2[0], 3)), fontsize=10 )\n",
    "plt.text( 1, 1.5, 'pvalue = ' + str(np.round(stats2[1], 3)), fontsize=10 )\n",
    "plt.show(block=False)\n",
    "print(stats2)\n"
   ]
  },
  {
   "cell_type": "code",
   "execution_count": 16,
   "metadata": {},
   "outputs": [
    {
     "name": "stderr",
     "output_type": "stream",
     "text": [
      "C:\\Users\\david\\AppData\\Local\\Temp\\ipykernel_10732\\1085341221.py:2: FutureWarning: \n",
      "\n",
      "The `ci` parameter is deprecated. Use `errorbar=('ci', 68)` for the same effect.\n",
      "\n",
      "  sns.barplot(x='condition', y='reaction time adj', palette=['grey', 'darkred'], ci=68, estimator=np.mean, data=reaction_time)\n"
     ]
    },
    {
     "data": {
      "image/png": "[encoded data removed]",
      "text/plain": [
       "<Figure size 640x480 with 1 Axes>"
      ]
     },
     "metadata": {},
     "output_type": "display_data"
    },
    {
     "name": "stdout",
     "output_type": "stream",
     "text": [
      "TtestResult(statistic=-5.455167723337879, pvalue=0.0004029495037689769, df=9)\n"
     ]
    }
   ],
   "source": [
    "\n",
    "plt.figure()\n",
    "sns.barplot(x='condition', y='reaction time adj', palette=['grey', 'darkred'], ci=68, estimator=np.mean, data=reaction_time)\n",
    "plt.gca().spines['right'].set_visible(False)  # aesthetics                                                                              # remove right spines\n",
    "plt.gca().spines['top'].set_visible(False)                                                                                  # remove top spines\n",
    "plt.gca().get_xaxis().tick_bottom()                                                                                         \n",
    "plt.gca().get_yaxis().tick_left()\n",
    "plt.gca().tick_params(direction='in') #direction\n",
    "plt.ylim(0,1.5)\n",
    "plt.yticks([0,0.5,1,1.5])\n",
    "plt.ylabel('temps de reacció (s)***', fontsize=12)\n",
    "plt.xlabel('')\n",
    "plt.xticks([0,1], ['blanc-positiu', 'negre-positiu'], fontsize=12)\n",
    "stats3 = scipy.stats.ttest_rel(c_adj, i_adj)\n",
    "plt.text( 0.55, 1.8, 'RACE t-statistic = ' + str(np.round(stats3[0], 3)), fontsize=12 )\n",
    "#plt.text( 0.5, 1.5, 'pvalue = ' + str(np.round(stats3[1], 3)), fontsize=10 )\n",
    "plt.text( 0.75, 1.6, 'pvalue<0.001', fontsize=12)\n",
    "plt.savefig('biblios.png', transparent=True)\n",
    "plt.show(block=False)\n",
    "\n",
    "print(stats3)\n"
   ]
  },
  {
   "cell_type": "markdown",
   "metadata": {},
   "source": []
  },
  {
   "cell_type": "code",
   "execution_count": null,
   "metadata": {},
   "outputs": [],
   "source": []
  },
  {
   "cell_type": "code",
   "execution_count": null,
   "metadata": {},
   "outputs": [],
   "source": []
  }
 ],
 "metadata": {
  "kernelspec": {
   "display_name": "Python 3 (ipykernel)",
   "language": "python",
   "name": "python3"
  },
  "language_info": {
   "codemirror_mode": {
    "name": "ipython",
    "version": 3
   },
   "file_extension": ".py",
   "mimetype": "text/x-python",
   "name": "python",
   "nbconvert_exporter": "python",
   "pygments_lexer": "ipython3",
   "version": "3.9.16"
  }
 },
 "nbformat": 4,
 "nbformat_minor": 2
}
