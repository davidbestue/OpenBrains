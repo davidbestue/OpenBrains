{
 "cells": [
  {
   "cell_type": "code",
   "execution_count": 1,
   "metadata": {},
   "outputs": [],
   "source": [
    "## -----------IMPORT LIBRARIES\n",
    "import pandas as pd #for dealing with csv import\n",
    "import os # for joining paths and filenames sensibly\n",
    "import numpy as np #for the population std\n",
    "import glob # for finding csv data Çfiles\n",
    "import platform # paths use different dividers on linux vs windows, so we need to test for this\n",
    "import csv"
   ]
  },
  {
   "cell_type": "code",
   "execution_count": 3,
   "metadata": {},
   "outputs": [
    {
     "data": {
      "text/plain": [
       "['coles',\n",
       " 'data',\n",
       " 'eyetracker_recordings',\n",
       " 'guinardo_all',\n",
       " 'guinardo_all2',\n",
       " 'implicit_bias_imerys',\n",
       " 'juncar_1',\n",
       " 'juncar_2',\n",
       " 'juncar_all',\n",
       " 'maristes',\n",
       " 'Moli',\n",
       " 'other',\n",
       " 'PiaBalaguer',\n",
       " 'Pias_sc',\n",
       " 'Pias_sc_3D']"
      ]
     },
     "execution_count": 3,
     "metadata": {},
     "output_type": "execute_result"
    }
   ],
   "source": [
    "path_folder = 'C:\\\\Users\\\\David\\\\Desktop\\\\OpenBrains\\\\biased_brains'\n",
    "\n",
    "exclude_ = ['coles', 'data', 'eyetracker_recordings', 'guinardo_all', 'juncar_all', 'other' ]\n",
    "\n",
    "os.listdir(path_folder)"
   ]
  },
  {
   "cell_type": "code",
   "execution_count": null,
   "metadata": {},
   "outputs": [],
   "source": []
  }
 ],
 "metadata": {
  "kernelspec": {
   "display_name": "Python 3",
   "language": "python",
   "name": "python3"
  },
  "language_info": {
   "codemirror_mode": {
    "name": "ipython",
    "version": 3
   },
   "file_extension": ".py",
   "mimetype": "text/x-python",
   "name": "python",
   "nbconvert_exporter": "python",
   "pygments_lexer": "ipython3",
   "version": "3.5.6"
  }
 },
 "nbformat": 4,
 "nbformat_minor": 2
}
