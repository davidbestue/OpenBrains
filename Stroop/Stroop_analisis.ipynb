{
 "cells": [
  {
   "cell_type": "code",
   "execution_count": 1,
   "metadata": {},
   "outputs": [],
   "source": [
    "## Importar librerías necesarias\n",
    "import numpy as np\n",
    "import pandas as pd\n",
    "import matplotlib.pyplot as plt\n",
    "import seaborn as sns\n",
    "from scipy.stats import norm\n",
    "# from statsmodels.formula.api import ols\n",
    "# import statsmodels.api as sm\n",
    "# from statsmodels.stats.multicomp import pairwise_tukeyhsd\n",
    "# import statsmodels.formula.api as smf\n",
    "import tkinter as tk\n",
    "from tkinter import filedialog\n"
   ]
  },
  {
   "cell_type": "code",
   "execution_count": 4,
   "metadata": {},
   "outputs": [],
   "source": [
    "#abrir dialogue box para seleccionar path de la carpeta\n",
    "root = tk.Tk()\n",
    "root.withdraw()\n",
    "file_path = filedialog.askopenfilename()\n",
    "\n",
    "xl = pd.ExcelFile(file_path)\n",
    "df = pd.read_excel(xl, 'datos completos')\n"
   ]
  },
  {
   "cell_type": "code",
   "execution_count": null,
   "metadata": {},
   "outputs": [],
   "source": []
  },
  {
   "cell_type": "markdown",
   "metadata": {},
   "source": [
    "# Plots"
   ]
  },
  {
   "cell_type": "markdown",
   "metadata": {},
   "source": [
    "### barplot"
   ]
  },
  {
   "cell_type": "code",
   "execution_count": 5,
   "metadata": {},
   "outputs": [],
   "source": [
    "# sns.barplot(x='condition', y='rt', data=df, palette=['darkorange', 'darkblue', 'lightcoral'], estimator=np.mean)\n",
    "\n",
    "# plt.gca().spines['right'].set_visible(False)  # aesthetics                                                                              # remove right spines\n",
    "# plt.gca().spines['top'].set_visible(False)                                                                                  # remove top spines\n",
    "# plt.gca().get_xaxis().tick_bottom()                                                                                         \n",
    "# plt.gca().get_yaxis().tick_left()\n",
    "# plt.gca().tick_params(direction='in') #direction\n",
    "# plt.xticks([0,1,2], ['negras', 'rectángulo', 'color'])\n",
    "# plt.xlabel('')\n",
    "# plt.ylabel('reaction time (s)')\n",
    "# #plt.ylim(0, 1.5);"
   ]
  },
  {
   "cell_type": "markdown",
   "metadata": {},
   "source": [
    "### boxplot + trials"
   ]
  },
  {
   "cell_type": "code",
   "execution_count": 6,
   "metadata": {},
   "outputs": [],
   "source": [
    "# sns.boxplot(x = \"condition\",  y = \"rt\",  data = df, \n",
    "#             palette=['darkorange', 'darkblue', 'lightcoral'])\n",
    "\n",
    "# sns.stripplot(x = \"condition\",  y = \"rt\",  data = df,\n",
    "#              palette=['darkorange', 'darkblue', 'lightcoral'])\n",
    "\n",
    "\n",
    "# plt.gca().spines['right'].set_visible(False)  # aesthetics                                                                              # remove right spines\n",
    "# plt.gca().spines['top'].set_visible(False)                                                                                  # remove top spines\n",
    "# plt.gca().get_xaxis().tick_bottom()                                                                                         \n",
    "# plt.gca().get_yaxis().tick_left()\n",
    "# plt.gca().tick_params(direction='in') #direction\n",
    "# plt.xticks([0,1,2], ['negras', 'rectángulo', 'color'])\n",
    "# plt.xlabel('')\n",
    "# plt.ylabel('reaction time (s)')\n",
    "# plt.ylim(0, 2.5);"
   ]
  },
  {
   "cell_type": "markdown",
   "metadata": {},
   "source": [
    "### confidence interval + subjects "
   ]
  },
  {
   "cell_type": "code",
   "execution_count": 18,
   "metadata": {},
   "outputs": [],
   "source": [
    "from matplotlib.patches import Rectangle\n",
    "\n",
    "\n",
    "def bootstrap_ci(data):\n",
    "    # Calculamos la media de los datos\n",
    "    data_mean = np.mean(data)\n",
    "\n",
    "    # Definimos la cantidad de muestras bootstrap que queremos generar\n",
    "    n_bootstraps = 1000\n",
    "\n",
    "    # Generamos muestras bootstrap con reemplazo\n",
    "    bootstrap_samples = np.random.choice(data, size=(n_bootstraps, len(data)), replace=True)\n",
    "\n",
    "    # Calculamos la media de cada muestra bootstrap\n",
    "    bootstrap_means = np.mean(bootstrap_samples, axis=1)\n",
    "\n",
    "    # Ordenamos las medias bootstrap de menor a mayor\n",
    "    sorted_means = np.sort(bootstrap_means)\n",
    "\n",
    "    # Calculamos los percentiles 2.5 y 97.5 de las medias bootstrap\n",
    "    ci_lower = sorted_means[int(0.025 * n_bootstraps)]\n",
    "    ci_upper = sorted_means[int(0.975 * n_bootstraps)]\n",
    "\n",
    "    return ci_lower, ci_upper\n",
    "\n"
   ]
  },
  {
   "cell_type": "code",
   "execution_count": 19,
   "metadata": {},
   "outputs": [],
   "source": [
    "m_pn=df.loc[df['condition']=='palabra_negra', 'rt'].mean()\n",
    "ci_pn= bootstrap_ci(df.loc[df['condition']=='palabra_negra', 'rt'].values)\n",
    "\n",
    "m_r=df.loc[df['condition']=='rectangulo', 'rt'].mean()\n",
    "ci_r= bootstrap_ci(df.loc[df['condition']=='rectangulo', 'rt'].values)\n",
    "\n",
    "m_pc=df.loc[df['condition']=='palabra_color', 'rt'].mean()\n",
    "ci_pc= bootstrap_ci(df.loc[df['condition']=='palabra_color', 'rt'].values)\n"
   ]
  },
  {
   "cell_type": "code",
   "execution_count": 21,
   "metadata": {},
   "outputs": [
    {
     "data": {
      "image/png": "[encoded data removed]",
      "text/plain": [
       "<Figure size 432x288 with 1 Axes>"
      ]
     },
     "metadata": {
      "needs_background": "light"
     },
     "output_type": "display_data"
    }
   ],
   "source": [
    "###\n",
    "\n",
    "idxs_x = [0,1,2]\n",
    "palette=['darkorange', 'darkblue', 'lightcoral']\n",
    "cis = [ci_pn, ci_r, ci_pc]\n",
    "means = [m_pn, m_r, m_pc]\n",
    "\n",
    "for idx, cond in enumerate(['palabra_negra', 'rectangulo', 'palabra_color']):\n",
    "    \n",
    "    ##plot_rectange\n",
    "    plt.gca().add_patch(Rectangle((idx, cis[idx][0]), 0.6, cis[idx][1]-cis[idx][0], \n",
    "                                  alpha=0.4, fill=True, facecolor=palette[idx],\n",
    "                                  linewidth=1,  edgecolor=palette[idx]))  \n",
    "    ##plot_mean\n",
    "    plt.plot([idx, idx+0.6], [means[idx], means[idx]], color=palette[idx], linewidth=4) \n",
    "    \n",
    "    ##\n",
    "    subj_values = df.loc[df['condition']==cond].groupby('participant', as_index=False)['rt'].mean().rt.values\n",
    "    for i in range(len(subj_values)):\n",
    "        jitter=np.random.uniform(-0.1, 0.1)\n",
    "        plt.plot(idx+0.3+jitter, subj_values[i], color=palette[idx], marker='o', markersize=6 )\n",
    "    \n",
    "\n",
    "\n",
    "plt.gca().spines['right'].set_visible(False)  # aesthetics                                                                              # remove right spines\n",
    "plt.gca().spines['top'].set_visible(False)                                                                                  # remove top spines\n",
    "plt.gca().get_xaxis().tick_bottom()                                                                                         \n",
    "plt.gca().get_yaxis().tick_left()\n",
    "plt.gca().tick_params(direction='in') #direction\n",
    "plt.xticks([0+0.3,1+0.3,2+0.3], ['c1: negres', 'c2: rectangles', 'color'], fontsize=13)\n",
    "plt.xlabel('')\n",
    "plt.ylabel('temps de reacció (s)', fontsize=13)\n",
    "plt.yticks(fontsize=10)\n",
    "plt.title('efecte stroop', fontsize=16)\n",
    "#plt.ylim(0.5, 1.5);\n",
    "plt.show(block=False)\n",
    "\n",
    "\n",
    "\n"
   ]
  },
  {
   "cell_type": "markdown",
   "metadata": {},
   "source": [
    "### historgram trials"
   ]
  },
  {
   "cell_type": "code",
   "execution_count": 12,
   "metadata": {},
   "outputs": [
    {
     "data": {
      "image/png": "[encoded data removed]",
      "text/plain": [
       "<Figure size 432x288 with 1 Axes>"
      ]
     },
     "metadata": {
      "needs_background": "light"
     },
     "output_type": "display_data"
    }
   ],
   "source": [
    "\n",
    "sns.distplot(df.loc[df['condition']=='palabra_negra', 'rt'],  color='darkorange', bins=np.linspace(0,3,60),\n",
    "             fit=norm, kde=False, fit_kws={\"color\":'darkorange', 'linewidth':2}, label='c1: negres')\n",
    "\n",
    "sns.distplot(df.loc[df['condition']=='rectangulo', 'rt'],  color='darkblue', bins=np.linspace(0,3,60),\n",
    "             fit=norm, kde=False, fit_kws={\"color\":'darkblue', 'linewidth':2}, label='c2: rectangles' )\n",
    "\n",
    "sns.distplot(df.loc[df['condition']=='palabra_color', 'rt'],  color='lightcoral', bins=np.linspace(0,3,60),\n",
    "             fit=norm, kde=False, fit_kws={\"color\":'lightcoral', 'linewidth':2}, label='color' )\n",
    "\n",
    "plt.gca().spines['right'].set_visible(False)  # aesthetics                                                                              # remove right spines\n",
    "plt.gca().spines['top'].set_visible(False)                                                                                  # remove top spines\n",
    "plt.gca().get_xaxis().tick_bottom()                                                                                         \n",
    "plt.gca().get_yaxis().tick_left()\n",
    "plt.gca().tick_params(direction='in') #direction\n",
    "plt.legend(loc=1, frameon=False, prop={'size': 13})\n",
    "plt.xlabel('temps de reacció (s)', fontsize=13)\n",
    "plt.xticks(fontsize=10)\n",
    "plt.yticks(fontsize=10);\n",
    "plt.title('distribució de temps de reacció', fontsize=16)\n",
    "plt.show(block=False)\n",
    "\n",
    "\n"
   ]
  },
  {
   "cell_type": "markdown",
   "metadata": {},
   "source": [
    "# Stats"
   ]
  },
  {
   "cell_type": "markdown",
   "metadata": {},
   "source": [
    "#### Anova + multiple comparisons (simple)\n",
    "##### The correct Anova should be paired"
   ]
  },
  {
   "cell_type": "code",
   "execution_count": 52,
   "metadata": {},
   "outputs": [
    {
     "name": "stdout",
     "output_type": "stream",
     "text": [
      "                                 \n",
      "                                 Anova Table\n",
      "==============================================================================\n",
      "              sum_sq     df          F        PR(>F)\n",
      "condition   9.315502    2.0  50.413778  1.210691e-20\n",
      "Residual   45.456097  492.0        NaN           NaN\n",
      "==============================================================================\n",
      "                                 \n",
      "                                 \n",
      "                                 \n",
      "Multiple Comparison of Means - Tukey HSD,FWER=0.05\n",
      "==================================================\n",
      "  group1    group2  meandiff  lower  upper  reject\n",
      "--------------------------------------------------\n",
      "control 1 control 2  0.0395  -0.0392 0.1181 False \n",
      "control 1    test    0.3087   0.2301 0.3874  True \n",
      "control 2    test    0.2693   0.1906 0.3479  True \n",
      "--------------------------------------------------\n",
      "                                 \n",
      "                                \n"
     ]
    }
   ],
   "source": [
    "\n",
    "# df_stats = df.copy()\n",
    "# df_stats['condition']= df_stats['condition'].replace(['palabra_negra', 'rectangulo', 'palabra_color'], ['control 1', 'control 2', 'test'])\n",
    "\n",
    "# mod = ols(formula='rt ~ condition', data=df_stats).fit()\n",
    "# aov_table = sm.stats.anova_lm(mod, typ=2)\n",
    "\n",
    "# print( '                                 ')\n",
    "# print( '                                 Anova Table')\n",
    "# print( '==============================================================================')\n",
    "# print( aov_table)\n",
    "# print( '==============================================================================')\n",
    "# print( '                                 ')\n",
    "# print( '                                 ')\n",
    "# print( '                                 ')\n",
    "\n",
    "\n",
    "\n",
    "# ####### Multiple comparisons\n",
    "# tukey = pairwise_tukeyhsd(endog=df_stats.rt.values, groups=df_stats['condition'].values,  alpha=0.05)\n",
    "# print( tukey.summary()    )\n",
    "# print( '                                 ')\n",
    "# print( '                                ')\n"
   ]
  },
  {
   "cell_type": "markdown",
   "metadata": {},
   "source": [
    "#### regression (subjects random intercepts - complex)"
   ]
  },
  {
   "cell_type": "code",
   "execution_count": 53,
   "metadata": {},
   "outputs": [
    {
     "name": "stdout",
     "output_type": "stream",
     "text": [
      "             Mixed Linear Model Regression Results\n",
      "================================================================\n",
      "Model:               MixedLM    Dependent Variable:    rt       \n",
      "No. Observations:    495        Method:                REML     \n",
      "No. Groups:          5          Scale:                 0.0912   \n",
      "Min. group size:     90         Likelihood:            -118.5016\n",
      "Max. group size:     105        Converged:             Yes      \n",
      "Mean group size:     99.0                                       \n",
      "----------------------------------------------------------------\n",
      "                       Coef. Std.Err.   z    P>|z| [0.025 0.975]\n",
      "----------------------------------------------------------------\n",
      "Intercept              0.666    0.029 22.711 0.000  0.608  0.723\n",
      "condition[T.control 2] 0.039    0.033  1.187 0.235 -0.026  0.105\n",
      "condition[T.test]      0.309    0.033  9.288 0.000  0.244  0.374\n",
      "Group Var              0.002    0.006                           \n",
      "================================================================\n",
      "\n"
     ]
    },
    {
     "name": "stderr",
     "output_type": "stream",
     "text": [
      "C:\\Users\\David\\Anaconda3\\envs\\python3\\lib\\site-packages\\statsmodels\\regression\\mixed_linear_model.py:2045: ConvergenceWarning: The MLE may be on the boundary of the parameter space.\n",
      "  warnings.warn(msg, ConvergenceWarning)\n"
     ]
    }
   ],
   "source": [
    "# resultados = smf.mixedlm(formula='rt ~ condition', data=df_stats, groups=df_stats['participant']).fit()\n",
    "# print(resultados.summary())"
   ]
  },
  {
   "cell_type": "code",
   "execution_count": null,
   "metadata": {},
   "outputs": [],
   "source": []
  },
  {
   "cell_type": "code",
   "execution_count": null,
   "metadata": {},
   "outputs": [],
   "source": []
  }
 ],
 "metadata": {
  "kernelspec": {
   "display_name": "Python 3",
   "language": "python",
   "name": "python3"
  },
  "language_info": {
   "codemirror_mode": {
    "name": "ipython",
    "version": 3
   },
   "file_extension": ".py",
   "mimetype": "text/x-python",
   "name": "python",
   "nbconvert_exporter": "python",
   "pygments_lexer": "ipython3",
   "version": "3.5.6"
  }
 },
 "nbformat": 4,
 "nbformat_minor": 2
}
