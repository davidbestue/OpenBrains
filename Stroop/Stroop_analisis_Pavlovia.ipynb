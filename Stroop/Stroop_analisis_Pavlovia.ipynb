{
 "cells": [
  {
   "cell_type": "code",
   "execution_count": 85,
   "metadata": {},
   "outputs": [],
   "source": [
    "## Importar librerías necesarias\n",
    "import numpy as np\n",
    "import pandas as pd\n",
    "import matplotlib.pyplot as plt\n",
    "import seaborn as sns\n",
    "from scipy.stats import norm\n",
    "# from statsmodels.formula.api import ols\n",
    "# import statsmodels.api as sm\n",
    "# from statsmodels.stats.multicomp import pairwise_tukeyhsd\n",
    "# import statsmodels.formula.api as smf\n",
    "import tkinter as tk\n",
    "from tkinter import filedialog\n",
    "import os\n",
    "import glob\n",
    "from ast import literal_eval\n",
    "from pandas.errors import EmptyDataError\n",
    "\n"
   ]
  },
  {
   "cell_type": "code",
   "execution_count": 86,
   "metadata": {},
   "outputs": [],
   "source": [
    "#abrir dialogue box para seleccionar path de la carpeta\n",
    "root = tk.Tk()\n",
    "root.withdraw()\n",
    "path_folder_all = filedialog.askdirectory()\n",
    "\n",
    "search_string=os.path.join(path_folder_all,'*.csv') \n",
    "files = glob.glob(search_string) #list of data files in the named location"
   ]
  },
  {
   "cell_type": "code",
   "execution_count": 87,
   "metadata": {},
   "outputs": [
    {
     "data": {
      "text/plain": [
       "['C:/Users/David/Downloads/Stroop-Pavlovia_344068_2023-11-04_11h19.52_cd1f2b35-92a2-496a-a02b-2a167695c793/data\\\\David_Bestue_stroop_task_2023-11-04_12h10.02.594.csv',\n",
       " 'C:/Users/David/Downloads/Stroop-Pavlovia_344068_2023-11-04_11h19.52_cd1f2b35-92a2-496a-a02b-2a167695c793/data\\\\DDD_stroop_task_2023-11-04_13h00.02.779.csv',\n",
       " 'C:/Users/David/Downloads/Stroop-Pavlovia_344068_2023-11-04_11h19.52_cd1f2b35-92a2-496a-a02b-2a167695c793/data\\\\PARTICIPANT_Stroop-Pavlovia_2023-11-04_13h31.50.581.csv',\n",
       " 'C:/Users/David/Downloads/Stroop-Pavlovia_344068_2023-11-04_11h19.52_cd1f2b35-92a2-496a-a02b-2a167695c793/data\\\\Pilar_Bestue_stroop_task_2023-11-04_12h12.24.195.csv']"
      ]
     },
     "execution_count": 87,
     "metadata": {},
     "output_type": "execute_result"
    }
   ],
   "source": [
    "files"
   ]
  },
  {
   "cell_type": "code",
   "execution_count": null,
   "metadata": {},
   "outputs": [],
   "source": []
  },
  {
   "cell_type": "code",
   "execution_count": 88,
   "metadata": {},
   "outputs": [
    {
     "name": "stderr",
     "output_type": "stream",
     "text": [
      "C:\\Users\\David\\Anaconda3\\envs\\python3\\lib\\site-packages\\ipykernel_launcher.py:23: SettingWithCopyWarning: \n",
      "A value is trying to be set on a copy of a slice from a DataFrame.\n",
      "Try using .loc[row_indexer,col_indexer] = value instead\n",
      "\n",
      "See the caveats in the documentation: http://pandas.pydata.org/pandas-docs/stable/user_guide/indexing.html#returning-a-view-versus-a-copy\n",
      "C:\\Users\\David\\Anaconda3\\envs\\python3\\lib\\site-packages\\ipykernel_launcher.py:24: SettingWithCopyWarning: \n",
      "A value is trying to be set on a copy of a slice from a DataFrame.\n",
      "Try using .loc[row_indexer,col_indexer] = value instead\n",
      "\n",
      "See the caveats in the documentation: http://pandas.pydata.org/pandas-docs/stable/user_guide/indexing.html#returning-a-view-versus-a-copy\n",
      "C:\\Users\\David\\Anaconda3\\envs\\python3\\lib\\site-packages\\ipykernel_launcher.py:25: SettingWithCopyWarning: \n",
      "A value is trying to be set on a copy of a slice from a DataFrame.\n",
      "Try using .loc[row_indexer,col_indexer] = value instead\n",
      "\n",
      "See the caveats in the documentation: http://pandas.pydata.org/pandas-docs/stable/user_guide/indexing.html#returning-a-view-versus-a-copy\n"
     ]
    },
    {
     "name": "stdout",
     "output_type": "stream",
     "text": [
      "not enough data\n",
      "\n"
     ]
    }
   ],
   "source": [
    "summary=[]\n",
    "\n",
    "for file in files:\n",
    "    #\n",
    "    try:\n",
    "        df_all = pd.read_csv(file) \n",
    "    except EmptyDataError:\n",
    "        print('not enough data')\n",
    "        print('')\n",
    "        continue\n",
    "    #\n",
    "    #    \n",
    "    cond_negras = ~df_all['respuesta.keys'].isnull() * 1\n",
    "    cond_rect = ~df_all['respuesta_rect.keys'].isnull() * 2\n",
    "    cond_mix = ~df_all['respuesta_mix.keys'].isnull() * 3\n",
    "    f = cond_negras + cond_rect + cond_mix\n",
    "    f.values\n",
    "    #\n",
    "    df_all['condition'] = f.values\n",
    "    df_all['condition'] = df_all['condition'].replace([1,2,3], ['palabra_negra', 'rectangulo', 'palabra_color'])\n",
    "    #\n",
    "    df = df_all[['condition', 'respuesta.rt', 'respuesta_rect.rt', 'respuesta_mix.rt', 'participant']] \n",
    "    df['negra.rt'] = df['respuesta.rt'].fillna(0) \n",
    "    df['rect.rt'] = df['respuesta_rect.rt'].fillna(0) \n",
    "    df['color.rt'] = df['respuesta_mix.rt'].fillna(0) \n",
    "    #    \n",
    "    df = df[['condition', 'negra.rt', 'rect.rt', 'color.rt', 'participant']] \n",
    "    #\n",
    "    condition = []\n",
    "    #\n",
    "    for i in range(len(df)):\n",
    "        if df['negra.rt'].iloc[i]!=0:\n",
    "            df['negra.rt'].iloc[i] = literal_eval(df['negra.rt'].iloc[i])[-1] \n",
    "        #\n",
    "        if df['rect.rt'].iloc[i]!=0:\n",
    "            df['rect.rt'].iloc[i] = literal_eval(df['rect.rt'].iloc[i])[-1] \n",
    "        #\n",
    "        if df['color.rt'].iloc[i]!=0:\n",
    "            df['color.rt'].iloc[i] = literal_eval(df['color.rt'].iloc[i])[-1] \n",
    "        #\n",
    "    #\n",
    "    df['rt'] = df['negra.rt'] + df['rect.rt'] + df['color.rt']\n",
    "    #\n",
    "    ## quitar filas sin rt\n",
    "    df = df[~(df['rt']==0)].reset_index() \n",
    "    #\n",
    "    ## quitar columnas extra de rt\n",
    "    df1 = df[['condition', 'rt', 'participant']]\n",
    "    #\n",
    "    summary.append(df1)\n",
    "    #\n",
    "#\n",
    "##\n",
    "\n",
    "data = pd.concat(summary).reset_index() \n",
    "\n",
    "\n",
    "\n",
    "### dataframe simplificado\n",
    "simplificado =[]\n",
    "\n",
    "for subj in data.participant.unique():\n",
    "    mean_rt_pn = data.loc[(data['condition']=='palabra_negra') & (data['participant']==subj)].rt.mean() \n",
    "    mean_rt_rec = data.loc[(data['condition']=='rectangulo') & (data['participant']==subj)].rt.mean()\n",
    "    mean_rt_pcol = data.loc[(data['condition']=='palabra_color') & (data['participant']==subj)].rt.mean()  \n",
    "    simplificado.append([mean_rt_pn, mean_rt_rec, mean_rt_pcol, subj ])\n",
    "\n",
    "\n",
    "df_simple = pd.DataFrame(simplificado)\n",
    "df_simple.columns=['palabra negra (C1)', 'rectangulo (C2)', 'palabra color (E)', 'sujeto']\n"
   ]
  },
  {
   "cell_type": "code",
   "execution_count": 89,
   "metadata": {},
   "outputs": [
    {
     "data": {
      "text/html": [
       "<div>\n",
       "<style scoped>\n",
       "    .dataframe tbody tr th:only-of-type {\n",
       "        vertical-align: middle;\n",
       "    }\n",
       "\n",
       "    .dataframe tbody tr th {\n",
       "        vertical-align: top;\n",
       "    }\n",
       "\n",
       "    .dataframe thead th {\n",
       "        text-align: right;\n",
       "    }\n",
       "</style>\n",
       "<table border=\"1\" class=\"dataframe\">\n",
       "  <thead>\n",
       "    <tr style=\"text-align: right;\">\n",
       "      <th></th>\n",
       "      <th>index</th>\n",
       "      <th>condition</th>\n",
       "      <th>rt</th>\n",
       "      <th>participant</th>\n",
       "    </tr>\n",
       "  </thead>\n",
       "  <tbody>\n",
       "    <tr>\n",
       "      <th>0</th>\n",
       "      <td>0</td>\n",
       "      <td>palabra_negra</td>\n",
       "      <td>0.921</td>\n",
       "      <td>David Bestue</td>\n",
       "    </tr>\n",
       "    <tr>\n",
       "      <th>1</th>\n",
       "      <td>1</td>\n",
       "      <td>palabra_negra</td>\n",
       "      <td>1.222</td>\n",
       "      <td>David Bestue</td>\n",
       "    </tr>\n",
       "    <tr>\n",
       "      <th>2</th>\n",
       "      <td>2</td>\n",
       "      <td>palabra_negra</td>\n",
       "      <td>1.047</td>\n",
       "      <td>David Bestue</td>\n",
       "    </tr>\n",
       "    <tr>\n",
       "      <th>3</th>\n",
       "      <td>3</td>\n",
       "      <td>palabra_negra</td>\n",
       "      <td>0.588</td>\n",
       "      <td>David Bestue</td>\n",
       "    </tr>\n",
       "    <tr>\n",
       "      <th>4</th>\n",
       "      <td>4</td>\n",
       "      <td>palabra_negra</td>\n",
       "      <td>0.686</td>\n",
       "      <td>David Bestue</td>\n",
       "    </tr>\n",
       "    <tr>\n",
       "      <th>...</th>\n",
       "      <td>...</td>\n",
       "      <td>...</td>\n",
       "      <td>...</td>\n",
       "      <td>...</td>\n",
       "    </tr>\n",
       "    <tr>\n",
       "      <th>310</th>\n",
       "      <td>100</td>\n",
       "      <td>palabra_color</td>\n",
       "      <td>1.526</td>\n",
       "      <td>Pilar Bestue</td>\n",
       "    </tr>\n",
       "    <tr>\n",
       "      <th>311</th>\n",
       "      <td>101</td>\n",
       "      <td>palabra_color</td>\n",
       "      <td>1.168</td>\n",
       "      <td>Pilar Bestue</td>\n",
       "    </tr>\n",
       "    <tr>\n",
       "      <th>312</th>\n",
       "      <td>102</td>\n",
       "      <td>palabra_color</td>\n",
       "      <td>1.06</td>\n",
       "      <td>Pilar Bestue</td>\n",
       "    </tr>\n",
       "    <tr>\n",
       "      <th>313</th>\n",
       "      <td>103</td>\n",
       "      <td>palabra_color</td>\n",
       "      <td>1.01</td>\n",
       "      <td>Pilar Bestue</td>\n",
       "    </tr>\n",
       "    <tr>\n",
       "      <th>314</th>\n",
       "      <td>104</td>\n",
       "      <td>palabra_color</td>\n",
       "      <td>0.831</td>\n",
       "      <td>Pilar Bestue</td>\n",
       "    </tr>\n",
       "  </tbody>\n",
       "</table>\n",
       "<p>315 rows × 4 columns</p>\n",
       "</div>"
      ],
      "text/plain": [
       "     index      condition     rt   participant\n",
       "0        0  palabra_negra  0.921  David Bestue\n",
       "1        1  palabra_negra  1.222  David Bestue\n",
       "2        2  palabra_negra  1.047  David Bestue\n",
       "3        3  palabra_negra  0.588  David Bestue\n",
       "4        4  palabra_negra  0.686  David Bestue\n",
       "..     ...            ...    ...           ...\n",
       "310    100  palabra_color  1.526  Pilar Bestue\n",
       "311    101  palabra_color  1.168  Pilar Bestue\n",
       "312    102  palabra_color   1.06  Pilar Bestue\n",
       "313    103  palabra_color   1.01  Pilar Bestue\n",
       "314    104  palabra_color  0.831  Pilar Bestue\n",
       "\n",
       "[315 rows x 4 columns]"
      ]
     },
     "execution_count": 89,
     "metadata": {},
     "output_type": "execute_result"
    }
   ],
   "source": [
    "data"
   ]
  },
  {
   "cell_type": "code",
   "execution_count": 90,
   "metadata": {},
   "outputs": [
    {
     "data": {
      "text/html": [
       "<div>\n",
       "<style scoped>\n",
       "    .dataframe tbody tr th:only-of-type {\n",
       "        vertical-align: middle;\n",
       "    }\n",
       "\n",
       "    .dataframe tbody tr th {\n",
       "        vertical-align: top;\n",
       "    }\n",
       "\n",
       "    .dataframe thead th {\n",
       "        text-align: right;\n",
       "    }\n",
       "</style>\n",
       "<table border=\"1\" class=\"dataframe\">\n",
       "  <thead>\n",
       "    <tr style=\"text-align: right;\">\n",
       "      <th></th>\n",
       "      <th>palabra negra (C1)</th>\n",
       "      <th>rectangulo (C2)</th>\n",
       "      <th>palabra color (E)</th>\n",
       "      <th>sujeto</th>\n",
       "    </tr>\n",
       "  </thead>\n",
       "  <tbody>\n",
       "    <tr>\n",
       "      <th>0</th>\n",
       "      <td>0.779743</td>\n",
       "      <td>0.764828</td>\n",
       "      <td>0.882543</td>\n",
       "      <td>David Bestue</td>\n",
       "    </tr>\n",
       "    <tr>\n",
       "      <th>1</th>\n",
       "      <td>0.791029</td>\n",
       "      <td>0.952543</td>\n",
       "      <td>1.058829</td>\n",
       "      <td>DDD</td>\n",
       "    </tr>\n",
       "    <tr>\n",
       "      <th>2</th>\n",
       "      <td>0.592200</td>\n",
       "      <td>0.667629</td>\n",
       "      <td>0.877200</td>\n",
       "      <td>Pilar Bestue</td>\n",
       "    </tr>\n",
       "  </tbody>\n",
       "</table>\n",
       "</div>"
      ],
      "text/plain": [
       "   palabra negra (C1)  rectangulo (C2)  palabra color (E)        sujeto\n",
       "0            0.779743         0.764828           0.882543  David Bestue\n",
       "1            0.791029         0.952543           1.058829           DDD\n",
       "2            0.592200         0.667629           0.877200  Pilar Bestue"
      ]
     },
     "execution_count": 90,
     "metadata": {},
     "output_type": "execute_result"
    }
   ],
   "source": [
    "df_simple"
   ]
  },
  {
   "cell_type": "code",
   "execution_count": null,
   "metadata": {},
   "outputs": [],
   "source": []
  },
  {
   "cell_type": "markdown",
   "metadata": {},
   "source": [
    "# Plots"
   ]
  },
  {
   "cell_type": "markdown",
   "metadata": {},
   "source": [
    "### barplot"
   ]
  },
  {
   "cell_type": "code",
   "execution_count": 91,
   "metadata": {},
   "outputs": [],
   "source": [
    "# sns.barplot(x='condition', y='rt', data=df, palette=['darkorange', 'darkblue', 'lightcoral'], estimator=np.mean)\n",
    "\n",
    "# plt.gca().spines['right'].set_visible(False)  # aesthetics                                                                              # remove right spines\n",
    "# plt.gca().spines['top'].set_visible(False)                                                                                  # remove top spines\n",
    "# plt.gca().get_xaxis().tick_bottom()                                                                                         \n",
    "# plt.gca().get_yaxis().tick_left()\n",
    "# plt.gca().tick_params(direction='in') #direction\n",
    "# plt.xticks([0,1,2], ['negras', 'rectángulo', 'color'])\n",
    "# plt.xlabel('')\n",
    "# plt.ylabel('reaction time (s)')\n",
    "# #plt.ylim(0, 1.5);"
   ]
  },
  {
   "cell_type": "markdown",
   "metadata": {},
   "source": [
    "### boxplot + trials"
   ]
  },
  {
   "cell_type": "code",
   "execution_count": 92,
   "metadata": {},
   "outputs": [],
   "source": [
    "# sns.boxplot(x = \"condition\",  y = \"rt\",  data = df, \n",
    "#             palette=['darkorange', 'darkblue', 'lightcoral'])\n",
    "\n",
    "# sns.stripplot(x = \"condition\",  y = \"rt\",  data = df,\n",
    "#              palette=['darkorange', 'darkblue', 'lightcoral'])\n",
    "\n",
    "\n",
    "# plt.gca().spines['right'].set_visible(False)  # aesthetics                                                                              # remove right spines\n",
    "# plt.gca().spines['top'].set_visible(False)                                                                                  # remove top spines\n",
    "# plt.gca().get_xaxis().tick_bottom()                                                                                         \n",
    "# plt.gca().get_yaxis().tick_left()\n",
    "# plt.gca().tick_params(direction='in') #direction\n",
    "# plt.xticks([0,1,2], ['negras', 'rectángulo', 'color'])\n",
    "# plt.xlabel('')\n",
    "# plt.ylabel('reaction time (s)')\n",
    "# plt.ylim(0, 2.5);"
   ]
  },
  {
   "cell_type": "markdown",
   "metadata": {},
   "source": [
    "### confidence interval + subjects "
   ]
  },
  {
   "cell_type": "code",
   "execution_count": 93,
   "metadata": {},
   "outputs": [],
   "source": [
    "from matplotlib.patches import Rectangle\n",
    "\n",
    "\n",
    "def bootstrap_ci(data):\n",
    "    # Calculamos la media de los datos\n",
    "    data_mean = np.mean(data)\n",
    "\n",
    "    # Definimos la cantidad de muestras bootstrap que queremos generar\n",
    "    n_bootstraps = 1000\n",
    "\n",
    "    # Generamos muestras bootstrap con reemplazo\n",
    "    bootstrap_samples = np.random.choice(data, size=(n_bootstraps, len(data)), replace=True)\n",
    "\n",
    "    # Calculamos la media de cada muestra bootstrap\n",
    "    bootstrap_means = np.mean(bootstrap_samples, axis=1)\n",
    "\n",
    "    # Ordenamos las medias bootstrap de menor a mayor\n",
    "    sorted_means = np.sort(bootstrap_means)\n",
    "\n",
    "    # Calculamos los percentiles 2.5 y 97.5 de las medias bootstrap\n",
    "    ci_lower = sorted_means[int(0.025 * n_bootstraps)]\n",
    "    ci_upper = sorted_means[int(0.975 * n_bootstraps)]\n",
    "\n",
    "    return ci_lower, ci_upper\n",
    "\n"
   ]
  },
  {
   "cell_type": "code",
   "execution_count": 94,
   "metadata": {},
   "outputs": [],
   "source": [
    "m_pn=data.loc[data['condition']=='palabra_negra', 'rt'].mean()\n",
    "ci_pn= bootstrap_ci(data.loc[data['condition']=='palabra_negra', 'rt'].values)\n",
    "\n",
    "m_r=data.loc[data['condition']=='rectangulo', 'rt'].mean()\n",
    "ci_r= bootstrap_ci(data.loc[data['condition']=='rectangulo', 'rt'].values)\n",
    "\n",
    "m_pc=data.loc[data['condition']=='palabra_color', 'rt'].mean()\n",
    "ci_pc= bootstrap_ci(data.loc[data['condition']=='palabra_color', 'rt'].values)\n"
   ]
  },
  {
   "cell_type": "code",
   "execution_count": 114,
   "metadata": {},
   "outputs": [
    {
     "data": {
      "image/png": "[encoded data removed]",
      "text/plain": [
       "<Figure size 432x288 with 1 Axes>"
      ]
     },
     "metadata": {
      "needs_background": "light"
     },
     "output_type": "display_data"
    }
   ],
   "source": [
    "###\n",
    "\n",
    "idxs_x = [0,1,2]\n",
    "palette=['darkorange', 'darkblue', 'lightcoral']\n",
    "cis = [ci_pn, ci_r, ci_pc]\n",
    "means = [m_pn, m_r, m_pc]\n",
    "\n",
    "for idx, cond in enumerate(['palabra negra (C1)', 'rectangulo (C2)', 'palabra color (E)']):\n",
    "    \n",
    "    ##plot_rectange\n",
    "    plt.gca().add_patch(Rectangle((idx, cis[idx][0]), 0.6, cis[idx][1]-cis[idx][0], \n",
    "                                  alpha=0.4, fill=True, facecolor=palette[idx],\n",
    "                                  linewidth=1,  edgecolor=palette[idx]))  \n",
    "    ##plot_mean\n",
    "    plt.plot([idx, idx+0.6], [means[idx], means[idx]], color=palette[idx], linewidth=4) \n",
    "    \n",
    "    ##\n",
    "    subj_values = df_simple[cond].values\n",
    "    for i in range(len(subj_values)):\n",
    "        jitter=np.random.uniform(-0.1, 0.1)\n",
    "        plt.plot(idx+0.3+jitter, subj_values[i], color=palette[idx], marker='o', markersize=6 )\n",
    "    \n",
    "\n",
    "\n",
    "plt.gca().spines['right'].set_visible(False)  # aesthetics                                                                              # remove right spines\n",
    "plt.gca().spines['top'].set_visible(False)                                                                                  # remove top spines\n",
    "plt.gca().get_xaxis().tick_bottom()                                                                                         \n",
    "plt.gca().get_yaxis().tick_left()\n",
    "plt.gca().tick_params(direction='in') #direction\n",
    "plt.xticks([0+0.3,1+0.3,2+0.3], ['c1: negres', 'c2: rectangles', 'color'], fontsize=13)\n",
    "plt.xlabel('')\n",
    "plt.ylabel('temps de reacció (s)', fontsize=13)\n",
    "plt.yticks(fontsize=10)\n",
    "plt.title('efecte stroop', fontsize=16)\n",
    "#plt.ylim(0.5, 1.5);\n",
    "plt.show(block=False)"
   ]
  },
  {
   "cell_type": "markdown",
   "metadata": {},
   "source": [
    "### historgram trials"
   ]
  },
  {
   "cell_type": "code",
   "execution_count": 145,
   "metadata": {},
   "outputs": [
    {
     "data": {
      "image/png": "[encoded data removed]",
      "text/plain": [
       "<Figure size 432x288 with 1 Axes>"
      ]
     },
     "metadata": {
      "needs_background": "light"
     },
     "output_type": "display_data"
    }
   ],
   "source": [
    "sns.distplot(list(data.loc[data['condition']=='palabra_negra', 'rt']),  color='darkorange', bins=np.linspace(0,3,60),\n",
    "             fit=norm, kde=False, fit_kws={\"color\":'darkorange', 'linewidth':2}, label='c1: negres')\n",
    "\n",
    "sns.distplot(list(data.loc[data['condition']=='rectangulo', 'rt']),  color='darkblue', bins=np.linspace(0,3,60),\n",
    "             fit=norm, kde=False, fit_kws={\"color\":'darkblue', 'linewidth':2}, label='c2: rectangles' )\n",
    "\n",
    "sns.distplot(list(data.loc[data['condition']=='palabra_color', 'rt']),  color='lightcoral', bins=np.linspace(0,3,60),\n",
    "             fit=norm, kde=False, fit_kws={\"color\":'lightcoral', 'linewidth':2}, label='color' )\n",
    "\n",
    "plt.gca().spines['right'].set_visible(False)  # aesthetics                                                                              # remove right spines\n",
    "plt.gca().spines['top'].set_visible(False)                                                                                  # remove top spines\n",
    "plt.gca().get_xaxis().tick_bottom()                                                                                         \n",
    "plt.gca().get_yaxis().tick_left()\n",
    "plt.gca().tick_params(direction='in') #direction\n",
    "plt.legend(loc=1, frameon=False, prop={'size': 13})\n",
    "plt.xlabel('temps de reacció (s)', fontsize=13)\n",
    "plt.xticks(fontsize=10)\n",
    "plt.yticks(fontsize=10);\n",
    "plt.title('distribució de temps de reacció', fontsize=16)\n",
    "plt.show(block=False)\n"
   ]
  },
  {
   "cell_type": "markdown",
   "metadata": {},
   "source": [
    "# Stats"
   ]
  },
  {
   "cell_type": "markdown",
   "metadata": {},
   "source": [
    "#### Anova + multiple comparisons (simple)\n",
    "##### The correct Anova should be paired"
   ]
  },
  {
   "cell_type": "code",
   "execution_count": 52,
   "metadata": {},
   "outputs": [
    {
     "name": "stdout",
     "output_type": "stream",
     "text": [
      "                                 \n",
      "                                 Anova Table\n",
      "==============================================================================\n",
      "              sum_sq     df          F        PR(>F)\n",
      "condition   9.315502    2.0  50.413778  1.210691e-20\n",
      "Residual   45.456097  492.0        NaN           NaN\n",
      "==============================================================================\n",
      "                                 \n",
      "                                 \n",
      "                                 \n",
      "Multiple Comparison of Means - Tukey HSD,FWER=0.05\n",
      "==================================================\n",
      "  group1    group2  meandiff  lower  upper  reject\n",
      "--------------------------------------------------\n",
      "control 1 control 2  0.0395  -0.0392 0.1181 False \n",
      "control 1    test    0.3087   0.2301 0.3874  True \n",
      "control 2    test    0.2693   0.1906 0.3479  True \n",
      "--------------------------------------------------\n",
      "                                 \n",
      "                                \n"
     ]
    }
   ],
   "source": [
    "\n",
    "# df_stats = df.copy()\n",
    "# df_stats['condition']= df_stats['condition'].replace(['palabra_negra', 'rectangulo', 'palabra_color'], ['control 1', 'control 2', 'test'])\n",
    "\n",
    "# mod = ols(formula='rt ~ condition', data=df_stats).fit()\n",
    "# aov_table = sm.stats.anova_lm(mod, typ=2)\n",
    "\n",
    "# print( '                                 ')\n",
    "# print( '                                 Anova Table')\n",
    "# print( '==============================================================================')\n",
    "# print( aov_table)\n",
    "# print( '==============================================================================')\n",
    "# print( '                                 ')\n",
    "# print( '                                 ')\n",
    "# print( '                                 ')\n",
    "\n",
    "\n",
    "\n",
    "# ####### Multiple comparisons\n",
    "# tukey = pairwise_tukeyhsd(endog=df_stats.rt.values, groups=df_stats['condition'].values,  alpha=0.05)\n",
    "# print( tukey.summary()    )\n",
    "# print( '                                 ')\n",
    "# print( '                                ')\n"
   ]
  },
  {
   "cell_type": "markdown",
   "metadata": {},
   "source": [
    "#### regression (subjects random intercepts - complex)"
   ]
  },
  {
   "cell_type": "code",
   "execution_count": 53,
   "metadata": {},
   "outputs": [
    {
     "name": "stdout",
     "output_type": "stream",
     "text": [
      "             Mixed Linear Model Regression Results\n",
      "================================================================\n",
      "Model:               MixedLM    Dependent Variable:    rt       \n",
      "No. Observations:    495        Method:                REML     \n",
      "No. Groups:          5          Scale:                 0.0912   \n",
      "Min. group size:     90         Likelihood:            -118.5016\n",
      "Max. group size:     105        Converged:             Yes      \n",
      "Mean group size:     99.0                                       \n",
      "----------------------------------------------------------------\n",
      "                       Coef. Std.Err.   z    P>|z| [0.025 0.975]\n",
      "----------------------------------------------------------------\n",
      "Intercept              0.666    0.029 22.711 0.000  0.608  0.723\n",
      "condition[T.control 2] 0.039    0.033  1.187 0.235 -0.026  0.105\n",
      "condition[T.test]      0.309    0.033  9.288 0.000  0.244  0.374\n",
      "Group Var              0.002    0.006                           \n",
      "================================================================\n",
      "\n"
     ]
    },
    {
     "name": "stderr",
     "output_type": "stream",
     "text": [
      "C:\\Users\\David\\Anaconda3\\envs\\python3\\lib\\site-packages\\statsmodels\\regression\\mixed_linear_model.py:2045: ConvergenceWarning: The MLE may be on the boundary of the parameter space.\n",
      "  warnings.warn(msg, ConvergenceWarning)\n"
     ]
    }
   ],
   "source": [
    "# resultados = smf.mixedlm(formula='rt ~ condition', data=df_stats, groups=df_stats['participant']).fit()\n",
    "# print(resultados.summary())"
   ]
  },
  {
   "cell_type": "code",
   "execution_count": null,
   "metadata": {},
   "outputs": [],
   "source": []
  },
  {
   "cell_type": "code",
   "execution_count": null,
   "metadata": {},
   "outputs": [],
   "source": []
  }
 ],
 "metadata": {
  "kernelspec": {
   "display_name": "Python 3",
   "language": "python",
   "name": "python3"
  },
  "language_info": {
   "codemirror_mode": {
    "name": "ipython",
    "version": 3
   },
   "file_extension": ".py",
   "mimetype": "text/x-python",
   "name": "python",
   "nbconvert_exporter": "python",
   "pygments_lexer": "ipython3",
   "version": "3.5.6"
  }
 },
 "nbformat": 4,
 "nbformat_minor": 2
}
