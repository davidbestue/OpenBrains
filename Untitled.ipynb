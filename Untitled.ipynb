{
 "cells": [
  {
   "cell_type": "code",
   "execution_count": 29,
   "metadata": {},
   "outputs": [],
   "source": [
    "import matplotlib.pyplot as plt\n",
    "import numpy as np\n",
    "\n",
    "Estudiantes_noies = np.array([1000, 1000, 1313])\n",
    "Estudiantes = np.array([2000, 2000, 2625])\n",
    "Estudiants_risc = np.array([200, 200, 163])\n",
    "Treballadors = np.array([400, 1600, 2400])\n",
    "\n",
    "Num_tallers = np.array([110, 160, 220])\n",
    "\n",
    "xs = [0,1.5, 3]\n",
    "xs_ = [0.5, 2, 3.5]\n",
    "xs__ = [0.25, 1.75, 3.25]\n",
    "\n",
    "anys= ['2022', '2023', '2024']"
   ]
  },
  {
   "cell_type": "code",
   "execution_count": 90,
   "metadata": {},
   "outputs": [
    {
     "data": {
      "image/png": "[encoded data removed]",
      "text/plain": [
       "<Figure size 432x288 with 2 Axes>"
      ]
     },
     "metadata": {},
     "output_type": "display_data"
    }
   ],
   "source": [
    "fig, ax1 = plt.subplots()\n",
    "\n",
    "ax1.bar(xs, Estudiantes, width=0.5, color='darkblue', label='Estudiants nois')\n",
    "ax1.bar(xs, Estudiantes_noies, width=0.5,  bottom=Estudiantes, color='cyan', label='Estudiants noies')\n",
    "ax1.bar(xs, Estudiants_risc, width=0.5,  bottom=Estudiantes + Estudiantes_noies, color='cadetblue', label='Risc excusió')\n",
    "\n",
    "ax1.bar(xs_, Treballadors, width=0.5, color='darkred', label='Treballadors')\n",
    "\n",
    "\n",
    "l = fig.legend(bbox_to_anchor=[0.5, 0.95], frameon=False)\n",
    "\n",
    "for text in l.get_texts():\n",
    "    text.set_color(\"white\")\n",
    "\n",
    "ax2 = ax1.twinx()\n",
    "ax2.plot(xs__ , Num_tallers, '--', color='darkorange', marker ='o', markersize=10)\n",
    "\n",
    "plt.xticks([0.25, 1.75, 3.25], anys)\n",
    "ax1.tick_params(axis='x', colors='w')\n",
    "\n",
    "ax1.set_yticks([0, 1500, 3000, 4500])\n",
    "ax1.set_yticklabels(['0', '1.5K', '3K', '4.5K'], color='w')\n",
    "\n",
    "ax2.set_ylim(100, 250)\n",
    "ax2.set_yticks([100, 150, 200, 250])\n",
    "ax2.set_yticklabels(['100', '150', '200', '250'], color='w')\n",
    "\n",
    "\n",
    "                                                                              # xlim\n",
    "ax1.spines['top'].set_visible(False)   \n",
    "ax2.spines['top'].set_visible(False)   \n",
    "\n",
    "\n",
    "ax1.spines['right'].set_color('w')\n",
    "ax1.spines['left'].set_color('w')\n",
    "ax1.spines['bottom'].set_color('w')\n",
    "\n",
    "ax2.spines['right'].set_color('w')\n",
    "ax2.spines['left'].set_color('w')\n",
    "ax2.spines['bottom'].set_color('w')\n",
    "\n",
    "# remove top spines\n",
    "# remove top spines\n",
    "ax1.tick_params(direction='in', color='w') #direction\n",
    "ax2.tick_params(direction='in', color='w') #direction\n",
    "ax1.set_ylabel('abast (nº persones)', color='w')\n",
    "ax2.set_ylabel('nº tallers', color='w')\n",
    "\n",
    "\n",
    "plt.tight_layout()\n",
    "\n",
    "fig.savefig('lala.png', transparent=True, dpi=300)\n"
   ]
  },
  {
   "cell_type": "code",
   "execution_count": null,
   "metadata": {},
   "outputs": [],
   "source": []
  },
  {
   "cell_type": "code",
   "execution_count": null,
   "metadata": {},
   "outputs": [],
   "source": []
  }
 ],
 "metadata": {
  "kernelspec": {
   "display_name": "Python 3",
   "language": "python",
   "name": "python3"
  },
  "language_info": {
   "codemirror_mode": {
    "name": "ipython",
    "version": 3
   },
   "file_extension": ".py",
   "mimetype": "text/x-python",
   "name": "python",
   "nbconvert_exporter": "python",
   "pygments_lexer": "ipython3",
   "version": "3.5.6"
  }
 },
 "nbformat": 4,
 "nbformat_minor": 2
}
